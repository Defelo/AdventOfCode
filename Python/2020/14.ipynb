{
 "cells": [
  {
   "cell_type": "code",
   "execution_count": 1,
   "metadata": {},
   "outputs": [
    {
     "data": {
      "text/markdown": [
       "# Day 14"
      ],
      "text/plain": [
       "<IPython.core.display.Markdown object>"
      ]
     },
     "metadata": {},
     "output_type": "display_data"
    }
   ],
   "source": [
    "import sys; sys.path.insert(0, \"..\")\n",
    "\n",
    "import aoc\n",
    "\n",
    "year, day = 2020, 14\n",
    "\n",
    "puzzle = aoc.setup(year, day)\n",
    "plines = puzzle.splitlines()"
   ]
  },
  {
   "cell_type": "markdown",
   "metadata": {},
   "source": [
    "### Puzzle 1"
   ]
  },
  {
   "cell_type": "code",
   "execution_count": 2,
   "metadata": {},
   "outputs": [
    {
     "data": {
      "text/plain": [
       "14839536808842"
      ]
     },
     "execution_count": 2,
     "metadata": {},
     "output_type": "execute_result"
    }
   ],
   "source": [
    "import re\n",
    "\n",
    "def solve1():\n",
    "    mem = {}\n",
    "    mask = \"X\" * 36\n",
    "    s = 0\n",
    "    for line in plines:\n",
    "        if (match := re.match(r\"^mask = ([01X]+)$\", line)):\n",
    "            mask = match[1]\n",
    "        elif (match := re.match(r\"^mem\\[(\\d+)\\] = (\\d+)$\", line)):\n",
    "            a, v = map(int, match.groups())\n",
    "            s -= mem.get(a, 0)\n",
    "            mem[a] = int(\"\".join(x if m==\"X\" else m for m, x in zip(mask, bin(v)[2:].zfill(36))), 2)\n",
    "            s += mem[a]\n",
    "    return s\n",
    "\n",
    "solve1()"
   ]
  },
  {
   "cell_type": "code",
   "execution_count": 3,
   "metadata": {},
   "outputs": [
    {
     "data": {
      "text/plain": [
       "14839536808842"
      ]
     },
     "execution_count": 3,
     "metadata": {},
     "output_type": "execute_result"
    }
   ],
   "source": [
    "solve1m=lambda r=__import__(\"re\").match,m=\"X\"*36:sum({int(g[1]):int(\"\".join([n,x][n==\"X\"]for n,x in zip(m,f\"{int(g[2]):036b}\")),2)for l in plines if(g:=r(r\"^mem\\[(\\d+)\\] = (\\d+)$\",l))or(m:=l.split()[2])*0}.values())\n",
    "\n",
    "solve1m()"
   ]
  },
  {
   "cell_type": "code",
   "execution_count": 4,
   "metadata": {},
   "outputs": [
    {
     "name": "stdout",
     "output_type": "stream",
     "text": [
      "5.35 ms ± 192 µs per loop (mean ± std. dev. of 7 runs, 100 loops each)\n",
      "5.88 ms ± 139 µs per loop (mean ± std. dev. of 7 runs, 100 loops each)\n"
     ]
    }
   ],
   "source": [
    "%timeit solve1()\n",
    "%timeit solve1m()"
   ]
  },
  {
   "cell_type": "markdown",
   "metadata": {},
   "source": [
    "### Puzzle 2"
   ]
  },
  {
   "cell_type": "code",
   "execution_count": 5,
   "metadata": {},
   "outputs": [
    {
     "data": {
      "text/plain": [
       "4215284199669"
      ]
     },
     "execution_count": 5,
     "metadata": {},
     "output_type": "execute_result"
    }
   ],
   "source": [
    "def solve2():\n",
    "    mem = {}\n",
    "    mask = \"X\" * 36\n",
    "    s = 0\n",
    "    for line in plines:\n",
    "        if (match := re.match(r\"^mask = ([01X]+)$\", line)):\n",
    "            mask = match[1]\n",
    "        elif (match := re.match(r\"^mem\\[(\\d+)\\] = (\\d+)$\", line)):\n",
    "            a, v = map(int, match.groups())\n",
    "            a = \"\".join(x if m==\"0\" else m for m, x in zip(mask, bin(a)[2:].zfill(36)))\n",
    "            floating = [i for i in range(36) if a[i]==\"X\"]\n",
    "            for i in range(1<<len(floating)):\n",
    "                ad = [*a]\n",
    "                for j in range(len(floating)):\n",
    "                    ad[floating[j]] = min((1<<j) & i, 1)\n",
    "                ad = int(\"\".join(map(str, ad)), 2)\n",
    "                s -= mem.get(ad, 0)\n",
    "                mem[ad] = v\n",
    "                s += mem[ad]\n",
    "    return s\n",
    "\n",
    "\n",
    "solve2()"
   ]
  },
  {
   "cell_type": "code",
   "execution_count": 6,
   "metadata": {},
   "outputs": [
    {
     "data": {
      "text/plain": [
       "4215284199669"
      ]
     },
     "execution_count": 6,
     "metadata": {},
     "output_type": "execute_result"
    }
   ],
   "source": [
    "solve2m=lambda r=__import__(\"re\").match,m=\"X\"*36:sum({((q:={t:str(min(1<<j&i,1))for j,t in enumerate(f)}),)and int(\"\".join(q.get(*i)for i in enumerate(a)),2):int(g[2])for l in plines if(g:=r(r\"^mem\\[(\\d+)\\] = (\\d+)$\",l))and(a:=\"\".join(k[k[0]==\"0\"]for k in zip(m,f\"{int(g[1]):036b}\")),f:=[i for i in range(36)if\"X\"==a[i]])or(m:=l.split()[2])*0 for i in range(1<<len(f))}.values())\n",
    "\n",
    "solve2m()"
   ]
  },
  {
   "cell_type": "code",
   "execution_count": 7,
   "metadata": {},
   "outputs": [
    {
     "name": "stdout",
     "output_type": "stream",
     "text": [
      "873 ms ± 74.7 ms per loop (mean ± std. dev. of 7 runs, 1 loop each)\n",
      "1.2 s ± 40.2 ms per loop (mean ± std. dev. of 7 runs, 1 loop each)\n"
     ]
    }
   ],
   "source": [
    "%timeit solve2()\n",
    "%timeit solve2m()"
   ]
  }
 ],
 "metadata": {
  "kernelspec": {
   "display_name": "Python 3",
   "language": "python",
   "name": "python3"
  },
  "language_info": {
   "codemirror_mode": {
    "name": "ipython",
    "version": 3
   },
   "file_extension": ".py",
   "mimetype": "text/x-python",
   "name": "python",
   "nbconvert_exporter": "python",
   "pygments_lexer": "ipython3",
   "version": "3.8.6"
  }
 },
 "nbformat": 4,
 "nbformat_minor": 4
}

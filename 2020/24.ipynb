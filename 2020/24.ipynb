{
 "cells": [
  {
   "cell_type": "code",
   "execution_count": null,
   "metadata": {},
   "outputs": [],
   "source": [
    "import sys; sys.path.insert(0, \"..\")\n",
    "\n",
    "import aoc\n",
    "\n",
    "year, day = 2020, 24\n",
    "\n",
    "puzzle = aoc.setup(year, day)\n",
    "plines = puzzle.splitlines()"
   ]
  },
  {
   "cell_type": "markdown",
   "metadata": {},
   "source": [
    "### Puzzle 1"
   ]
  },
  {
   "cell_type": "code",
   "execution_count": 2,
   "metadata": {},
   "outputs": [
    {
     "data": {
      "text/plain": [
       "354"
      ]
     },
     "execution_count": 2,
     "metadata": {},
     "output_type": "execute_result"
    }
   ],
   "source": [
    "adj = {\"e\": (1, 0), \"w\": (-1, 0), \"se\": (1, 1), \"sw\": (0, 1), \"ne\": (0, -1), \"nw\": (-1, -1)}\n",
    "\n",
    "def get_tile(line):\n",
    "    x = y = 0\n",
    "    i = 0\n",
    "    while i < len(line):\n",
    "        if line[i] in \"ew\":\n",
    "            dx, dy = adj[line[i]]\n",
    "            i += 1\n",
    "        else:\n",
    "            dx, dy = adj[line[i:i+2]]\n",
    "            i += 2\n",
    "        x += dx\n",
    "        y += dy\n",
    "    return x, y\n",
    "\n",
    "def get_black():\n",
    "    black = set()\n",
    "    for line in plines:\n",
    "        x, y = get_tile(line)\n",
    "        if (x, y) in black:\n",
    "            black.remove((x, y))\n",
    "        else:\n",
    "            black.add((x, y))\n",
    "    return black\n",
    "        \n",
    "def solve1():\n",
    "    return len(get_black())\n",
    "\n",
    "solve1()"
   ]
  },
  {
   "cell_type": "code",
   "execution_count": 3,
   "metadata": {},
   "outputs": [
    {
     "data": {
      "text/plain": [
       "354"
      ]
     },
     "execution_count": 3,
     "metadata": {},
     "output_type": "execute_result"
    }
   ],
   "source": [
    "solve1m=lambda:(g:=(lambda l:((((t:=g(l[1:]))[0]+1-2*(l[0]==\"w\"),t[1])if l[0]in\"ew\"else((t:=g(l[2:]))[0]+(l[:2]==\"se\")-(l[:2]==\"nw\"),t[1]+1-2*(l[0]==\"n\")))if l else(0,0))),b:=set(),[b:=b^{g(l)}for l in plines])and len(b)\n",
    "\n",
    "solve1m()"
   ]
  },
  {
   "cell_type": "code",
   "execution_count": 4,
   "metadata": {},
   "outputs": [
    {
     "name": "stdout",
     "output_type": "stream",
     "text": [
      "3.68 ms ± 243 µs per loop (mean ± std. dev. of 7 runs, 100 loops each)\n",
      "13 ms ± 337 µs per loop (mean ± std. dev. of 7 runs, 100 loops each)\n"
     ]
    }
   ],
   "source": [
    "%timeit solve1()\n",
    "%timeit solve1m()"
   ]
  },
  {
   "cell_type": "markdown",
   "metadata": {},
   "source": [
    "### Puzzle 2"
   ]
  },
  {
   "cell_type": "code",
   "execution_count": 5,
   "metadata": {},
   "outputs": [
    {
     "data": {
      "text/plain": [
       "3608"
      ]
     },
     "execution_count": 5,
     "metadata": {},
     "output_type": "execute_result"
    }
   ],
   "source": [
    "def neighbours(x, y):\n",
    "    return {(x+dx, y+dy) for dx, dy in adj.values()}\n",
    "\n",
    "def solve2():\n",
    "    black = get_black()\n",
    "    \n",
    "    for _ in range(100):\n",
    "        to_update = [(p, q) for x, y in black for p, q in neighbours(x, y) | {(x, y)}]\n",
    "        flip_white = set()\n",
    "        flip_black = set()\n",
    "        for x, y in to_update:\n",
    "            cnt = len(black & neighbours(x, y))\n",
    "            alive = (x, y) in black\n",
    "            if alive and cnt not in (1, 2):\n",
    "                flip_white.add((x, y))\n",
    "            elif not alive and cnt == 2:\n",
    "                flip_black.add((x, y))\n",
    "        black -= flip_white\n",
    "        black |= flip_black\n",
    "    \n",
    "    return len(black)\n",
    "\n",
    "solve2()"
   ]
  },
  {
   "cell_type": "code",
   "execution_count": 6,
   "metadata": {},
   "outputs": [
    {
     "data": {
      "text/plain": [
       "3608"
      ]
     },
     "execution_count": 6,
     "metadata": {},
     "output_type": "execute_result"
    }
   ],
   "source": [
    "solve2m=lambda:(g:=(lambda l:((((t:=g(l[1:]))[0]+1-2*(l[0]==\"w\"),t[1])if l[0]in\"ew\"else((t:=g(l[2:]))[0]+(l[:2]==\"se\")-(l[:2]==\"nw\"),t[1]+1-2*(l[0]==\"n\")))if l else(0,0))),n:=(lambda x,y:{(x+p,y+q)for p,q in[(1,0),(-1,0),(1,1),(0,1),(0,-1),(-1,-1)]}),s:=set(),[s:=s^{g(l)}for l in plines],[0 for _ in\"_\"*100if(f:=set(),F:=set(),[(a*(c not in(1,2))and f.add((x,y)),2==c*(1-a)and F.add((x,y)))for p,q in s for x,y in{(p,q)}|n(p,q)if(c:=len(s&n(x,y)),a:=(x,y)in s)],s:=s-f|F)])and len(s)\n",
    "\n",
    "solve2m()"
   ]
  },
  {
   "cell_type": "code",
   "execution_count": 7,
   "metadata": {},
   "outputs": [
    {
     "name": "stdout",
     "output_type": "stream",
     "text": [
      "4.21 s ± 158 ms per loop (mean ± std. dev. of 7 runs, 1 loop each)\n",
      "4.4 s ± 246 ms per loop (mean ± std. dev. of 7 runs, 1 loop each)\n"
     ]
    }
   ],
   "source": [
    "%timeit solve2()\n",
    "%timeit solve2m()"
   ]
  }
 ],
 "metadata": {
  "kernelspec": {
   "display_name": "Python 3",
   "language": "python",
   "name": "python3"
  },
  "language_info": {
   "codemirror_mode": {
    "name": "ipython",
    "version": 3
   },
   "file_extension": ".py",
   "mimetype": "text/x-python",
   "name": "python",
   "nbconvert_exporter": "python",
   "pygments_lexer": "ipython3",
   "version": "3.8.6"
  }
 },
 "nbformat": 4,
 "nbformat_minor": 4
}

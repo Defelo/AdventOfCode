{
 "cells": [
  {
   "cell_type": "code",
   "execution_count": 1,
   "metadata": {},
   "outputs": [
    {
     "data": {
      "text/markdown": [
       "# Day 14"
      ],
      "text/plain": [
       "<IPython.core.display.Markdown object>"
      ]
     },
     "metadata": {},
     "output_type": "display_data"
    }
   ],
   "source": [
    "import sys; sys.path.insert(0, \"..\")\n",
    "\n",
    "import aoc\n",
    "\n",
    "year, day = 2017, 14\n",
    "\n",
    "puzzle = aoc.setup(year, day)\n",
    "plines = puzzle.splitlines()"
   ]
  },
  {
   "cell_type": "code",
   "execution_count": 2,
   "metadata": {},
   "outputs": [],
   "source": [
    "def knot(inp):\n",
    "    lengths = [*map(ord, inp), 17, 31, 73, 47, 23]\n",
    "    nums = [*range(256)]\n",
    "    pos = 0\n",
    "    skip = 0\n",
    "    \n",
    "    def rev(a, b):\n",
    "        a %= len(nums)\n",
    "        b = (b - a) % len(nums)\n",
    "        nums[:] = nums[a:] + nums[:a]\n",
    "        nums[:b] = nums[:b][::-1]\n",
    "        nums[:] = nums[-a:] + nums[:-a]\n",
    "    \n",
    "    for _ in range(64):\n",
    "        for length in lengths:\n",
    "            rev(pos, pos + length)\n",
    "            pos += length + skip\n",
    "            skip += 1\n",
    "    \n",
    "    dense = []\n",
    "    for i in range(16):\n",
    "        x = 0\n",
    "        for j in range(16): x ^= nums[i*16+j]\n",
    "        dense.append(x)\n",
    "    \n",
    "    return \"\".join(f\"{x:02x}\" for x in dense)"
   ]
  },
  {
   "cell_type": "markdown",
   "metadata": {},
   "source": [
    "### Puzzle 1"
   ]
  },
  {
   "cell_type": "code",
   "execution_count": 3,
   "metadata": {},
   "outputs": [
    {
     "data": {
      "text/plain": [
       "8292"
      ]
     },
     "execution_count": 3,
     "metadata": {},
     "output_type": "execute_result"
    }
   ],
   "source": [
    "def solve1():\n",
    "    out = 0\n",
    "    for i in range(128):\n",
    "        k = bin(int(knot(f\"{puzzle}-{i}\"), 16))[2:].zfill(128)\n",
    "        out += k.count(\"1\")\n",
    "    return out\n",
    "\n",
    "solve1()"
   ]
  },
  {
   "cell_type": "code",
   "execution_count": 4,
   "metadata": {},
   "outputs": [
    {
     "name": "stdout",
     "output_type": "stream",
     "text": [
      "2.09 s ± 177 ms per loop (mean ± std. dev. of 7 runs, 1 loop each)\n"
     ]
    }
   ],
   "source": [
    "%timeit solve1()"
   ]
  },
  {
   "cell_type": "markdown",
   "metadata": {},
   "source": [
    "### Puzzle 2"
   ]
  },
  {
   "cell_type": "code",
   "execution_count": 5,
   "metadata": {},
   "outputs": [
    {
     "data": {
      "text/plain": [
       "1069"
      ]
     },
     "execution_count": 5,
     "metadata": {},
     "output_type": "execute_result"
    }
   ],
   "source": [
    "class UnionFind:\n",
    "    def __init__(self, n):\n",
    "        self.parents = list(range(n))\n",
    "    \n",
    "    def find(self, x):\n",
    "        if self.parents[x] == x: return x\n",
    "        out = self.find(self.parents[x])\n",
    "        self.parents[x] = out\n",
    "        return out\n",
    "        \n",
    "    def merge(self, a, b):\n",
    "        a = self.find(a)\n",
    "        b = self.find(b)\n",
    "        self.parents[a] = b\n",
    "\n",
    "def solve2():\n",
    "    last = None\n",
    "    uf = UnionFind(128 * 128)\n",
    "    free = 0\n",
    "    for i in range(128):\n",
    "        k = bin(int(knot(f\"{puzzle}-{i}\"), 16))[2:].zfill(128)\n",
    "        for j in range(128):\n",
    "            if k[j] != \"1\":\n",
    "                free += 1\n",
    "                continue\n",
    "            if i and last[j] == \"1\": uf.merge((i-1)*128+j, i*128+j)\n",
    "            if j and k[j-1] == \"1\": uf.merge(i*128+j-1, i*128+j)\n",
    "        last = k\n",
    "        \n",
    "    groups = set()\n",
    "    for i in range(128*128): groups.add(uf.find(i))\n",
    "    return len(groups) - free\n",
    "\n",
    "solve2()"
   ]
  },
  {
   "cell_type": "code",
   "execution_count": 6,
   "metadata": {},
   "outputs": [
    {
     "name": "stdout",
     "output_type": "stream",
     "text": [
      "2.49 s ± 467 ms per loop (mean ± std. dev. of 7 runs, 1 loop each)\n"
     ]
    }
   ],
   "source": [
    "%timeit solve2()"
   ]
  }
 ],
 "metadata": {
  "kernelspec": {
   "display_name": "Python 3 (ipykernel)",
   "language": "python",
   "name": "python3"
  },
  "language_info": {
   "codemirror_mode": {
    "name": "ipython",
    "version": 3
   },
   "file_extension": ".py",
   "mimetype": "text/x-python",
   "name": "python",
   "nbconvert_exporter": "python",
   "pygments_lexer": "ipython3",
   "version": "3.9.6"
  }
 },
 "nbformat": 4,
 "nbformat_minor": 4
}

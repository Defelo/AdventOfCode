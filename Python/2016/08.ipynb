{
 "cells": [
  {
   "cell_type": "code",
   "execution_count": 1,
   "metadata": {},
   "outputs": [
    {
     "data": {
      "text/markdown": [
       "# Day 08"
      ],
      "text/plain": [
       "<IPython.core.display.Markdown object>"
      ]
     },
     "metadata": {},
     "output_type": "display_data"
    }
   ],
   "source": [
    "import sys; sys.path.insert(0, \"..\")\n",
    "\n",
    "import aoc\n",
    "\n",
    "year, day = 2016, 8\n",
    "\n",
    "puzzle = aoc.setup(year, day)"
   ]
  },
  {
   "cell_type": "markdown",
   "metadata": {},
   "source": [
    "### Puzzle 1"
   ]
  },
  {
   "cell_type": "code",
   "execution_count": 16,
   "metadata": {},
   "outputs": [
    {
     "data": {
      "text/plain": [
       "121"
      ]
     },
     "execution_count": 16,
     "metadata": {},
     "output_type": "execute_result"
    }
   ],
   "source": [
    "import re\n",
    "\n",
    "T = lambda g: [*map(list, zip(*g))]\n",
    "def rotate(g, a, b):\n",
    "    g[a] = [g[a][(i - b) % len(g[a])] for i in range(len(g[a]))]\n",
    "    return g\n",
    "\n",
    "grid = [[0 for _ in range(50)] for _ in range(6)]\n",
    "for line in puzzle.splitlines():\n",
    "    if match := re.match(r\"^rect (\\d+)x(\\d+)$\", line):\n",
    "        w, h = map(int, match.groups())\n",
    "        for i in range(h):\n",
    "            for j in range(w):\n",
    "                grid[i][j] = 1\n",
    "    elif match := re.match(r\"^rotate row y=(\\d+) by (\\d+)$\", line):\n",
    "        a, b = map(int, match.groups())\n",
    "        rotate(grid, a, b)\n",
    "    elif match := re.match(r\"^rotate column x=(\\d+) by (\\d+)$\", line):\n",
    "        a, b = map(int, match.groups())\n",
    "        grid = T(rotate(T(grid), a, b))\n",
    "sum(map(sum, grid))"
   ]
  },
  {
   "cell_type": "markdown",
   "metadata": {},
   "source": [
    "### Puzzle 2"
   ]
  },
  {
   "cell_type": "code",
   "execution_count": 19,
   "metadata": {},
   "outputs": [
    {
     "name": "stdout",
     "output_type": "stream",
     "text": [
      "######    ##    ##  ######    ##    ##    ####    ########    ####    ########    ######  ##        \n",
      "##    ##  ##    ##  ##    ##  ##    ##  ##    ##  ##        ##    ##  ##            ##    ##        \n",
      "##    ##  ##    ##  ##    ##  ##    ##  ##        ######    ##    ##  ######        ##    ##        \n",
      "######    ##    ##  ######    ##    ##  ##        ##        ##    ##  ##            ##    ##        \n",
      "##  ##    ##    ##  ##  ##    ##    ##  ##    ##  ##        ##    ##  ##            ##    ##        \n",
      "##    ##    ####    ##    ##    ####      ####    ########    ####    ########    ######  ########  \n"
     ]
    }
   ],
   "source": [
    "for line in grid:\n",
    "    print(\"\".join(\" #\"[c]*2 for c in line))"
   ]
  }
 ],
 "metadata": {
  "kernelspec": {
   "display_name": "Python 3",
   "language": "python",
   "name": "python3"
  },
  "language_info": {
   "codemirror_mode": {
    "name": "ipython",
    "version": 3
   },
   "file_extension": ".py",
   "mimetype": "text/x-python",
   "name": "python",
   "nbconvert_exporter": "python",
   "pygments_lexer": "ipython3",
   "version": "3.8.6"
  }
 },
 "nbformat": 4,
 "nbformat_minor": 4
}

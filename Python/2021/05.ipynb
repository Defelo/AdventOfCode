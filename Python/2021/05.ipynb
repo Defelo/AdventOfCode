{
 "cells": [
  {
   "cell_type": "code",
   "execution_count": 1,
   "metadata": {},
   "outputs": [
    {
     "data": {
      "text/plain": "<IPython.core.display.Markdown object>",
      "text/markdown": "# Day 05"
     },
     "metadata": {},
     "output_type": "display_data"
    }
   ],
   "source": [
    "import sys; sys.path.insert(0, \"..\")\n",
    "\n",
    "from utils import *\n",
    "import aoc\n",
    "\n",
    "year, day = 2021, 5\n",
    "\n",
    "puzzle = aoc.setup(year, day)\n",
    "plines = puzzle.splitlines()"
   ]
  },
  {
   "cell_type": "markdown",
   "metadata": {},
   "source": [
    "### Puzzle 1"
   ]
  },
  {
   "cell_type": "code",
   "execution_count": 2,
   "metadata": {},
   "outputs": [
    {
     "data": {
      "text/plain": "5698"
     },
     "execution_count": 2,
     "metadata": {},
     "output_type": "execute_result"
    }
   ],
   "source": [
    "def solve1():\n",
    "    seen = set()\n",
    "    dup = set()\n",
    "    for line in plines:\n",
    "        a, b = line.split(\" -> \")\n",
    "        x1, y1 = map(int, a.split(\",\"))\n",
    "        x2, y2 = map(int, b.split(\",\"))\n",
    "        if x1 != x2 and y1 != y2:\n",
    "            continue\n",
    "\n",
    "        for x, y in iter_line(x1, y1, x2, y2):\n",
    "            if (x, y) in seen:\n",
    "                dup.add((x, y))\n",
    "            seen.add((x, y))\n",
    "\n",
    "    return len(dup)\n",
    "\n",
    "solve1()"
   ]
  },
  {
   "cell_type": "code",
   "execution_count": 3,
   "metadata": {},
   "outputs": [
    {
     "name": "stdout",
     "output_type": "stream",
     "text": [
      "127 ms ± 20 ms per loop (mean ± std. dev. of 7 runs, 1 loop each)\n"
     ]
    }
   ],
   "source": [
    "%timeit solve1()"
   ]
  },
  {
   "cell_type": "code",
   "execution_count": 4,
   "outputs": [
    {
     "data": {
      "text/plain": "5698"
     },
     "execution_count": 4,
     "metadata": {},
     "output_type": "execute_result"
    }
   ],
   "source": [
    "(lambda:(s:=set(),d:=set(),[k in s and d.add(k)or s.add(k)for l in plines if(r:=[*map(int,re.match(r\"^(\\d+),(\\d+) -> (\\d+),(\\d+)$\",l).groups())])and(r[0]==r[2]or r[1]==r[3])for k in iter_line(*r)])and len(d))()"
   ],
   "metadata": {
    "collapsed": false,
    "pycharm": {
     "name": "#%%\n"
    }
   }
  },
  {
   "cell_type": "markdown",
   "metadata": {},
   "source": [
    "### Puzzle 2"
   ]
  },
  {
   "cell_type": "code",
   "execution_count": 5,
   "metadata": {},
   "outputs": [
    {
     "data": {
      "text/plain": "15463"
     },
     "execution_count": 5,
     "metadata": {},
     "output_type": "execute_result"
    }
   ],
   "source": [
    "def solve2():\n",
    "    seen = set()\n",
    "    dup = set()\n",
    "    for line in plines:\n",
    "        a, b = line.split(\" -> \")\n",
    "        x1, y1 = map(int, a.split(\",\"))\n",
    "        x2, y2 = map(int, b.split(\",\"))\n",
    "\n",
    "        for x, y in iter_line(x1, y1, x2, y2):\n",
    "            if (x, y) in seen:\n",
    "                dup.add((x, y))\n",
    "            seen.add((x, y))\n",
    "\n",
    "    return len(dup)\n",
    "\n",
    "solve2()"
   ]
  },
  {
   "cell_type": "code",
   "execution_count": 6,
   "metadata": {},
   "outputs": [
    {
     "name": "stdout",
     "output_type": "stream",
     "text": [
      "162 ms ± 42 ms per loop (mean ± std. dev. of 7 runs, 1 loop each)\n"
     ]
    }
   ],
   "source": [
    "%timeit solve2()"
   ]
  },
  {
   "cell_type": "code",
   "execution_count": 7,
   "outputs": [
    {
     "data": {
      "text/plain": "15463"
     },
     "execution_count": 7,
     "metadata": {},
     "output_type": "execute_result"
    }
   ],
   "source": [
    "(lambda:(s:=set(),d:=set(),[k in s and d.add(k)or s.add(k)for l in plines for k in iter_line(*map(int,re.match(r\"^(\\d+),(\\d+) -> (\\d+),(\\d+)$\",l).groups()))])and len(d))()"
   ],
   "metadata": {
    "collapsed": false,
    "pycharm": {
     "name": "#%%\n"
    }
   }
  }
 ],
 "metadata": {
  "kernelspec": {
   "display_name": "Python 3",
   "language": "python",
   "name": "python3"
  },
  "language_info": {
   "codemirror_mode": {
    "name": "ipython",
    "version": 3
   },
   "file_extension": ".py",
   "mimetype": "text/x-python",
   "name": "python",
   "nbconvert_exporter": "python",
   "pygments_lexer": "ipython3",
   "version": "3.8.6"
  }
 },
 "nbformat": 4,
 "nbformat_minor": 4
}
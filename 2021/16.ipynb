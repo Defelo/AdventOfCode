{
 "cells": [
  {
   "cell_type": "code",
   "execution_count": 1,
   "metadata": {},
   "outputs": [
    {
     "data": {
      "text/plain": "<IPython.core.display.Markdown object>",
      "text/markdown": "# Day 16"
     },
     "metadata": {},
     "output_type": "display_data"
    }
   ],
   "source": [
    "import sys; sys.path.insert(0, \"..\")\n",
    "\n",
    "from utils import *\n",
    "import aoc\n",
    "\n",
    "year, day = 2021, 16\n",
    "\n",
    "puzzle = aoc.setup(year, day)\n",
    "plines = puzzle.splitlines()"
   ]
  },
  {
   "cell_type": "markdown",
   "metadata": {},
   "source": [
    "### Puzzle 1"
   ]
  },
  {
   "cell_type": "code",
   "execution_count": 2,
   "metadata": {},
   "outputs": [
    {
     "data": {
      "text/plain": "906"
     },
     "execution_count": 2,
     "metadata": {},
     "output_type": "execute_result"
    }
   ],
   "source": [
    "def solve1():\n",
    "    bits = io.StringIO(\"\".join(bin(int(x, 16))[2:].zfill(4) for x in plines[0]))\n",
    "\n",
    "\n",
    "    def read(n):\n",
    "        return int(bits.read(n), 2)\n",
    "\n",
    "\n",
    "    def parse():\n",
    "        version = read(3)\n",
    "        t = read(3)\n",
    "        if t == 4:\n",
    "            lit = 0\n",
    "            while True:\n",
    "                c = read(1)\n",
    "                lit *= 16\n",
    "                lit += read(4)\n",
    "                if not c:\n",
    "                    break\n",
    "            return version\n",
    "        else:\n",
    "            vals = []\n",
    "            if not read(1):\n",
    "                c = read(15) + bits.tell()\n",
    "                while bits.tell() < c:\n",
    "                    vals.append(parse())\n",
    "            else:\n",
    "                for _ in range(read(11)):\n",
    "                    vals.append(parse())\n",
    "\n",
    "            return version + sum(vals)\n",
    "\n",
    "    return parse()\n",
    "\n",
    "solve1()"
   ]
  },
  {
   "cell_type": "code",
   "execution_count": 3,
   "metadata": {},
   "outputs": [
    {
     "name": "stdout",
     "output_type": "stream",
     "text": [
      "1.76 ms ± 624 µs per loop (mean ± std. dev. of 7 runs, 1000 loops each)\n"
     ]
    }
   ],
   "source": [
    "%timeit solve1()"
   ]
  },
  {
   "cell_type": "markdown",
   "metadata": {},
   "source": [
    "### Puzzle 2"
   ]
  },
  {
   "cell_type": "code",
   "execution_count": 4,
   "metadata": {},
   "outputs": [
    {
     "data": {
      "text/plain": "819324480368"
     },
     "execution_count": 4,
     "metadata": {},
     "output_type": "execute_result"
    }
   ],
   "source": [
    "def solve2():\n",
    "    bits = io.StringIO(\"\".join(bin(int(x, 16))[2:].zfill(4) for x in plines[0]))\n",
    "\n",
    "\n",
    "    def read(n):\n",
    "        return int(bits.read(n), 2)\n",
    "\n",
    "\n",
    "    def parse():\n",
    "        read(3)\n",
    "        t = read(3)\n",
    "        if t == 4:\n",
    "            lit = 0\n",
    "            while True:\n",
    "                c = read(1)\n",
    "                lit *= 16\n",
    "                lit += read(4)\n",
    "                if not c:\n",
    "                    break\n",
    "            return lit\n",
    "        else:\n",
    "            vals = []\n",
    "            if not read(1):\n",
    "                c = read(15) + bits.tell()\n",
    "                while bits.tell() < c:\n",
    "                    vals.append(parse())\n",
    "            else:\n",
    "                for _ in range(read(11)):\n",
    "                    vals.append(parse())\n",
    "\n",
    "            match t:\n",
    "                case 0:\n",
    "                    return sum(vals)\n",
    "                case 1:\n",
    "                    return product(vals)\n",
    "                case 2:\n",
    "                    return min(vals)\n",
    "                case 3:\n",
    "                    return max(vals)\n",
    "                case 5:\n",
    "                    return int(vals[0] > vals[1])\n",
    "                case 6:\n",
    "                    return int(vals[0] < vals[1])\n",
    "                case 7:\n",
    "                    return int(vals[0] == vals[1])\n",
    "\n",
    "    return parse()\n",
    "\n",
    "solve2()"
   ]
  },
  {
   "cell_type": "code",
   "execution_count": 5,
   "metadata": {},
   "outputs": [
    {
     "name": "stdout",
     "output_type": "stream",
     "text": [
      "1.36 ms ± 193 µs per loop (mean ± std. dev. of 7 runs, 1000 loops each)\n"
     ]
    }
   ],
   "source": [
    "%timeit solve2()"
   ]
  }
 ],
 "metadata": {
  "kernelspec": {
   "display_name": "Python 3",
   "language": "python",
   "name": "python3"
  },
  "language_info": {
   "codemirror_mode": {
    "name": "ipython",
    "version": 3
   },
   "file_extension": ".py",
   "mimetype": "text/x-python",
   "name": "python",
   "nbconvert_exporter": "python",
   "pygments_lexer": "ipython3",
   "version": "3.8.6"
  }
 },
 "nbformat": 4,
 "nbformat_minor": 4
}
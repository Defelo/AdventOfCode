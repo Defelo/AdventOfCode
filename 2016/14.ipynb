{
 "cells": [
  {
   "cell_type": "code",
   "execution_count": 1,
   "metadata": {},
   "outputs": [
    {
     "data": {
      "text/markdown": [
       "# Day 14"
      ],
      "text/plain": [
       "<IPython.core.display.Markdown object>"
      ]
     },
     "metadata": {},
     "output_type": "display_data"
    }
   ],
   "source": [
    "import sys; sys.path.insert(0, \"..\")\n",
    "\n",
    "import aoc\n",
    "\n",
    "year, day = 2016, 14\n",
    "\n",
    "puzzle = aoc.setup(year, day)"
   ]
  },
  {
   "cell_type": "markdown",
   "metadata": {},
   "source": [
    "### Puzzle 1"
   ]
  },
  {
   "cell_type": "code",
   "execution_count": 20,
   "metadata": {},
   "outputs": [
    {
     "name": "stdout",
     "output_type": "stream",
     "text": [
      "25427\n"
     ]
    }
   ],
   "source": [
    "import hashlib\n",
    "import re\n",
    "\n",
    "def hash(idx):\n",
    "    return hashlib.md5(f\"{puzzle}{idx}\".encode()).hexdigest()\n",
    "\n",
    "def first(idx):\n",
    "    if match := re.match(r\"^.*?((.)\\2{2}).*$\", hash(idx)):\n",
    "        return match.group(2)\n",
    "\n",
    "def second(idx, m):\n",
    "    for i in range(1, 1001):\n",
    "        if m * 5 in hash(idx + i):\n",
    "            return True\n",
    "    return False\n",
    "\n",
    "idx = 0\n",
    "cnt = 0\n",
    "while True:\n",
    "    if (x := first(idx)) and second(idx, x):\n",
    "        cnt += 1\n",
    "    if cnt == 64:\n",
    "        break\n",
    "    idx += 1\n",
    "print(idx)"
   ]
  },
  {
   "cell_type": "markdown",
   "metadata": {},
   "source": [
    "### Puzzle 2"
   ]
  },
  {
   "cell_type": "code",
   "execution_count": 21,
   "metadata": {},
   "outputs": [
    {
     "name": "stdout",
     "output_type": "stream",
     "text": [
      "22045\n"
     ]
    }
   ],
   "source": [
    "dp = {}\n",
    "def hash(idx):\n",
    "    if idx in dp: return dp[idx]\n",
    "    out = hashlib.md5(f\"{puzzle}{idx}\".encode()).hexdigest()\n",
    "    for _ in range(2016):\n",
    "        out = hashlib.md5(out.encode()).hexdigest()\n",
    "    dp[idx] = out\n",
    "    return out\n",
    "\n",
    "def first(idx):\n",
    "    if match := re.match(r\"^.*?((.)\\2{2}).*$\", hash(idx)):\n",
    "        return match.group(2)\n",
    "\n",
    "def second(idx, m):\n",
    "    for i in range(1, 1001):\n",
    "        if m * 5 in hash(idx + i):\n",
    "            return True\n",
    "    return False\n",
    "\n",
    "idx = 0\n",
    "cnt = 0\n",
    "while True:\n",
    "    if (x := first(idx)) and second(idx, x):\n",
    "        cnt += 1\n",
    "    if cnt == 64:\n",
    "        break\n",
    "    idx += 1\n",
    "print(idx)"
   ]
  }
 ],
 "metadata": {
  "kernelspec": {
   "display_name": "Python 3",
   "language": "python",
   "name": "python3"
  },
  "language_info": {
   "codemirror_mode": {
    "name": "ipython",
    "version": 3
   },
   "file_extension": ".py",
   "mimetype": "text/x-python",
   "name": "python",
   "nbconvert_exporter": "python",
   "pygments_lexer": "ipython3",
   "version": "3.8.6"
  }
 },
 "nbformat": 4,
 "nbformat_minor": 4
}

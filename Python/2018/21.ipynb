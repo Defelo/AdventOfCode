{
 "cells": [
  {
   "cell_type": "code",
   "execution_count": 1,
   "metadata": {},
   "outputs": [
    {
     "data": {
      "text/markdown": [
       "# Day 21"
      ],
      "text/plain": [
       "<IPython.core.display.Markdown object>"
      ]
     },
     "metadata": {},
     "output_type": "display_data"
    }
   ],
   "source": [
    "import sys; sys.path.insert(0, \"..\")\n",
    "\n",
    "import aoc\n",
    "\n",
    "year, day = 2018, 21\n",
    "\n",
    "puzzle = aoc.setup(year, day)\n",
    "plines = puzzle.splitlines()"
   ]
  },
  {
   "cell_type": "markdown",
   "metadata": {},
   "source": [
    "### Puzzle 1"
   ]
  },
  {
   "cell_type": "code",
   "execution_count": 2,
   "metadata": {},
   "outputs": [
    {
     "name": "stdout",
     "output_type": "stream",
     "text": [
      "000| r1 = 123\n",
      "001| r1 &= 456\n",
      "002| r1 = r1 == 72\n",
      "003| ip += r1\n",
      "004| ip = 0\n",
      "005| r1 = 0\n",
      "006| r5 = r1 | 65536\n",
      "007| r1 = 8586263\n",
      "008| r2 = r5 & 255\n",
      "009| r1 += r2\n",
      "010| r1 &= 16777215\n",
      "011| r1 *= 65899\n",
      "012| r1 &= 16777215\n",
      "013| r2 = 256 > r5\n",
      "014| ip += r2\n",
      "015| ip += 1\n",
      "016| ip = 27\n",
      "017| r2 = 0\n",
      "018| r3 = r2 + 1\n",
      "019| r3 *= 256\n",
      "020| r3 = r3 > r5\n",
      "021| ip += r3\n",
      "022| ip += 1\n",
      "023| ip = 25\n",
      "024| r2 += 1\n",
      "025| ip = 17\n",
      "026| r5 = r2\n",
      "027| ip = 7\n",
      "028| r2 = r1 == r0\n",
      "029| ip += r2\n",
      "030| ip = 5\n"
     ]
    }
   ],
   "source": [
    "ip, *instructions = plines\n",
    "ip = int(ip.split()[1])\n",
    "\n",
    "reg = lambda i: \"ip\" if i == ip else f\"r{i}\"\n",
    "\n",
    "for i, (op, a, b, c) in enumerate(map(str.split, instructions)):\n",
    "    a, b, c = map(int, [a, b, c])\n",
    "    if op[:2] in [\"eq\", \"gt\"]:\n",
    "        print(f\"{i:03}| {reg(c)} = {reg(a) if op[2]=='r' else a} { {'eq':'==','gt':'>'}[op[:2]]} {reg(b) if op[3]=='r' else b}\")\n",
    "    elif op[:3] == \"set\":\n",
    "        print(f\"{i:03}| {reg(c)} = {reg(a) if op[-1]=='r' else a}\")\n",
    "    else:\n",
    "        if a == c:\n",
    "            print(f\"{i:03}| {reg(c)} { {'add':'+','mul':'*','ban':'&','bor':'|'}[op[:3]]}= {reg(b) if op[-1]=='r' else b}\")        \n",
    "        elif b == c and op[-1] == \"r\":\n",
    "            print(f\"{i:03}| {reg(c)} { {'add':'+','mul':'*','ban':'&','bor':'|'}[op[:3]]}= {reg(a)}\")        \n",
    "        else:\n",
    "            print(f\"{i:03}| {reg(c)} = {reg(a)} { {'add':'+','mul':'*','ban':'&','bor':'|'}[op[:3]]} {reg(b) if op[-1]=='r' else b}\")        "
   ]
  },
  {
   "cell_type": "raw",
   "metadata": {},
   "source": [
    "assert 123 & 456 == 72\n",
    "\n",
    "r1 = 0\n",
    "\n",
    "while True:\n",
    "    r5 = r1 | 65536\n",
    "    r1 = 8586263\n",
    "\n",
    "    while r5:\n",
    "        r1 += r5 & 255\n",
    "        r1 &= 16777215\n",
    "        r1 *= 65899\n",
    "        r1 &= 16777215\n",
    "        \n",
    "        r5 //= 256\n",
    "\n",
    "    if r1 == r0: break"
   ]
  },
  {
   "cell_type": "code",
   "execution_count": 3,
   "metadata": {},
   "outputs": [
    {
     "data": {
      "text/plain": [
       "5970144"
      ]
     },
     "execution_count": 3,
     "metadata": {},
     "output_type": "execute_result"
    }
   ],
   "source": [
    "def solve1():\n",
    "    r1 = 0\n",
    "    r5 = r1 | 65536\n",
    "    r1 = 8586263\n",
    "\n",
    "    while r5:\n",
    "        r1 += r5 & 255\n",
    "        r1 &= 16777215\n",
    "        r1 *= 65899\n",
    "        r1 &= 16777215\n",
    "\n",
    "        r5 //= 256\n",
    "    return r1\n",
    "\n",
    "solve1()"
   ]
  },
  {
   "cell_type": "code",
   "execution_count": 4,
   "metadata": {},
   "outputs": [
    {
     "name": "stdout",
     "output_type": "stream",
     "text": [
      "1.08 µs ± 60.8 ns per loop (mean ± std. dev. of 7 runs, 1000000 loops each)\n"
     ]
    }
   ],
   "source": [
    "%timeit solve1()"
   ]
  },
  {
   "cell_type": "markdown",
   "metadata": {},
   "source": [
    "### Puzzle 2"
   ]
  },
  {
   "cell_type": "code",
   "execution_count": 5,
   "metadata": {},
   "outputs": [
    {
     "data": {
      "text/plain": [
       "13943296"
      ]
     },
     "execution_count": 5,
     "metadata": {},
     "output_type": "execute_result"
    }
   ],
   "source": [
    "def solve2():\n",
    "    r1 = 0\n",
    "    seen = set()\n",
    "    out = r1\n",
    "    while r1 not in seen:\n",
    "        out = r1\n",
    "        seen.add(r1)\n",
    "        r5 = r1 | 65536\n",
    "        r1 = 8586263\n",
    "\n",
    "        while r5:\n",
    "            r1 += r5 & 255\n",
    "            r1 &= 16777215\n",
    "            r1 *= 65899\n",
    "            r1 &= 16777215\n",
    "\n",
    "            r5 //= 256\n",
    "\n",
    "    return out\n",
    "\n",
    "solve2()"
   ]
  },
  {
   "cell_type": "code",
   "execution_count": 6,
   "metadata": {},
   "outputs": [
    {
     "name": "stdout",
     "output_type": "stream",
     "text": [
      "13.4 ms ± 877 µs per loop (mean ± std. dev. of 7 runs, 100 loops each)\n"
     ]
    }
   ],
   "source": [
    "%timeit solve2()"
   ]
  }
 ],
 "metadata": {
  "kernelspec": {
   "display_name": "Python 3 (ipykernel)",
   "language": "python",
   "name": "python3"
  },
  "language_info": {
   "codemirror_mode": {
    "name": "ipython",
    "version": 3
   },
   "file_extension": ".py",
   "mimetype": "text/x-python",
   "name": "python",
   "nbconvert_exporter": "python",
   "pygments_lexer": "ipython3",
   "version": "3.9.6"
  }
 },
 "nbformat": 4,
 "nbformat_minor": 4
}

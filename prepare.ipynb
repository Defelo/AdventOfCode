{
 "cells": [
  {
   "cell_type": "code",
   "execution_count": null,
   "metadata": {},
   "outputs": [],
   "source": [
    "import json\n",
    "import aoc\n",
    "import os\n",
    "\n",
    "\n",
    "year = input(\"Year: \")\n",
    "\n",
    "if not os.path.exists(year):\n",
    "    print(f\"Creating directory {year}\")\n",
    "    os.mkdir(year)\n",
    "\n",
    "template = json.load(open(\"template.ipynb\"))\n",
    "haskell_template = json.load(open(\"haskell_template.ipynb\"))\n",
    "\n",
    "for i in range(25):\n",
    "    f = f\"{year}/{i+1:02}.ipynb\"\n",
    "    if not os.path.exists(f):\n",
    "        template[\"cells\"][0][\"source\"][4] = f\"year, day = {year}, {i+1}\\n\"\n",
    "        aoc._create_file(f, json.dumps(template, indent=2))\n",
    "    \n",
    "    f = f\"{year}/{i+1:02}_haskell.ipynb\"\n",
    "    if not os.path.exists(f):\n",
    "        haskell_template[\"cells\"][0][\"source\"][0] = f'puzzle <- readFile \"{i+1:02}.txt\"\\n'\n",
    "        haskell_template[\"cells\"][1][\"source\"][0] = f'# Day {i+1:02}'\n",
    "        aoc._create_file(f, json.dumps(haskell_template, indent=2))\n",
    "\n",
    "print(\"Done!\")"
   ]
  }
 ],
 "metadata": {
  "kernelspec": {
   "display_name": "Python 3",
   "language": "python",
   "name": "python3"
  },
  "language_info": {
   "codemirror_mode": {
    "name": "ipython",
    "version": 3
   },
   "file_extension": ".py",
   "mimetype": "text/x-python",
   "name": "python",
   "nbconvert_exporter": "python",
   "pygments_lexer": "ipython3",
   "version": "3.8.6"
  }
 },
 "nbformat": 4,
 "nbformat_minor": 4
}

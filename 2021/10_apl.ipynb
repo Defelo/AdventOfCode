{
 "cells": [
  {
   "cell_type": "code",
   "execution_count": 1,
   "id": "8fb56a69-e2e3-4a2e-9257-c78046f23f21",
   "metadata": {
    "pycharm": {
     "name": "#%%\n"
    }
   },
   "outputs": [],
   "source": [
    "data ← ⊃⎕NGET '10.txt' 1\n",
    "⎕PP ← 32"
   ]
  },
  {
   "cell_type": "markdown",
   "source": [
    "### Part 1"
   ],
   "metadata": {
    "collapsed": false,
    "pycharm": {
     "name": "#%% md\n"
    }
   }
  },
  {
   "cell_type": "code",
   "execution_count": 2,
   "outputs": [
    {
     "data": {
      "text/html": "<span style=\"white-space:pre; font-family: monospace\">278475\n</span>"
     },
     "execution_count": 2,
     "metadata": {},
     "output_type": "execute_result"
    }
   ],
   "source": [
    "+/{{l s←⍵⋄0=≢l:0⋄(⊃l)∊'([{<':∇(1↓l)(s,⍨⊃l)⋄(⊂(⊃s),⊃l)∊('()' '[]' '{}' '<>'):∇(1↓l)(1↓s)⋄⊃(')]}>'=⊃l)/(3 57 1197 25137)}⍵ ''}¨data"
   ],
   "metadata": {
    "collapsed": false,
    "pycharm": {
     "name": "#%%\n"
    }
   }
  },
  {
   "cell_type": "markdown",
   "source": [
    "### Part 2"
   ],
   "metadata": {
    "collapsed": false,
    "pycharm": {
     "name": "#%% md\n"
    }
   }
  },
  {
   "cell_type": "code",
   "execution_count": 3,
   "outputs": [
    {
     "data": {
      "text/html": "<span style=\"white-space:pre; font-family: monospace\">3015539998\n</span>"
     },
     "execution_count": 3,
     "metadata": {},
     "output_type": "execute_result"
    }
   ],
   "source": [
    "{⍵[⍋⍵][⌈2÷⍨≢⍵]}{(⍵≠¯1)/⍵}{{l s←⍵⋄0=≢l:{⍺+5×⍵}/{⊃⍸'([{<'=⊃⍵}¨⌽s⋄(⊃l)∊'([{<':∇(1↓l)(s,⍨⊃l)⋄(⊂(⊃s),⊃l)∊('()' '[]' '{}' '<>'):∇(1↓l)(1↓s)⋄¯1}⍵ ''}¨data"
   ],
   "metadata": {
    "collapsed": false,
    "pycharm": {
     "name": "#%%\n"
    }
   }
  }
 ],
 "metadata": {
  "kernelspec": {
   "display_name": "Dyalog APL",
   "language": "apl",
   "name": "dyalog-kernel"
  },
  "language_info": {
   "file_extension": ".apl",
   "mimetype": "text/apl",
   "name": "APL"
  }
 },
 "nbformat": 4,
 "nbformat_minor": 5
}
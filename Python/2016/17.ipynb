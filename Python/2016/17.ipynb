{
 "cells": [
  {
   "cell_type": "code",
   "execution_count": 1,
   "metadata": {},
   "outputs": [
    {
     "data": {
      "text/markdown": [
       "# Day 17"
      ],
      "text/plain": [
       "<IPython.core.display.Markdown object>"
      ]
     },
     "metadata": {},
     "output_type": "display_data"
    }
   ],
   "source": [
    "import sys; sys.path.insert(0, \"..\")\n",
    "\n",
    "import aoc\n",
    "\n",
    "year, day = 2016, 17\n",
    "\n",
    "puzzle = aoc.setup(year, day)"
   ]
  },
  {
   "cell_type": "markdown",
   "metadata": {},
   "source": [
    "### Puzzle 1"
   ]
  },
  {
   "cell_type": "code",
   "execution_count": 2,
   "metadata": {},
   "outputs": [
    {
     "data": {
      "text/plain": [
       "'RLDUDRDDRR'"
      ]
     },
     "execution_count": 2,
     "metadata": {},
     "output_type": "execute_result"
    }
   ],
   "source": [
    "import hashlib\n",
    "\n",
    "def get_state(path):\n",
    "    digest = hashlib.md5((puzzle + path).encode()).hexdigest()\n",
    "    return [c >= \"b\" for c in digest[:4]]  # up, down, left, right\n",
    "\n",
    "def find_path():\n",
    "    queue = [(\"\", 0, 0)]\n",
    "    while True:\n",
    "        path, x, y = queue.pop(0)\n",
    "        if x == y == 3:\n",
    "            return path\n",
    "        \n",
    "        up, down, left, right = get_state(path)\n",
    "        if up and y > 0:\n",
    "            queue.append((path + \"U\", x, y - 1))\n",
    "        if down and y < 3:\n",
    "            queue.append((path + \"D\", x, y + 1))\n",
    "        if left and x > 0:\n",
    "            queue.append((path + \"L\", x - 1, y))\n",
    "        if right and x < 3:\n",
    "            queue.append((path + \"R\", x + 1, y))\n",
    "\n",
    "find_path()"
   ]
  },
  {
   "cell_type": "markdown",
   "metadata": {},
   "source": [
    "### Puzzle 2"
   ]
  },
  {
   "cell_type": "code",
   "execution_count": 3,
   "metadata": {},
   "outputs": [
    {
     "data": {
      "text/plain": [
       "590"
      ]
     },
     "execution_count": 3,
     "metadata": {},
     "output_type": "execute_result"
    }
   ],
   "source": [
    "def find_path():\n",
    "    queue = [(\"\", 0, 0)]\n",
    "    longest = \"\"\n",
    "    while queue:\n",
    "        path, x, y = queue.pop(0)\n",
    "        if x == y == 3:\n",
    "            if len(path) > len(longest): longest = path\n",
    "            continue\n",
    "        \n",
    "        up, down, left, right = get_state(path)\n",
    "        if up and y > 0:\n",
    "            queue.append((path + \"U\", x, y - 1))\n",
    "        if down and y < 3:\n",
    "            queue.append((path + \"D\", x, y + 1))\n",
    "        if left and x > 0:\n",
    "            queue.append((path + \"L\", x - 1, y))\n",
    "        if right and x < 3:\n",
    "            queue.append((path + \"R\", x + 1, y))\n",
    "    \n",
    "    return longest\n",
    "\n",
    "len(find_path())"
   ]
  }
 ],
 "metadata": {
  "kernelspec": {
   "display_name": "Python 3 (ipykernel)",
   "language": "python",
   "name": "python3"
  },
  "language_info": {
   "codemirror_mode": {
    "name": "ipython",
    "version": 3
   },
   "file_extension": ".py",
   "mimetype": "text/x-python",
   "name": "python",
   "nbconvert_exporter": "python",
   "pygments_lexer": "ipython3",
   "version": "3.9.6"
  }
 },
 "nbformat": 4,
 "nbformat_minor": 4
}

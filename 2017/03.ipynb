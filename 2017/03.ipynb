{
 "cells": [
  {
   "cell_type": "code",
   "execution_count": 1,
   "metadata": {},
   "outputs": [
    {
     "data": {
      "text/markdown": [
       "# Day 03"
      ],
      "text/plain": [
       "<IPython.core.display.Markdown object>"
      ]
     },
     "metadata": {},
     "output_type": "display_data"
    }
   ],
   "source": [
    "import sys; sys.path.insert(0, \"..\")\n",
    "\n",
    "import aoc\n",
    "\n",
    "year, day = 2017, 3\n",
    "\n",
    "puzzle = aoc.setup(year, day)\n",
    "plines = puzzle.splitlines()"
   ]
  },
  {
   "cell_type": "markdown",
   "metadata": {},
   "source": [
    "### Puzzle 1"
   ]
  },
  {
   "cell_type": "code",
   "execution_count": 2,
   "metadata": {},
   "outputs": [
    {
     "data": {
      "text/plain": [
       "430"
      ]
     },
     "execution_count": 2,
     "metadata": {},
     "output_type": "execute_result"
    }
   ],
   "source": [
    "def solve1():\n",
    "    num = int(puzzle)\n",
    "    i = (int((num-1) ** .5)+1) // 2\n",
    "    a, b = (i*2-1)**2, (i*2+1)**2\n",
    "    out = 1e1337\n",
    "    for j in range(4):\n",
    "        t = j / 4 + .125\n",
    "        out = min(out, abs(num-int((1-t)*a+t*b)))\n",
    "    return out + i\n",
    "\n",
    "solve1()"
   ]
  },
  {
   "cell_type": "code",
   "execution_count": 3,
   "metadata": {},
   "outputs": [
    {
     "name": "stdout",
     "output_type": "stream",
     "text": [
      "4.23 µs ± 1.05 µs per loop (mean ± std. dev. of 7 runs, 100000 loops each)\n"
     ]
    }
   ],
   "source": [
    "%timeit solve1()"
   ]
  },
  {
   "cell_type": "markdown",
   "metadata": {},
   "source": [
    "### Puzzle 2"
   ]
  },
  {
   "cell_type": "code",
   "execution_count": 4,
   "metadata": {},
   "outputs": [
    {
     "data": {
      "text/plain": [
       "312453"
      ]
     },
     "execution_count": 4,
     "metadata": {},
     "output_type": "execute_result"
    }
   ],
   "source": [
    "def iter_steps():\n",
    "    x, y = 0, 0\n",
    "    dx, dy = 1, 0\n",
    "    s = 0\n",
    "    i = 1\n",
    "    while True:\n",
    "        yield x, y\n",
    "        i += 1\n",
    "        x += dx\n",
    "        y += dy\n",
    "\n",
    "        if i >= (s*2+1)**2:\n",
    "            s += 1\n",
    "        if abs(x + dx) > s or abs(y + dy) > s:\n",
    "            dx, dy = dy, -dx\n",
    "        \n",
    "def solve2():\n",
    "    grid = {}\n",
    "    k = int(puzzle)\n",
    "    for x, y in iter_steps():\n",
    "        s = sum(grid.get((x+i,y+j), 0) for i in [-1,0,1] for j in [-1,0,1] if i or j) or 1\n",
    "        grid[(x,y)] = s\n",
    "        if s > k:\n",
    "            return s\n",
    "\n",
    "solve2()"
   ]
  },
  {
   "cell_type": "code",
   "execution_count": 5,
   "metadata": {},
   "outputs": [
    {
     "name": "stdout",
     "output_type": "stream",
     "text": [
      "293 µs ± 57.9 µs per loop (mean ± std. dev. of 7 runs, 1000 loops each)\n"
     ]
    }
   ],
   "source": [
    "%timeit solve2()"
   ]
  }
 ],
 "metadata": {
  "kernelspec": {
   "display_name": "Python 3 (ipykernel)",
   "language": "python",
   "name": "python3"
  },
  "language_info": {
   "codemirror_mode": {
    "name": "ipython",
    "version": 3
   },
   "file_extension": ".py",
   "mimetype": "text/x-python",
   "name": "python",
   "nbconvert_exporter": "python",
   "pygments_lexer": "ipython3",
   "version": "3.9.6"
  }
 },
 "nbformat": 4,
 "nbformat_minor": 4
}

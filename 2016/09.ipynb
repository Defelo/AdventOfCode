{
 "cells": [
  {
   "cell_type": "code",
   "execution_count": 1,
   "metadata": {},
   "outputs": [
    {
     "data": {
      "text/markdown": [
       "# Day 09"
      ],
      "text/plain": [
       "<IPython.core.display.Markdown object>"
      ]
     },
     "metadata": {},
     "output_type": "display_data"
    }
   ],
   "source": [
    "import sys; sys.path.insert(0, \"..\")\n",
    "\n",
    "import aoc\n",
    "\n",
    "year, day = 2016, 9\n",
    "\n",
    "puzzle = aoc.setup(year, day)"
   ]
  },
  {
   "cell_type": "markdown",
   "metadata": {},
   "source": [
    "### Puzzle 1"
   ]
  },
  {
   "cell_type": "code",
   "execution_count": 2,
   "metadata": {},
   "outputs": [
    {
     "data": {
      "text/plain": [
       "110346"
      ]
     },
     "execution_count": 2,
     "metadata": {},
     "output_type": "execute_result"
    }
   ],
   "source": [
    "out = 0\n",
    "i = 0\n",
    "while i < len(puzzle):\n",
    "    if puzzle[i] == \"(\":\n",
    "        x = puzzle[i+1:].split(\")\")[0]\n",
    "        a, b = map(int, x.split(\"x\"))\n",
    "        i += len(x) + 2\n",
    "        out += b * min(a, len(puzzle) - i)\n",
    "        i += a\n",
    "        continue\n",
    "        \n",
    "    out += 1\n",
    "    i += 1\n",
    "out"
   ]
  },
  {
   "cell_type": "markdown",
   "metadata": {},
   "source": [
    "### Puzzle 2"
   ]
  },
  {
   "cell_type": "code",
   "execution_count": 3,
   "metadata": {},
   "outputs": [
    {
     "data": {
      "text/plain": [
       "10774309173"
      ]
     },
     "execution_count": 3,
     "metadata": {},
     "output_type": "execute_result"
    }
   ],
   "source": [
    "def solve(inp):\n",
    "    out = 0\n",
    "    i = 0\n",
    "    while i < len(inp):\n",
    "        if inp[i] == \"(\":\n",
    "            x = inp[i+1:].split(\")\")[0]\n",
    "            a, b = map(int, x.split(\"x\"))\n",
    "            i += len(x) + 2\n",
    "            out += b * solve(inp[i:i+a])\n",
    "            i += a\n",
    "            continue\n",
    "        \n",
    "        out += 1\n",
    "        i += 1\n",
    "    return out\n",
    "\n",
    "solve(puzzle)"
   ]
  }
 ],
 "metadata": {
  "kernelspec": {
   "display_name": "Python 3",
   "language": "python",
   "name": "python3"
  },
  "language_info": {
   "codemirror_mode": {
    "name": "ipython",
    "version": 3
   },
   "file_extension": ".py",
   "mimetype": "text/x-python",
   "name": "python",
   "nbconvert_exporter": "python",
   "pygments_lexer": "ipython3",
   "version": "3.8.6"
  }
 },
 "nbformat": 4,
 "nbformat_minor": 4
}

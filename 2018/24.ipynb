{
 "cells": [
  {
   "cell_type": "code",
   "execution_count": 1,
   "metadata": {},
   "outputs": [
    {
     "data": {
      "text/markdown": [
       "# Day 24"
      ],
      "text/plain": [
       "<IPython.core.display.Markdown object>"
      ]
     },
     "metadata": {},
     "output_type": "display_data"
    }
   ],
   "source": [
    "import sys; sys.path.insert(0, \"..\")\n",
    "\n",
    "import aoc\n",
    "\n",
    "year, day = 2018, 24\n",
    "\n",
    "puzzle = aoc.setup(year, day)\n",
    "plines = puzzle.splitlines()"
   ]
  },
  {
   "cell_type": "markdown",
   "metadata": {},
   "source": [
    "### Puzzle 1"
   ]
  },
  {
   "cell_type": "code",
   "execution_count": 2,
   "metadata": {},
   "outputs": [],
   "source": [
    "from dataclasses import dataclass\n",
    "import re\n",
    "\n",
    "@dataclass\n",
    "class Group:\n",
    "    army: int\n",
    "    units: int\n",
    "    hp: int\n",
    "    ap: int\n",
    "    at: str\n",
    "    init: int\n",
    "    weak: set[str]\n",
    "    immune: set[str]\n",
    "    \n",
    "    def __hash__(self): return id(self)\n",
    "    \n",
    "    @staticmethod\n",
    "    def parse(army, line, boost=0):\n",
    "        units, hp, _, extra, ap, at, init = re.match(r\"^(\\d+) units each with (\\d+) hit points( \\((.*)\\))? with an attack that does (\\d+) (\\w+) damage at initiative (\\d+)$\", line).groups()\n",
    "        \n",
    "        weak = set()\n",
    "        immune = set()\n",
    "        for part in extra.split(\"; \") if extra else []:\n",
    "            t, _, *xs = part.split()\n",
    "            {\"weak\": weak, \"immune\": immune}[t].update(x.strip(\",\") for x in xs)\n",
    "        \n",
    "        return Group(army, int(units), int(hp), int(ap) + boost, at, int(init), weak, immune)\n",
    "    \n",
    "    @property\n",
    "    def ep(self):\n",
    "        return self.units * self.ap\n",
    "    \n",
    "    @property\n",
    "    def dead(self):\n",
    "        return self.units <= 0\n",
    "    \n",
    "    def calc_damage(self, target):\n",
    "        if self.at in target.immune: return 0\n",
    "        mul = 2 if self.at in target.weak else 1\n",
    "        return self.ep * mul\n",
    "    \n",
    "    def attack(self, target):\n",
    "        damage = self.calc_damage(target) // target.hp\n",
    "        target.units -= damage\n",
    "        return damage"
   ]
  },
  {
   "cell_type": "code",
   "execution_count": 3,
   "metadata": {},
   "outputs": [
    {
     "data": {
      "text/plain": [
       "22996"
      ]
     },
     "execution_count": 3,
     "metadata": {},
     "output_type": "execute_result"
    }
   ],
   "source": [
    "def solve1():\n",
    "    immune, infect = [[Group.parse(i, group) for group in army.splitlines()[1:]] for i, army in enumerate(puzzle.split(\"\\n\\n\"))]\n",
    "    \n",
    "    while immune and infect:\n",
    "        targets = {}\n",
    "        imm_att = set(immune)\n",
    "        inf_att = set(infect)\n",
    "        \n",
    "        for group in sorted(immune + infect, key=lambda g: (-g.ep, -g.init)):\n",
    "            attackable = [inf_att, imm_att][group.army]\n",
    "            if not attackable: continue\n",
    "            target = max(attackable, key=lambda g: (group.calc_damage(g), g.ep, g.init))\n",
    "            if not group.calc_damage(target): continue\n",
    "            attackable.remove(target)\n",
    "            targets[group] = target\n",
    "        \n",
    "        for group, target in sorted(targets.items(), key=lambda a: -a[0].init):\n",
    "            if group.dead: continue\n",
    "            group.attack(target)\n",
    "        \n",
    "        immune, infect = [[g for g in x if not g.dead] for x in [immune, infect]]\n",
    "    \n",
    "    return sum(g.units for g in immune + infect)\n",
    "\n",
    "solve1()"
   ]
  },
  {
   "cell_type": "code",
   "execution_count": 4,
   "metadata": {},
   "outputs": [
    {
     "name": "stdout",
     "output_type": "stream",
     "text": [
      "49.2 ms ± 15.7 ms per loop (mean ± std. dev. of 7 runs, 10 loops each)\n"
     ]
    }
   ],
   "source": [
    "%timeit solve1()"
   ]
  },
  {
   "cell_type": "markdown",
   "metadata": {},
   "source": [
    "### Puzzle 2"
   ]
  },
  {
   "cell_type": "code",
   "execution_count": 5,
   "metadata": {},
   "outputs": [
    {
     "data": {
      "text/plain": [
       "4327"
      ]
     },
     "execution_count": 5,
     "metadata": {},
     "output_type": "execute_result"
    }
   ],
   "source": [
    "def test(boost):\n",
    "    immune, infect = [[Group.parse(i, group, boost if i == 0 else 0) for group in army.splitlines()[1:]] for i, army in enumerate(puzzle.split(\"\\n\\n\"))]\n",
    "    \n",
    "    while immune and infect:\n",
    "        targets = {}\n",
    "        imm_att = set(immune)\n",
    "        inf_att = set(infect)\n",
    "        \n",
    "        for group in sorted(immune + infect, key=lambda g: (-g.ep, -g.init)):\n",
    "            attackable = [inf_att, imm_att][group.army]\n",
    "            if not attackable: continue\n",
    "            target = max(attackable, key=lambda g: (group.calc_damage(g), g.ep, g.init))\n",
    "            if not group.calc_damage(target): continue\n",
    "            attackable.remove(target)\n",
    "            targets[group] = target\n",
    "        \n",
    "        ok = False\n",
    "        for group, target in sorted(targets.items(), key=lambda a: -a[0].init):\n",
    "            if group.dead: continue\n",
    "            if group.attack(target): ok = True\n",
    "        \n",
    "        if not ok:\n",
    "            break\n",
    "        \n",
    "        immune, infect = [[g for g in x if not g.dead] for x in [immune, infect]]\n",
    "    \n",
    "    if infect: return None\n",
    "    return sum(g.units for g in immune)\n",
    "\n",
    "def solve2():\n",
    "    boost = 0\n",
    "    while not (out := test(boost)): boost += 1\n",
    "    return out\n",
    "\n",
    "solve2()"
   ]
  },
  {
   "cell_type": "code",
   "execution_count": 6,
   "metadata": {},
   "outputs": [
    {
     "name": "stdout",
     "output_type": "stream",
     "text": [
      "3.63 s ± 289 ms per loop (mean ± std. dev. of 7 runs, 1 loop each)\n"
     ]
    }
   ],
   "source": [
    "%timeit solve2()"
   ]
  }
 ],
 "metadata": {
  "kernelspec": {
   "display_name": "Python 3 (ipykernel)",
   "language": "python",
   "name": "python3"
  },
  "language_info": {
   "codemirror_mode": {
    "name": "ipython",
    "version": 3
   },
   "file_extension": ".py",
   "mimetype": "text/x-python",
   "name": "python",
   "nbconvert_exporter": "python",
   "pygments_lexer": "ipython3",
   "version": "3.9.6"
  }
 },
 "nbformat": 4,
 "nbformat_minor": 4
}

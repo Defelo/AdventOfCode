{
 "cells": [
  {
   "cell_type": "code",
   "execution_count": 1,
   "metadata": {},
   "outputs": [
    {
     "data": {
      "text/markdown": [
       "# Day 07"
      ],
      "text/plain": [
       "<IPython.core.display.Markdown object>"
      ]
     },
     "metadata": {},
     "output_type": "display_data"
    }
   ],
   "source": [
    "import sys; sys.path.insert(0, \"..\")\n",
    "\n",
    "import aoc\n",
    "\n",
    "year, day = 2020, 7\n",
    "\n",
    "puzzle = aoc.setup(year, day)\n",
    "plines = puzzle.splitlines()"
   ]
  },
  {
   "cell_type": "markdown",
   "metadata": {},
   "source": [
    "### Puzzle 1"
   ]
  },
  {
   "cell_type": "code",
   "execution_count": 2,
   "metadata": {},
   "outputs": [
    {
     "data": {
      "text/plain": [
       "124"
      ]
     },
     "execution_count": 2,
     "metadata": {},
     "output_type": "execute_result"
    }
   ],
   "source": [
    "import re\n",
    "\n",
    "def solve1():\n",
    "    g = {}\n",
    "    for line in plines:\n",
    "        a, *b = re.findall(r\"([a-z]+ [a-z]+) bags?\", line)\n",
    "        for x in b:\n",
    "            g.setdefault(x, []).append(a)\n",
    "\n",
    "    cnt = -1\n",
    "    q = [\"shiny gold\"]\n",
    "    visited = set()\n",
    "    while q:\n",
    "        p = q.pop(0)\n",
    "        \n",
    "        if p in visited:\n",
    "            continue\n",
    "        visited.add(p)\n",
    "        \n",
    "        cnt += 1\n",
    "        q += g.get(p, [])\n",
    "    return cnt\n",
    "\n",
    "solve1()"
   ]
  },
  {
   "cell_type": "code",
   "execution_count": 3,
   "metadata": {},
   "outputs": [
    {
     "data": {
      "text/plain": [
       "124"
      ]
     },
     "execution_count": 3,
     "metadata": {},
     "output_type": "execute_result"
    }
   ],
   "source": [
    "solve1m=lambda f=__import__(\"re\").findall:len((g:={})or[[(m:=f(\"([a-z]+ [a-z]+) bag\",l)),[g.setdefault(x,[]).append(m[0])for x in m[1:]]]for l in plines]and(dfs:=lambda p:set.union({p},*map(dfs,g.get(p,[]))))(\"shiny gold\"))-1\n",
    "\n",
    "solve1m()"
   ]
  },
  {
   "cell_type": "code",
   "execution_count": 4,
   "metadata": {},
   "outputs": [
    {
     "name": "stdout",
     "output_type": "stream",
     "text": [
      "2.63 ms ± 188 µs per loop (mean ± std. dev. of 7 runs, 100 loops each)\n",
      "2.94 ms ± 77.8 µs per loop (mean ± std. dev. of 7 runs, 100 loops each)\n"
     ]
    }
   ],
   "source": [
    "%timeit solve1()\n",
    "%timeit solve1m()"
   ]
  },
  {
   "cell_type": "markdown",
   "metadata": {},
   "source": [
    "### Puzzle 2"
   ]
  },
  {
   "cell_type": "code",
   "execution_count": 5,
   "metadata": {},
   "outputs": [
    {
     "data": {
      "text/plain": [
       "34862"
      ]
     },
     "execution_count": 5,
     "metadata": {},
     "output_type": "execute_result"
    }
   ],
   "source": [
    "def solve2():\n",
    "    g = {}\n",
    "    for line in plines:\n",
    "        a = re.match(r\"^([a-z]+ [a-z]+) bags\", line).group(1)\n",
    "        b = re.findall(r\"(\\d+) ([a-z]+ [a-z]+) bags?\", line)\n",
    "        g.setdefault(a, []).extend(b)\n",
    "    cnt = -1\n",
    "    q = [(1, \"shiny gold\")]\n",
    "    while q:\n",
    "        n, p = q.pop(0)\n",
    "        \n",
    "        cnt += n\n",
    "        q += [(n * int(a), b) for a, b in g.get(p, [])]\n",
    "    return cnt\n",
    "\n",
    "solve2()"
   ]
  },
  {
   "cell_type": "code",
   "execution_count": 6,
   "metadata": {},
   "outputs": [
    {
     "data": {
      "text/plain": [
       "34862"
      ]
     },
     "execution_count": 6,
     "metadata": {},
     "output_type": "execute_result"
    }
   ],
   "source": [
    "solve2m=lambda r=__import__(\"re\"):(g:={})or[g.setdefault(r.match(r\"^(\\w+ \\w+)\",l).group(1),[]).extend(r.findall(r\"(\\d+) (\\w+ \\w+) bag\",l))for l in plines]and(dfs:=lambda p:1+sum(dfs(q)*int(n)for n,q in g.get(p,[])))(\"shiny gold\")-1\n",
    "\n",
    "solve2m()"
   ]
  },
  {
   "cell_type": "code",
   "execution_count": 7,
   "metadata": {},
   "outputs": [
    {
     "name": "stdout",
     "output_type": "stream",
     "text": [
      "3 ms ± 301 µs per loop (mean ± std. dev. of 7 runs, 100 loops each)\n",
      "3.08 ms ± 113 µs per loop (mean ± std. dev. of 7 runs, 100 loops each)\n"
     ]
    }
   ],
   "source": [
    "%timeit solve2()\n",
    "%timeit solve2m()"
   ]
  }
 ],
 "metadata": {
  "kernelspec": {
   "display_name": "Python 3",
   "language": "python",
   "name": "python3"
  },
  "language_info": {
   "codemirror_mode": {
    "name": "ipython",
    "version": 3
   },
   "file_extension": ".py",
   "mimetype": "text/x-python",
   "name": "python",
   "nbconvert_exporter": "python",
   "pygments_lexer": "ipython3",
   "version": "3.8.6"
  }
 },
 "nbformat": 4,
 "nbformat_minor": 4
}

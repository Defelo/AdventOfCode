{
 "cells": [
  {
   "cell_type": "code",
   "execution_count": 1,
   "metadata": {},
   "outputs": [
    {
     "data": {
      "text/markdown": [
       "# Day 20"
      ],
      "text/plain": [
       "<IPython.core.display.Markdown object>"
      ]
     },
     "metadata": {},
     "output_type": "display_data"
    }
   ],
   "source": [
    "import sys; sys.path.insert(0, \"..\")\n",
    "\n",
    "import aoc\n",
    "\n",
    "year, day = 2018, 20\n",
    "\n",
    "puzzle = aoc.setup(year, day)\n",
    "plines = puzzle.splitlines()"
   ]
  },
  {
   "cell_type": "markdown",
   "metadata": {},
   "source": [
    "### Puzzle 1"
   ]
  },
  {
   "cell_type": "code",
   "execution_count": 2,
   "metadata": {},
   "outputs": [
    {
     "data": {
      "text/plain": [
       "3545"
      ]
     },
     "execution_count": 2,
     "metadata": {},
     "output_type": "execute_result"
    }
   ],
   "source": [
    "def parse_regex(regex):\n",
    "    regex = regex.strip(\"^$\")\n",
    "    stack = [[]]\n",
    "    \n",
    "    for c in regex:\n",
    "        if c == \"(\":\n",
    "            stack.append([])\n",
    "            stack.append([])\n",
    "        elif c == \")\":\n",
    "            x = stack.pop()\n",
    "            y = stack.pop()\n",
    "            y.append(x)\n",
    "            stack[-1].append(tuple(y))\n",
    "        elif c == \"|\":\n",
    "            x = stack.pop()\n",
    "            stack[-1].append(x)\n",
    "            stack.append([])\n",
    "        else:\n",
    "            stack[-1].append(c)\n",
    "    \n",
    "    return stack[0]\n",
    "\n",
    "dp = set()\n",
    "\n",
    "def traverse(graph, regex, x, y, decisions=None, pop_after=None):\n",
    "    decisions = decisions or ()\n",
    "    if (x, y, decisions) in dp: return\n",
    "    dp.add((x, y, decisions))\n",
    "    \n",
    "    i = 0\n",
    "    while i < len(regex):\n",
    "        if i == pop_after: decisions = (*decisions[:-1], None)\n",
    "        \n",
    "        elem = regex[i]\n",
    "        prev = x, y\n",
    "        if isinstance(elem, tuple):\n",
    "            for j, option in enumerate(elem):\n",
    "                traverse(graph, option + regex[i+1:], x, y, (*decisions, j), len(option))\n",
    "            break\n",
    "        elif elem == \"N\":\n",
    "            y -= 1\n",
    "        elif elem == \"E\":\n",
    "            x += 1\n",
    "        elif elem == \"S\":\n",
    "            y += 1\n",
    "        elif elem == \"W\":\n",
    "            x -= 1\n",
    "        \n",
    "        graph.setdefault(prev, set()).add((x, y))\n",
    "        graph.setdefault((x, y), set()).add(prev)\n",
    "        \n",
    "        i += 1\n",
    "\n",
    "def solve1():\n",
    "    dp.clear()\n",
    "    regex = parse_regex(puzzle)\n",
    "    graph = {}\n",
    "    traverse(graph, regex, 0, 0)\n",
    "    \n",
    "    queue = [(0, 0, 0)]\n",
    "    visited = set()\n",
    "    out = 0\n",
    "    while queue:\n",
    "        d, x, y = queue.pop(0)\n",
    "        \n",
    "        if (x, y) in visited: continue\n",
    "        visited.add((x, y))\n",
    "        \n",
    "        out = max(out, d)\n",
    "        \n",
    "        for p, q in graph.get((x, y), []):\n",
    "            if (p, q) not in visited: queue.append((d+1, p, q))\n",
    "    \n",
    "    return out\n",
    "\n",
    "solve1()"
   ]
  },
  {
   "cell_type": "code",
   "execution_count": 3,
   "metadata": {},
   "outputs": [
    {
     "name": "stdout",
     "output_type": "stream",
     "text": [
      "67.1 ms ± 12.6 ms per loop (mean ± std. dev. of 7 runs, 10 loops each)\n"
     ]
    }
   ],
   "source": [
    "%timeit solve1()"
   ]
  },
  {
   "cell_type": "markdown",
   "metadata": {},
   "source": [
    "### Puzzle 2"
   ]
  },
  {
   "cell_type": "code",
   "execution_count": 4,
   "metadata": {},
   "outputs": [
    {
     "data": {
      "text/plain": [
       "7838"
      ]
     },
     "execution_count": 4,
     "metadata": {},
     "output_type": "execute_result"
    }
   ],
   "source": [
    "def solve2():\n",
    "    dp.clear()\n",
    "    regex = parse_regex(puzzle)\n",
    "    graph = {}\n",
    "    traverse(graph, regex, 0, 0)\n",
    "    \n",
    "    queue = [(0, 0, 0)]\n",
    "    visited = set()\n",
    "    out = 0\n",
    "    while queue:\n",
    "        d, x, y = queue.pop(0)\n",
    "        \n",
    "        if (x, y) in visited: continue\n",
    "        visited.add((x, y))\n",
    "        \n",
    "        if d >= 1000: out += 1\n",
    "        \n",
    "        for p, q in graph.get((x, y), []):\n",
    "            if (p, q) not in visited: queue.append((d+1, p, q))\n",
    "    \n",
    "    return out\n",
    "\n",
    "solve2()"
   ]
  },
  {
   "cell_type": "code",
   "execution_count": 5,
   "metadata": {},
   "outputs": [
    {
     "name": "stdout",
     "output_type": "stream",
     "text": [
      "65 ms ± 14.4 ms per loop (mean ± std. dev. of 7 runs, 10 loops each)\n"
     ]
    }
   ],
   "source": [
    "%timeit solve2()"
   ]
  }
 ],
 "metadata": {
  "kernelspec": {
   "display_name": "Python 3 (ipykernel)",
   "language": "python",
   "name": "python3"
  },
  "language_info": {
   "codemirror_mode": {
    "name": "ipython",
    "version": 3
   },
   "file_extension": ".py",
   "mimetype": "text/x-python",
   "name": "python",
   "nbconvert_exporter": "python",
   "pygments_lexer": "ipython3",
   "version": "3.9.6"
  }
 },
 "nbformat": 4,
 "nbformat_minor": 4
}

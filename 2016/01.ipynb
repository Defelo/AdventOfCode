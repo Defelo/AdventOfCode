{
 "cells": [
  {
   "cell_type": "code",
   "execution_count": 1,
   "metadata": {},
   "outputs": [
    {
     "data": {
      "text/markdown": [
       "# Day 01"
      ],
      "text/plain": [
       "<IPython.core.display.Markdown object>"
      ]
     },
     "metadata": {},
     "output_type": "display_data"
    }
   ],
   "source": [
    "import sys; sys.path.insert(0, \"..\")\n",
    "\n",
    "import aoc\n",
    "\n",
    "year, day = 2016, 1\n",
    "\n",
    "puzzle = aoc.setup(year, day)"
   ]
  },
  {
   "cell_type": "markdown",
   "metadata": {},
   "source": [
    "### Puzzle 1"
   ]
  },
  {
   "cell_type": "code",
   "execution_count": 3,
   "metadata": {},
   "outputs": [
    {
     "data": {
      "text/plain": [
       "353"
      ]
     },
     "execution_count": 3,
     "metadata": {},
     "output_type": "execute_result"
    }
   ],
   "source": [
    "x = y = 0\n",
    "dx, dy = 1, 0\n",
    "for e in puzzle.split(\", \"):\n",
    "    l = int(e[1:])\n",
    "    if e[0] == \"L\":\n",
    "        dx, dy = dy, -dx\n",
    "    else:\n",
    "        dx, dy = -dy, dx\n",
    "    x += l * dx\n",
    "    y += l * dy\n",
    "abs(x) + abs(y)"
   ]
  },
  {
   "cell_type": "markdown",
   "metadata": {},
   "source": [
    "### Puzzle 2"
   ]
  },
  {
   "cell_type": "code",
   "execution_count": 6,
   "metadata": {},
   "outputs": [
    {
     "data": {
      "text/plain": [
       "152"
      ]
     },
     "execution_count": 6,
     "metadata": {},
     "output_type": "execute_result"
    }
   ],
   "source": [
    "x = y = 0\n",
    "dx, dy = 1, 0\n",
    "seen = {(0, 0)}\n",
    "for e in puzzle.split(\", \"):\n",
    "    l = int(e[1:])\n",
    "    if e[0] == \"L\":\n",
    "        dx, dy = dy, -dx\n",
    "    else:\n",
    "        dx, dy = -dy, dx\n",
    "    for i in range(l):\n",
    "        x += dx\n",
    "        y += dy\n",
    "        if (x, y) in seen:\n",
    "            break\n",
    "        seen.add((x, y))\n",
    "    else:\n",
    "        continue\n",
    "    break\n",
    "abs(x) + abs(y)"
   ]
  }
 ],
 "metadata": {
  "kernelspec": {
   "display_name": "Python 3",
   "language": "python",
   "name": "python3"
  },
  "language_info": {
   "codemirror_mode": {
    "name": "ipython",
    "version": 3
   },
   "file_extension": ".py",
   "mimetype": "text/x-python",
   "name": "python",
   "nbconvert_exporter": "python",
   "pygments_lexer": "ipython3",
   "version": "3.8.6"
  }
 },
 "nbformat": 4,
 "nbformat_minor": 4
}

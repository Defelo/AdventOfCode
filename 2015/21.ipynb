{
 "cells": [
  {
   "cell_type": "code",
   "execution_count": 1,
   "metadata": {},
   "outputs": [
    {
     "data": {
      "text/markdown": [
       "# Day 21"
      ],
      "text/plain": [
       "<IPython.core.display.Markdown object>"
      ]
     },
     "metadata": {},
     "output_type": "display_data"
    }
   ],
   "source": [
    "import sys; sys.path.insert(0, \"..\")\n",
    "\n",
    "import aoc\n",
    "\n",
    "year, day = 2015, 21\n",
    "\n",
    "puzzle = aoc.setup(year, day)"
   ]
  },
  {
   "cell_type": "markdown",
   "metadata": {},
   "source": [
    "### Puzzle 1"
   ]
  },
  {
   "cell_type": "code",
   "execution_count": 43,
   "metadata": {},
   "outputs": [
    {
     "data": {
      "text/plain": [
       "111"
      ]
     },
     "execution_count": 43,
     "metadata": {},
     "output_type": "execute_result"
    }
   ],
   "source": [
    "(*_, boss_hp), (*_, boss_damage), (*_, boss_armor) = map(str.split, puzzle.splitlines())\n",
    "boss_hp, boss_damage, boss_armor = map(int, [boss_hp, boss_damage, boss_armor])\n",
    "\n",
    "player_hp = 100\n",
    "\n",
    "NEUTRAL = (0, 0, 0)\n",
    "shop_weapons = [\n",
    "    (8, 4, 0),\n",
    "    (10, 5, 0),\n",
    "    (25, 6, 0),\n",
    "    (40, 7, 0),\n",
    "    (74, 8, 0),\n",
    "]\n",
    "shop_armor = [\n",
    "    NEUTRAL,\n",
    "    (13, 0, 1),\n",
    "    (31, 0, 2),\n",
    "    (53, 0, 3),\n",
    "    (75, 0, 4),\n",
    "    (102, 0, 5),\n",
    "]\n",
    "shop_rings = [\n",
    "    NEUTRAL,\n",
    "    NEUTRAL,\n",
    "    (25, 1, 0),\n",
    "    (50, 2, 0),\n",
    "    (100, 3, 0),\n",
    "    (20, 0, 1),\n",
    "    (40, 0, 2),\n",
    "    (80, 0, 3),\n",
    "]\n",
    "\n",
    "def fight(player_damage, player_armor):\n",
    "    player = player_hp\n",
    "    boss = boss_hp\n",
    "    while True:\n",
    "        boss -= max(1, player_damage - boss_armor)\n",
    "        if boss <= 0:\n",
    "            return True\n",
    "        player -= max(1, boss_damage - player_armor)\n",
    "        if player <= 0:\n",
    "            return False\n",
    "\n",
    "def combine(*args):\n",
    "    return tuple(map(sum, zip(*args)))\n",
    "        \n",
    "best = 1e1337\n",
    "for weapon in shop_weapons:\n",
    "    for armor in shop_armor:\n",
    "        for i, ring1 in enumerate(shop_rings):\n",
    "            for ring2 in shop_rings[i+1:]:\n",
    "                cost, d, a = combine(weapon, armor, ring1, ring2)\n",
    "                if fight(d, a):\n",
    "                    best = min(best, cost)\n",
    "best"
   ]
  },
  {
   "cell_type": "markdown",
   "metadata": {},
   "source": [
    "### Puzzle 2"
   ]
  },
  {
   "cell_type": "code",
   "execution_count": 44,
   "metadata": {},
   "outputs": [
    {
     "data": {
      "text/plain": [
       "188"
      ]
     },
     "execution_count": 44,
     "metadata": {},
     "output_type": "execute_result"
    }
   ],
   "source": [
    "best = 0\n",
    "for weapon in shop_weapons:\n",
    "    for armor in shop_armor:\n",
    "        for i, ring1 in enumerate(shop_rings):\n",
    "            for ring2 in shop_rings[i+1:]:\n",
    "                cost, d, a = combine(weapon, armor, ring1, ring2)\n",
    "                if not fight(d, a):\n",
    "                    best = max(best, cost)\n",
    "best"
   ]
  }
 ],
 "metadata": {
  "kernelspec": {
   "display_name": "Python 3",
   "language": "python",
   "name": "python3"
  },
  "language_info": {
   "codemirror_mode": {
    "name": "ipython",
    "version": 3
   },
   "file_extension": ".py",
   "mimetype": "text/x-python",
   "name": "python",
   "nbconvert_exporter": "python",
   "pygments_lexer": "ipython3",
   "version": "3.8.6"
  }
 },
 "nbformat": 4,
 "nbformat_minor": 4
}

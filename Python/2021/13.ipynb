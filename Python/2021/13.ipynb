{
 "cells": [
  {
   "cell_type": "code",
   "execution_count": 1,
   "metadata": {},
   "outputs": [
    {
     "data": {
      "text/plain": "<IPython.core.display.Markdown object>",
      "text/markdown": "# Day 13"
     },
     "metadata": {},
     "output_type": "display_data"
    }
   ],
   "source": [
    "import sys; sys.path.insert(0, \"..\")\n",
    "\n",
    "from utils import *\n",
    "import aoc\n",
    "\n",
    "year, day = 2021, 13\n",
    "\n",
    "puzzle = aoc.setup(year, day)\n",
    "plines = puzzle.splitlines()"
   ]
  },
  {
   "cell_type": "markdown",
   "metadata": {},
   "source": [
    "### Puzzle 1"
   ]
  },
  {
   "cell_type": "code",
   "execution_count": 2,
   "metadata": {},
   "outputs": [
    {
     "data": {
      "text/plain": "747"
     },
     "execution_count": 2,
     "metadata": {},
     "output_type": "execute_result"
    }
   ],
   "source": [
    "def solve1():\n",
    "    dots = {\n",
    "        tuple(map(int, line.split(\",\")))\n",
    "        for line in puzzle.split(\"\\n\\n\")[0].splitlines()\n",
    "    }\n",
    "\n",
    "    line = puzzle.split(\"\\n\\n\")[1].splitlines()[0]\n",
    "    c, n = re.match(r\"^fold along (.)=(\\d+)$\", line).groups()\n",
    "    n = int(n)\n",
    "    dots = {\n",
    "        (\n",
    "            min(x, 2 * n - x) if c == \"x\" else x,\n",
    "            min(y, 2 * n - y) if c == \"y\" else y,\n",
    "        )\n",
    "        for x, y in dots\n",
    "    }\n",
    "\n",
    "    return len(dots)\n",
    "\n",
    "solve1()"
   ]
  },
  {
   "cell_type": "code",
   "execution_count": 3,
   "metadata": {},
   "outputs": [
    {
     "name": "stdout",
     "output_type": "stream",
     "text": [
      "1.49 ms ± 69 µs per loop (mean ± std. dev. of 7 runs, 100 loops each)\n"
     ]
    }
   ],
   "source": [
    "%timeit solve1()"
   ]
  },
  {
   "cell_type": "markdown",
   "metadata": {},
   "source": [
    "### Puzzle 2"
   ]
  },
  {
   "cell_type": "code",
   "execution_count": 4,
   "metadata": {},
   "outputs": [
    {
     "data": {
      "text/plain": "'ARHZPCUH'"
     },
     "execution_count": 4,
     "metadata": {},
     "output_type": "execute_result"
    }
   ],
   "source": [
    "def solve2():\n",
    "    dots = {\n",
    "        tuple(map(int, line.split(\",\")))\n",
    "        for line in puzzle.split(\"\\n\\n\")[0].splitlines()\n",
    "    }\n",
    "\n",
    "    for line in puzzle.split(\"\\n\\n\")[1].splitlines():\n",
    "        c, n = re.match(r\"^fold along (.)=(\\d+)$\", line).groups()\n",
    "        n = int(n)\n",
    "        dots = {\n",
    "            (\n",
    "                min(x, 2 * n - x) if c == \"x\" else x,\n",
    "                min(y, 2 * n - y) if c == \"y\" else y,\n",
    "            )\n",
    "            for x, y in dots\n",
    "        }\n",
    "\n",
    "    out = \"\"\n",
    "    n = 0\n",
    "    while True:\n",
    "        k = 0\n",
    "        for i in range(5 * n, 5 * n + 4):\n",
    "            for j in range(6):\n",
    "                k <<= 1\n",
    "                k |= (i, j) in dots\n",
    "        if not k:\n",
    "            break\n",
    "        out += {\n",
    "            0b011111100100100100011111: \"A\",\n",
    "            0b111111101001101001010110: \"B\",\n",
    "            0b011110100001100001010010: \"C\",\n",
    "            0b111111101001101001100001: \"E\",\n",
    "            0b111111101000101000100000: \"F\",\n",
    "            0b011110100001100101010111: \"G\",\n",
    "            0b111111001000001000111111: \"H\",\n",
    "            0b000010000001100001111111: \"J\",\n",
    "            0b111111001000010110100001: \"K\",\n",
    "            0b111111000001000001000001: \"L\",\n",
    "            0b111111100100100100011000: \"P\",\n",
    "            0b111111100100100110011001: \"R\",\n",
    "            0b111110000001000001111110: \"U\",\n",
    "            0b100011100101101001110001: \"Z\",\n",
    "        }.get(k, \"?\")\n",
    "        n += 1\n",
    "\n",
    "    return out\n",
    "\n",
    "solve2()"
   ]
  },
  {
   "cell_type": "code",
   "execution_count": 5,
   "metadata": {},
   "outputs": [
    {
     "name": "stdout",
     "output_type": "stream",
     "text": [
      "5.52 ms ± 906 µs per loop (mean ± std. dev. of 7 runs, 100 loops each)\n"
     ]
    }
   ],
   "source": [
    "%timeit solve2()"
   ]
  }
 ],
 "metadata": {
  "kernelspec": {
   "display_name": "Python 3",
   "language": "python",
   "name": "python3"
  },
  "language_info": {
   "codemirror_mode": {
    "name": "ipython",
    "version": 3
   },
   "file_extension": ".py",
   "mimetype": "text/x-python",
   "name": "python",
   "nbconvert_exporter": "python",
   "pygments_lexer": "ipython3",
   "version": "3.8.6"
  }
 },
 "nbformat": 4,
 "nbformat_minor": 4
}
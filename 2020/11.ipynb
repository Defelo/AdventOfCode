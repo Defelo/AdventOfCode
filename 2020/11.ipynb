{
 "cells": [
  {
   "cell_type": "code",
   "execution_count": 1,
   "metadata": {},
   "outputs": [
    {
     "data": {
      "text/markdown": [
       "# Day 11"
      ],
      "text/plain": [
       "<IPython.core.display.Markdown object>"
      ]
     },
     "metadata": {},
     "output_type": "display_data"
    }
   ],
   "source": [
    "import sys; sys.path.insert(0, \"..\")\n",
    "\n",
    "import aoc\n",
    "\n",
    "year, day = 2020, 11\n",
    "\n",
    "puzzle = aoc.setup(year, day)\n",
    "plines = puzzle.splitlines()"
   ]
  },
  {
   "cell_type": "markdown",
   "metadata": {},
   "source": [
    "### Puzzle 1"
   ]
  },
  {
   "cell_type": "code",
   "execution_count": 2,
   "metadata": {},
   "outputs": [
    {
     "data": {
      "text/plain": [
       "2113"
      ]
     },
     "execution_count": 2,
     "metadata": {},
     "output_type": "execute_result"
    }
   ],
   "source": [
    "def solve1():\n",
    "    grid = plines\n",
    "    while True:\n",
    "        new_grid = []\n",
    "        for i, line in enumerate(grid):\n",
    "            l = \"\"\n",
    "            for j, c in enumerate(line):\n",
    "                cnt = sum(grid[p][q] == \"#\" for p in range(i-1,i+2) for q in range(j-1,j+2) if (p,q)!=(i,j)and 0<=p<len(grid) and 0<=q<len(line))\n",
    "                if c == \"L\" and not cnt:\n",
    "                    c = \"#\"\n",
    "                elif c == \"#\" and cnt >= 4:\n",
    "                    c = \"L\"\n",
    "                l += c\n",
    "            new_grid.append(l)\n",
    "        if all(a==b for a, b in zip(grid, new_grid)):\n",
    "            break\n",
    "        grid = new_grid\n",
    "    return sum(line.count(\"#\") for line in grid)\n",
    "        \n",
    "solve1()"
   ]
  },
  {
   "cell_type": "code",
   "execution_count": 3,
   "metadata": {},
   "outputs": [
    {
     "name": "stdout",
     "output_type": "stream",
     "text": [
      "5.35 s ± 68.2 ms per loop (mean ± std. dev. of 7 runs, 1 loop each)\n"
     ]
    }
   ],
   "source": [
    "%timeit solve1()"
   ]
  },
  {
   "cell_type": "markdown",
   "metadata": {},
   "source": [
    "### Puzzle 2"
   ]
  },
  {
   "cell_type": "code",
   "execution_count": 4,
   "metadata": {},
   "outputs": [
    {
     "data": {
      "text/plain": [
       "1865"
      ]
     },
     "execution_count": 4,
     "metadata": {},
     "output_type": "execute_result"
    }
   ],
   "source": [
    "def solve2():\n",
    "    grid = plines\n",
    "    while True:\n",
    "        new_grid = []\n",
    "        for i, line in enumerate(grid):\n",
    "            l = \"\"\n",
    "            for j, c in enumerate(line):\n",
    "                cnt = 0\n",
    "                for p in range(-1,2):\n",
    "                    for q in range(-1,2):\n",
    "                        if (p,q) == (0,0):\n",
    "                            continue\n",
    "                        k = 1\n",
    "                        while 0<=i+k*p<len(grid) and 0<=j+k*q<len(line):\n",
    "                            if grid[i+k*p][j+k*q] != \".\":\n",
    "                                cnt += grid[i+k*p][j+k*q] == \"#\"\n",
    "                                break\n",
    "                            k += 1\n",
    "                            \n",
    "                if c == \"L\" and not cnt:\n",
    "                    c = \"#\"\n",
    "                elif c == \"#\" and cnt >= 5:\n",
    "                    c = \"L\"\n",
    "                l += c\n",
    "            new_grid.append(l)\n",
    "        if all(a==b for a, b in zip(grid, new_grid)):\n",
    "            break\n",
    "        grid = new_grid\n",
    "    return sum(line.count(\"#\") for line in grid)\n",
    "\n",
    "\n",
    "solve2()"
   ]
  },
  {
   "cell_type": "code",
   "execution_count": 5,
   "metadata": {},
   "outputs": [
    {
     "name": "stdout",
     "output_type": "stream",
     "text": [
      "6.25 s ± 163 ms per loop (mean ± std. dev. of 7 runs, 1 loop each)\n"
     ]
    }
   ],
   "source": [
    "%timeit solve2()"
   ]
  }
 ],
 "metadata": {
  "kernelspec": {
   "display_name": "Python 3",
   "language": "python",
   "name": "python3"
  },
  "language_info": {
   "codemirror_mode": {
    "name": "ipython",
    "version": 3
   },
   "file_extension": ".py",
   "mimetype": "text/x-python",
   "name": "python",
   "nbconvert_exporter": "python",
   "pygments_lexer": "ipython3",
   "version": "3.8.6"
  }
 },
 "nbformat": 4,
 "nbformat_minor": 4
}

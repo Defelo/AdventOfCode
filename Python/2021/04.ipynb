{
 "cells": [
  {
   "cell_type": "code",
   "execution_count": 1,
   "metadata": {},
   "outputs": [
    {
     "data": {
      "text/plain": "<IPython.core.display.Markdown object>",
      "text/markdown": "# Day 04"
     },
     "metadata": {},
     "output_type": "display_data"
    }
   ],
   "source": [
    "import sys; sys.path.insert(0, \"..\")\n",
    "\n",
    "import aoc\n",
    "\n",
    "year, day = 2021, 4\n",
    "\n",
    "puzzle = aoc.setup(year, day)\n",
    "plines = puzzle.splitlines()"
   ]
  },
  {
   "cell_type": "markdown",
   "metadata": {},
   "source": [
    "### Puzzle 1"
   ]
  },
  {
   "cell_type": "code",
   "execution_count": 2,
   "metadata": {},
   "outputs": [
    {
     "data": {
      "text/plain": "49860"
     },
     "execution_count": 2,
     "metadata": {},
     "output_type": "execute_result"
    }
   ],
   "source": [
    "def solve1():\n",
    "    nums, *boards = puzzle.split(\"\\n\\n\")\n",
    "    nums = [*map(int, nums.split(\",\"))]\n",
    "    boards = [\n",
    "        [\n",
    "            [*map(int, line.split())]\n",
    "            for line in b.splitlines()\n",
    "        ]\n",
    "        for b in boards\n",
    "    ]\n",
    "    marked = set()\n",
    "    for num in nums:\n",
    "        marked.add(num)\n",
    "        for b in boards:\n",
    "            if any(all(x in marked for x in row) for row in b) or any(all(x in marked for x in col) for col in zip(*b)):\n",
    "                score = num * sum(x for row in b for x in row if x not in marked)\n",
    "                return score\n",
    "\n",
    "solve1()"
   ]
  },
  {
   "cell_type": "code",
   "execution_count": 3,
   "metadata": {},
   "outputs": [
    {
     "name": "stdout",
     "output_type": "stream",
     "text": [
      "9.39 ms ± 1.89 ms per loop (mean ± std. dev. of 7 runs, 100 loops each)\n"
     ]
    }
   ],
   "source": [
    "%timeit solve1()"
   ]
  },
  {
   "cell_type": "code",
   "execution_count": 4,
   "outputs": [
    {
     "data": {
      "text/plain": "49860"
     },
     "execution_count": 4,
     "metadata": {},
     "output_type": "execute_result"
    }
   ],
   "source": [
    "(lambda N=[*map(int,plines[0].split(\",\"))],B=[[[*map(int,l.split())]for l in b.splitlines()]for b in puzzle.split(\"\\n\\n\")[1:]]:(s:=set(),next(score for n in N if(s.add(n),any(any(all(x in s for x in r)for r in [*b,*zip(*b)])and(score:=n*sum(x for r in b for x in r if x not in s))for b in B))[-1]))[-1])()"
   ],
   "metadata": {
    "collapsed": false,
    "pycharm": {
     "name": "#%%\n"
    }
   }
  },
  {
   "cell_type": "markdown",
   "metadata": {},
   "source": [
    "### Puzzle 2"
   ]
  },
  {
   "cell_type": "code",
   "execution_count": 5,
   "metadata": {},
   "outputs": [
    {
     "data": {
      "text/plain": "24628"
     },
     "execution_count": 5,
     "metadata": {},
     "output_type": "execute_result"
    }
   ],
   "source": [
    "def solve2():\n",
    "    nums, *boards = puzzle.split(\"\\n\\n\")\n",
    "    nums = [*map(int, nums.split(\",\"))]\n",
    "    won = set()\n",
    "    boards = [\n",
    "        [\n",
    "            [*map(int, line.split())]\n",
    "            for line in b.splitlines()\n",
    "        ]\n",
    "        for b in boards\n",
    "    ]\n",
    "    marked = set()\n",
    "    for num in nums:\n",
    "        marked.add(num)\n",
    "        for i, b in enumerate(boards):\n",
    "            if i in won: continue\n",
    "            if any(all(x in marked for x in row) for row in b) or any(all(x in marked for x in col) for col in zip(*b)):\n",
    "                won.add(i)\n",
    "                if len(won) == len(boards):\n",
    "                    score = num * sum(x for row in b for x in row if x not in marked)\n",
    "                    return score\n",
    "\n",
    "solve2()"
   ]
  },
  {
   "cell_type": "code",
   "execution_count": 6,
   "metadata": {},
   "outputs": [
    {
     "name": "stdout",
     "output_type": "stream",
     "text": [
      "50.9 ms ± 7.91 ms per loop (mean ± std. dev. of 7 runs, 10 loops each)\n"
     ]
    }
   ],
   "source": [
    "%timeit solve2()"
   ]
  },
  {
   "cell_type": "code",
   "execution_count": 7,
   "outputs": [
    {
     "data": {
      "text/plain": "24628"
     },
     "execution_count": 7,
     "metadata": {},
     "output_type": "execute_result"
    }
   ],
   "source": [
    "(lambda N=[*map(int,plines[0].split(\",\"))],B=[[[*map(int,l.split())]for l in b.splitlines()]for b in puzzle.split(\"\\n\\n\")[1:]]:(w:=set(),s:=set(),next(score for n in N if(s.add(n),any(any(all(x in s for x in r)for r in [*b,*zip(*b)])and(w.add(i)or len(w)==len(B))and(score:=n*sum(x for r in b for x in r if x not in s))for i,b in enumerate(B)if i not in w))[-1]))[-1])()"
   ],
   "metadata": {
    "collapsed": false,
    "pycharm": {
     "name": "#%%\n"
    }
   }
  }
 ],
 "metadata": {
  "kernelspec": {
   "display_name": "Python 3",
   "language": "python",
   "name": "python3"
  },
  "language_info": {
   "codemirror_mode": {
    "name": "ipython",
    "version": 3
   },
   "file_extension": ".py",
   "mimetype": "text/x-python",
   "name": "python",
   "nbconvert_exporter": "python",
   "pygments_lexer": "ipython3",
   "version": "3.8.6"
  }
 },
 "nbformat": 4,
 "nbformat_minor": 4
}
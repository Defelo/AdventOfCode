{
 "cells": [
  {
   "cell_type": "code",
   "execution_count": 1,
   "metadata": {},
   "outputs": [
    {
     "data": {
      "text/markdown": [
       "# Day 19"
      ],
      "text/plain": [
       "<IPython.core.display.Markdown object>"
      ]
     },
     "metadata": {},
     "output_type": "display_data"
    }
   ],
   "source": [
    "import sys; sys.path.insert(0, \"..\")\n",
    "\n",
    "import aoc\n",
    "\n",
    "year, day = 2017, 19\n",
    "\n",
    "puzzle = aoc.setup(year, day, strip=False)\n",
    "plines = puzzle.splitlines()"
   ]
  },
  {
   "cell_type": "markdown",
   "metadata": {},
   "source": [
    "### Puzzle 1"
   ]
  },
  {
   "cell_type": "code",
   "execution_count": 2,
   "metadata": {},
   "outputs": [
    {
     "data": {
      "text/plain": [
       "'MOABEUCWQS'"
      ]
     },
     "execution_count": 2,
     "metadata": {},
     "output_type": "execute_result"
    }
   ],
   "source": [
    "def solve1():\n",
    "    w, h = len(plines[0]), len(plines)\n",
    "    x, y = plines[0].index(\"|\"), 0\n",
    "    dx, dy = 0, 1\n",
    "    out = \"\"\n",
    "    get = lambda x, y: plines[y][x] if y in range(h) and x in range(w) else \" \"\n",
    "    while True:\n",
    "        c = get(x, y)\n",
    "        f = get(x+dx, y+dy)\n",
    "        l = get(x+dy, y-dx)\n",
    "        r = get(x-dy, y+dx)\n",
    "        if c.isalpha():\n",
    "            out += c\n",
    "            \n",
    "        if f == \" \":\n",
    "            if l != \" \":\n",
    "                dx, dy = dy, -dx\n",
    "            elif r != \" \":\n",
    "                dx, dy = -dy, dx\n",
    "            else:\n",
    "                break\n",
    "\n",
    "        x += dx\n",
    "        y += dy\n",
    "        \n",
    "    return out\n",
    "\n",
    "solve1()"
   ]
  },
  {
   "cell_type": "code",
   "execution_count": 3,
   "metadata": {},
   "outputs": [
    {
     "name": "stdout",
     "output_type": "stream",
     "text": [
      "66.6 ms ± 14.3 ms per loop (mean ± std. dev. of 7 runs, 10 loops each)\n"
     ]
    }
   ],
   "source": [
    "%timeit solve1()"
   ]
  },
  {
   "cell_type": "markdown",
   "metadata": {},
   "source": [
    "### Puzzle 2"
   ]
  },
  {
   "cell_type": "code",
   "execution_count": 4,
   "metadata": {},
   "outputs": [
    {
     "data": {
      "text/plain": [
       "18058"
      ]
     },
     "execution_count": 4,
     "metadata": {},
     "output_type": "execute_result"
    }
   ],
   "source": [
    "def solve2():\n",
    "    w, h = len(plines[0]), len(plines)\n",
    "    x, y = plines[0].index(\"|\"), 0\n",
    "    dx, dy = 0, 1\n",
    "    out = 0\n",
    "    get = lambda x, y: plines[y][x] if y in range(h) and x in range(w) else \" \"\n",
    "    while True:\n",
    "        out += 1\n",
    "        f = get(x+dx, y+dy)\n",
    "        l = get(x+dy, y-dx)\n",
    "        r = get(x-dy, y+dx)\n",
    "            \n",
    "        if f == \" \":\n",
    "            if l != \" \":\n",
    "                dx, dy = dy, -dx\n",
    "            elif r != \" \":\n",
    "                dx, dy = -dy, dx\n",
    "            else:\n",
    "                break\n",
    "\n",
    "        x += dx\n",
    "        y += dy\n",
    "        \n",
    "    return out\n",
    "\n",
    "solve2()"
   ]
  },
  {
   "cell_type": "code",
   "execution_count": 5,
   "metadata": {},
   "outputs": [
    {
     "name": "stdout",
     "output_type": "stream",
     "text": [
      "41.2 ms ± 1.32 ms per loop (mean ± std. dev. of 7 runs, 10 loops each)\n"
     ]
    }
   ],
   "source": [
    "%timeit solve2()"
   ]
  }
 ],
 "metadata": {
  "kernelspec": {
   "display_name": "Python 3 (ipykernel)",
   "language": "python",
   "name": "python3"
  },
  "language_info": {
   "codemirror_mode": {
    "name": "ipython",
    "version": 3
   },
   "file_extension": ".py",
   "mimetype": "text/x-python",
   "name": "python",
   "nbconvert_exporter": "python",
   "pygments_lexer": "ipython3",
   "version": "3.9.6"
  }
 },
 "nbformat": 4,
 "nbformat_minor": 4
}

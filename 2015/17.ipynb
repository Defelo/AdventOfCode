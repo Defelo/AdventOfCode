{
 "cells": [
  {
   "cell_type": "code",
   "execution_count": 1,
   "metadata": {},
   "outputs": [
    {
     "data": {
      "text/markdown": [
       "# Day 17"
      ],
      "text/plain": [
       "<IPython.core.display.Markdown object>"
      ]
     },
     "metadata": {},
     "output_type": "display_data"
    }
   ],
   "source": [
    "import sys; sys.path.insert(0, \"..\")\n",
    "\n",
    "import aoc\n",
    "\n",
    "year, day = 2015, 17\n",
    "\n",
    "puzzle = aoc.setup(year, day)"
   ]
  },
  {
   "cell_type": "markdown",
   "metadata": {},
   "source": [
    "### Puzzle 1"
   ]
  },
  {
   "cell_type": "code",
   "execution_count": 8,
   "metadata": {},
   "outputs": [
    {
     "data": {
      "text/plain": [
       "1638"
      ]
     },
     "execution_count": 8,
     "metadata": {},
     "output_type": "execute_result"
    }
   ],
   "source": [
    "containers = list(map(int, puzzle.splitlines()))\n",
    "dp = {}\n",
    "\n",
    "def solve(i, x):\n",
    "    if i == len(containers):\n",
    "        return int(x == 0)\n",
    "    \n",
    "    if (i,x) not in dp:\n",
    "        out = solve(i + 1, x)\n",
    "        if containers[i] <= x:\n",
    "            out += solve(i + 1, x - containers[i])\n",
    "        dp[(i, x)] = out\n",
    "    return dp[(i, x)]\n",
    "\n",
    "solve(0, 150)"
   ]
  },
  {
   "cell_type": "markdown",
   "metadata": {},
   "source": [
    "### Puzzle 2"
   ]
  },
  {
   "cell_type": "code",
   "execution_count": 25,
   "metadata": {},
   "outputs": [
    {
     "data": {
      "text/plain": [
       "17"
      ]
     },
     "execution_count": 25,
     "metadata": {},
     "output_type": "execute_result"
    }
   ],
   "source": [
    "containers = list(map(int, puzzle.splitlines()))\n",
    "dp = {}\n",
    "\n",
    "def solve(i, x):\n",
    "    if i == len(containers):\n",
    "        return None if x else (0, 1)\n",
    "    \n",
    "    if (i,x) not in dp:\n",
    "        out = solve(i + 1, x)\n",
    "        if containers[i] <= x:\n",
    "            y = solve(i + 1, x - containers[i])\n",
    "            if y is not None:\n",
    "                l, c = y\n",
    "                l += 1\n",
    "                if out is None or l < out[0]:\n",
    "                    out = l, c\n",
    "                elif out is not None and out[0] == l:\n",
    "                    out = l, out[1] + c\n",
    "        dp[(i, x)] = out\n",
    "    return dp[(i, x)]\n",
    "\n",
    "solve(0, 150)[1]"
   ]
  }
 ],
 "metadata": {
  "kernelspec": {
   "display_name": "Python 3",
   "language": "python",
   "name": "python3"
  },
  "language_info": {
   "codemirror_mode": {
    "name": "ipython",
    "version": 3
   },
   "file_extension": ".py",
   "mimetype": "text/x-python",
   "name": "python",
   "nbconvert_exporter": "python",
   "pygments_lexer": "ipython3",
   "version": "3.8.6"
  }
 },
 "nbformat": 4,
 "nbformat_minor": 4
}

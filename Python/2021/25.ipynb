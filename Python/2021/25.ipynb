{
 "cells": [
  {
   "cell_type": "code",
   "execution_count": 1,
   "metadata": {},
   "outputs": [
    {
     "data": {
      "text/plain": "<IPython.core.display.Markdown object>",
      "text/markdown": "# Day 25"
     },
     "metadata": {},
     "output_type": "display_data"
    }
   ],
   "source": [
    "import sys; sys.path.insert(0, \"..\")\n",
    "\n",
    "from utils import *\n",
    "import aoc\n",
    "\n",
    "year, day = 2021, 25\n",
    "\n",
    "puzzle = aoc.setup(year, day)\n",
    "plines = puzzle.splitlines()"
   ]
  },
  {
   "cell_type": "code",
   "execution_count": 2,
   "metadata": {},
   "outputs": [
    {
     "data": {
      "text/plain": "380"
     },
     "execution_count": 2,
     "metadata": {},
     "output_type": "execute_result"
    }
   ],
   "source": [
    "def solve():\n",
    "    right = set()\n",
    "    down = set()\n",
    "    width = len(plines[0])\n",
    "    height = len(plines)\n",
    "    for i, line in enumerate(plines):\n",
    "        for j, c in enumerate(line):\n",
    "            match c:\n",
    "                case \"v\":\n",
    "                    down.add((j, i))\n",
    "                case \">\":\n",
    "                    right.add((j, i))\n",
    "\n",
    "    i = 0\n",
    "    while True:\n",
    "        old = {*right}, {*down}\n",
    "        right = {\n",
    "            new_pos if (new_pos := ((x + 1) % width, y)) not in right and new_pos not in down else (x, y)\n",
    "            for x, y in right\n",
    "        }\n",
    "        down = {\n",
    "            new_pos if (new_pos := (x, (y + 1) % height)) not in right and new_pos not in down else (x, y)\n",
    "            for x, y in down\n",
    "        }\n",
    "        i += 1\n",
    "        if (right, down) == old:\n",
    "            break\n",
    "\n",
    "    return i\n",
    "\n",
    "solve()"
   ]
  },
  {
   "cell_type": "code",
   "execution_count": 3,
   "metadata": {
    "pycharm": {
     "name": "#%%\n"
    }
   },
   "outputs": [
    {
     "name": "stdout",
     "output_type": "stream",
     "text": [
      "1.53 s ± 14.2 ms per loop (mean ± std. dev. of 7 runs, 1 loop each)\n"
     ]
    }
   ],
   "source": [
    "%timeit solve()"
   ]
  }
 ],
 "metadata": {
  "kernelspec": {
   "display_name": "Python 3",
   "language": "python",
   "name": "python3"
  },
  "language_info": {
   "codemirror_mode": {
    "name": "ipython",
    "version": 3
   },
   "file_extension": ".py",
   "mimetype": "text/x-python",
   "name": "python",
   "nbconvert_exporter": "python",
   "pygments_lexer": "ipython3",
   "version": "3.8.6"
  }
 },
 "nbformat": 4,
 "nbformat_minor": 4
}
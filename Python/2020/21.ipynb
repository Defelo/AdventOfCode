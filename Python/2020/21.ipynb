{
 "cells": [
  {
   "cell_type": "code",
   "execution_count": 1,
   "metadata": {},
   "outputs": [
    {
     "data": {
      "text/markdown": [
       "# Day 21"
      ],
      "text/plain": [
       "<IPython.core.display.Markdown object>"
      ]
     },
     "metadata": {},
     "output_type": "display_data"
    }
   ],
   "source": [
    "import sys; sys.path.insert(0, \"..\")\n",
    "\n",
    "import aoc\n",
    "\n",
    "year, day = 2020, 21\n",
    "\n",
    "puzzle = aoc.setup(year, day)\n",
    "plines = puzzle.splitlines()"
   ]
  },
  {
   "cell_type": "markdown",
   "metadata": {},
   "source": [
    "### Puzzle 1"
   ]
  },
  {
   "cell_type": "code",
   "execution_count": 2,
   "metadata": {},
   "outputs": [
    {
     "data": {
      "text/plain": [
       "2307"
      ]
     },
     "execution_count": 2,
     "metadata": {},
     "output_type": "execute_result"
    }
   ],
   "source": [
    "from collections import Counter\n",
    "\n",
    "def solve1():\n",
    "    allergens = {}\n",
    "    ing = set()\n",
    "    cnt = Counter()\n",
    "    \n",
    "    for line in plines:\n",
    "        i, a = line.split(\" (contains \")\n",
    "        i = i.split()\n",
    "        \n",
    "        ing.update(i)\n",
    "        cnt.update(i)\n",
    "        \n",
    "        for x in a.strip(\")\").split(\", \"):\n",
    "            if x not in allergens:\n",
    "                allergens[x] = set(i)\n",
    "            else:\n",
    "                allergens[x] &= set(i)\n",
    "    \n",
    "    for k in allergens.values():\n",
    "        ing -= k\n",
    "    \n",
    "    return sum(cnt[x] for x in ing)\n",
    "    \n",
    "    \n",
    "solve1()"
   ]
  },
  {
   "cell_type": "code",
   "execution_count": 3,
   "metadata": {},
   "outputs": [
    {
     "data": {
      "text/plain": [
       "2307"
      ]
     },
     "execution_count": 3,
     "metadata": {},
     "output_type": "execute_result"
    }
   ],
   "source": [
    "solve1m=lambda:(a:={},i:=[],[a.setdefault(x,[]).append(j)for l in plines if(k:=l.split(\" (contains \"),i.extend(j:=k[0].split()))for x in k[1].strip(\")\").split(\", \")],a:={0}.union(*[set(k[0]).intersection(*k)for k in a.values()]),sum(1-(x in a)for x in i))[4]\n",
    "\n",
    "solve1m()"
   ]
  },
  {
   "cell_type": "code",
   "execution_count": 4,
   "metadata": {},
   "outputs": [
    {
     "name": "stdout",
     "output_type": "stream",
     "text": [
      "1.04 ms ± 26 µs per loop (mean ± std. dev. of 7 runs, 1000 loops each)\n",
      "868 µs ± 17.6 µs per loop (mean ± std. dev. of 7 runs, 1000 loops each)\n"
     ]
    }
   ],
   "source": [
    "%timeit solve1()\n",
    "%timeit solve1m()"
   ]
  },
  {
   "cell_type": "markdown",
   "metadata": {},
   "source": [
    "### Puzzle 2"
   ]
  },
  {
   "cell_type": "code",
   "execution_count": 5,
   "metadata": {},
   "outputs": [
    {
     "data": {
      "text/plain": [
       "'cljf,frtfg,vvfjj,qmrps,hvnkk,qnvx,cpxmpc,qsjszn'"
      ]
     },
     "execution_count": 5,
     "metadata": {},
     "output_type": "execute_result"
    }
   ],
   "source": [
    "def solve2():\n",
    "    allergens = {}\n",
    "    \n",
    "    for line in plines:\n",
    "        i, a = line.split(\" (contains \")\n",
    "        i = i.split()\n",
    "        \n",
    "        for x in a.strip(\")\").split(\", \"):\n",
    "            if x not in allergens:\n",
    "                allergens[x] = set(i)\n",
    "            else:\n",
    "                allergens[x] &= set(i)\n",
    "    \n",
    "    found = {}\n",
    "    while allergens:\n",
    "        for k, v in [*allergens.items()]:\n",
    "            if len(v) != 1:\n",
    "                continue\n",
    "            found[k], = v\n",
    "            for t in allergens.values():\n",
    "                if found[k] in t:\n",
    "                    t.remove(found[k])\n",
    "            allergens.pop(k)\n",
    "    \n",
    "    return \",\".join(b for a, b in sorted(found.items()))\n",
    "    \n",
    "    \n",
    "solve2()"
   ]
  },
  {
   "cell_type": "code",
   "execution_count": 6,
   "metadata": {},
   "outputs": [
    {
     "data": {
      "text/plain": [
       "'cljf,frtfg,vvfjj,qmrps,hvnkk,qnvx,cpxmpc,qsjszn'"
      ]
     },
     "execution_count": 6,
     "metadata": {},
     "output_type": "execute_result"
    }
   ],
   "source": [
    "solve2m=lambda:(a:={},[a.setdefault(x,[]).append(k[0].split())for l in plines if(k:=l.split(\" (contains \"))for x in k[1].strip(\")\").split(\", \")],a:={k:{*v[0]}.intersection(*v)for k,v in a.items()},f:={},next([]for()in iter(list,0)if not a or([t.remove(g)for k,v in[*a.items()]if 1==len(v)and(f.setdefault(k,g:=[*v][0]),a.pop(k))for t in a.values()if g in t])*0))and\",\".join(x[1]for x in sorted(f.items()))\n",
    "\n",
    "solve2m()"
   ]
  },
  {
   "cell_type": "code",
   "execution_count": 7,
   "metadata": {},
   "outputs": [
    {
     "name": "stdout",
     "output_type": "stream",
     "text": [
      "734 µs ± 28 µs per loop (mean ± std. dev. of 7 runs, 1000 loops each)\n",
      "793 µs ± 25.4 µs per loop (mean ± std. dev. of 7 runs, 1000 loops each)\n"
     ]
    }
   ],
   "source": [
    "%timeit solve2()\n",
    "%timeit solve2m()"
   ]
  }
 ],
 "metadata": {
  "kernelspec": {
   "display_name": "Python 3",
   "language": "python",
   "name": "python3"
  },
  "language_info": {
   "codemirror_mode": {
    "name": "ipython",
    "version": 3
   },
   "file_extension": ".py",
   "mimetype": "text/x-python",
   "name": "python",
   "nbconvert_exporter": "python",
   "pygments_lexer": "ipython3",
   "version": "3.8.6"
  }
 },
 "nbformat": 4,
 "nbformat_minor": 4
}

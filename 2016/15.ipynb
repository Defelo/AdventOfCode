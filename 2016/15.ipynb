{
 "cells": [
  {
   "cell_type": "code",
   "execution_count": 1,
   "metadata": {},
   "outputs": [
    {
     "data": {
      "text/markdown": [
       "# Day 15"
      ],
      "text/plain": [
       "<IPython.core.display.Markdown object>"
      ]
     },
     "metadata": {},
     "output_type": "display_data"
    }
   ],
   "source": [
    "import sys; sys.path.insert(0, \"..\")\n",
    "\n",
    "import aoc\n",
    "\n",
    "year, day = 2016, 15\n",
    "\n",
    "puzzle = aoc.setup(year, day)"
   ]
  },
  {
   "cell_type": "markdown",
   "metadata": {},
   "source": [
    "### Puzzle 1"
   ]
  },
  {
   "cell_type": "code",
   "execution_count": 2,
   "metadata": {},
   "outputs": [
    {
     "name": "stdout",
     "output_type": "stream",
     "text": [
      "203660\n"
     ]
    }
   ],
   "source": [
    "discs = []\n",
    "for line in puzzle.splitlines():\n",
    "    words = line.split()\n",
    "    discs.append((int(words[3]), int(words[-1][:-1])))\n",
    "\n",
    "def test(t):\n",
    "    return all((t + x + i + 1) % n == 0 for i, (n, x) in enumerate(discs))\n",
    "\n",
    "t = 0\n",
    "while not test(t): t+=1\n",
    "print(t)"
   ]
  },
  {
   "cell_type": "markdown",
   "metadata": {},
   "source": [
    "### Puzzle 2"
   ]
  },
  {
   "cell_type": "code",
   "execution_count": 3,
   "metadata": {},
   "outputs": [
    {
     "name": "stdout",
     "output_type": "stream",
     "text": [
      "2408135\n"
     ]
    }
   ],
   "source": [
    "discs = []\n",
    "for line in puzzle.splitlines():\n",
    "    words = line.split()\n",
    "    discs.append((int(words[3]), int(words[-1][:-1])))\n",
    "discs.append((11, 0))\n",
    "\n",
    "t = 0\n",
    "while not test(t): t+=1\n",
    "print(t)"
   ]
  }
 ],
 "metadata": {
  "kernelspec": {
   "display_name": "Python 3 (ipykernel)",
   "language": "python",
   "name": "python3"
  },
  "language_info": {
   "codemirror_mode": {
    "name": "ipython",
    "version": 3
   },
   "file_extension": ".py",
   "mimetype": "text/x-python",
   "name": "python",
   "nbconvert_exporter": "python",
   "pygments_lexer": "ipython3",
   "version": "3.9.6"
  }
 },
 "nbformat": 4,
 "nbformat_minor": 4
}

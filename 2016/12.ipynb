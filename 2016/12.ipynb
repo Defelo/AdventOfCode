{
 "cells": [
  {
   "cell_type": "code",
   "execution_count": 1,
   "metadata": {},
   "outputs": [
    {
     "data": {
      "text/markdown": [
       "# Day 12"
      ],
      "text/plain": [
       "<IPython.core.display.Markdown object>"
      ]
     },
     "metadata": {},
     "output_type": "display_data"
    }
   ],
   "source": [
    "import sys; sys.path.insert(0, \"..\")\n",
    "\n",
    "import aoc\n",
    "\n",
    "year, day = 2016, 12\n",
    "\n",
    "puzzle = aoc.setup(year, day)"
   ]
  },
  {
   "cell_type": "markdown",
   "metadata": {},
   "source": [
    "### Puzzle 1"
   ]
  },
  {
   "cell_type": "code",
   "execution_count": 11,
   "metadata": {},
   "outputs": [
    {
     "data": {
      "text/plain": [
       "318007"
      ]
     },
     "execution_count": 11,
     "metadata": {},
     "output_type": "execute_result"
    }
   ],
   "source": [
    "program = puzzle.splitlines()\n",
    "registers = {k: 0 for k in \"abcd\"}\n",
    "\n",
    "def simulate():\n",
    "    pc = 0\n",
    "    while pc < len(program):\n",
    "        cmd, *args = program[pc].split()\n",
    "        x = registers[args[0]] if args[0] in registers else int(args[0])\n",
    "        if cmd == \"cpy\":\n",
    "            registers[args[1]] = x\n",
    "            pc += 1\n",
    "        elif cmd == \"inc\":\n",
    "            registers[args[0]] += 1\n",
    "            pc += 1\n",
    "        elif cmd == \"dec\":\n",
    "            registers[args[0]] -= 1\n",
    "            pc += 1\n",
    "        elif cmd == \"jnz\":\n",
    "            if x:\n",
    "                pc += int(args[1])\n",
    "            else:\n",
    "                pc += 1\n",
    "    return registers[\"a\"]\n",
    "\n",
    "simulate()"
   ]
  },
  {
   "cell_type": "markdown",
   "metadata": {},
   "source": [
    "### Puzzle 2"
   ]
  },
  {
   "cell_type": "code",
   "execution_count": 12,
   "metadata": {},
   "outputs": [
    {
     "data": {
      "text/plain": [
       "9227661"
      ]
     },
     "execution_count": 12,
     "metadata": {},
     "output_type": "execute_result"
    }
   ],
   "source": [
    "registers = {k: 0 for k in \"abcd\"}\n",
    "registers[\"c\"] = 1\n",
    "simulate()"
   ]
  }
 ],
 "metadata": {
  "kernelspec": {
   "display_name": "Python 3",
   "language": "python",
   "name": "python3"
  },
  "language_info": {
   "codemirror_mode": {
    "name": "ipython",
    "version": 3
   },
   "file_extension": ".py",
   "mimetype": "text/x-python",
   "name": "python",
   "nbconvert_exporter": "python",
   "pygments_lexer": "ipython3",
   "version": "3.8.6"
  }
 },
 "nbformat": 4,
 "nbformat_minor": 4
}

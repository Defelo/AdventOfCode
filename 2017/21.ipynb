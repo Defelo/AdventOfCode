{
 "cells": [
  {
   "cell_type": "code",
   "execution_count": 1,
   "metadata": {},
   "outputs": [
    {
     "data": {
      "text/markdown": [
       "# Day 21"
      ],
      "text/plain": [
       "<IPython.core.display.Markdown object>"
      ]
     },
     "metadata": {},
     "output_type": "display_data"
    }
   ],
   "source": [
    "import sys; sys.path.insert(0, \"..\")\n",
    "\n",
    "import aoc\n",
    "\n",
    "year, day = 2017, 21\n",
    "\n",
    "puzzle = aoc.setup(year, day)\n",
    "plines = puzzle.splitlines()"
   ]
  },
  {
   "cell_type": "markdown",
   "metadata": {},
   "source": [
    "### Puzzle 1"
   ]
  },
  {
   "cell_type": "code",
   "execution_count": 2,
   "metadata": {},
   "outputs": [
    {
     "data": {
      "text/plain": [
       "197"
      ]
     },
     "execution_count": 2,
     "metadata": {},
     "output_type": "execute_result"
    }
   ],
   "source": [
    "def rotate(p):\n",
    "    return tuple(\"\".join(p[j][i] for j in range(len(p))) for i in reversed(range(len(p[0]))))\n",
    "\n",
    "def solve1():\n",
    "    rules = {}\n",
    "    pattern = \".#.\", \"..#\", \"###\"\n",
    "    for line in plines:\n",
    "        a, b = [tuple(k.split(\"/\")) for k in line.split(\" => \")]\n",
    "        rules[a] = b\n",
    "    \n",
    "    def find_rule(p):\n",
    "        for _ in range(4):\n",
    "            if p in rules: return rules[p]\n",
    "            p = rotate(p)\n",
    "        p = tuple(reversed(p))\n",
    "        for _ in range(4):\n",
    "            if p in rules: return rules[p]\n",
    "            p = rotate(p)\n",
    "    \n",
    "    def apply():\n",
    "        k = 3 if len(pattern) % 2 else 2\n",
    "        out = []\n",
    "        for i in range(len(pattern)//k):\n",
    "            b = []\n",
    "            for j in range(len(pattern)//k):\n",
    "                new = find_rule(tuple(\"\".join(pattern[i*k+y][j*k+x] for x in range(k)) for y in range(k)))\n",
    "                b.append(new)\n",
    "            for line in zip(*b):\n",
    "                out.append(\"\".join(line))\n",
    "        return tuple(out)\n",
    "    \n",
    "    for _ in range(5):\n",
    "        pattern = apply()\n",
    "    return sum(line.count(\"#\") for line in pattern)\n",
    "\n",
    "solve1()"
   ]
  },
  {
   "cell_type": "code",
   "execution_count": 3,
   "metadata": {},
   "outputs": [
    {
     "name": "stdout",
     "output_type": "stream",
     "text": [
      "804 µs ± 63.1 µs per loop (mean ± std. dev. of 7 runs, 100 loops each)\n"
     ]
    }
   ],
   "source": [
    "%timeit solve1()"
   ]
  },
  {
   "cell_type": "markdown",
   "metadata": {},
   "source": [
    "### Puzzle 2"
   ]
  },
  {
   "cell_type": "code",
   "execution_count": 4,
   "metadata": {},
   "outputs": [
    {
     "data": {
      "text/plain": [
       "3081737"
      ]
     },
     "execution_count": 4,
     "metadata": {},
     "output_type": "execute_result"
    }
   ],
   "source": [
    "def solve2():\n",
    "    rules = {}\n",
    "    pattern = \".#.\", \"..#\", \"###\"\n",
    "    for line in plines:\n",
    "        a, b = [tuple(k.split(\"/\")) for k in line.split(\" => \")]\n",
    "        rules[a] = b\n",
    "    \n",
    "    def find_rule(p):\n",
    "        for _ in range(4):\n",
    "            if p in rules: return rules[p]\n",
    "            p = rotate(p)\n",
    "        p = tuple(reversed(p))\n",
    "        for _ in range(4):\n",
    "            if p in rules: return rules[p]\n",
    "            p = rotate(p)\n",
    "    \n",
    "    def apply():\n",
    "        k = 3 if len(pattern) % 2 else 2\n",
    "        out = []\n",
    "        for i in range(len(pattern)//k):\n",
    "            b = []\n",
    "            for j in range(len(pattern)//k):\n",
    "                new = find_rule(tuple(\"\".join(pattern[i*k+y][j*k+x] for x in range(k)) for y in range(k)))\n",
    "                b.append(new)\n",
    "            for line in zip(*b):\n",
    "                out.append(\"\".join(line))\n",
    "        return tuple(out)\n",
    "    \n",
    "    for _ in range(18):\n",
    "        pattern = apply()\n",
    "    return sum(line.count(\"#\") for line in pattern)\n",
    "\n",
    "solve2()"
   ]
  },
  {
   "cell_type": "code",
   "execution_count": 5,
   "metadata": {},
   "outputs": [
    {
     "name": "stdout",
     "output_type": "stream",
     "text": [
      "9.14 s ± 331 ms per loop (mean ± std. dev. of 7 runs, 1 loop each)\n"
     ]
    }
   ],
   "source": [
    "%timeit solve2()"
   ]
  }
 ],
 "metadata": {
  "kernelspec": {
   "display_name": "Python 3 (ipykernel)",
   "language": "python",
   "name": "python3"
  },
  "language_info": {
   "codemirror_mode": {
    "name": "ipython",
    "version": 3
   },
   "file_extension": ".py",
   "mimetype": "text/x-python",
   "name": "python",
   "nbconvert_exporter": "python",
   "pygments_lexer": "ipython3",
   "version": "3.9.6"
  }
 },
 "nbformat": 4,
 "nbformat_minor": 4
}

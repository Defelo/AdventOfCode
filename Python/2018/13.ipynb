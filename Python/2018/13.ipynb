{
 "cells": [
  {
   "cell_type": "code",
   "execution_count": 1,
   "metadata": {},
   "outputs": [
    {
     "data": {
      "text/markdown": [
       "# Day 13"
      ],
      "text/plain": [
       "<IPython.core.display.Markdown object>"
      ]
     },
     "metadata": {},
     "output_type": "display_data"
    }
   ],
   "source": [
    "import sys; sys.path.insert(0, \"..\")\n",
    "\n",
    "import aoc\n",
    "\n",
    "year, day = 2018, 13\n",
    "\n",
    "puzzle = aoc.setup(year, day, strip=False)\n",
    "plines = puzzle.splitlines()"
   ]
  },
  {
   "cell_type": "markdown",
   "metadata": {},
   "source": [
    "### Puzzle 1"
   ]
  },
  {
   "cell_type": "code",
   "execution_count": 2,
   "metadata": {},
   "outputs": [
    {
     "data": {
      "text/plain": [
       "'38,57'"
      ]
     },
     "execution_count": 2,
     "metadata": {},
     "output_type": "execute_result"
    }
   ],
   "source": [
    "def solve1():\n",
    "    carts = []\n",
    "    tracks = plines.copy()\n",
    "    positions = set()\n",
    "    for y, line in enumerate(tracks):\n",
    "        for x in range(len(line)):\n",
    "            c = line[x]\n",
    "            if c == \"^\":\n",
    "                carts.append([x, y, 0, -1, 0])\n",
    "                positions.add((x, y))\n",
    "                tracks[y] = line = line[:x] + \"|\" + line[x+1:]\n",
    "            elif c == \"v\":\n",
    "                carts.append([x, y, 0, 1, 0])\n",
    "                positions.add((x, y))\n",
    "                tracks[y] = line = line[:x] + \"|\" + line[x+1:]\n",
    "            elif c == \"<\":\n",
    "                carts.append([x, y, -1, 0, 0])\n",
    "                positions.add((x, y))\n",
    "                tracks[y] = line = line[:x] + \"-\" + line[x+1:]\n",
    "            elif c == \">\":\n",
    "                carts.append([x, y, 1, 0, 0])\n",
    "                positions.add((x, y))\n",
    "                tracks[y] = line = line[:x] + \"-\" + line[x+1:]\n",
    "    \n",
    "    while True:\n",
    "        for cart in sorted(carts, key=lambda c: (c[1], c[0])):\n",
    "            x, y, dx, dy, k = cart\n",
    "            positions.remove((x, y))\n",
    "            x += dx\n",
    "            y += dy\n",
    "            if (x, y) in positions:\n",
    "                return f\"{x},{y}\"\n",
    "            positions.add((x, y))\n",
    "            \n",
    "            if tracks[y][x] == \"/\":\n",
    "                dx, dy = -dy, -dx\n",
    "            elif tracks[y][x] == \"\\\\\":\n",
    "                dx, dy = dy, dx\n",
    "            elif tracks[y][x] == \"+\":\n",
    "                if k == 0: dx, dy = dy, -dx\n",
    "                elif k == 2: dx, dy = -dy, dx\n",
    "                k = (k + 1) % 3\n",
    "            \n",
    "            cart[:] = x, y, dx, dy, k\n",
    "\n",
    "solve1()"
   ]
  },
  {
   "cell_type": "code",
   "execution_count": 3,
   "metadata": {},
   "outputs": [
    {
     "name": "stdout",
     "output_type": "stream",
     "text": [
      "10.1 ms ± 1.24 ms per loop (mean ± std. dev. of 7 runs, 100 loops each)\n"
     ]
    }
   ],
   "source": [
    "%timeit solve1()"
   ]
  },
  {
   "cell_type": "markdown",
   "metadata": {},
   "source": [
    "### Puzzle 2"
   ]
  },
  {
   "cell_type": "code",
   "execution_count": 4,
   "metadata": {},
   "outputs": [
    {
     "data": {
      "text/plain": [
       "'4,92'"
      ]
     },
     "execution_count": 4,
     "metadata": {},
     "output_type": "execute_result"
    }
   ],
   "source": [
    "def solve2():\n",
    "    carts = []\n",
    "    tracks = plines.copy()\n",
    "    positions = {}\n",
    "    crashed = set()\n",
    "    for y, line in enumerate(tracks):\n",
    "        for x in range(len(line)):\n",
    "            c = line[x]\n",
    "            if c == \"^\":\n",
    "                carts.append([x*len(tracks)+y, x, y, 0, -1, 0])\n",
    "                positions[(x, y)] = x*len(tracks)+y\n",
    "                tracks[y] = line = line[:x] + \"|\" + line[x+1:]\n",
    "            elif c == \"v\":\n",
    "                carts.append([x*len(tracks)+y, x, y, 0, 1, 0])\n",
    "                positions[(x, y)] = x*len(tracks)+y\n",
    "                tracks[y] = line = line[:x] + \"|\" + line[x+1:]\n",
    "            elif c == \"<\":\n",
    "                carts.append([x*len(tracks)+y, x, y, -1, 0, 0])\n",
    "                positions[(x, y)] = x*len(tracks)+y\n",
    "                tracks[y] = line = line[:x] + \"-\" + line[x+1:]\n",
    "            elif c == \">\":\n",
    "                carts.append([x*len(tracks)+y, x, y, 1, 0, 0])\n",
    "                positions[(x, y)] = x*len(tracks)+y\n",
    "                tracks[y] = line = line[:x] + \"-\" + line[x+1:]\n",
    "\n",
    "    while True:\n",
    "        for cart in sorted(carts, key=lambda c: (c[2], c[1])):\n",
    "            i, x, y, dx, dy, k = cart\n",
    "            if i in crashed: continue\n",
    "            \n",
    "            positions.pop((x, y))\n",
    "            x += dx\n",
    "            y += dy\n",
    "            if (x, y) in positions:\n",
    "                crashed.add(i)\n",
    "                crashed.add(positions.pop((x, y)))\n",
    "                continue\n",
    "            positions[(x, y)] = i\n",
    "            \n",
    "            if tracks[y][x] == \"/\":\n",
    "                dx, dy = -dy, -dx\n",
    "            elif tracks[y][x] == \"\\\\\":\n",
    "                dx, dy = dy, dx\n",
    "            elif tracks[y][x] == \"+\":\n",
    "                if k == 0: dx, dy = dy, -dx\n",
    "                elif k == 2: dx, dy = -dy, dx\n",
    "                k = (k + 1) % 3\n",
    "            \n",
    "            cart[:] = i, x, y, dx, dy, k\n",
    "        \n",
    "        if len(carts) - len(crashed) == 1:\n",
    "            for i, x, y, *_ in carts:\n",
    "                if i not in crashed:\n",
    "                    return f\"{x},{y}\"\n",
    "\n",
    "solve2()"
   ]
  },
  {
   "cell_type": "code",
   "execution_count": 5,
   "metadata": {},
   "outputs": [
    {
     "name": "stdout",
     "output_type": "stream",
     "text": [
      "180 ms ± 15.2 ms per loop (mean ± std. dev. of 7 runs, 10 loops each)\n"
     ]
    }
   ],
   "source": [
    "%timeit solve2()"
   ]
  }
 ],
 "metadata": {
  "kernelspec": {
   "display_name": "Python 3 (ipykernel)",
   "language": "python",
   "name": "python3"
  },
  "language_info": {
   "codemirror_mode": {
    "name": "ipython",
    "version": 3
   },
   "file_extension": ".py",
   "mimetype": "text/x-python",
   "name": "python",
   "nbconvert_exporter": "python",
   "pygments_lexer": "ipython3",
   "version": "3.9.6"
  }
 },
 "nbformat": 4,
 "nbformat_minor": 4
}

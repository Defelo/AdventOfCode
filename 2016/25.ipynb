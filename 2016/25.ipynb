{
 "cells": [
  {
   "cell_type": "code",
   "execution_count": 1,
   "metadata": {},
   "outputs": [
    {
     "data": {
      "text/markdown": [
       "# Day 25"
      ],
      "text/plain": [
       "<IPython.core.display.Markdown object>"
      ]
     },
     "metadata": {},
     "output_type": "display_data"
    }
   ],
   "source": [
    "import sys; sys.path.insert(0, \"..\")\n",
    "\n",
    "import aoc\n",
    "\n",
    "year, day = 2016, 25\n",
    "\n",
    "puzzle = aoc.setup(year, day)"
   ]
  },
  {
   "cell_type": "markdown",
   "metadata": {},
   "source": [
    "### Puzzle 1"
   ]
  },
  {
   "cell_type": "code",
   "execution_count": 2,
   "metadata": {},
   "outputs": [
    {
     "data": {
      "text/plain": [
       "182"
      ]
     },
     "execution_count": 2,
     "metadata": {},
     "output_type": "execute_result"
    }
   ],
   "source": [
    "program = puzzle.splitlines()\n",
    "\n",
    "def simulate(a):\n",
    "    registers = {k: 0 for k in \"abcd\"}\n",
    "    registers[\"a\"] = a\n",
    "    pc = 0\n",
    "    while pc < len(program):\n",
    "        cmd, x, y, *_ = program[pc].split() + [None]\n",
    "        read = lambda a: registers[a] if a in registers else int(a)\n",
    "        if cmd == \"cpy\":\n",
    "            if y in registers:\n",
    "                registers[y] = read(x)\n",
    "            pc += 1\n",
    "        elif cmd == \"inc\":\n",
    "            if x in registers:\n",
    "                registers[x] += 1\n",
    "            pc += 1\n",
    "        elif cmd == \"dec\":\n",
    "            if x in registers:\n",
    "                registers[x] -= 1\n",
    "            pc += 1\n",
    "        elif cmd == \"jnz\":\n",
    "            if read(x) and y is not None:\n",
    "                pc += read(y) or 1\n",
    "            else:\n",
    "                pc += 1\n",
    "        elif cmd == \"out\":\n",
    "            yield read(x)\n",
    "            pc += 1\n",
    "\n",
    "def test(a):\n",
    "    for i, x in enumerate(simulate(a)):\n",
    "        if i % 2 != x: return False\n",
    "        if i > 100: return True\n",
    "    return False\n",
    "\n",
    "a = 0\n",
    "while not test(a): a += 1\n",
    "a"
   ]
  }
 ],
 "metadata": {
  "kernelspec": {
   "display_name": "Python 3 (ipykernel)",
   "language": "python",
   "name": "python3"
  },
  "language_info": {
   "codemirror_mode": {
    "name": "ipython",
    "version": 3
   },
   "file_extension": ".py",
   "mimetype": "text/x-python",
   "name": "python",
   "nbconvert_exporter": "python",
   "pygments_lexer": "ipython3",
   "version": "3.9.6"
  }
 },
 "nbformat": 4,
 "nbformat_minor": 4
}

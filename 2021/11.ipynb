{
 "cells": [
  {
   "cell_type": "code",
   "execution_count": 1,
   "metadata": {},
   "outputs": [
    {
     "data": {
      "text/plain": "<IPython.core.display.Markdown object>",
      "text/markdown": "# Day 11"
     },
     "metadata": {},
     "output_type": "display_data"
    }
   ],
   "source": [
    "import sys; sys.path.insert(0, \"..\")\n",
    "\n",
    "from utils import *\n",
    "import aoc\n",
    "\n",
    "year, day = 2021, 11\n",
    "\n",
    "puzzle = aoc.setup(year, day)\n",
    "plines = puzzle.splitlines()"
   ]
  },
  {
   "cell_type": "markdown",
   "metadata": {},
   "source": [
    "### Puzzle 1"
   ]
  },
  {
   "cell_type": "code",
   "execution_count": 2,
   "metadata": {},
   "outputs": [
    {
     "data": {
      "text/plain": "1659"
     },
     "execution_count": 2,
     "metadata": {},
     "output_type": "execute_result"
    }
   ],
   "source": [
    "def solve1():\n",
    "    grid = [[*map(int, line)] for line in plines]\n",
    "    out = 0\n",
    "    for _ in range(100):\n",
    "        flashes = []\n",
    "        visited = set()\n",
    "        for i, row in enumerate(grid):\n",
    "            for j, x in enumerate(row):\n",
    "                if x >= 9:\n",
    "                    flashes.append((i, j))\n",
    "                else:\n",
    "                    row[j] += 1\n",
    "\n",
    "        while flashes:\n",
    "            i, j = flashes.pop(0)\n",
    "\n",
    "            if (i, j) in visited:\n",
    "                continue\n",
    "            visited.add((i, j))\n",
    "\n",
    "            grid[i][j] = 0\n",
    "            out += 1\n",
    "\n",
    "            for q, p in get_neighbors(j, i, len(plines[0]), len(plines), diag=True):\n",
    "                x = grid[p][q]\n",
    "                if x >= 9:\n",
    "                    flashes.append((p, q))\n",
    "                elif (p, q) not in visited:\n",
    "                    grid[p][q] += 1\n",
    "\n",
    "    return out\n",
    "\n",
    "solve1()"
   ]
  },
  {
   "cell_type": "code",
   "execution_count": 3,
   "metadata": {},
   "outputs": [
    {
     "name": "stdout",
     "output_type": "stream",
     "text": [
      "25.8 ms ± 7.88 ms per loop (mean ± std. dev. of 7 runs, 10 loops each)\n"
     ]
    }
   ],
   "source": [
    "%timeit solve1()"
   ]
  },
  {
   "cell_type": "markdown",
   "metadata": {},
   "source": [
    "### Puzzle 2"
   ]
  },
  {
   "cell_type": "code",
   "execution_count": 4,
   "metadata": {},
   "outputs": [
    {
     "data": {
      "text/plain": "227"
     },
     "execution_count": 4,
     "metadata": {},
     "output_type": "execute_result"
    }
   ],
   "source": [
    "def solve2():\n",
    "    grid = [[*map(int, line)] for line in plines]\n",
    "    for step in irange():\n",
    "        flashes = []\n",
    "        visited = set()\n",
    "        for i, row in enumerate(grid):\n",
    "            for j, x in enumerate(row):\n",
    "                if x >= 9:\n",
    "                    flashes.append((i, j))\n",
    "                else:\n",
    "                    row[j] += 1\n",
    "\n",
    "        while flashes:\n",
    "            i, j = flashes.pop(0)\n",
    "\n",
    "            if (i, j) in visited:\n",
    "                continue\n",
    "            visited.add((i, j))\n",
    "\n",
    "            grid[i][j] = 0\n",
    "\n",
    "            for q, p in get_neighbors(j, i, len(plines[0]), len(plines), diag=True):\n",
    "                x = grid[p][q]\n",
    "                if x >= 9:\n",
    "                    flashes.append((p, q))\n",
    "                elif (p, q) not in visited:\n",
    "                    grid[p][q] += 1\n",
    "\n",
    "        if len(visited) == len(plines) * len(plines[0]):\n",
    "            return step + 1\n",
    "\n",
    "solve2()"
   ]
  },
  {
   "cell_type": "code",
   "execution_count": 5,
   "metadata": {},
   "outputs": [
    {
     "name": "stdout",
     "output_type": "stream",
     "text": [
      "70.9 ms ± 13.3 ms per loop (mean ± std. dev. of 7 runs, 10 loops each)\n"
     ]
    }
   ],
   "source": [
    "%timeit solve2()"
   ]
  }
 ],
 "metadata": {
  "kernelspec": {
   "display_name": "Python 3",
   "language": "python",
   "name": "python3"
  },
  "language_info": {
   "codemirror_mode": {
    "name": "ipython",
    "version": 3
   },
   "file_extension": ".py",
   "mimetype": "text/x-python",
   "name": "python",
   "nbconvert_exporter": "python",
   "pygments_lexer": "ipython3",
   "version": "3.8.6"
  }
 },
 "nbformat": 4,
 "nbformat_minor": 4
}
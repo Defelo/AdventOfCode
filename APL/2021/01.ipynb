{
 "cells": [
  {
   "cell_type": "code",
   "execution_count": 1,
   "id": "e9f1ae2e-3a25-44fb-ab6b-549e479d23d9",
   "metadata": {},
   "outputs": [],
   "source": [
    "nums ← ⍎¨⊃⎕NGET'01.txt' 1"
   ]
  },
  {
   "cell_type": "markdown",
   "id": "7f29564e-fd80-449a-ad2e-0d026bd76f9a",
   "metadata": {},
   "source": [
    "### Part 1"
   ]
  },
  {
   "cell_type": "code",
   "execution_count": 2,
   "id": "b08c0157-3259-44ca-a880-60b18618472a",
   "metadata": {},
   "outputs": [
    {
     "data": {
      "text/html": [
       "<span style=\"white-space:pre; font-family: monospace\">1266\n",
       "</span>"
      ]
     },
     "execution_count": 2,
     "metadata": {},
     "output_type": "execute_result"
    }
   ],
   "source": [
    "+/2</nums"
   ]
  },
  {
   "cell_type": "markdown",
   "id": "4304c252-699e-43de-8c8f-c2ecfc012151",
   "metadata": {},
   "source": [
    "### Part 2"
   ]
  },
  {
   "cell_type": "code",
   "execution_count": 3,
   "id": "b1b0af8a-3118-48a5-aeea-a8642982ec5c",
   "metadata": {},
   "outputs": [
    {
     "data": {
      "text/html": [
       "<span style=\"white-space:pre; font-family: monospace\">1217\n",
       "</span>"
      ]
     },
     "execution_count": 3,
     "metadata": {},
     "output_type": "execute_result"
    }
   ],
   "source": [
    "+/2</3+/nums"
   ]
  }
 ],
 "metadata": {
  "kernelspec": {
   "display_name": "Dyalog APL",
   "language": "apl",
   "name": "dyalog-kernel"
  },
  "language_info": {
   "file_extension": ".apl",
   "mimetype": "text/apl",
   "name": "APL"
  }
 },
 "nbformat": 4,
 "nbformat_minor": 5
}

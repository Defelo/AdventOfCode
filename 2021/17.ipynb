{
 "cells": [
  {
   "cell_type": "code",
   "execution_count": 1,
   "metadata": {},
   "outputs": [
    {
     "data": {
      "text/plain": "<IPython.core.display.Markdown object>",
      "text/markdown": "# Day 17"
     },
     "metadata": {},
     "output_type": "display_data"
    }
   ],
   "source": [
    "import sys; sys.path.insert(0, \"..\")\n",
    "\n",
    "from utils import *\n",
    "import aoc\n",
    "\n",
    "year, day = 2021, 17\n",
    "\n",
    "puzzle = aoc.setup(year, day)\n",
    "plines = puzzle.splitlines()"
   ]
  },
  {
   "cell_type": "markdown",
   "metadata": {},
   "source": [
    "### Puzzle 1"
   ]
  },
  {
   "cell_type": "code",
   "execution_count": 2,
   "metadata": {},
   "outputs": [
    {
     "data": {
      "text/plain": "3916"
     },
     "execution_count": 2,
     "metadata": {},
     "output_type": "execute_result"
    }
   ],
   "source": [
    "def solve1():\n",
    "    match = re.match(r\"^target area: x=(-?\\d+)..(-?\\d+), y=(-?\\d+)..(-?\\d+)$\", plines[0])\n",
    "    x1, x2, y1, y2 = map(int, match.groups())\n",
    "\n",
    "    ok = {}\n",
    "    maxt = 0\n",
    "\n",
    "    for vy in range(y1, 500):\n",
    "        t = 0\n",
    "        y = 0\n",
    "        maxy = 0\n",
    "        while y >= y1:\n",
    "            if y1 <= y <= y2:\n",
    "                ok[t] = max(ok.get(t, 0), maxy)\n",
    "                maxt = max(t, maxt)\n",
    "            y += vy\n",
    "            maxy = max(y, maxy)\n",
    "            vy -= 1\n",
    "            t += 1\n",
    "\n",
    "    out = 0\n",
    "    for vx in range(x2 + 1):\n",
    "        if (vx + 1) ** 2 - (vx + 1) * (vx + 2) // 2 < x1:\n",
    "            continue\n",
    "\n",
    "        t = 0\n",
    "        x = 0\n",
    "        while x <= x2 and t <= maxt:\n",
    "            if x1 <= x <= x2:\n",
    "                out = max(out, ok.get(t, 0))\n",
    "            x += vx\n",
    "            vx = max(vx - 1, 0)\n",
    "            t += 1\n",
    "\n",
    "    return out\n",
    "\n",
    "solve1()"
   ]
  },
  {
   "cell_type": "code",
   "execution_count": 3,
   "metadata": {},
   "outputs": [
    {
     "name": "stdout",
     "output_type": "stream",
     "text": [
      "205 ms ± 31.1 ms per loop (mean ± std. dev. of 7 runs, 1 loop each)\n"
     ]
    }
   ],
   "source": [
    "%timeit solve1()"
   ]
  },
  {
   "cell_type": "markdown",
   "metadata": {},
   "source": [
    "### Puzzle 2"
   ]
  },
  {
   "cell_type": "code",
   "execution_count": 4,
   "metadata": {},
   "outputs": [
    {
     "data": {
      "text/plain": "2986"
     },
     "execution_count": 4,
     "metadata": {},
     "output_type": "execute_result"
    }
   ],
   "source": [
    "def solve2():\n",
    "    match = re.match(r\"^target area: x=(-?\\d+)..(-?\\d+), y=(-?\\d+)..(-?\\d+)$\", plines[0])\n",
    "    x1, x2, y1, y2 = map(int, match.groups())\n",
    "\n",
    "    ok = {}\n",
    "    maxt = 0\n",
    "\n",
    "    for vy in range(y1, 500):\n",
    "        ovy = vy\n",
    "        t = 0\n",
    "        y = 0\n",
    "        while y >= y1:\n",
    "            if y1 <= y <= y2:\n",
    "                ok.setdefault(t, set()).add(ovy)\n",
    "                maxt = max(t, maxt)\n",
    "            y += vy\n",
    "            vy -= 1\n",
    "            t += 1\n",
    "\n",
    "    out = 0\n",
    "    for vx in range(x2 + 1):\n",
    "        if (vx + 1) ** 2 - (vx + 1) * (vx + 2) // 2 < x1:\n",
    "            continue\n",
    "\n",
    "        t = 0\n",
    "        x = 0\n",
    "        found = set()\n",
    "        while x <= x2 and t <= maxt:\n",
    "            if x1 <= x <= x2:\n",
    "                found.update(ok.get(t, []))\n",
    "            x += vx\n",
    "            vx = max(vx - 1, 0)\n",
    "            t += 1\n",
    "\n",
    "        out += len(found)\n",
    "\n",
    "    return out\n",
    "\n",
    "solve2()"
   ]
  },
  {
   "cell_type": "code",
   "execution_count": 5,
   "metadata": {},
   "outputs": [
    {
     "name": "stdout",
     "output_type": "stream",
     "text": [
      "82.5 ms ± 17.7 ms per loop (mean ± std. dev. of 7 runs, 10 loops each)\n"
     ]
    }
   ],
   "source": [
    "%timeit solve2()"
   ]
  }
 ],
 "metadata": {
  "kernelspec": {
   "display_name": "Python 3",
   "language": "python",
   "name": "python3"
  },
  "language_info": {
   "codemirror_mode": {
    "name": "ipython",
    "version": 3
   },
   "file_extension": ".py",
   "mimetype": "text/x-python",
   "name": "python",
   "nbconvert_exporter": "python",
   "pygments_lexer": "ipython3",
   "version": "3.8.6"
  }
 },
 "nbformat": 4,
 "nbformat_minor": 4
}
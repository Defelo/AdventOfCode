{
 "cells": [
  {
   "cell_type": "code",
   "execution_count": 40,
   "metadata": {},
   "outputs": [
    {
     "data": {
      "text/markdown": [
       "# Day 18"
      ],
      "text/plain": [
       "<IPython.core.display.Markdown object>"
      ]
     },
     "metadata": {},
     "output_type": "display_data"
    }
   ],
   "source": [
    "import sys; sys.path.insert(0, \"..\")\n",
    "\n",
    "import aoc\n",
    "\n",
    "year, day = 2020, 18\n",
    "\n",
    "puzzle = aoc.setup(year, day)\n",
    "plines = puzzle.splitlines()"
   ]
  },
  {
   "cell_type": "markdown",
   "metadata": {},
   "source": [
    "### Puzzle 1"
   ]
  },
  {
   "cell_type": "code",
   "execution_count": 64,
   "metadata": {},
   "outputs": [
    {
     "data": {
      "text/plain": [
       "1408133923393"
      ]
     },
     "execution_count": 64,
     "metadata": {},
     "output_type": "execute_result"
    }
   ],
   "source": [
    "import re\n",
    "\n",
    "\n",
    "def evaluate_parentheses(expr):\n",
    "    acc = \"\"\n",
    "    stack = []\n",
    "    for i, c in enumerate(expr):\n",
    "        if c == \"(\":\n",
    "            stack.append(i)\n",
    "        elif c == \")\":\n",
    "            j = stack.pop()\n",
    "            if not stack:\n",
    "                acc += str(evaluate(expr[j+1:i]))\n",
    "        elif not stack:\n",
    "            acc += c\n",
    "    return acc    \n",
    "\n",
    "def evaluate(expr):\n",
    "    expr = evaluate_parentheses(expr)\n",
    "    if expr.isnumeric():\n",
    "        return int(expr)\n",
    "                \n",
    "    x1, op, x2 = re.match(r\"^(.+)([+*])(\\d+)$\", expr).groups()\n",
    "    x1 = evaluate(x1)\n",
    "    x2 = int(x2)\n",
    "    return x1 + x2 if op == \"+\" else x1 * x2\n",
    "        \n",
    "def solve1():\n",
    "    out = 0\n",
    "    for line in plines:\n",
    "        out += evaluate(line.replace(\" \", \"\"))\n",
    "    return out\n",
    "\n",
    "solve1()"
   ]
  },
  {
   "cell_type": "code",
   "execution_count": null,
   "metadata": {},
   "outputs": [],
   "source": [
    "%timeit solve1()"
   ]
  },
  {
   "cell_type": "markdown",
   "metadata": {},
   "source": [
    "### Puzzle 2"
   ]
  },
  {
   "cell_type": "code",
   "execution_count": 63,
   "metadata": {},
   "outputs": [
    {
     "data": {
      "text/plain": [
       "314455761823725"
      ]
     },
     "execution_count": 63,
     "metadata": {},
     "output_type": "execute_result"
    }
   ],
   "source": [
    "def evaluate_parentheses(expr):\n",
    "    acc = \"\"\n",
    "    stack = []\n",
    "    for i, c in enumerate(expr):\n",
    "        if c == \"(\":\n",
    "            stack.append(i)\n",
    "        elif c == \")\":\n",
    "            j = stack.pop()\n",
    "            if not stack:\n",
    "                acc += str(evaluate(expr[j+1:i]))\n",
    "        elif not stack:\n",
    "            acc += c\n",
    "    return acc\n",
    "    \n",
    "\n",
    "def evaluate(expr):\n",
    "    expr = evaluate_parentheses(expr)\n",
    "    if expr.isnumeric():\n",
    "        return int(expr)\n",
    "    if not re.match(r\"^((\\d+)(\\+(\\d+))+)$\", expr):\n",
    "        expr = evaluate_parentheses(re.sub(r\"((\\d+)(\\+(\\d+))+)\", r\"(\\1)\", expr))\n",
    "    \n",
    "    x1, op, x2 = re.match(r\"^(.+)([+*])(\\d+)$\", expr).groups()\n",
    "    x1 = evaluate(x1)\n",
    "    x2 = int(x2)\n",
    "    return x1 + x2 if op == \"+\" else x1 * x2\n",
    "\n",
    "def solve2():\n",
    "    out = 0\n",
    "    for line in plines:\n",
    "        out += evaluate(line.replace(\" \", \"\"))\n",
    "    return out\n",
    "\n",
    "\n",
    "solve2()"
   ]
  },
  {
   "cell_type": "code",
   "execution_count": null,
   "metadata": {},
   "outputs": [],
   "source": [
    "%timeit solve2()"
   ]
  }
 ],
 "metadata": {
  "kernelspec": {
   "display_name": "Python 3",
   "language": "python",
   "name": "python3"
  },
  "language_info": {
   "codemirror_mode": {
    "name": "ipython",
    "version": 3
   },
   "file_extension": ".py",
   "mimetype": "text/x-python",
   "name": "python",
   "nbconvert_exporter": "python",
   "pygments_lexer": "ipython3",
   "version": "3.8.6"
  }
 },
 "nbformat": 4,
 "nbformat_minor": 4
}

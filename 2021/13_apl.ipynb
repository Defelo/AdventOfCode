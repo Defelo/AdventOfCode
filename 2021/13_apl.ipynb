{
 "cells": [
  {
   "cell_type": "code",
   "execution_count": 1,
   "id": "8fb56a69-e2e3-4a2e-9257-c78046f23f21",
   "metadata": {
    "pycharm": {
     "name": "#%%\n"
    }
   },
   "outputs": [],
   "source": [
    "dots folds ← {⍵⊆⍨0≠≢¨⍵}⊃⎕NGET '13.txt' 1\n",
    "dots ← {⍎¨','(≠⊆⊢)⍵}¨dots\n",
    "folds ← {c n←'='(≠⊆⊢)⊃⌽' '(≠⊆⊢)⍵⋄(⊃c)(⍎n)}¨folds"
   ]
  },
  {
   "cell_type": "code",
   "execution_count": 2,
   "outputs": [],
   "source": [
    "fold ← {c n←2⊃⍵⋄∪{x y←⍵⋄c≡'y':x(y⌊n+n-y)⋄(x⌊n+n-x)y}¨⊃⍵}"
   ],
   "metadata": {
    "collapsed": false,
    "pycharm": {
     "name": "#%%\n"
    }
   }
  },
  {
   "cell_type": "markdown",
   "source": [
    "### Part 1"
   ],
   "metadata": {
    "collapsed": false,
    "pycharm": {
     "name": "#%% md\n"
    }
   }
  },
  {
   "cell_type": "code",
   "execution_count": 3,
   "outputs": [
    {
     "data": {
      "text/html": "<span style=\"white-space:pre; font-family: monospace\">747\n</span>"
     },
     "execution_count": 3,
     "metadata": {},
     "output_type": "execute_result"
    }
   ],
   "source": [
    "≢fold dots (⊃folds)"
   ],
   "metadata": {
    "collapsed": false,
    "pycharm": {
     "name": "#%%\n"
    }
   }
  },
  {
   "cell_type": "markdown",
   "source": [
    "### Part 2"
   ],
   "metadata": {
    "collapsed": false,
    "pycharm": {
     "name": "#%% md\n"
    }
   }
  },
  {
   "cell_type": "code",
   "execution_count": 4,
   "outputs": [
    {
     "data": {
      "text/plain": "  ####    ######    ##    ##  ########  ######      ####    ##    ##  ##    ##\n##    ##  ##    ##  ##    ##        ##  ##    ##  ##    ##  ##    ##  ##    ##\n##    ##  ##    ##  ########      ##    ##    ##  ##        ##    ##  ########\n########  ######    ##    ##    ##      ######    ##        ##    ##  ##    ##\n##    ##  ##  ##    ##    ##  ##        ##        ##    ##  ##    ##  ##    ##\n##    ##  ##    ##  ##    ##  ########  ##          ####      ####    ##    ##"
     },
     "execution_count": 4,
     "metadata": {},
     "output_type": "execute_result"
    }
   ],
   "source": [
    "dots ← ⊃{fold ⍵ ⍺}/(⌽folds),⊂dots\n",
    "w h ← ⊃⌈/dots\n",
    "↑↑{,/⍵}¨↓{(⊂⌽⍵)∊dots:'##'⋄'  '}¨1-⍨⍳(h+1)(w+1)"
   ],
   "metadata": {
    "collapsed": false,
    "pycharm": {
     "name": "#%%\n"
    }
   }
  }
 ],
 "metadata": {
  "kernelspec": {
   "display_name": "Dyalog APL",
   "language": "apl",
   "name": "dyalog-kernel"
  },
  "language_info": {
   "file_extension": ".apl",
   "mimetype": "text/apl",
   "name": "APL"
  }
 },
 "nbformat": 4,
 "nbformat_minor": 5
}
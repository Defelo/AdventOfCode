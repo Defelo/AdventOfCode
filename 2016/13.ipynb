{
 "cells": [
  {
   "cell_type": "code",
   "execution_count": 1,
   "metadata": {},
   "outputs": [
    {
     "data": {
      "text/markdown": [
       "# Day 13"
      ],
      "text/plain": [
       "<IPython.core.display.Markdown object>"
      ]
     },
     "metadata": {},
     "output_type": "display_data"
    }
   ],
   "source": [
    "import sys; sys.path.insert(0, \"..\")\n",
    "\n",
    "import aoc\n",
    "\n",
    "year, day = 2016, 13\n",
    "\n",
    "puzzle = aoc.setup(year, day)"
   ]
  },
  {
   "cell_type": "markdown",
   "metadata": {},
   "source": [
    "### Puzzle 1"
   ]
  },
  {
   "cell_type": "code",
   "execution_count": 2,
   "metadata": {},
   "outputs": [
    {
     "name": "stdout",
     "output_type": "stream",
     "text": [
      "96\n"
     ]
    }
   ],
   "source": [
    "num = int(puzzle)\n",
    "wall = lambda x, y: bin(x*x + 3*x + 2*x*y + y + y*y + num).count(\"1\") % 2\n",
    "\n",
    "q = [(0, 1, 1)]\n",
    "visited = set()\n",
    "while q:\n",
    "    d, x, y = q.pop(0)\n",
    "    \n",
    "    if (x, y) in visited:\n",
    "        continue\n",
    "    visited.add((x, y))\n",
    "    \n",
    "    if (x, y) == (31, 39):\n",
    "        print(d)\n",
    "        break\n",
    "    \n",
    "    for nx, ny in [(x-1,y),(x+1,y),(x,y-1),(x,y+1)]:\n",
    "        if nx < 0 or ny < 0 or wall(nx, ny):\n",
    "            continue\n",
    "        q.append((d + 1, nx, ny))"
   ]
  },
  {
   "cell_type": "markdown",
   "metadata": {},
   "source": [
    "### Puzzle 2"
   ]
  },
  {
   "cell_type": "code",
   "execution_count": 3,
   "metadata": {},
   "outputs": [
    {
     "data": {
      "text/plain": [
       "141"
      ]
     },
     "execution_count": 3,
     "metadata": {},
     "output_type": "execute_result"
    }
   ],
   "source": [
    "q = [(0, 1, 1)]\n",
    "visited = set()\n",
    "count = 0\n",
    "while q:\n",
    "    d, x, y = q.pop(0)\n",
    "    \n",
    "    if (x, y) in visited:\n",
    "        continue\n",
    "    visited.add((x, y))\n",
    "\n",
    "    if d > 50:\n",
    "        break\n",
    "    count += 1\n",
    "    \n",
    "    for nx, ny in [(x-1,y),(x+1,y),(x,y-1),(x,y+1)]:\n",
    "        if nx < 0 or ny < 0 or wall(nx, ny):\n",
    "            continue\n",
    "        q.append((d + 1, nx, ny))\n",
    "count"
   ]
  }
 ],
 "metadata": {
  "kernelspec": {
   "display_name": "Python 3",
   "language": "python",
   "name": "python3"
  },
  "language_info": {
   "codemirror_mode": {
    "name": "ipython",
    "version": 3
   },
   "file_extension": ".py",
   "mimetype": "text/x-python",
   "name": "python",
   "nbconvert_exporter": "python",
   "pygments_lexer": "ipython3",
   "version": "3.8.6"
  }
 },
 "nbformat": 4,
 "nbformat_minor": 4
}

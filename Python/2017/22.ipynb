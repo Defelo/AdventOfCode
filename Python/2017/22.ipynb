{
 "cells": [
  {
   "cell_type": "code",
   "execution_count": 1,
   "metadata": {},
   "outputs": [
    {
     "data": {
      "text/markdown": [
       "# Day 22"
      ],
      "text/plain": [
       "<IPython.core.display.Markdown object>"
      ]
     },
     "metadata": {},
     "output_type": "display_data"
    }
   ],
   "source": [
    "import sys; sys.path.insert(0, \"..\")\n",
    "\n",
    "import aoc\n",
    "\n",
    "year, day = 2017, 22\n",
    "\n",
    "puzzle = aoc.setup(year, day)\n",
    "plines = puzzle.splitlines()"
   ]
  },
  {
   "cell_type": "markdown",
   "metadata": {},
   "source": [
    "### Puzzle 1"
   ]
  },
  {
   "cell_type": "code",
   "execution_count": 2,
   "metadata": {},
   "outputs": [
    {
     "data": {
      "text/plain": [
       "5256"
      ]
     },
     "execution_count": 2,
     "metadata": {},
     "output_type": "execute_result"
    }
   ],
   "source": [
    "def solve1():\n",
    "    infected = set()\n",
    "    x, y = len(plines[0])//2, len(plines)//2\n",
    "    dx, dy = 0, -1\n",
    "    out = 0\n",
    "    for i, line in enumerate(plines):\n",
    "        for j, c in enumerate(line):\n",
    "            if c == \"#\":\n",
    "                infected.add((j, i))\n",
    "    for _ in range(10000):\n",
    "        inf = (x, y) in infected\n",
    "        if inf:\n",
    "            dx, dy = -dy, dx\n",
    "            infected.remove((x, y))\n",
    "        else:\n",
    "            dx, dy = dy, -dx\n",
    "            infected.add((x, y))\n",
    "            out += 1\n",
    "            \n",
    "        x += dx\n",
    "        y += dy\n",
    "    \n",
    "    return out\n",
    "        \n",
    "solve1()"
   ]
  },
  {
   "cell_type": "code",
   "execution_count": 3,
   "metadata": {},
   "outputs": [
    {
     "name": "stdout",
     "output_type": "stream",
     "text": [
      "5.3 ms ± 448 µs per loop (mean ± std. dev. of 7 runs, 100 loops each)\n"
     ]
    }
   ],
   "source": [
    "%timeit solve1()"
   ]
  },
  {
   "cell_type": "markdown",
   "metadata": {},
   "source": [
    "### Puzzle 2"
   ]
  },
  {
   "cell_type": "code",
   "execution_count": 4,
   "metadata": {},
   "outputs": [
    {
     "data": {
      "text/plain": [
       "2511345"
      ]
     },
     "execution_count": 4,
     "metadata": {},
     "output_type": "execute_result"
    }
   ],
   "source": [
    "def solve2():\n",
    "    state = {}\n",
    "    x, y = len(plines[0])//2, len(plines)//2\n",
    "    dx, dy = 0, -1\n",
    "    out = 0\n",
    "    for i, line in enumerate(plines):\n",
    "        for j, c in enumerate(line):\n",
    "            if c == \"#\":\n",
    "                state[(j, i)] = 2\n",
    "    for _ in range(10000000):\n",
    "        s = state.get((x, y), 0)\n",
    "        \n",
    "        if s == 0: dx, dy = dy, -dx\n",
    "        elif s == 2: dx, dy = -dy, dx\n",
    "        elif s == 3: dx, dy = -dx, -dy\n",
    "        \n",
    "        if s == 1: out += 1\n",
    "\n",
    "        if s == 3:\n",
    "            state.pop((x, y))\n",
    "        else:\n",
    "            state[(x, y)] = s + 1\n",
    "            \n",
    "        x += dx\n",
    "        y += dy\n",
    "    \n",
    "    return out\n",
    "\n",
    "solve2()"
   ]
  },
  {
   "cell_type": "code",
   "execution_count": 5,
   "metadata": {},
   "outputs": [
    {
     "name": "stdout",
     "output_type": "stream",
     "text": [
      "8.54 s ± 433 ms per loop (mean ± std. dev. of 7 runs, 1 loop each)\n"
     ]
    }
   ],
   "source": [
    "%timeit solve2()"
   ]
  }
 ],
 "metadata": {
  "kernelspec": {
   "display_name": "Python 3 (ipykernel)",
   "language": "python",
   "name": "python3"
  },
  "language_info": {
   "codemirror_mode": {
    "name": "ipython",
    "version": 3
   },
   "file_extension": ".py",
   "mimetype": "text/x-python",
   "name": "python",
   "nbconvert_exporter": "python",
   "pygments_lexer": "ipython3",
   "version": "3.9.6"
  }
 },
 "nbformat": 4,
 "nbformat_minor": 4
}

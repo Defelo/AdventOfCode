{
 "cells": [
  {
   "cell_type": "code",
   "execution_count": 1,
   "metadata": {},
   "outputs": [
    {
     "data": {
      "text/markdown": [
       "# Day 19"
      ],
      "text/plain": [
       "<IPython.core.display.Markdown object>"
      ]
     },
     "metadata": {},
     "output_type": "display_data"
    }
   ],
   "source": [
    "import sys; sys.path.insert(0, \"..\")\n",
    "\n",
    "import aoc\n",
    "\n",
    "year, day = 2018, 19\n",
    "\n",
    "puzzle = aoc.setup(year, day)\n",
    "plines = puzzle.splitlines()"
   ]
  },
  {
   "cell_type": "markdown",
   "metadata": {},
   "source": [
    "### Puzzle 1"
   ]
  },
  {
   "cell_type": "code",
   "execution_count": 2,
   "metadata": {},
   "outputs": [],
   "source": [
    "opcodes = {\n",
    "    \"addr\": lambda reg, a, b: reg[a] + reg[b],   # addr\n",
    "    \"addi\": lambda reg, a, b: reg[a] + b,        # addi\n",
    "    \"mulr\": lambda reg, a, b: reg[a] * reg[b],   # mulr\n",
    "    \"muli\": lambda reg, a, b: reg[a] * b,        # muli\n",
    "    \"banr\": lambda reg, a, b: reg[a] & reg[b],   # banr\n",
    "    \"bani\": lambda reg, a, b: reg[a] & b,        # bani\n",
    "    \"borr\": lambda reg, a, b: reg[a] | reg[b],   # borr\n",
    "    \"bori\": lambda reg, a, b: reg[a] | b,        # bori\n",
    "    \"setr\": lambda reg, a, b: reg[a],            # setr\n",
    "    \"seti\": lambda reg, a, b: a,                 # seti\n",
    "    \"gtir\": lambda reg, a, b: a > reg[b],        # gtir\n",
    "    \"gtri\": lambda reg, a, b: reg[a] > b,        # gtri\n",
    "    \"gtrr\": lambda reg, a, b: reg[a] > reg[b],   # gtrr\n",
    "    \"eqir\": lambda reg, a, b: a == reg[b],       # eqir\n",
    "    \"eqri\": lambda reg, a, b: reg[a] == b,       # eqri\n",
    "    \"eqrr\": lambda reg, a, b: reg[a] == reg[b],  # eqrr\n",
    "}\n",
    "\n",
    "def exec_opcode(reg, op, a, b, c):\n",
    "    reg[c] = int(opcodes[op](reg, a, b))"
   ]
  },
  {
   "cell_type": "code",
   "execution_count": 3,
   "metadata": {},
   "outputs": [
    {
     "data": {
      "text/plain": [
       "1568"
      ]
     },
     "execution_count": 3,
     "metadata": {},
     "output_type": "execute_result"
    }
   ],
   "source": [
    "def solve1():\n",
    "    ip, *instructions = plines\n",
    "    ip = int(ip.split()[1])\n",
    "    reg = [0] * 6\n",
    "    while reg[ip] in range(len(instructions)):\n",
    "        op, a, b, c = instructions[reg[ip]].split()\n",
    "        exec_opcode(reg, op, *map(int, [a,b,c]))\n",
    "        reg[ip] += 1\n",
    "    return reg[0]\n",
    "\n",
    "solve1()"
   ]
  },
  {
   "cell_type": "code",
   "execution_count": 4,
   "metadata": {},
   "outputs": [
    {
     "name": "stdout",
     "output_type": "stream",
     "text": [
      "13.5 s ± 619 ms per loop (mean ± std. dev. of 7 runs, 1 loop each)\n"
     ]
    }
   ],
   "source": [
    "%timeit solve1()"
   ]
  },
  {
   "cell_type": "markdown",
   "metadata": {},
   "source": [
    "### Puzzle 2"
   ]
  },
  {
   "cell_type": "code",
   "execution_count": 5,
   "metadata": {},
   "outputs": [
    {
     "name": "stdout",
     "output_type": "stream",
     "text": [
      "000| ip += 16\n",
      "001| r5 = 1\n",
      "002| r3 = 1\n",
      "003| r4 = r5 * r3\n",
      "004| r4 = r4 == r1\n",
      "005| ip += r4\n",
      "006| ip += 1\n",
      "007| r0 += r5\n",
      "008| r3 += 1\n",
      "009| r4 = r3 > r1\n",
      "010| ip += r4\n",
      "011| ip = 2\n",
      "012| r5 += 1\n",
      "013| r4 = r5 > r1\n",
      "014| ip += r4\n",
      "015| ip = 1\n",
      "016| ip *= ip\n",
      "017| r1 += 2\n",
      "018| r1 *= r1\n",
      "019| r1 *= ip\n",
      "020| r1 *= 11\n",
      "021| r4 += 2\n",
      "022| r4 *= ip\n",
      "023| r4 += 12\n",
      "024| r1 += r4\n",
      "025| ip += r0\n",
      "026| ip = 0\n",
      "027| r4 = ip\n",
      "028| r4 *= ip\n",
      "029| r4 += ip\n",
      "030| r4 *= ip\n",
      "031| r4 *= 14\n",
      "032| r4 *= ip\n",
      "033| r1 += r4\n",
      "034| r0 = 0\n",
      "035| ip = 0\n"
     ]
    }
   ],
   "source": [
    "ip, *instructions = plines\n",
    "ip = int(ip.split()[1])\n",
    "\n",
    "reg = lambda i: \"ip\" if i == ip else f\"r{i}\"\n",
    "\n",
    "for i, (op, a, b, c) in enumerate(map(str.split, instructions)):\n",
    "    a, b, c = map(int, [a, b, c])\n",
    "    if op[:2] in [\"eq\", \"gt\"]:\n",
    "        print(f\"{i:03}| {reg(c)} = {reg(a) if op[2]=='r' else a} { {'eq':'==','gt':'>'}[op[:2]]} {reg(b) if op[3]=='r' else b}\")\n",
    "    elif op[:3] == \"set\":\n",
    "        print(f\"{i:03}| {reg(c)} = {reg(a) if op[-1]=='r' else a}\")\n",
    "    else:\n",
    "        if a == c:\n",
    "            print(f\"{i:03}| {reg(c)} { {'add':'+','mul':'*','ban':'&','bor':'|'}[op[:3]]}= {reg(b) if op[-1]=='r' else b}\")        \n",
    "        elif b == c and op[-1] == \"r\":\n",
    "            print(f\"{i:03}| {reg(c)} { {'add':'+','mul':'*','ban':'&','bor':'|'}[op[:3]]}= {reg(a)}\")        \n",
    "        else:\n",
    "            print(f\"{i:03}| {reg(c)} = {reg(a)} { {'add':'+','mul':'*','ban':'&','bor':'|'}[op[:3]]} {reg(b) if op[-1]=='r' else b}\")        \n",
    "            "
   ]
  },
  {
   "cell_type": "code",
   "execution_count": 6,
   "metadata": {},
   "outputs": [
    {
     "data": {
      "text/plain": [
       "19030032"
      ]
     },
     "execution_count": 6,
     "metadata": {},
     "output_type": "execute_result"
    }
   ],
   "source": [
    "r1 = 2 * 2 * 19 * 11 + 2 * 22 + 12 + (27 * 28 + 29) * 30 * 14 * 32\n",
    "r0 = 0\n",
    "\n",
    "for r5 in range(1, r1 + 1):\n",
    "    if r1 % r5 == 0: r0 += r5\n",
    "#     for r3 in range(1, r1 + 1):\n",
    "#         if r3 == r1 / r5: r0 += r5\n",
    "\n",
    "r0"
   ]
  }
 ],
 "metadata": {
  "kernelspec": {
   "display_name": "Python 3 (ipykernel)",
   "language": "python",
   "name": "python3"
  },
  "language_info": {
   "codemirror_mode": {
    "name": "ipython",
    "version": 3
   },
   "file_extension": ".py",
   "mimetype": "text/x-python",
   "name": "python",
   "nbconvert_exporter": "python",
   "pygments_lexer": "ipython3",
   "version": "3.9.6"
  }
 },
 "nbformat": 4,
 "nbformat_minor": 4
}

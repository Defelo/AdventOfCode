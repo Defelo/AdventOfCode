{
 "cells": [
  {
   "cell_type": "code",
   "execution_count": 1,
   "metadata": {},
   "outputs": [
    {
     "data": {
      "text/markdown": [
       "# Day 18"
      ],
      "text/plain": [
       "<IPython.core.display.Markdown object>"
      ]
     },
     "metadata": {},
     "output_type": "display_data"
    }
   ],
   "source": [
    "import sys; sys.path.insert(0, \"..\")\n",
    "\n",
    "import aoc\n",
    "\n",
    "year, day = 2018, 18\n",
    "\n",
    "puzzle = aoc.setup(year, day)\n",
    "plines = puzzle.splitlines()"
   ]
  },
  {
   "cell_type": "markdown",
   "metadata": {},
   "source": [
    "### Puzzle 1"
   ]
  },
  {
   "cell_type": "code",
   "execution_count": 2,
   "metadata": {},
   "outputs": [
    {
     "data": {
      "text/plain": [
       "594712"
      ]
     },
     "execution_count": 2,
     "metadata": {},
     "output_type": "execute_result"
    }
   ],
   "source": [
    "def cntAdj(grid, y, x, t):\n",
    "    return sum(grid[i][j] == t for i in range(y-1, y+2) for j in range(x-1, x+2) if (i, j) != (y, x) and i in range(len(grid)) and j in range(len(grid[i])))\n",
    "\n",
    "def solve1():\n",
    "    grid = plines\n",
    "    for _ in range(10):\n",
    "        new_grid = []\n",
    "        for i, line in enumerate(grid):\n",
    "            new_line = \"\"\n",
    "            for j, c in enumerate(line):\n",
    "                if c == \".\" and cntAdj(grid, i, j, \"|\") >= 3: new_line += \"|\"\n",
    "                elif c == \"|\" and cntAdj(grid, i, j, \"#\") >= 3: new_line += \"#\"\n",
    "                elif c == \"#\" and not (cntAdj(grid, i, j, \"#\") >= 1 and cntAdj(grid, i, j, \"|\") >= 1): new_line += \".\"\n",
    "                else: new_line += c\n",
    "            new_grid.append(new_line)\n",
    "        grid = new_grid\n",
    "    \n",
    "    a = sum(line.count(\"|\") for line in grid)\n",
    "    b = sum(line.count(\"#\") for line in grid)\n",
    "    return a * b\n",
    "\n",
    "solve1()"
   ]
  },
  {
   "cell_type": "code",
   "execution_count": 3,
   "metadata": {},
   "outputs": [
    {
     "name": "stdout",
     "output_type": "stream",
     "text": [
      "294 ms ± 69.5 ms per loop (mean ± std. dev. of 7 runs, 1 loop each)\n"
     ]
    }
   ],
   "source": [
    "%timeit solve1()"
   ]
  },
  {
   "cell_type": "markdown",
   "metadata": {},
   "source": [
    "## Puzzle 2"
   ]
  },
  {
   "cell_type": "code",
   "execution_count": 4,
   "metadata": {},
   "outputs": [
    {
     "data": {
      "text/plain": [
       "203138"
      ]
     },
     "execution_count": 4,
     "metadata": {},
     "output_type": "execute_result"
    }
   ],
   "source": [
    "def next_iteration(grid):\n",
    "    new_grid = []\n",
    "    for i, line in enumerate(grid):\n",
    "        new_line = \"\"\n",
    "        for j, c in enumerate(line):\n",
    "            if c == \".\" and cntAdj(grid, i, j, \"|\") >= 3: new_line += \"|\"\n",
    "            elif c == \"|\" and cntAdj(grid, i, j, \"#\") >= 3: new_line += \"#\"\n",
    "            elif c == \"#\" and not (cntAdj(grid, i, j, \"#\") >= 1 and cntAdj(grid, i, j, \"|\") >= 1): new_line += \".\"\n",
    "            else: new_line += c\n",
    "        new_grid.append(new_line)\n",
    "    return new_grid\n",
    "\n",
    "def solve2():\n",
    "    grid = plines\n",
    "    seen = {}\n",
    "    i = 0\n",
    "    while tuple(grid) not in seen:\n",
    "        seen[tuple(grid)] = i\n",
    "        grid = next_iteration(grid)\n",
    "        i += 1\n",
    "        \n",
    "    cycle = i - seen[tuple(grid)]\n",
    "    \n",
    "    for _ in range((1000000000 - i) % cycle):\n",
    "        grid = next_iteration(grid)\n",
    "        \n",
    "    a = sum(line.count(\"|\") for line in grid)\n",
    "    b = sum(line.count(\"#\") for line in grid)\n",
    "    return a * b\n",
    "\n",
    "solve2()"
   ]
  },
  {
   "cell_type": "code",
   "execution_count": 5,
   "metadata": {},
   "outputs": [
    {
     "name": "stdout",
     "output_type": "stream",
     "text": [
      "13.1 s ± 634 ms per loop (mean ± std. dev. of 7 runs, 1 loop each)\n"
     ]
    }
   ],
   "source": [
    "%timeit solve2()"
   ]
  }
 ],
 "metadata": {
  "kernelspec": {
   "display_name": "Python 3 (ipykernel)",
   "language": "python",
   "name": "python3"
  },
  "language_info": {
   "codemirror_mode": {
    "name": "ipython",
    "version": 3
   },
   "file_extension": ".py",
   "mimetype": "text/x-python",
   "name": "python",
   "nbconvert_exporter": "python",
   "pygments_lexer": "ipython3",
   "version": "3.9.6"
  }
 },
 "nbformat": 4,
 "nbformat_minor": 4
}

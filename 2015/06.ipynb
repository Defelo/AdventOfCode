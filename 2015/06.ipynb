{
 "cells": [
  {
   "cell_type": "code",
   "execution_count": 1,
   "metadata": {},
   "outputs": [
    {
     "data": {
      "text/markdown": [
       "# Day 06"
      ],
      "text/plain": [
       "<IPython.core.display.Markdown object>"
      ]
     },
     "metadata": {},
     "output_type": "display_data"
    }
   ],
   "source": [
    "import sys; sys.path.insert(0, \"..\")\n",
    "\n",
    "import aoc\n",
    "\n",
    "year, day = 2015, 6\n",
    "\n",
    "puzzle = aoc.setup(year, day)"
   ]
  },
  {
   "cell_type": "markdown",
   "metadata": {},
   "source": [
    "### Puzzle 1"
   ]
  },
  {
   "cell_type": "code",
   "execution_count": 11,
   "metadata": {},
   "outputs": [
    {
     "data": {
      "text/plain": [
       "377891"
      ]
     },
     "execution_count": 11,
     "metadata": {},
     "output_type": "execute_result"
    }
   ],
   "source": [
    "import re\n",
    "\n",
    "def parse_instructions(instructions):\n",
    "    out = []\n",
    "    for line in instructions:\n",
    "        inst, *coords = re.match(r\"^([a-z ]+) (\\d+),(\\d+) through (\\d+),(\\d+)$\", line).groups()\n",
    "        out.append(([\"turn off\", \"turn on\", \"toggle\"].index(inst), *map(int, coords)))\n",
    "    return out\n",
    "\n",
    "lights = [[0 for _ in range(1000)] for _ in range(1000)]\n",
    "for inst, x1, y1, x2, y2 in parse_instructions(puzzle.splitlines()):\n",
    "    for y in range(y1, y2+1):\n",
    "        for x in range(x1, x2+1):\n",
    "            lights[y][x] = 1 - lights[y][x] if inst == 2 else inst\n",
    "sum(map(sum, lights))"
   ]
  },
  {
   "cell_type": "markdown",
   "metadata": {},
   "source": [
    "### Puzzle 2"
   ]
  },
  {
   "cell_type": "code",
   "execution_count": 13,
   "metadata": {},
   "outputs": [
    {
     "data": {
      "text/plain": [
       "14110788"
      ]
     },
     "execution_count": 13,
     "metadata": {},
     "output_type": "execute_result"
    }
   ],
   "source": [
    "lights = [[0 for _ in range(1000)] for _ in range(1000)]\n",
    "for inst, x1, y1, x2, y2 in parse_instructions(puzzle.splitlines()):\n",
    "    for y in range(y1, y2+1):\n",
    "        for x in range(x1, x2+1):\n",
    "            lights[y][x] = max(0, lights[y][x] + (inst or -1))\n",
    "sum(map(sum, lights))"
   ]
  }
 ],
 "metadata": {
  "kernelspec": {
   "display_name": "Python 3",
   "language": "python",
   "name": "python3"
  },
  "language_info": {
   "codemirror_mode": {
    "name": "ipython",
    "version": 3
   },
   "file_extension": ".py",
   "mimetype": "text/x-python",
   "name": "python",
   "nbconvert_exporter": "python",
   "pygments_lexer": "ipython3",
   "version": "3.8.6"
  }
 },
 "nbformat": 4,
 "nbformat_minor": 4
}

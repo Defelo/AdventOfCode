{
 "cells": [
  {
   "cell_type": "code",
   "execution_count": 2,
   "metadata": {},
   "outputs": [
    {
     "data": {
      "text/markdown": [
       "# Day 22"
      ],
      "text/plain": [
       "<IPython.core.display.Markdown object>"
      ]
     },
     "metadata": {},
     "output_type": "display_data"
    }
   ],
   "source": [
    "import sys; sys.path.insert(0, \"..\")\n",
    "\n",
    "import aoc\n",
    "\n",
    "year, day = 2015, 22\n",
    "\n",
    "puzzle = aoc.setup(year, day)"
   ]
  },
  {
   "cell_type": "markdown",
   "metadata": {},
   "source": [
    "### Puzzle 1"
   ]
  },
  {
   "cell_type": "code",
   "execution_count": 9,
   "metadata": {},
   "outputs": [
    {
     "data": {
      "text/plain": [
       "1824"
      ]
     },
     "execution_count": 9,
     "metadata": {},
     "output_type": "execute_result"
    }
   ],
   "source": [
    "(*_, boss_hp), (*_, boss_damage) = map(str.split, puzzle.splitlines())\n",
    "boss_hp, boss_damage = map(int, [boss_hp, boss_damage])\n",
    "\n",
    "player_hp = 50\n",
    "player_mana = 500\n",
    "\n",
    "\n",
    "def tick(*timers):\n",
    "    return [max(0, t - 1) for t in timers]\n",
    "\n",
    "def fight_boss(player, boss, mana, shield_timer, poison_timer, recharge_timer):\n",
    "    armor = 7 if shield_timer else 0\n",
    "    if poison_timer:\n",
    "        boss -= 3\n",
    "    if recharge_timer:\n",
    "        mana += 101\n",
    "    shield_timer, poison_timer, recharge_timer = tick(shield_timer, poison_timer, recharge_timer)\n",
    "        \n",
    "    if boss <= 0:\n",
    "        return 0\n",
    "\n",
    "    return fight_player(player - max(1, boss_damage - armor), boss, mana, shield_timer, poison_timer, recharge_timer)\n",
    "\n",
    "def fight_player(player, boss, mana, shield_timer, poison_timer, recharge_timer):\n",
    "    if player <= 0:\n",
    "        return None\n",
    "    \n",
    "    if poison_timer:\n",
    "        boss -= 3\n",
    "    if recharge_timer:\n",
    "        mana += 101\n",
    "    shield_timer, poison_timer, recharge_timer = tick(shield_timer, poison_timer, recharge_timer)\n",
    "\n",
    "    if boss <= 0:\n",
    "        return 0\n",
    "\n",
    "    out = []\n",
    "    \n",
    "    # Magic Missile costs 53 mana. It instantly does 4 damage.\n",
    "    if mana >= 53 and (x := fight_boss(player, boss - 4, mana - 53, shield_timer, poison_timer, recharge_timer)) is not None:\n",
    "        out.append(x + 53)\n",
    "    \n",
    "    # Drain costs 73 mana. It instantly does 2 damage and heals you for 2 hit points.\n",
    "    if mana >= 73 and (x := fight_boss(player + 2, boss - 2, mana - 73, shield_timer, poison_timer, recharge_timer)) is not None:\n",
    "        out.append(x + 73)\n",
    "\n",
    "    # Shield costs 113 mana. It starts an effect that lasts for 6 turns. \n",
    "    # While it is active, your armor is increased by 7.\n",
    "    if mana >= 113 and not shield_timer and (x := fight_boss(player, boss, mana - 113, 6, poison_timer, recharge_timer)) is not None:\n",
    "        out.append(x + 113)\n",
    "    \n",
    "    # Poison costs 173 mana. It starts an effect that lasts for 6 turns. \n",
    "    # At the start of each turn while it is active, it deals the boss 3 damage.\n",
    "    if mana >= 173 and not poison_timer and (x := fight_boss(player, boss, mana - 173, shield_timer, 6, recharge_timer)) is not None:\n",
    "        out.append(x + 173)\n",
    "    \n",
    "    # Recharge costs 229 mana. It starts an effect that lasts for 5 turns. \n",
    "    # At the start of each turn while it is active, it gives you 101 new mana.\n",
    "    if mana >= 229 and not recharge_timer and (x := fight_boss(player, boss, mana - 229, shield_timer, poison_timer, 5)) is not None:\n",
    "        out.append(x + 229)\n",
    "    \n",
    "    return min(out, default=None)\n",
    "\n",
    "\n",
    "fight_player(player_hp, boss_hp, player_mana, 0, 0, 0)"
   ]
  },
  {
   "cell_type": "markdown",
   "metadata": {},
   "source": [
    "### Puzzle 2"
   ]
  },
  {
   "cell_type": "code",
   "execution_count": 10,
   "metadata": {},
   "outputs": [
    {
     "data": {
      "text/plain": [
       "1937"
      ]
     },
     "execution_count": 10,
     "metadata": {},
     "output_type": "execute_result"
    }
   ],
   "source": [
    "def fight_player(player, boss, mana, shield_timer, poison_timer, recharge_timer):\n",
    "    player -= 1\n",
    "    if player <= 0:\n",
    "        return None\n",
    "    \n",
    "    if poison_timer:\n",
    "        boss -= 3\n",
    "    if recharge_timer:\n",
    "        mana += 101\n",
    "    shield_timer, poison_timer, recharge_timer = tick(shield_timer, poison_timer, recharge_timer)\n",
    "\n",
    "    if boss <= 0:\n",
    "        return 0\n",
    "\n",
    "    out = []\n",
    "    \n",
    "    # Magic Missile costs 53 mana. It instantly does 4 damage.\n",
    "    if mana >= 53 and (x := fight_boss(player, boss - 4, mana - 53, shield_timer, poison_timer, recharge_timer)) is not None:\n",
    "        out.append(x + 53)\n",
    "    \n",
    "    # Drain costs 73 mana. It instantly does 2 damage and heals you for 2 hit points.\n",
    "    if mana >= 73 and (x := fight_boss(player + 2, boss - 2, mana - 73, shield_timer, poison_timer, recharge_timer)) is not None:\n",
    "        out.append(x + 73)\n",
    "\n",
    "    # Shield costs 113 mana. It starts an effect that lasts for 6 turns. \n",
    "    # While it is active, your armor is increased by 7.\n",
    "    if mana >= 113 and not shield_timer and (x := fight_boss(player, boss, mana - 113, 6, poison_timer, recharge_timer)) is not None:\n",
    "        out.append(x + 113)\n",
    "    \n",
    "    # Poison costs 173 mana. It starts an effect that lasts for 6 turns. \n",
    "    # At the start of each turn while it is active, it deals the boss 3 damage.\n",
    "    if mana >= 173 and not poison_timer and (x := fight_boss(player, boss, mana - 173, shield_timer, 6, recharge_timer)) is not None:\n",
    "        out.append(x + 173)\n",
    "    \n",
    "    # Recharge costs 229 mana. It starts an effect that lasts for 5 turns. \n",
    "    # At the start of each turn while it is active, it gives you 101 new mana.\n",
    "    if mana >= 229 and not recharge_timer and (x := fight_boss(player, boss, mana - 229, shield_timer, poison_timer, 5)) is not None:\n",
    "        out.append(x + 229)\n",
    "    \n",
    "    return min(out, default=None)\n",
    "\n",
    "\n",
    "fight_player(player_hp, boss_hp, player_mana, 0, 0, 0)"
   ]
  }
 ],
 "metadata": {
  "kernelspec": {
   "display_name": "Python 3",
   "language": "python",
   "name": "python3"
  },
  "language_info": {
   "codemirror_mode": {
    "name": "ipython",
    "version": 3
   },
   "file_extension": ".py",
   "mimetype": "text/x-python",
   "name": "python",
   "nbconvert_exporter": "python",
   "pygments_lexer": "ipython3",
   "version": "3.8.6"
  }
 },
 "nbformat": 4,
 "nbformat_minor": 4
}

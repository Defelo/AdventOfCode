{
 "cells": [
  {
   "cell_type": "code",
   "execution_count": 1,
   "metadata": {},
   "outputs": [
    {
     "data": {
      "text/markdown": [
       "# Day 12"
      ],
      "text/plain": [
       "<IPython.core.display.Markdown object>"
      ]
     },
     "metadata": {},
     "output_type": "display_data"
    }
   ],
   "source": [
    "import sys; sys.path.insert(0, \"..\")\n",
    "\n",
    "import aoc\n",
    "\n",
    "year, day = 2018, 12\n",
    "\n",
    "puzzle = aoc.setup(year, day)\n",
    "plines = puzzle.splitlines()"
   ]
  },
  {
   "cell_type": "markdown",
   "metadata": {},
   "source": [
    "### Puzzle 1"
   ]
  },
  {
   "cell_type": "code",
   "execution_count": 31,
   "metadata": {},
   "outputs": [
    {
     "data": {
      "text/plain": [
       "3230"
      ]
     },
     "execution_count": 31,
     "metadata": {},
     "output_type": "execute_result"
    }
   ],
   "source": [
    "def solve1():\n",
    "    state, _, *rules = plines\n",
    "    state = {i for i, x in enumerate(state.split()[-1]) if x == \"#\"}\n",
    "    rules = [x.split()[-1] == \"#\" for x in sorted(rules, reverse=True)]\n",
    "    \n",
    "    for _ in range(20):\n",
    "        nums = {k+i-2 for k in state for i in range(5)}\n",
    "        state = {\n",
    "            k\n",
    "            for k in nums\n",
    "            if rules[sum(((k+i-2) in state) * (2**(4-i)) for i in range(5))]\n",
    "        }\n",
    "    return sum(state)\n",
    "\n",
    "solve1()"
   ]
  },
  {
   "cell_type": "code",
   "execution_count": null,
   "metadata": {},
   "outputs": [],
   "source": [
    "%timeit solve1()"
   ]
  },
  {
   "cell_type": "markdown",
   "metadata": {},
   "source": [
    "### Puzzle 2"
   ]
  },
  {
   "cell_type": "code",
   "execution_count": 42,
   "metadata": {},
   "outputs": [
    {
     "name": "stdout",
     "output_type": "stream",
     "text": [
      "4400000000304\n"
     ]
    }
   ],
   "source": [
    "def solve2():\n",
    "    state, _, *rules = plines\n",
    "    state = {i for i, x in enumerate(state.split()[-1]) if x == \"#\"}\n",
    "    rules = [x.split()[-1] == \"#\" for x in sorted(rules, reverse=True)]\n",
    "    \n",
    "    last = None\n",
    "    for _ in range(200):\n",
    "        nums = {k+i-2 for k in state for i in range(5)}\n",
    "        state = {\n",
    "            k\n",
    "            for k in nums\n",
    "            if rules[sum(((k+i-2) in state) * (2**(4-i)) for i in range(5))]\n",
    "        }\n",
    "        s = sum(state)\n",
    "        step = s - last if last is not None else None\n",
    "        last = s\n",
    "    print(s + step * (50000000000 - 200))\n",
    "\n",
    "solve2()"
   ]
  },
  {
   "cell_type": "code",
   "execution_count": null,
   "metadata": {},
   "outputs": [],
   "source": [
    "%timeit solve2()"
   ]
  }
 ],
 "metadata": {
  "kernelspec": {
   "display_name": "Python 3 (ipykernel)",
   "language": "python",
   "name": "python3"
  },
  "language_info": {
   "codemirror_mode": {
    "name": "ipython",
    "version": 3
   },
   "file_extension": ".py",
   "mimetype": "text/x-python",
   "name": "python",
   "nbconvert_exporter": "python",
   "pygments_lexer": "ipython3",
   "version": "3.9.6"
  }
 },
 "nbformat": 4,
 "nbformat_minor": 4
}

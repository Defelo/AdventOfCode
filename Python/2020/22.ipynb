{
 "cells": [
  {
   "cell_type": "code",
   "execution_count": 1,
   "metadata": {},
   "outputs": [
    {
     "data": {
      "text/markdown": [
       "# Day 22"
      ],
      "text/plain": [
       "<IPython.core.display.Markdown object>"
      ]
     },
     "metadata": {},
     "output_type": "display_data"
    }
   ],
   "source": [
    "import sys; sys.path.insert(0, \"..\")\n",
    "\n",
    "import aoc\n",
    "\n",
    "year, day = 2020, 22\n",
    "\n",
    "puzzle = aoc.setup(year, day)\n",
    "plines = puzzle.splitlines()"
   ]
  },
  {
   "cell_type": "markdown",
   "metadata": {},
   "source": [
    "### Puzzle 1"
   ]
  },
  {
   "cell_type": "code",
   "execution_count": 2,
   "metadata": {},
   "outputs": [
    {
     "data": {
      "text/plain": [
       "32199"
      ]
     },
     "execution_count": 2,
     "metadata": {},
     "output_type": "execute_result"
    }
   ],
   "source": [
    "def solve1():\n",
    "    p1, p2 = [[*map(int,x.splitlines()[1:])] for x in puzzle.split(\"\\n\\n\")]\n",
    "    while p1 and p2:\n",
    "        if p1[0] > p2[0]:\n",
    "            p1.append(p1.pop(0))\n",
    "            p1.append(p2.pop(0))\n",
    "        else:\n",
    "            p2.append(p2.pop(0))\n",
    "            p2.append(p1.pop(0))\n",
    "    return sum((i+1)*x for i, x in enumerate(reversed(p1 or p2)))\n",
    "\n",
    "solve1()"
   ]
  },
  {
   "cell_type": "code",
   "execution_count": 3,
   "metadata": {},
   "outputs": [
    {
     "data": {
      "text/plain": [
       "32199"
      ]
     },
     "execution_count": 3,
     "metadata": {},
     "output_type": "execute_result"
    }
   ],
   "source": [
    "solve1m=lambda:(p:=[[*map(int,x.split()[2:])]for x in puzzle.split(\"\\n\\n\")],next(0 for()in iter(list,0)if not(p[0]and p[1])or p[(x:=(k:=[p[0].pop(0),p[1].pop(0)])[0]<k[1])].extend([k[x],k[1-x]])))and sum(x*(i+1)for i,x in enumerate((p[0]+p[1])[::-1]))\n",
    "\n",
    "solve1m()"
   ]
  },
  {
   "cell_type": "code",
   "execution_count": 4,
   "metadata": {},
   "outputs": [
    {
     "name": "stdout",
     "output_type": "stream",
     "text": [
      "131 µs ± 1.99 µs per loop (mean ± std. dev. of 7 runs, 10000 loops each)\n",
      "226 µs ± 8.06 µs per loop (mean ± std. dev. of 7 runs, 1000 loops each)\n"
     ]
    }
   ],
   "source": [
    "%timeit solve1()\n",
    "%timeit solve1m()"
   ]
  },
  {
   "cell_type": "markdown",
   "metadata": {},
   "source": [
    "### Puzzle 2"
   ]
  },
  {
   "cell_type": "code",
   "execution_count": 5,
   "metadata": {},
   "outputs": [
    {
     "data": {
      "text/plain": [
       "33780"
      ]
     },
     "execution_count": 5,
     "metadata": {},
     "output_type": "execute_result"
    }
   ],
   "source": [
    "def combat(p1, p2):\n",
    "    seen = set()\n",
    "    \n",
    "    while p1 and p2:\n",
    "        if (k := (tuple(p1), tuple(p2))) in seen:\n",
    "            return 0, None\n",
    "        seen.add(k)\n",
    "\n",
    "        c1 = p1.pop(0)\n",
    "        c2 = p2.pop(0)\n",
    "        \n",
    "        if len(p1) >= c1 and len(p2) >= c2:\n",
    "            winner, _ = combat(p1[:c1], p2[:c2])\n",
    "        else:\n",
    "            winner = c2 > c1\n",
    "        \n",
    "        if not winner:\n",
    "            p1.append(c1)\n",
    "            p1.append(c2)\n",
    "        else:\n",
    "            p2.append(c2)\n",
    "            p2.append(c1)\n",
    "    \n",
    "    return bool(p2), p1 or p2\n",
    "    \n",
    "\n",
    "def solve2():\n",
    "    p1, p2 = [[*map(int,x.splitlines()[1:])] for x in puzzle.split(\"\\n\\n\")]\n",
    "    _, p = combat(p1, p2)\n",
    "    return sum((i+1)*x for i, x in enumerate(reversed(p)))\n",
    "\n",
    "solve2()"
   ]
  },
  {
   "cell_type": "code",
   "execution_count": 6,
   "metadata": {},
   "outputs": [
    {
     "data": {
      "text/plain": [
       "33780"
      ]
     },
     "execution_count": 6,
     "metadata": {},
     "output_type": "execute_result"
    }
   ],
   "source": [
    "solve2m=lambda:(c:=lambda p,q:(s:=set())or next(f*(bool(q),p+q)or(0,)for()in iter(list,0)if (f:=not(p and q))or(k:=(tuple(p),tuple(q)))in s or s.add(k)or[p,q][(w:=c(p[:d[0]],q[:d[1]])[0]if(d:=[p.pop(0),q.pop(0)])[0]<=len(p)and d[1]<=len(q)else d[1]>d[0])].extend(d[::1-2*w])))and sum(x*(i+1)for i,x in enumerate((c(*[[*map(int,x.split()[2:])]for x in puzzle.split(\"\\n\\n\")])[1])[::-1]))\n",
    "\n",
    "solve2m()"
   ]
  },
  {
   "cell_type": "code",
   "execution_count": 7,
   "metadata": {},
   "outputs": [
    {
     "name": "stdout",
     "output_type": "stream",
     "text": [
      "1.41 s ± 74.6 ms per loop (mean ± std. dev. of 7 runs, 1 loop each)\n",
      "1.85 s ± 45.3 ms per loop (mean ± std. dev. of 7 runs, 1 loop each)\n"
     ]
    }
   ],
   "source": [
    "%timeit solve2()\n",
    "%timeit solve2m()"
   ]
  }
 ],
 "metadata": {
  "kernelspec": {
   "display_name": "Python 3",
   "language": "python",
   "name": "python3"
  },
  "language_info": {
   "codemirror_mode": {
    "name": "ipython",
    "version": 3
   },
   "file_extension": ".py",
   "mimetype": "text/x-python",
   "name": "python",
   "nbconvert_exporter": "python",
   "pygments_lexer": "ipython3",
   "version": "3.8.6"
  }
 },
 "nbformat": 4,
 "nbformat_minor": 4
}

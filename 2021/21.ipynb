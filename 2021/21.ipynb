{
 "cells": [
  {
   "cell_type": "code",
   "execution_count": 1,
   "metadata": {},
   "outputs": [
    {
     "data": {
      "text/plain": "<IPython.core.display.Markdown object>",
      "text/markdown": "# Day 21"
     },
     "metadata": {},
     "output_type": "display_data"
    }
   ],
   "source": [
    "import sys; sys.path.insert(0, \"..\")\n",
    "\n",
    "from utils import *\n",
    "import aoc\n",
    "\n",
    "year, day = 2021, 21\n",
    "\n",
    "puzzle = aoc.setup(year, day)\n",
    "plines = puzzle.splitlines()"
   ]
  },
  {
   "cell_type": "markdown",
   "metadata": {},
   "source": [
    "### Puzzle 1"
   ]
  },
  {
   "cell_type": "code",
   "execution_count": 2,
   "metadata": {},
   "outputs": [
    {
     "data": {
      "text/plain": "1067724"
     },
     "execution_count": 2,
     "metadata": {},
     "output_type": "execute_result"
    }
   ],
   "source": [
    "def solve1():\n",
    "    players = [int(line.split()[-1]) for line in plines]\n",
    "    scores = [0, 0]\n",
    "    die = 0\n",
    "    k = 0\n",
    "    while max(scores) < 1000:\n",
    "        x = sum((die + i) % 100 + 1 for i in range(3))\n",
    "        die += 3\n",
    "        players[k] = (players[k] - 1 + x) % 10 + 1\n",
    "        scores[k] += players[k]\n",
    "        k = (k + 1) % 2\n",
    "\n",
    "    return scores[k] * die\n",
    "\n",
    "solve1()"
   ]
  },
  {
   "cell_type": "code",
   "execution_count": 3,
   "metadata": {},
   "outputs": [
    {
     "name": "stdout",
     "output_type": "stream",
     "text": [
      "679 µs ± 73.7 µs per loop (mean ± std. dev. of 7 runs, 1000 loops each)\n"
     ]
    }
   ],
   "source": [
    "%timeit solve1()"
   ]
  },
  {
   "cell_type": "markdown",
   "metadata": {},
   "source": [
    "### Puzzle 2"
   ]
  },
  {
   "cell_type": "code",
   "execution_count": 4,
   "metadata": {},
   "outputs": [
    {
     "data": {
      "text/plain": "630947104784464"
     },
     "execution_count": 4,
     "metadata": {},
     "output_type": "execute_result"
    }
   ],
   "source": [
    "@functools.cache\n",
    "def dirac(p1, p2, s1, s2, k):\n",
    "    if s1 >= 21:\n",
    "        return 1, 0\n",
    "    if s2 >= 21:\n",
    "        return 0, 1\n",
    "\n",
    "    p = [p1, p2][k]\n",
    "    s = [s1, s2][k]\n",
    "    out = [0, 0]\n",
    "    for x in map(sum, itertools.product([1, 2, 3], repeat=3)):\n",
    "        q = (p - 1 + x) % 10 + 1\n",
    "        if k == 0:\n",
    "            res = dirac(q, p2, s + q, s2, 1)\n",
    "        else:\n",
    "            res = dirac(p1, q, s1, s + q, 0)\n",
    "        for i in range(2):\n",
    "            out[i] += res[i]\n",
    "\n",
    "    return tuple(out)\n",
    "\n",
    "\n",
    "def solve2():\n",
    "    dirac.cache_clear()\n",
    "    players = [int(line.split()[-1]) for line in plines]\n",
    "    return max(dirac(*players, 0, 0, 0))\n",
    "\n",
    "solve2()"
   ]
  },
  {
   "cell_type": "code",
   "execution_count": 5,
   "metadata": {},
   "outputs": [
    {
     "name": "stdout",
     "output_type": "stream",
     "text": [
      "846 ms ± 123 ms per loop (mean ± std. dev. of 7 runs, 1 loop each)\n"
     ]
    }
   ],
   "source": [
    "%timeit solve2()"
   ]
  }
 ],
 "metadata": {
  "kernelspec": {
   "display_name": "Python 3",
   "language": "python",
   "name": "python3"
  },
  "language_info": {
   "codemirror_mode": {
    "name": "ipython",
    "version": 3
   },
   "file_extension": ".py",
   "mimetype": "text/x-python",
   "name": "python",
   "nbconvert_exporter": "python",
   "pygments_lexer": "ipython3",
   "version": "3.8.6"
  }
 },
 "nbformat": 4,
 "nbformat_minor": 4
}
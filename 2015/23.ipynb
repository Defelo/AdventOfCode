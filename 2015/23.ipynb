{
 "cells": [
  {
   "cell_type": "code",
   "execution_count": 1,
   "metadata": {},
   "outputs": [
    {
     "data": {
      "text/markdown": [
       "# Day 23"
      ],
      "text/plain": [
       "<IPython.core.display.Markdown object>"
      ]
     },
     "metadata": {},
     "output_type": "display_data"
    }
   ],
   "source": [
    "import sys; sys.path.insert(0, \"..\")\n",
    "\n",
    "import aoc\n",
    "\n",
    "year, day = 2015, 23\n",
    "\n",
    "puzzle = aoc.setup(year, day)"
   ]
  },
  {
   "cell_type": "markdown",
   "metadata": {},
   "source": [
    "### Puzzle 1"
   ]
  },
  {
   "cell_type": "code",
   "execution_count": 4,
   "metadata": {},
   "outputs": [
    {
     "data": {
      "text/plain": [
       "170"
      ]
     },
     "execution_count": 4,
     "metadata": {},
     "output_type": "execute_result"
    }
   ],
   "source": [
    "program = puzzle.splitlines()\n",
    "pc = 0\n",
    "registers = {\"a\": 0, \"b\": 0}\n",
    "while pc < len(program):\n",
    "    cmd, args = program[pc].split(maxsplit=1)\n",
    "    args = args.split(\", \")\n",
    "    if cmd == \"hlf\":\n",
    "        registers[args[0]] //= 2\n",
    "        pc += 1\n",
    "    elif cmd == \"tpl\":\n",
    "        registers[args[0]] *= 3\n",
    "        pc += 1\n",
    "    elif cmd == \"inc\":\n",
    "        registers[args[0]] += 1\n",
    "        pc += 1\n",
    "    elif cmd == \"jmp\":\n",
    "        pc += int(args[0])\n",
    "    elif cmd == \"jie\":\n",
    "        pc += int(args[1]) if registers[args[0]] % 2 == 0 else 1\n",
    "    elif cmd == \"jio\":\n",
    "        pc += int(args[1]) if registers[args[0]] == 1 else 1\n",
    "    else:\n",
    "        break\n",
    "\n",
    "registers[\"b\"]"
   ]
  },
  {
   "cell_type": "markdown",
   "metadata": {},
   "source": [
    "### Puzzle 2"
   ]
  },
  {
   "cell_type": "code",
   "execution_count": 5,
   "metadata": {},
   "outputs": [
    {
     "data": {
      "text/plain": [
       "247"
      ]
     },
     "execution_count": 5,
     "metadata": {},
     "output_type": "execute_result"
    }
   ],
   "source": [
    "pc = 0\n",
    "registers = {\"a\": 1, \"b\": 0}\n",
    "while pc < len(program):\n",
    "    cmd, args = program[pc].split(maxsplit=1)\n",
    "    args = args.split(\", \")\n",
    "    if cmd == \"hlf\":\n",
    "        registers[args[0]] //= 2\n",
    "        pc += 1\n",
    "    elif cmd == \"tpl\":\n",
    "        registers[args[0]] *= 3\n",
    "        pc += 1\n",
    "    elif cmd == \"inc\":\n",
    "        registers[args[0]] += 1\n",
    "        pc += 1\n",
    "    elif cmd == \"jmp\":\n",
    "        pc += int(args[0])\n",
    "    elif cmd == \"jie\":\n",
    "        pc += int(args[1]) if registers[args[0]] % 2 == 0 else 1\n",
    "    elif cmd == \"jio\":\n",
    "        pc += int(args[1]) if registers[args[0]] == 1 else 1\n",
    "    else:\n",
    "        break\n",
    "\n",
    "registers[\"b\"]"
   ]
  }
 ],
 "metadata": {
  "kernelspec": {
   "display_name": "Python 3",
   "language": "python",
   "name": "python3"
  },
  "language_info": {
   "codemirror_mode": {
    "name": "ipython",
    "version": 3
   },
   "file_extension": ".py",
   "mimetype": "text/x-python",
   "name": "python",
   "nbconvert_exporter": "python",
   "pygments_lexer": "ipython3",
   "version": "3.8.6"
  }
 },
 "nbformat": 4,
 "nbformat_minor": 4
}

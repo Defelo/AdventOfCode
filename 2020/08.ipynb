{
 "cells": [
  {
   "cell_type": "code",
   "execution_count": 1,
   "metadata": {},
   "outputs": [
    {
     "data": {
      "text/markdown": [
       "# Day 08"
      ],
      "text/plain": [
       "<IPython.core.display.Markdown object>"
      ]
     },
     "metadata": {},
     "output_type": "display_data"
    }
   ],
   "source": [
    "import sys; sys.path.insert(0, \"..\")\n",
    "\n",
    "import aoc\n",
    "\n",
    "year, day = 2020, 8\n",
    "\n",
    "puzzle = aoc.setup(year, day)\n",
    "plines = puzzle.splitlines()"
   ]
  },
  {
   "cell_type": "markdown",
   "metadata": {},
   "source": [
    "### Puzzle 1"
   ]
  },
  {
   "cell_type": "code",
   "execution_count": 2,
   "metadata": {},
   "outputs": [
    {
     "data": {
      "text/plain": [
       "1654"
      ]
     },
     "execution_count": 2,
     "metadata": {},
     "output_type": "execute_result"
    }
   ],
   "source": [
    "def solve1():\n",
    "    acc = 0\n",
    "    pc = 0\n",
    "    seen = set()\n",
    "    while pc < len(plines):\n",
    "        if pc in seen:\n",
    "            break\n",
    "        seen.add(pc)\n",
    "        \n",
    "        a, b = plines[pc].split()\n",
    "        if a == \"acc\":\n",
    "            acc += int(b)\n",
    "            pc += 1\n",
    "        elif a == \"jmp\":\n",
    "            pc += int(b)\n",
    "        elif a == \"nop\":\n",
    "            pc += 1\n",
    "    return acc\n",
    "\n",
    "solve1()"
   ]
  },
  {
   "cell_type": "code",
   "execution_count": 3,
   "metadata": {},
   "outputs": [
    {
     "data": {
      "text/plain": [
       "1654"
      ]
     },
     "execution_count": 3,
     "metadata": {},
     "output_type": "execute_result"
    }
   ],
   "source": [
    "solve1m=lambda p=[0],a=[0]:[*iter(lambda:(p[-1]not in p[:-1]and(k:=plines[p[-1]].split(),a.append(a[-1]+(k[0]==\"acc\")*int(k[1])),p.append(p[-1]+(int(k[1])if\"jmp\"==k[0] else 1)))),False)]and a[-1]\n",
    "\n",
    "solve1m()"
   ]
  },
  {
   "cell_type": "code",
   "execution_count": 4,
   "metadata": {},
   "outputs": [
    {
     "name": "stdout",
     "output_type": "stream",
     "text": [
      "145 µs ± 5.14 µs per loop (mean ± std. dev. of 7 runs, 10000 loops each)\n",
      "2.22 µs ± 85.6 ns per loop (mean ± std. dev. of 7 runs, 100000 loops each)\n"
     ]
    }
   ],
   "source": [
    "%timeit solve1()\n",
    "%timeit solve1m()"
   ]
  },
  {
   "cell_type": "markdown",
   "metadata": {},
   "source": [
    "### Puzzle 2"
   ]
  },
  {
   "cell_type": "code",
   "execution_count": 5,
   "metadata": {},
   "outputs": [
    {
     "data": {
      "text/plain": [
       "833"
      ]
     },
     "execution_count": 5,
     "metadata": {},
     "output_type": "execute_result"
    }
   ],
   "source": [
    "def simulate(flip):\n",
    "    acc = 0\n",
    "    pc = 0\n",
    "    seen = set()\n",
    "    while pc < len(plines):\n",
    "        if pc in seen:\n",
    "            return None\n",
    "        seen.add(pc)\n",
    "        \n",
    "        a, b = plines[pc].split()\n",
    "        if pc == flip:\n",
    "            if a == \"nop\":\n",
    "                a = \"jmp\"\n",
    "            elif a == \"jmp\":\n",
    "                a = \"nop\"\n",
    "        if a == \"acc\":\n",
    "            acc += int(b)\n",
    "            pc += 1\n",
    "        elif a == \"jmp\":\n",
    "            pc += int(b)\n",
    "        elif a == \"nop\":\n",
    "            pc += 1\n",
    "            \n",
    "    return acc\n",
    "\n",
    "\n",
    "def solve2():\n",
    "    for i in range(len(plines)):\n",
    "        if (out := simulate(i)) is not None:\n",
    "            return out\n",
    "\n",
    "solve2()"
   ]
  },
  {
   "cell_type": "code",
   "execution_count": 6,
   "metadata": {},
   "outputs": [
    {
     "data": {
      "text/plain": [
       "833"
      ]
     },
     "execution_count": 6,
     "metadata": {},
     "output_type": "execute_result"
    }
   ],
   "source": [
    "solve2m=lambda:next(iter(y[1]for x in range(len(puzzle))if(y:=(lambda f,p=[0],a=[0],s=set():[*iter(lambda:((c:=p[-1])<len(plines)and c not in s and(s.add(c),k:=plines[c].split(),k[0]==\"acc\"and a.append(a.pop()+int(k[1])),p.append(p.pop()+(int(k[1])if\"jmp\"==k[0]and f!=c or\"nop\"==k[0]and f==c else 1)))),False)]and(p[-1]>=len(plines),a[-1]))(x))[0]))\n",
    "\n",
    "solve2m()"
   ]
  },
  {
   "cell_type": "code",
   "execution_count": 7,
   "metadata": {},
   "outputs": [
    {
     "name": "stdout",
     "output_type": "stream",
     "text": [
      "29.9 ms ± 740 µs per loop (mean ± std. dev. of 7 runs, 10 loops each)\n",
      "54.3 ms ± 3.72 ms per loop (mean ± std. dev. of 7 runs, 10 loops each)\n"
     ]
    }
   ],
   "source": [
    "%timeit solve2()\n",
    "%timeit solve2m()"
   ]
  }
 ],
 "metadata": {
  "kernelspec": {
   "display_name": "Python 3",
   "language": "python",
   "name": "python3"
  },
  "language_info": {
   "codemirror_mode": {
    "name": "ipython",
    "version": 3
   },
   "file_extension": ".py",
   "mimetype": "text/x-python",
   "name": "python",
   "nbconvert_exporter": "python",
   "pygments_lexer": "ipython3",
   "version": "3.8.6"
  }
 },
 "nbformat": 4,
 "nbformat_minor": 4
}

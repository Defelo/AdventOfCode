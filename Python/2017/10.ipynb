{
 "cells": [
  {
   "cell_type": "code",
   "execution_count": 1,
   "metadata": {},
   "outputs": [
    {
     "data": {
      "text/markdown": [
       "# Day 10"
      ],
      "text/plain": [
       "<IPython.core.display.Markdown object>"
      ]
     },
     "metadata": {},
     "output_type": "display_data"
    }
   ],
   "source": [
    "import sys; sys.path.insert(0, \"..\")\n",
    "\n",
    "import aoc\n",
    "\n",
    "year, day = 2017, 10\n",
    "\n",
    "puzzle = aoc.setup(year, day)\n",
    "plines = puzzle.splitlines()"
   ]
  },
  {
   "cell_type": "markdown",
   "metadata": {},
   "source": [
    "### Puzzle 1"
   ]
  },
  {
   "cell_type": "code",
   "execution_count": 2,
   "metadata": {},
   "outputs": [
    {
     "data": {
      "text/plain": [
       "20056"
      ]
     },
     "execution_count": 2,
     "metadata": {},
     "output_type": "execute_result"
    }
   ],
   "source": [
    "def solve1():\n",
    "    nums = [*range(256)]\n",
    "    pos = 0\n",
    "    skip = 0\n",
    "    \n",
    "    def rev(a, b):\n",
    "        a %= len(nums)\n",
    "        b = (b - a) % len(nums)\n",
    "        nums[:] = nums[a:] + nums[:a]\n",
    "        nums[:b] = nums[:b][::-1]\n",
    "        nums[:] = nums[-a:] + nums[:-a]\n",
    "    \n",
    "    for length in map(int, puzzle.split(\",\")):\n",
    "        rev(pos, pos + length)\n",
    "        pos += length + skip\n",
    "        skip += 1\n",
    "    return nums[0] * nums[1]\n",
    "\n",
    "solve1()"
   ]
  },
  {
   "cell_type": "code",
   "execution_count": 3,
   "metadata": {},
   "outputs": [
    {
     "name": "stdout",
     "output_type": "stream",
     "text": [
      "414 µs ± 123 µs per loop (mean ± std. dev. of 7 runs, 1000 loops each)\n"
     ]
    }
   ],
   "source": [
    "%timeit solve1()"
   ]
  },
  {
   "cell_type": "markdown",
   "metadata": {},
   "source": [
    "### Puzzle 2"
   ]
  },
  {
   "cell_type": "code",
   "execution_count": 4,
   "metadata": {},
   "outputs": [
    {
     "data": {
      "text/plain": [
       "'d9a7de4a809c56bf3a9465cb84392c8e'"
      ]
     },
     "execution_count": 4,
     "metadata": {},
     "output_type": "execute_result"
    }
   ],
   "source": [
    "def solve2():\n",
    "    lengths = [*map(ord, puzzle), 17, 31, 73, 47, 23]\n",
    "    nums = [*range(256)]\n",
    "    pos = 0\n",
    "    skip = 0\n",
    "    \n",
    "    def rev(a, b):\n",
    "        a %= len(nums)\n",
    "        b = (b - a) % len(nums)\n",
    "        nums[:] = nums[a:] + nums[:a]\n",
    "        nums[:b] = nums[:b][::-1]\n",
    "        nums[:] = nums[-a:] + nums[:-a]\n",
    "    \n",
    "    for _ in range(64):\n",
    "        for length in lengths:\n",
    "            rev(pos, pos + length)\n",
    "            pos += length + skip\n",
    "            skip += 1\n",
    "    \n",
    "    dense = []\n",
    "    for i in range(16):\n",
    "        x = 0\n",
    "        for j in range(16): x ^= nums[i*16+j]\n",
    "        dense.append(x)\n",
    "    \n",
    "    return \"\".join(f\"{x:02x}\" for x in dense)\n",
    "\n",
    "solve2()"
   ]
  },
  {
   "cell_type": "code",
   "execution_count": 5,
   "metadata": {},
   "outputs": [
    {
     "name": "stdout",
     "output_type": "stream",
     "text": [
      "60.4 ms ± 10.9 ms per loop (mean ± std. dev. of 7 runs, 10 loops each)\n"
     ]
    }
   ],
   "source": [
    "%timeit solve2()"
   ]
  }
 ],
 "metadata": {
  "kernelspec": {
   "display_name": "Python 3 (ipykernel)",
   "language": "python",
   "name": "python3"
  },
  "language_info": {
   "codemirror_mode": {
    "name": "ipython",
    "version": 3
   },
   "file_extension": ".py",
   "mimetype": "text/x-python",
   "name": "python",
   "nbconvert_exporter": "python",
   "pygments_lexer": "ipython3",
   "version": "3.9.6"
  }
 },
 "nbformat": 4,
 "nbformat_minor": 4
}

{
 "cells": [
  {
   "cell_type": "code",
   "execution_count": 1,
   "metadata": {},
   "outputs": [
    {
     "data": {
      "text/markdown": [
       "# Day 17"
      ],
      "text/plain": [
       "<IPython.core.display.Markdown object>"
      ]
     },
     "metadata": {},
     "output_type": "display_data"
    }
   ],
   "source": [
    "import sys; sys.path.insert(0, \"..\")\n",
    "\n",
    "import aoc\n",
    "\n",
    "year, day = 2018, 17\n",
    "\n",
    "puzzle = aoc.setup(year, day)\n",
    "plines = puzzle.splitlines()"
   ]
  },
  {
   "cell_type": "markdown",
   "metadata": {},
   "source": [
    "### Puzzle 1"
   ]
  },
  {
   "cell_type": "code",
   "execution_count": 2,
   "metadata": {},
   "outputs": [
    {
     "data": {
      "text/plain": [
       "37858"
      ]
     },
     "execution_count": 2,
     "metadata": {},
     "output_type": "execute_result"
    }
   ],
   "source": [
    "def solve1():\n",
    "    clay = set()\n",
    "    miny = 1e1337\n",
    "    maxy = 0\n",
    "    for line in plines:\n",
    "        a, b = line.split(\", \")\n",
    "        a = int(a.split(\"=\")[1])\n",
    "        b1, b2 = map(int, b.split(\"=\")[1].split(\"..\"))\n",
    "        for i in range(b1, b2+1):\n",
    "            if line[0] == \"x\": x, y = a, i\n",
    "            else: x, y = i, a\n",
    "            clay.add((x, y))\n",
    "            miny = min(y, miny)\n",
    "            maxy = max(y, maxy)\n",
    "    \n",
    "    reachable = set()\n",
    "    water = set()\n",
    "    dp = {}\n",
    "    def flow(x, y):\n",
    "        if y > maxy: return False\n",
    "        if (x, y) in clay: return True\n",
    "        if (x, y) in dp:\n",
    "            return dp[(x, y)]\n",
    "    \n",
    "        reachable.add((x, y))\n",
    "        \n",
    "        if not flow(x, y + 1):\n",
    "            dp[(x, y)] = False\n",
    "            return False\n",
    "\n",
    "        add = set()\n",
    "        ok = True\n",
    "        \n",
    "        k = x\n",
    "        while (k, y) not in clay:\n",
    "            add.add((k, y))\n",
    "            if not flow(k, y + 1):\n",
    "                ok = False\n",
    "                break\n",
    "            k -= 1\n",
    "            \n",
    "        k = x\n",
    "        while (k, y) not in clay:\n",
    "            add.add((k, y))\n",
    "            if not flow(k, y + 1):\n",
    "                ok = False\n",
    "                break\n",
    "            k += 1\n",
    "        \n",
    "        reachable.update(add)\n",
    "        if ok: water.update(add)\n",
    "        \n",
    "        dp[(x, y)] = ok\n",
    "        return ok\n",
    "    \n",
    "    flow(500, 0)\n",
    "    \n",
    "    return sum((x, y) != (500, 0) and y in range(miny, maxy+1) for x, y in reachable)\n",
    "\n",
    "solve1()"
   ]
  },
  {
   "cell_type": "code",
   "execution_count": 3,
   "metadata": {},
   "outputs": [
    {
     "name": "stdout",
     "output_type": "stream",
     "text": [
      "1.83 s ± 283 ms per loop (mean ± std. dev. of 7 runs, 1 loop each)\n"
     ]
    }
   ],
   "source": [
    "%timeit solve1()"
   ]
  },
  {
   "cell_type": "markdown",
   "metadata": {},
   "source": [
    "### Puzzle 2"
   ]
  },
  {
   "cell_type": "code",
   "execution_count": 4,
   "metadata": {},
   "outputs": [
    {
     "data": {
      "text/plain": [
       "30410"
      ]
     },
     "execution_count": 4,
     "metadata": {},
     "output_type": "execute_result"
    }
   ],
   "source": [
    "def solve2():\n",
    "    clay = set()\n",
    "    miny = 1e1337\n",
    "    maxy = 0\n",
    "    for line in plines:\n",
    "        a, b = line.split(\", \")\n",
    "        a = int(a.split(\"=\")[1])\n",
    "        b1, b2 = map(int, b.split(\"=\")[1].split(\"..\"))\n",
    "        for i in range(b1, b2+1):\n",
    "            if line[0] == \"x\": x, y = a, i\n",
    "            else: x, y = i, a\n",
    "            clay.add((x, y))\n",
    "            miny = min(y, miny)\n",
    "            maxy = max(y, maxy)\n",
    "    \n",
    "    reachable = set()\n",
    "    water = set()\n",
    "    dp = {}\n",
    "    def flow(x, y):\n",
    "        if y > maxy: return False\n",
    "        if (x, y) in clay: return True\n",
    "        if (x, y) in dp:\n",
    "            return dp[(x, y)]\n",
    "    \n",
    "        reachable.add((x, y))\n",
    "        \n",
    "        if not flow(x, y + 1):\n",
    "            dp[(x, y)] = False\n",
    "            return False\n",
    "\n",
    "        add = set()\n",
    "        ok = True\n",
    "        \n",
    "        k = x\n",
    "        while (k, y) not in clay:\n",
    "            add.add((k, y))\n",
    "            if not flow(k, y + 1):\n",
    "                ok = False\n",
    "                break\n",
    "            k -= 1\n",
    "            \n",
    "        k = x\n",
    "        while (k, y) not in clay:\n",
    "            add.add((k, y))\n",
    "            if not flow(k, y + 1):\n",
    "                ok = False\n",
    "                break\n",
    "            k += 1\n",
    "        \n",
    "        reachable.update(add)\n",
    "        if ok: water.update(add)\n",
    "        \n",
    "        dp[(x, y)] = ok\n",
    "        return ok\n",
    "    \n",
    "    flow(500, 0)\n",
    "    \n",
    "    return len(water)\n",
    "\n",
    "solve2()"
   ]
  },
  {
   "cell_type": "code",
   "execution_count": 5,
   "metadata": {},
   "outputs": [
    {
     "name": "stdout",
     "output_type": "stream",
     "text": [
      "1.71 s ± 239 ms per loop (mean ± std. dev. of 7 runs, 1 loop each)\n"
     ]
    }
   ],
   "source": [
    "%timeit solve2()"
   ]
  }
 ],
 "metadata": {
  "kernelspec": {
   "display_name": "Python 3 (ipykernel)",
   "language": "python",
   "name": "python3"
  },
  "language_info": {
   "codemirror_mode": {
    "name": "ipython",
    "version": 3
   },
   "file_extension": ".py",
   "mimetype": "text/x-python",
   "name": "python",
   "nbconvert_exporter": "python",
   "pygments_lexer": "ipython3",
   "version": "3.9.6"
  }
 },
 "nbformat": 4,
 "nbformat_minor": 4
}

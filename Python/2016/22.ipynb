{
 "cells": [
  {
   "cell_type": "code",
   "execution_count": 1,
   "metadata": {},
   "outputs": [
    {
     "data": {
      "text/markdown": [
       "# Day 22"
      ],
      "text/plain": [
       "<IPython.core.display.Markdown object>"
      ]
     },
     "metadata": {},
     "output_type": "display_data"
    }
   ],
   "source": [
    "import sys; sys.path.insert(0, \"..\")\n",
    "\n",
    "import aoc\n",
    "\n",
    "year, day = 2016, 22\n",
    "\n",
    "puzzle = aoc.setup(year, day)"
   ]
  },
  {
   "cell_type": "markdown",
   "metadata": {},
   "source": [
    "### Puzzle 1"
   ]
  },
  {
   "cell_type": "code",
   "execution_count": 2,
   "metadata": {},
   "outputs": [
    {
     "data": {
      "text/plain": [
       "952"
      ]
     },
     "execution_count": 2,
     "metadata": {},
     "output_type": "execute_result"
    }
   ],
   "source": [
    "size = {}\n",
    "used = {}\n",
    "\n",
    "for line in puzzle.splitlines()[2:]:\n",
    "    node, s, u, *_ = line.split()\n",
    "    node = tuple(int(x[1:]) for x in node.split(\"-\")[1:])\n",
    "    s, u = [int(x[:-1]) for x in (s, u)]\n",
    "    size[node] = s\n",
    "    used[node] = u\n",
    "\n",
    "out = 0\n",
    "for p1 in size:\n",
    "    if not used[p1]: continue\n",
    "    for p2 in size:\n",
    "        if p1 == p2: continue\n",
    "        out += used[p1] + used[p2] <= size[p2]\n",
    "out"
   ]
  },
  {
   "cell_type": "markdown",
   "metadata": {},
   "source": [
    "### Puzzle 2"
   ]
  },
  {
   "cell_type": "code",
   "execution_count": 3,
   "metadata": {},
   "outputs": [
    {
     "data": {
      "text/plain": [
       "181"
      ]
     },
     "execution_count": 3,
     "metadata": {},
     "output_type": "execute_result"
    }
   ],
   "source": [
    "width, height = max((x+1,y+1) for x,y in size)\n",
    "target = width - 1\n",
    "\n",
    "def free(x, y):\n",
    "    queue = [(x, y, [])]\n",
    "    visited = set()\n",
    "    while queue:\n",
    "        x, y, prev = queue.pop(0)\n",
    "        \n",
    "        if not used[(x, y)]:\n",
    "            for p, q in prev[::-1]:\n",
    "                used[(x, y)] = used[(p, q)]\n",
    "                used[(p, q)] = 0\n",
    "                x, y = p, q\n",
    "            return len(prev)\n",
    "        \n",
    "        if (x, y) in visited: continue\n",
    "        visited.add((x, y))\n",
    "        \n",
    "        for p,q in [(x,y-1),(x,y+1),(x-1,y),(x+1,y)]:\n",
    "            if p not in range(width) or q not in range(height): continue\n",
    "            if (p, q) == (target, 0): continue\n",
    "            if (p, q) in visited: continue\n",
    "            if used[(x, y)] > size[(p, q)]: continue\n",
    "            queue.append((p, q, prev + [(x, y)]))\n",
    "\n",
    "out = 0\n",
    "while target:\n",
    "    out += free(target - 1, 0)\n",
    "    used[(target-1,0)] = used[(target,0)]\n",
    "    used[(target,0)] = 0\n",
    "    target -= 1\n",
    "    out += 1\n",
    "out"
   ]
  }
 ],
 "metadata": {
  "kernelspec": {
   "display_name": "Python 3 (ipykernel)",
   "language": "python",
   "name": "python3"
  },
  "language_info": {
   "codemirror_mode": {
    "name": "ipython",
    "version": 3
   },
   "file_extension": ".py",
   "mimetype": "text/x-python",
   "name": "python",
   "nbconvert_exporter": "python",
   "pygments_lexer": "ipython3",
   "version": "3.9.6"
  }
 },
 "nbformat": 4,
 "nbformat_minor": 4
}

{
 "cells": [
  {
   "cell_type": "code",
   "execution_count": 1,
   "metadata": {},
   "outputs": [
    {
     "data": {
      "text/markdown": [
       "# Day 22"
      ],
      "text/plain": [
       "<IPython.core.display.Markdown object>"
      ]
     },
     "metadata": {},
     "output_type": "display_data"
    }
   ],
   "source": [
    "import sys; sys.path.insert(0, \"..\")\n",
    "\n",
    "import aoc\n",
    "\n",
    "year, day = 2018, 22\n",
    "\n",
    "puzzle = aoc.setup(year, day)\n",
    "plines = puzzle.splitlines()"
   ]
  },
  {
   "cell_type": "markdown",
   "metadata": {},
   "source": [
    "### Puzzle 1"
   ]
  },
  {
   "cell_type": "code",
   "execution_count": 2,
   "metadata": {},
   "outputs": [
    {
     "data": {
      "text/plain": [
       "7743"
      ]
     },
     "execution_count": 2,
     "metadata": {},
     "output_type": "execute_result"
    }
   ],
   "source": [
    "depth = int(plines[0].split()[1])\n",
    "tx, ty = map(int, plines[1].split()[1].split(\",\"))\n",
    "\n",
    "dp = {}\n",
    "def get_geologic_index(x, y):\n",
    "    if (x, y) == (tx, ty): return 0\n",
    "    if y == 0: return x * 16807\n",
    "    if x == 0: return y * 48271\n",
    "    if (x, y) not in dp: dp[(x, y)] = get_erosion_level(x-1, y) * get_erosion_level(x, y-1)\n",
    "    return dp[(x, y)]\n",
    "\n",
    "def get_erosion_level(x, y):\n",
    "    return (get_geologic_index(x, y) + depth) % 20183\n",
    "\n",
    "def solve1():\n",
    "    return sum(get_erosion_level(x, y) % 3 for y in range(ty+1) for x in range(tx+1))\n",
    "\n",
    "solve1()"
   ]
  },
  {
   "cell_type": "code",
   "execution_count": 3,
   "metadata": {},
   "outputs": [
    {
     "name": "stdout",
     "output_type": "stream",
     "text": [
      "6.58 ms ± 456 µs per loop (mean ± std. dev. of 7 runs, 100 loops each)\n"
     ]
    }
   ],
   "source": [
    "%timeit solve1()"
   ]
  },
  {
   "cell_type": "markdown",
   "metadata": {},
   "source": [
    "### Puzzle 2"
   ]
  },
  {
   "cell_type": "code",
   "execution_count": 4,
   "metadata": {},
   "outputs": [
    {
     "data": {
      "text/plain": [
       "1029"
      ]
     },
     "execution_count": 4,
     "metadata": {},
     "output_type": "execute_result"
    }
   ],
   "source": [
    "import heapq\n",
    "\n",
    "def solve2():\n",
    "    queue = [(0, 0, 0, 1)]\n",
    "    visited = set()\n",
    "    while queue:\n",
    "        d, x, y, e = heapq.heappop(queue)\n",
    "        \n",
    "        if (x, y, e) in visited: continue\n",
    "        visited.add((x, y, e))\n",
    "        \n",
    "        if (x, y, e) == (tx, ty, 1):\n",
    "            return d\n",
    "        \n",
    "        t = get_erosion_level(x, y) % 3\n",
    "        \n",
    "        heapq.heappush(queue, (d + 7, x, y, (-e-t)%3))\n",
    "        \n",
    "        for p, q in [(x-1, y), (x+1, y), (x, y-1), (x, y+1)]:\n",
    "            if p < 0 or q < 0: continue\n",
    "            t = get_erosion_level(p, q) % 3\n",
    "            if t == e: continue\n",
    "            heapq.heappush(queue, (d + 1, p, q, e))\n",
    "\n",
    "solve2()"
   ]
  },
  {
   "cell_type": "code",
   "execution_count": 5,
   "metadata": {},
   "outputs": [
    {
     "name": "stdout",
     "output_type": "stream",
     "text": [
      "18.4 s ± 659 ms per loop (mean ± std. dev. of 7 runs, 1 loop each)\n"
     ]
    }
   ],
   "source": [
    "%timeit solve2()"
   ]
  }
 ],
 "metadata": {
  "kernelspec": {
   "display_name": "Python 3 (ipykernel)",
   "language": "python",
   "name": "python3"
  },
  "language_info": {
   "codemirror_mode": {
    "name": "ipython",
    "version": 3
   },
   "file_extension": ".py",
   "mimetype": "text/x-python",
   "name": "python",
   "nbconvert_exporter": "python",
   "pygments_lexer": "ipython3",
   "version": "3.9.6"
  }
 },
 "nbformat": 4,
 "nbformat_minor": 4
}

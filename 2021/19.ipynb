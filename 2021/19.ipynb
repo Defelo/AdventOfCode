{
 "cells": [
  {
   "cell_type": "code",
   "execution_count": 1,
   "metadata": {},
   "outputs": [
    {
     "data": {
      "text/plain": "<IPython.core.display.Markdown object>",
      "text/markdown": "# Day 19"
     },
     "metadata": {},
     "output_type": "display_data"
    }
   ],
   "source": [
    "import sys; sys.path.insert(0, \"..\")\n",
    "\n",
    "from utils import *\n",
    "import aoc\n",
    "\n",
    "year, day = 2021, 19\n",
    "\n",
    "puzzle = aoc.setup(year, day)\n",
    "plines = puzzle.splitlines()"
   ]
  },
  {
   "cell_type": "code",
   "execution_count": 2,
   "outputs": [],
   "source": [
    "ROT1 = [\n",
    "    np.array([[1, 0, 0], [0, 1, 0], [0, 0, 1]]),\n",
    "    np.array([[-1, 0, 0], [0, -1, 0], [0, 0, 1]]),\n",
    "    np.array([[0, 1, 0], [-1, 0, 0], [0, 0, 1]]),\n",
    "    np.array([[0, -1, 0], [1, 0, 0], [0, 0, 1]]),\n",
    "    np.array([[0, 0, 1], [0, -1, 0], [1, 0, 0]]),\n",
    "    np.array([[0, 0, -1], [0, 1, 0], [1, 0, 0]]),\n",
    "]\n",
    "\n",
    "ROT2 = [\n",
    "    np.array([[1, 0, 0], [0, 1, 0], [0, 0, 1]]),\n",
    "    np.array([[1, 0, 0], [0, 0, -1], [0, 1, 0]]),\n",
    "    np.array([[1, 0, 0], [0, -1, 0], [0, 0, -1]]),\n",
    "    np.array([[1, 0, 0], [0, 0, 1], [0, -1, 0]]),\n",
    "]\n",
    "\n",
    "def rotations():\n",
    "    for a in ROT1:\n",
    "        for b in ROT2:\n",
    "            yield lambda x: b @ (a @ x)"
   ],
   "metadata": {
    "collapsed": false,
    "pycharm": {
     "name": "#%%\n"
    }
   }
  },
  {
   "cell_type": "markdown",
   "metadata": {},
   "source": [
    "### Puzzle 1"
   ]
  },
  {
   "cell_type": "code",
   "execution_count": 3,
   "metadata": {},
   "outputs": [
    {
     "data": {
      "text/plain": "403"
     },
     "execution_count": 3,
     "metadata": {},
     "output_type": "execute_result"
    }
   ],
   "source": [
    "def match_scanner(beacons, scanner_positions, scanner):\n",
    "    for rot in rotations():\n",
    "        counter = Counter()\n",
    "        for rel in map(rot, scanner[0]):\n",
    "            for abs_ in map(np.array, beacons):\n",
    "                k = abs_ - rel\n",
    "                counter[kt := tuple(k)] += 1\n",
    "                if counter[kt] >= 12:\n",
    "                    beacons.update([tuple(rot(x) + k) for x in scanner[0]])\n",
    "                    scanner_positions.append(k)\n",
    "                    return\n",
    "\n",
    "\n",
    "def solve():\n",
    "    remaining = []\n",
    "    for block in puzzle.split(\"\\n\\n\"):\n",
    "        positions = [np.array(tuple(map(int, line.split(\",\")))) for line in block.splitlines()[1:]]\n",
    "        distances = {int((x := a - b).dot(x)) for a in positions for b in positions}\n",
    "        remaining.append((positions, distances))\n",
    "\n",
    "    first = remaining.pop(0)\n",
    "    beacons = {*map(tuple, first[0])}\n",
    "    distances = first[1].copy()\n",
    "    scanners = []\n",
    "\n",
    "    while remaining:\n",
    "        i = max(range(len(remaining)), key=lambda j: len(remaining[j][1] & distances))\n",
    "        s = remaining.pop(i)\n",
    "        match_scanner(beacons, scanners, s)\n",
    "        distances.update(s[1])\n",
    "\n",
    "    return beacons, scanners\n",
    "\n",
    "def solve1():\n",
    "    return len(solve()[0])\n",
    "\n",
    "solve1()"
   ]
  },
  {
   "cell_type": "code",
   "execution_count": 4,
   "metadata": {},
   "outputs": [
    {
     "name": "stdout",
     "output_type": "stream",
     "text": [
      "32.2 s ± 9.26 s per loop (mean ± std. dev. of 7 runs, 1 loop each)\n"
     ]
    }
   ],
   "source": [
    "%timeit solve1()"
   ]
  },
  {
   "cell_type": "markdown",
   "metadata": {},
   "source": [
    "### Puzzle 2"
   ]
  },
  {
   "cell_type": "code",
   "execution_count": 5,
   "metadata": {},
   "outputs": [
    {
     "data": {
      "text/plain": "10569"
     },
     "execution_count": 5,
     "metadata": {},
     "output_type": "execute_result"
    }
   ],
   "source": [
    "def solve2():\n",
    "    scanners = solve()[1]\n",
    "    return max(sum(np.abs(a - b)) for a in scanners for b in scanners)\n",
    "\n",
    "solve2()"
   ]
  },
  {
   "cell_type": "code",
   "execution_count": 6,
   "metadata": {},
   "outputs": [
    {
     "name": "stdout",
     "output_type": "stream",
     "text": [
      "21.2 s ± 2.72 s per loop (mean ± std. dev. of 7 runs, 1 loop each)\n"
     ]
    }
   ],
   "source": [
    "%timeit solve2()"
   ]
  }
 ],
 "metadata": {
  "kernelspec": {
   "display_name": "Python 3",
   "language": "python",
   "name": "python3"
  },
  "language_info": {
   "codemirror_mode": {
    "name": "ipython",
    "version": 3
   },
   "file_extension": ".py",
   "mimetype": "text/x-python",
   "name": "python",
   "nbconvert_exporter": "python",
   "pygments_lexer": "ipython3",
   "version": "3.8.6"
  }
 },
 "nbformat": 4,
 "nbformat_minor": 4
}
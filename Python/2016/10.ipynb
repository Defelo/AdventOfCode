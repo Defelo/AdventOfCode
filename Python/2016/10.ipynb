{
 "cells": [
  {
   "cell_type": "code",
   "execution_count": 1,
   "metadata": {},
   "outputs": [
    {
     "data": {
      "text/markdown": [
       "# Day 10"
      ],
      "text/plain": [
       "<IPython.core.display.Markdown object>"
      ]
     },
     "metadata": {},
     "output_type": "display_data"
    }
   ],
   "source": [
    "import sys; sys.path.insert(0, \"..\")\n",
    "\n",
    "import aoc\n",
    "\n",
    "year, day = 2016, 10\n",
    "\n",
    "puzzle = aoc.setup(year, day)"
   ]
  },
  {
   "cell_type": "markdown",
   "metadata": {},
   "source": [
    "### Puzzle 1"
   ]
  },
  {
   "cell_type": "code",
   "execution_count": 2,
   "metadata": {},
   "outputs": [
    {
     "name": "stdout",
     "output_type": "stream",
     "text": [
      "56\n"
     ]
    }
   ],
   "source": [
    "values = {}\n",
    "fw = {}\n",
    "for line in map(str.split, puzzle.splitlines()):\n",
    "    if line[0] == \"bot\":\n",
    "        src, dst1, dst2 = map(int, [line[1], line[6], line[11]])\n",
    "        fw[src] = [dst1, dst2]\n",
    "    else:\n",
    "        val, dst = map(int, [line[1], line[5]])\n",
    "        values.setdefault(dst, []).append(val)\n",
    "\n",
    "queue = []\n",
    "for k, v in values.items():\n",
    "    if len(v) == 2:\n",
    "        queue.append((k, *sorted(v)))\n",
    "\n",
    "while queue:\n",
    "    p, l, h = queue.pop()\n",
    "    \n",
    "    if (l, h) == (17, 61):\n",
    "        print(p)\n",
    "        break\n",
    "    \n",
    "    values.setdefault(fw[p][0], []).append(l)\n",
    "    values.setdefault(fw[p][1], []).append(h)\n",
    "\n",
    "    for k in fw[p]:\n",
    "        v = values[k]\n",
    "        if len(v) == 2:\n",
    "            queue.append((k, *sorted(v)))"
   ]
  },
  {
   "cell_type": "markdown",
   "metadata": {},
   "source": [
    "### Puzzle 2"
   ]
  },
  {
   "cell_type": "code",
   "execution_count": 3,
   "metadata": {},
   "outputs": [
    {
     "data": {
      "text/plain": [
       "7847"
      ]
     },
     "execution_count": 3,
     "metadata": {},
     "output_type": "execute_result"
    }
   ],
   "source": [
    "values = {}\n",
    "fw = {}\n",
    "out = {}\n",
    "for line in map(str.split, puzzle.splitlines()):\n",
    "    if line[0] == \"bot\":\n",
    "        src, dst1, dst2 = map(int, [line[1], line[6], line[11]])\n",
    "        fw[src] = [(dst1, line[5]==\"output\"), (dst2, line[10]==\"output\")]\n",
    "    else:\n",
    "        val, dst = map(int, [line[1], line[5]])\n",
    "        [values, out][line[4] == \"output\"].setdefault(dst, []).append(val)\n",
    "\n",
    "queue = []\n",
    "for k, v in values.items():\n",
    "    if len(v) == 2:\n",
    "        queue.append((k, *sorted(v)))\n",
    "\n",
    "while queue:\n",
    "    p, l, h = queue.pop()\n",
    "    \n",
    "    for val, (k, o) in zip([l, h], fw[p]):\n",
    "        if o:\n",
    "            out[k] = val\n",
    "            continue\n",
    "        \n",
    "        values.setdefault(k, []).append(val)\n",
    "\n",
    "        v = values[k]\n",
    "        if len(v) == 2:\n",
    "            queue.append((k, *sorted(v)))\n",
    "\n",
    "out[0] * out[1] * out[2]"
   ]
  }
 ],
 "metadata": {
  "kernelspec": {
   "display_name": "Python 3",
   "language": "python",
   "name": "python3"
  },
  "language_info": {
   "codemirror_mode": {
    "name": "ipython",
    "version": 3
   },
   "file_extension": ".py",
   "mimetype": "text/x-python",
   "name": "python",
   "nbconvert_exporter": "python",
   "pygments_lexer": "ipython3",
   "version": "3.8.6"
  }
 },
 "nbformat": 4,
 "nbformat_minor": 4
}

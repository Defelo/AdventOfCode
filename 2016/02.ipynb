{
 "cells": [
  {
   "cell_type": "code",
   "execution_count": 1,
   "metadata": {},
   "outputs": [
    {
     "data": {
      "text/markdown": [
       "# Day 02"
      ],
      "text/plain": [
       "<IPython.core.display.Markdown object>"
      ]
     },
     "metadata": {},
     "output_type": "display_data"
    }
   ],
   "source": [
    "import sys; sys.path.insert(0, \"..\")\n",
    "\n",
    "import aoc\n",
    "\n",
    "year, day = 2016, 2\n",
    "\n",
    "puzzle = aoc.setup(year, day)"
   ]
  },
  {
   "cell_type": "markdown",
   "metadata": {},
   "source": [
    "### Puzzle 1"
   ]
  },
  {
   "cell_type": "code",
   "execution_count": 4,
   "metadata": {},
   "outputs": [
    {
     "name": "stdout",
     "output_type": "stream",
     "text": [
      "12578\n"
     ]
    }
   ],
   "source": [
    "out = []\n",
    "x = y = 1\n",
    "for line in puzzle.splitlines():\n",
    "    for c in line:\n",
    "        if c == \"L\" and x > 0: x -= 1\n",
    "        elif c == \"R\" and x < 2: x += 1\n",
    "        elif c == \"U\" and y > 0: y -= 1\n",
    "        elif c == \"D\" and y < 2: y += 1\n",
    "    out.append(y * 3 + x + 1)\n",
    "print(*out, sep=\"\")"
   ]
  },
  {
   "cell_type": "markdown",
   "metadata": {},
   "source": [
    "### Puzzle 2"
   ]
  },
  {
   "cell_type": "code",
   "execution_count": 6,
   "metadata": {},
   "outputs": [
    {
     "name": "stdout",
     "output_type": "stream",
     "text": [
      "516DD\n"
     ]
    }
   ],
   "source": [
    "out = \"\"\n",
    "x, y = 0, 2\n",
    "keypad = [\n",
    "    \"  1  \",\n",
    "    \" 234 \",\n",
    "    \"56789\",\n",
    "    \" ABC \",\n",
    "    \"  D  \",\n",
    "]\n",
    "for line in puzzle.splitlines():\n",
    "    for c in line:\n",
    "        nx, ny = x, y\n",
    "        if c == \"L\": nx -= 1\n",
    "        elif c == \"R\": nx += 1\n",
    "        elif c == \"U\": ny -= 1\n",
    "        elif c == \"D\": ny += 1\n",
    "        if 0 <= nx < 5 and 0 <= ny < 5 and keypad[ny][nx] != \" \":\n",
    "            x, y = nx, ny\n",
    "    out += keypad[y][x]\n",
    "print(out)"
   ]
  }
 ],
 "metadata": {
  "kernelspec": {
   "display_name": "Python 3",
   "language": "python",
   "name": "python3"
  },
  "language_info": {
   "codemirror_mode": {
    "name": "ipython",
    "version": 3
   },
   "file_extension": ".py",
   "mimetype": "text/x-python",
   "name": "python",
   "nbconvert_exporter": "python",
   "pygments_lexer": "ipython3",
   "version": "3.8.6"
  }
 },
 "nbformat": 4,
 "nbformat_minor": 4
}

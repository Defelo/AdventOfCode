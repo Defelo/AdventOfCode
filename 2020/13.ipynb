{
 "cells": [
  {
   "cell_type": "code",
   "execution_count": 1,
   "metadata": {},
   "outputs": [
    {
     "data": {
      "text/markdown": [
       "# Day 13"
      ],
      "text/plain": [
       "<IPython.core.display.Markdown object>"
      ]
     },
     "metadata": {},
     "output_type": "display_data"
    }
   ],
   "source": [
    "import sys; sys.path.insert(0, \"..\")\n",
    "\n",
    "import aoc\n",
    "\n",
    "year, day = 2020, 13\n",
    "\n",
    "puzzle = aoc.setup(year, day)\n",
    "plines = puzzle.splitlines()"
   ]
  },
  {
   "cell_type": "markdown",
   "metadata": {},
   "source": [
    "### Puzzle 1"
   ]
  },
  {
   "cell_type": "code",
   "execution_count": 2,
   "metadata": {},
   "outputs": [
    {
     "data": {
      "text/plain": [
       "1835"
      ]
     },
     "execution_count": 2,
     "metadata": {},
     "output_type": "execute_result"
    }
   ],
   "source": [
    "def solve1():\n",
    "    target = int(plines[0])\n",
    "    nums = [int(n) for n in plines[1].split(\",\") if n != \"x\"]\n",
    "    t, n = min([((target // n + 1) * n - target, n) for n in nums])\n",
    "    return t * n\n",
    "\n",
    "solve1()"
   ]
  },
  {
   "cell_type": "code",
   "execution_count": 3,
   "metadata": {},
   "outputs": [
    {
     "data": {
      "text/plain": [
       "1835"
      ]
     },
     "execution_count": 3,
     "metadata": {},
     "output_type": "execute_result"
    }
   ],
   "source": [
    "solve1m=lambda T=int(plines[0]):int.__mul__(*min(((T//i+1)*i-T,i)for n in plines[1].split(\",\")if\"x\"!=n and(i:=int(n))))\n",
    "\n",
    "solve1m()"
   ]
  },
  {
   "cell_type": "code",
   "execution_count": 4,
   "metadata": {},
   "outputs": [
    {
     "name": "stdout",
     "output_type": "stream",
     "text": [
      "9.16 µs ± 204 ns per loop (mean ± std. dev. of 7 runs, 100000 loops each)\n",
      "8.95 µs ± 211 ns per loop (mean ± std. dev. of 7 runs, 100000 loops each)\n"
     ]
    }
   ],
   "source": [
    "%timeit solve1()\n",
    "%timeit solve1m()"
   ]
  },
  {
   "cell_type": "markdown",
   "metadata": {},
   "source": [
    "### Puzzle 2"
   ]
  },
  {
   "cell_type": "code",
   "execution_count": 5,
   "metadata": {},
   "outputs": [
    {
     "data": {
      "text/plain": [
       "247086664214628"
      ]
     },
     "execution_count": 5,
     "metadata": {},
     "output_type": "execute_result"
    }
   ],
   "source": [
    "from functools import reduce\n",
    "\n",
    "def extended_gcd(a, b):  \n",
    "    if a == 0 :   \n",
    "        return b, 0, 1\n",
    "             \n",
    "    gcd, x1, y1 = extended_gcd(b%a, a)  \n",
    "     \n",
    "    x = y1 - (b//a) * x1  \n",
    "    y = x1  \n",
    "     \n",
    "    return gcd, x, y \n",
    "\n",
    "def chinese_remainder(n, a):\n",
    "    s = 0\n",
    "    prod = reduce(int.__mul__, n)\n",
    "    for n_i, a_i in zip(n, a):\n",
    "        p = prod // n_i\n",
    "        s += a_i * extended_gcd(p, n_i)[1] * p\n",
    "    return s % prod\n",
    "  \n",
    "def solve2():\n",
    "    nums = plines[1].split(\",\")\n",
    "    n = []\n",
    "    a = []\n",
    "    for i, x in enumerate(nums):\n",
    "        if x == \"x\":\n",
    "            continue\n",
    "        x = int(x)\n",
    "        n.append(x)\n",
    "        a.append(x - i)\n",
    "    return chinese_remainder(n, a)\n",
    "\n",
    "solve2()"
   ]
  },
  {
   "cell_type": "code",
   "execution_count": 6,
   "metadata": {},
   "outputs": [
    {
     "data": {
      "text/plain": [
       "247086664214628"
      ]
     },
     "execution_count": 6,
     "metadata": {},
     "output_type": "execute_result"
    }
   ],
   "source": [
    "solve2m=lambda:(G:=(lambda a,b:(b,0,1)if a==0 else((r:=G(b%a,a))[0],r[2]-(b//a)*r[1],r[1])))and(lambda n,a:(q:=__import__(\"math\").prod(n))and sum(y*(p:=q//x)*G(p,x)[1]for x,y in zip(n,a))%q)(*zip(*[(k,k-i)for i,x in enumerate(plines[1].split(\",\"))if\"x\"!=x and(k:=int(x))]))\n",
    "\n",
    "solve2m()"
   ]
  },
  {
   "cell_type": "code",
   "execution_count": 8,
   "metadata": {},
   "outputs": [
    {
     "name": "stdout",
     "output_type": "stream",
     "text": [
      "36.7 µs ± 356 ns per loop (mean ± std. dev. of 7 runs, 10000 loops each)\n",
      "40.2 µs ± 577 ns per loop (mean ± std. dev. of 7 runs, 10000 loops each)\n"
     ]
    }
   ],
   "source": [
    "%timeit solve2()\n",
    "%timeit solve2m()"
   ]
  }
 ],
 "metadata": {
  "kernelspec": {
   "display_name": "Python 3",
   "language": "python",
   "name": "python3"
  },
  "language_info": {
   "codemirror_mode": {
    "name": "ipython",
    "version": 3
   },
   "file_extension": ".py",
   "mimetype": "text/x-python",
   "name": "python",
   "nbconvert_exporter": "python",
   "pygments_lexer": "ipython3",
   "version": "3.8.6"
  }
 },
 "nbformat": 4,
 "nbformat_minor": 4
}

{
 "cells": [
  {
   "cell_type": "code",
   "execution_count": 1,
   "metadata": {},
   "outputs": [
    {
     "data": {
      "text/markdown": [
       "# Day 07"
      ],
      "text/plain": [
       "<IPython.core.display.Markdown object>"
      ]
     },
     "metadata": {},
     "output_type": "display_data"
    }
   ],
   "source": [
    "import sys; sys.path.insert(0, \"..\")\n",
    "\n",
    "import aoc\n",
    "\n",
    "year, day = 2016, 7\n",
    "\n",
    "puzzle = aoc.setup(year, day)"
   ]
  },
  {
   "cell_type": "markdown",
   "metadata": {},
   "source": [
    "### Puzzle 1"
   ]
  },
  {
   "cell_type": "code",
   "execution_count": 9,
   "metadata": {},
   "outputs": [
    {
     "data": {
      "text/plain": [
       "105"
      ]
     },
     "execution_count": 9,
     "metadata": {},
     "output_type": "execute_result"
    }
   ],
   "source": [
    "def check(ip):\n",
    "    tmp = \"\"\n",
    "    c = 0\n",
    "    ok = False\n",
    "    for x in ip:\n",
    "        tmp += x\n",
    "        if x == \"[\":\n",
    "            c += 1\n",
    "            tmp = \"\"\n",
    "        elif x == \"]\":\n",
    "            c -= 1\n",
    "            tmp = \"\"\n",
    "        elif len(tmp) >= 4:\n",
    "            if tmp[-1] == tmp[-4] and tmp[-2] == tmp[-3] and tmp[-1] != tmp[-2]:\n",
    "                if c:\n",
    "                    return False\n",
    "                ok = True\n",
    "    return ok\n",
    "\n",
    "sum(check(line) for line in puzzle.splitlines())"
   ]
  },
  {
   "cell_type": "markdown",
   "metadata": {},
   "source": [
    "### Puzzle 2"
   ]
  },
  {
   "cell_type": "code",
   "execution_count": 17,
   "metadata": {},
   "outputs": [
    {
     "data": {
      "text/plain": [
       "258"
      ]
     },
     "execution_count": 17,
     "metadata": {},
     "output_type": "execute_result"
    }
   ],
   "source": [
    "def check(ip):\n",
    "    supernet = []\n",
    "    hypernet = []\n",
    "    tmp = \"\"\n",
    "    c = 0\n",
    "    for x in ip:\n",
    "        k = tmp\n",
    "        tmp += x\n",
    "        if x == \"[\":\n",
    "            if k:\n",
    "                [hypernet, supernet][not c].append(k)\n",
    "            c += 1\n",
    "            tmp = \"\"\n",
    "        elif x == \"]\":\n",
    "            if k:\n",
    "                [hypernet, supernet][not c].append(k)\n",
    "            c -= 1\n",
    "            tmp = \"\"\n",
    "    if tmp:\n",
    "        [hypernet, supernet][not c].append(tmp)\n",
    "    \n",
    "    for sup in supernet:\n",
    "        for i in range(len(sup) - 2):\n",
    "            if sup[i] != sup[i + 2] or sup[i] == sup[i + 1]:\n",
    "                continue\n",
    "            if any(sup[i+1]+sup[i]+sup[i+1] in hyp for hyp in hypernet):\n",
    "                return True\n",
    "    return False\n",
    "\n",
    "sum(check(line) for line in puzzle.splitlines())"
   ]
  }
 ],
 "metadata": {
  "kernelspec": {
   "display_name": "Python 3",
   "language": "python",
   "name": "python3"
  },
  "language_info": {
   "codemirror_mode": {
    "name": "ipython",
    "version": 3
   },
   "file_extension": ".py",
   "mimetype": "text/x-python",
   "name": "python",
   "nbconvert_exporter": "python",
   "pygments_lexer": "ipython3",
   "version": "3.8.6"
  }
 },
 "nbformat": 4,
 "nbformat_minor": 4
}

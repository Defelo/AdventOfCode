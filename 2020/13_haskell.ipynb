{
 "cells": [
  {
   "cell_type": "code",
   "execution_count": 1,
   "metadata": {},
   "outputs": [],
   "source": [
    "puzzle <- readFile \"13.txt\"\n",
    "plines = lines puzzle"
   ]
  },
  {
   "cell_type": "markdown",
   "metadata": {},
   "source": [
    "# Day 13"
   ]
  },
  {
   "cell_type": "markdown",
   "metadata": {},
   "source": [
    "### Puzzle 1"
   ]
  },
  {
   "cell_type": "code",
   "execution_count": 2,
   "metadata": {},
   "outputs": [
    {
     "data": {
      "text/plain": [
       "1835"
      ]
     },
     "metadata": {},
     "output_type": "display_data"
    }
   ],
   "source": [
    "import Data.List.Split\n",
    "\n",
    "target = read $ head plines :: Int\n",
    "nums = map read $ filter (/=\"x\") $ splitOn \",\" $ last plines :: [Int]\n",
    "\n",
    "let (t, n) = minimum [((target `div` n + 1) * n - target, n) | n <- nums]\n",
    "    in t * n"
   ]
  },
  {
   "cell_type": "markdown",
   "metadata": {},
   "source": [
    "### Puzzle 2"
   ]
  },
  {
   "cell_type": "code",
   "execution_count": 3,
   "metadata": {},
   "outputs": [
    {
     "data": {
      "text/plain": [
       "247086664214628"
      ]
     },
     "metadata": {},
     "output_type": "display_data"
    }
   ],
   "source": [
    "extendedGcd :: Int -> Int -> (Int, Int, Int)\n",
    "extendedGcd 0 b = (b, 0, 1)\n",
    "extendedGcd a b = (g, y - (b `div` a) * x, x)\n",
    "    where (g, x, y) = extendedGcd (b `mod` a) a\n",
    "\n",
    "chineseRemainder :: [Int] -> [Int] -> Int\n",
    "chineseRemainder n a = sum [ai * x * p | (ni, ai) <- zip n a, let p = prod `div` ni; (_, x, _) = extendedGcd p ni] `mod` prod\n",
    "    where prod = product n\n",
    "\n",
    "nums = [(read x, i) | (x, i) <- zip (splitOn \",\" $ last plines) [0..], x /= \"x\"] :: [(Int, Int)]\n",
    "\n",
    "let n = map fst nums\n",
    "    a = map (uncurry (-)) nums\n",
    "    in chineseRemainder n a"
   ]
  }
 ],
 "metadata": {
  "kernelspec": {
   "display_name": "Haskell",
   "language": "haskell",
   "name": "haskell"
  },
  "language_info": {
   "codemirror_mode": "Haskell",
   "file_extension": ".hs",
   "mimetype": "text/x-haskell",
   "name": "haskell",
   "pygments_lexer": "Haskell",
   "version": "8.8.4"
  }
 },
 "nbformat": 4,
 "nbformat_minor": 4
}

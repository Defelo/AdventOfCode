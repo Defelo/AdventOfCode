{
 "cells": [
  {
   "cell_type": "code",
   "execution_count": 1,
   "metadata": {},
   "outputs": [
    {
     "data": {
      "text/markdown": [
       "# Day 11"
      ],
      "text/plain": [
       "<IPython.core.display.Markdown object>"
      ]
     },
     "metadata": {},
     "output_type": "display_data"
    }
   ],
   "source": [
    "import sys; sys.path.insert(0, \"..\")\n",
    "\n",
    "import aoc\n",
    "\n",
    "year, day = 2020, 11\n",
    "\n",
    "puzzle = aoc.setup(year, day)\n",
    "plines = puzzle.splitlines()"
   ]
  },
  {
   "cell_type": "markdown",
   "metadata": {},
   "source": [
    "### Puzzle 1"
   ]
  },
  {
   "cell_type": "code",
   "execution_count": 2,
   "metadata": {},
   "outputs": [
    {
     "data": {
      "text/plain": [
       "2113"
      ]
     },
     "execution_count": 2,
     "metadata": {},
     "output_type": "execute_result"
    }
   ],
   "source": [
    "def solve1():\n",
    "    graph = {}\n",
    "    active = set()\n",
    "    for y, line in enumerate(plines):\n",
    "        for x, c in enumerate(line):\n",
    "            if c == \".\":\n",
    "                continue\n",
    "            \n",
    "            graph[(x, y)] = []\n",
    "            for dy in range(-1, 2):\n",
    "                for dx in range(-1, 2):\n",
    "                    if dx == 0 == dy:\n",
    "                        continue\n",
    "                    if 0 <= (i := y+dy) < len(plines) and 0 <= (j := x+dx) < len(line) and plines[i][j] != \".\":\n",
    "                        graph[(x, y)].append((j, i))\n",
    "\n",
    "    while True:\n",
    "        new_active = set()\n",
    "        \n",
    "        for p, qs in graph.items():\n",
    "            cnt = sum(q in active for q in qs)\n",
    "            if p not in active and not cnt or p in active and cnt < 4:\n",
    "                new_active.add(p)\n",
    "        \n",
    "        if active == new_active:\n",
    "            break\n",
    "        active = new_active\n",
    "\n",
    "    return len(active)\n",
    "\n",
    "solve1()"
   ]
  },
  {
   "cell_type": "code",
   "execution_count": 3,
   "metadata": {},
   "outputs": [
    {
     "name": "stdout",
     "output_type": "stream",
     "text": [
      "1.3 s ± 54.4 ms per loop (mean ± std. dev. of 7 runs, 1 loop each)\n"
     ]
    }
   ],
   "source": [
    "%timeit solve1()"
   ]
  },
  {
   "cell_type": "markdown",
   "metadata": {},
   "source": [
    "### Puzzle 2"
   ]
  },
  {
   "cell_type": "code",
   "execution_count": 4,
   "metadata": {},
   "outputs": [
    {
     "data": {
      "text/plain": [
       "1865"
      ]
     },
     "execution_count": 4,
     "metadata": {},
     "output_type": "execute_result"
    }
   ],
   "source": [
    "def solve2():\n",
    "    graph = {}\n",
    "    active = set()\n",
    "    for y, line in enumerate(plines):\n",
    "        for x, c in enumerate(line):\n",
    "            if c == \".\":\n",
    "                continue\n",
    "            \n",
    "            graph[(x, y)] = []\n",
    "            for dy in range(-1, 2):\n",
    "                for dx in range(-1, 2):\n",
    "                    if dx == 0 == dy:\n",
    "                        continue\n",
    "                    k = 1\n",
    "                    while 0 <= (i := y+k*dy) < len(plines) and 0 <= (j := x+k*dx) < len(line):\n",
    "                        if plines[i][j] != \".\":\n",
    "                            graph[(x, y)].append((j, i))\n",
    "                            break\n",
    "                        k += 1\n",
    "\n",
    "    while True:\n",
    "        new_active = set()\n",
    "        \n",
    "        for p, qs in graph.items():\n",
    "            cnt = sum(q in active for q in qs)\n",
    "            if p not in active and not cnt or p in active and cnt < 5:\n",
    "                new_active.add(p)\n",
    "        \n",
    "        if active == new_active:\n",
    "            break\n",
    "        active = new_active\n",
    "\n",
    "    return len(active)\n",
    "\n",
    "solve2()"
   ]
  },
  {
   "cell_type": "code",
   "execution_count": 5,
   "metadata": {},
   "outputs": [
    {
     "name": "stdout",
     "output_type": "stream",
     "text": [
      "1.14 s ± 80.8 ms per loop (mean ± std. dev. of 7 runs, 1 loop each)\n"
     ]
    }
   ],
   "source": [
    "%timeit solve2()"
   ]
  }
 ],
 "metadata": {
  "kernelspec": {
   "display_name": "Python 3",
   "language": "python",
   "name": "python3"
  },
  "language_info": {
   "codemirror_mode": {
    "name": "ipython",
    "version": 3
   },
   "file_extension": ".py",
   "mimetype": "text/x-python",
   "name": "python",
   "nbconvert_exporter": "python",
   "pygments_lexer": "ipython3",
   "version": "3.8.6"
  }
 },
 "nbformat": 4,
 "nbformat_minor": 4
}

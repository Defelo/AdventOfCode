{
 "cells": [
  {
   "cell_type": "code",
   "execution_count": 2,
   "metadata": {},
   "outputs": [
    {
     "data": {
      "text/markdown": [
       "# Day 24"
      ],
      "text/plain": [
       "<IPython.core.display.Markdown object>"
      ]
     },
     "metadata": {},
     "output_type": "display_data"
    }
   ],
   "source": [
    "import sys; sys.path.insert(0, \"..\")\n",
    "\n",
    "import aoc\n",
    "\n",
    "year, day = 2015, 24\n",
    "\n",
    "puzzle = aoc.setup(year, day)"
   ]
  },
  {
   "cell_type": "markdown",
   "metadata": {},
   "source": [
    "### Puzzle 1"
   ]
  },
  {
   "cell_type": "code",
   "execution_count": 39,
   "metadata": {},
   "outputs": [
    {
     "data": {
      "text/plain": [
       "11266889531"
      ]
     },
     "execution_count": 39,
     "metadata": {},
     "output_type": "execute_result"
    }
   ],
   "source": [
    "packages = list(map(int, puzzle.splitlines()))\n",
    "gs = sum(packages) // 3\n",
    "\n",
    "dp = {}\n",
    "def test(i, x, pkg):\n",
    "    if x == 0:\n",
    "        return [[]]\n",
    "    if i == len(pkg):\n",
    "        return []\n",
    "    \n",
    "    if (i, x) not in dp:\n",
    "        out = [[0] + y for y in test(i + 1, x, pkg)]\n",
    "        if packages[i] <= x:\n",
    "            out += [[1] + y for y in test(i + 1, x - pkg[i], pkg)]\n",
    "        dp[(i, x)] = out\n",
    "    return dp[(i, x)]\n",
    "\n",
    "arr = []\n",
    "for x in test(0, gs, packages):\n",
    "    f = [z for y, z in zip(x, packages) if y]\n",
    "    if not test(0, gs, f):\n",
    "        continue\n",
    "    p = 1\n",
    "    for y in f:\n",
    "        p *= y\n",
    "    arr.append((len(f), p))\n",
    "min(arr)[1]"
   ]
  },
  {
   "cell_type": "markdown",
   "metadata": {},
   "source": [
    "### Puzzle 2"
   ]
  },
  {
   "cell_type": "code",
   "execution_count": 40,
   "metadata": {},
   "outputs": [
    {
     "data": {
      "text/plain": [
       "77387711"
      ]
     },
     "execution_count": 40,
     "metadata": {},
     "output_type": "execute_result"
    }
   ],
   "source": [
    "packages = list(map(int, puzzle.splitlines()))\n",
    "gs = sum(packages) // 4\n",
    "\n",
    "dp = {}\n",
    "def test(i, x, pkg):\n",
    "    if x == 0:\n",
    "        return [[]]\n",
    "    if i == len(pkg):\n",
    "        return []\n",
    "    \n",
    "    if (i, x) not in dp:\n",
    "        out = [[0] + y for y in test(i + 1, x, pkg)]\n",
    "        if packages[i] <= x:\n",
    "            out += [[1] + y for y in test(i + 1, x - pkg[i], pkg)]\n",
    "        dp[(i, x)] = out\n",
    "    return dp[(i, x)]\n",
    "\n",
    "arr = []\n",
    "for x in test(0, gs, packages):\n",
    "    f = [z for y, z in zip(x, packages) if y]\n",
    "    if not test(0, gs, f):\n",
    "        continue\n",
    "    p = 1\n",
    "    for y in f:\n",
    "        p *= y\n",
    "    arr.append((len(f), p))\n",
    "min(arr)[1]"
   ]
  }
 ],
 "metadata": {
  "kernelspec": {
   "display_name": "Python 3",
   "language": "python",
   "name": "python3"
  },
  "language_info": {
   "codemirror_mode": {
    "name": "ipython",
    "version": 3
   },
   "file_extension": ".py",
   "mimetype": "text/x-python",
   "name": "python",
   "nbconvert_exporter": "python",
   "pygments_lexer": "ipython3",
   "version": "3.8.6"
  }
 },
 "nbformat": 4,
 "nbformat_minor": 4
}

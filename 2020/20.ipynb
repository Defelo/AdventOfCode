{
 "cells": [
  {
   "cell_type": "code",
   "execution_count": 1,
   "metadata": {},
   "outputs": [
    {
     "data": {
      "text/markdown": [
       "# Day 20"
      ],
      "text/plain": [
       "<IPython.core.display.Markdown object>"
      ]
     },
     "metadata": {},
     "output_type": "display_data"
    }
   ],
   "source": [
    "import sys; sys.path.insert(0, \"..\")\n",
    "\n",
    "import aoc\n",
    "\n",
    "year, day = 2020, 20\n",
    "\n",
    "puzzle = aoc.setup(year, day)\n",
    "plines = puzzle.splitlines()"
   ]
  },
  {
   "cell_type": "markdown",
   "metadata": {},
   "source": [
    "### Puzzle 1"
   ]
  },
  {
   "cell_type": "code",
   "execution_count": 2,
   "metadata": {},
   "outputs": [
    {
     "data": {
      "text/plain": [
       "15670959891893"
      ]
     },
     "execution_count": 2,
     "metadata": {},
     "output_type": "execute_result"
    }
   ],
   "source": [
    "import math\n",
    "\n",
    "\n",
    "def edge_to_int(edge):\n",
    "    x1 = int(\"\".join(edge).replace(\".\", \"0\").replace(\"#\", \"1\"), 2)\n",
    "    x2 = int(\"\".join(reversed(edge)).replace(\".\", \"0\").replace(\"#\", \"1\"), 2)\n",
    "    return min(x1, x2)\n",
    "    \n",
    "def solve1():\n",
    "    m = {}\n",
    "    for num, *lines in map(str.splitlines, puzzle.split(\"\\n\\n\")):\n",
    "        t = list(zip(*lines))\n",
    "        num = int(num.split()[1][:-1])\n",
    "        for e in map(edge_to_int, [lines[0], lines[-1], t[0], t[-1]]):\n",
    "            m.setdefault(e, []).append(num)\n",
    "    border = [v[0] for k, v in m.items() if len(v) == 1]\n",
    "    return math.prod(set([x for x in border if border.count(x) == 2]))\n",
    "\n",
    "solve1()"
   ]
  },
  {
   "cell_type": "code",
   "execution_count": 3,
   "metadata": {},
   "outputs": [
    {
     "name": "stdout",
     "output_type": "stream",
     "text": [
      "2.52 ms ± 283 µs per loop (mean ± std. dev. of 7 runs, 100 loops each)\n"
     ]
    }
   ],
   "source": [
    "%timeit solve1()"
   ]
  },
  {
   "cell_type": "markdown",
   "metadata": {},
   "source": [
    "### Puzzle 2"
   ]
  },
  {
   "cell_type": "code",
   "execution_count": 4,
   "metadata": {},
   "outputs": [
    {
     "data": {
      "text/plain": [
       "1964"
      ]
     },
     "execution_count": 4,
     "metadata": {},
     "output_type": "execute_result"
    }
   ],
   "source": [
    "op = [1, 0, 3, 2]\n",
    "monster = \"\"\"                  # \n",
    "#    ##    ##    ###\n",
    " #  #  #  #  #  #   \"\"\".splitlines()\n",
    "\n",
    "\n",
    "def rotflip(tile, o):\n",
    "    c = (3, 1)\n",
    "    k = True\n",
    "    while c != o:\n",
    "        if k:\n",
    "            tile = list(zip(*tile))\n",
    "            c = c[::-1]\n",
    "        else:\n",
    "            tile = [line[::-1] for line in tile]\n",
    "            c = (op[c[0]], c[1])\n",
    "        k = not k\n",
    "    return list(map(\"\".join, tile))\n",
    "\n",
    "\n",
    "def solve2():\n",
    "    m = {}\n",
    "    tiles = {}\n",
    "    for num, *lines in map(str.splitlines, puzzle.split(\"\\n\\n\")):\n",
    "        t = list(zip(*lines))\n",
    "        num = int(num.split()[1][:-1])\n",
    "        tiles[num] = [line[1:-1] for line in lines[1:-1]]\n",
    "        for i, e in enumerate(map(edge_to_int, [lines[0], lines[-1], t[0], t[-1]])):\n",
    "            m.setdefault(e, []).append((i, num))\n",
    "    \n",
    "    graph = {}\n",
    "    for (o1, t1), (o2, t2) in [v for k, v in m.items() if len(v) == 2]:\n",
    "        graph.setdefault(t1, {})[o1] = (o2, t2)\n",
    "        graph.setdefault(t2, {})[o2] = (o1, t1)\n",
    "    \n",
    "    corner = next(k for k, v in graph.items() if len(v) == 2)\n",
    "    border = {corner}\n",
    "    dim = []\n",
    "    for k in graph[corner]:\n",
    "        c = corner\n",
    "        x = 1\n",
    "        while k in graph[c]:\n",
    "            k, c = graph[c][k]\n",
    "            k = op[k]\n",
    "            border.add(c)\n",
    "            x += 1\n",
    "        dim.append(x)\n",
    "    width, height = dim\n",
    "    \n",
    "    for k, v in graph.items():\n",
    "        if k in border:\n",
    "            continue\n",
    "        for i in range(4):\n",
    "            v.setdefault(i, None)\n",
    "    \n",
    "    tiled_image = [[None] * width for _ in range(height)]\n",
    "    \n",
    "    queue = [(corner, 0, 0, *graph[corner])]\n",
    "    visited = set()\n",
    "    while queue:\n",
    "        p, i, j, a, b = queue.pop(0)\n",
    "        \n",
    "        if p in visited: continue\n",
    "        visited.add(p)\n",
    "        \n",
    "        tiled_image[i][j] = rotflip(tiles[p], (a, b))\n",
    "        \n",
    "        for o1, u, v in [(a, i, j+1), (b, i+1, j)]:\n",
    "            if graph[p].get(o1) is None:\n",
    "                continue\n",
    "            o2, q = graph[p][o1]\n",
    "            if len(graph[q]) >= 3:\n",
    "                graph[q].pop(o2)\n",
    "\n",
    "            if len(graph[q]) <= 2:\n",
    "                if o1 == a:\n",
    "                    x = op[o2]\n",
    "                    y, = set(graph[q]) - {x, o2}\n",
    "                else:\n",
    "                    y = op[o2]\n",
    "                    x, = set(graph[q]) - {y, o2}\n",
    "                queue.append((q, u, v, x, y))\n",
    "    \n",
    "    image = []\n",
    "    for tile_line in tiled_image:\n",
    "        image += [\"\".join(line) for line in zip(*tile_line)]\n",
    "    \n",
    "    monster_parts = set()\n",
    "    for i in range(4):\n",
    "        for j in range(4):\n",
    "            if i in (j, op[j]):\n",
    "                continue\n",
    "            m = rotflip(monster, (i, j))\n",
    "            for y in range(len(image) - len(m) + 1):\n",
    "                for x in range(len(image[0]) - len(m[0]) + 1):\n",
    "                    p = [(y+i, x+j) for i, line in enumerate(m) for j, c in enumerate(line) if c == \"#\"]\n",
    "                    if all(image[i][j] == \"#\" for i, j in p):\n",
    "                        monster_parts.update(p)\n",
    "    return sum(line.count(\"#\") for line in image) - len(monster_parts)\n",
    "\n",
    "\n",
    "solve2()"
   ]
  },
  {
   "cell_type": "code",
   "execution_count": 5,
   "metadata": {},
   "outputs": [
    {
     "name": "stdout",
     "output_type": "stream",
     "text": [
      "652 ms ± 22.1 ms per loop (mean ± std. dev. of 7 runs, 1 loop each)\n"
     ]
    }
   ],
   "source": [
    "%timeit solve2()"
   ]
  }
 ],
 "metadata": {
  "kernelspec": {
   "display_name": "Python 3",
   "language": "python",
   "name": "python3"
  },
  "language_info": {
   "codemirror_mode": {
    "name": "ipython",
    "version": 3
   },
   "file_extension": ".py",
   "mimetype": "text/x-python",
   "name": "python",
   "nbconvert_exporter": "python",
   "pygments_lexer": "ipython3",
   "version": "3.8.6"
  }
 },
 "nbformat": 4,
 "nbformat_minor": 4
}

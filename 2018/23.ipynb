{
 "cells": [
  {
   "cell_type": "code",
   "execution_count": 1,
   "metadata": {},
   "outputs": [
    {
     "data": {
      "text/markdown": [
       "# Day 23"
      ],
      "text/plain": [
       "<IPython.core.display.Markdown object>"
      ]
     },
     "metadata": {},
     "output_type": "display_data"
    }
   ],
   "source": [
    "import sys; sys.path.insert(0, \"..\")\n",
    "\n",
    "import aoc\n",
    "\n",
    "year, day = 2018, 23\n",
    "\n",
    "puzzle = aoc.setup(year, day)\n",
    "plines = puzzle.splitlines()"
   ]
  },
  {
   "cell_type": "markdown",
   "metadata": {},
   "source": [
    "### Puzzle 1"
   ]
  },
  {
   "cell_type": "code",
   "execution_count": 2,
   "metadata": {},
   "outputs": [
    {
     "data": {
      "text/plain": [
       "730"
      ]
     },
     "execution_count": 2,
     "metadata": {},
     "output_type": "execute_result"
    }
   ],
   "source": [
    "def solve1():\n",
    "    bots = []\n",
    "    for pos, r in map(str.split, plines):\n",
    "        x, y, z = map(int, pos.split(\"<\")[1].strip(\">,\").split(\",\"))\n",
    "        r = int(r.split(\"=\")[1])\n",
    "        bots.append((x, y, z, r))\n",
    "    \n",
    "    sx, sy, sz, sr = max(bots, key=lambda a: a[3])\n",
    "    return sum(abs(x-sx)+abs(y-sy)+abs(z-sz) <= sr for x, y, z, _ in bots)\n",
    "\n",
    "solve1()"
   ]
  },
  {
   "cell_type": "code",
   "execution_count": 3,
   "metadata": {},
   "outputs": [
    {
     "name": "stdout",
     "output_type": "stream",
     "text": [
      "2.38 ms ± 225 µs per loop (mean ± std. dev. of 7 runs, 100 loops each)\n"
     ]
    }
   ],
   "source": [
    "%timeit solve1()"
   ]
  },
  {
   "cell_type": "markdown",
   "metadata": {},
   "source": [
    "### Puzzle 2"
   ]
  },
  {
   "cell_type": "code",
   "execution_count": 4,
   "metadata": {},
   "outputs": [
    {
     "data": {
      "text/html": [
       "48202279"
      ],
      "text/plain": [
       "48202279"
      ]
     },
     "execution_count": 4,
     "metadata": {},
     "output_type": "execute_result"
    }
   ],
   "source": [
    "from z3 import *\n",
    "\n",
    "def solve2():\n",
    "    bots = []\n",
    "    for pos, r in map(str.split, plines):\n",
    "        x, y, z = map(int, pos.split(\"<\")[1].strip(\">,\").split(\",\"))\n",
    "        r = int(r.split(\"=\")[1])\n",
    "        bots.append((x, y, z, r))\n",
    "\n",
    "    zabs = lambda x: If(x >= 0, x, -x)\n",
    "\n",
    "    x, y, z = Ints(\"x y z\")\n",
    "    in_ranges = [Int(f\"in_range_{i}\") for i in range(len(bots))]\n",
    "    range_count = Int(\"sum\")\n",
    "    \n",
    "    o = Optimize()\n",
    "    for (nx, ny, nz, nr), ir in zip(bots, in_ranges):\n",
    "        o.add(ir == If(zabs(x - nx) + zabs(y - ny) + zabs(z - nz) <= nr, 1, 0))\n",
    "\n",
    "    o.add(range_count == sum(in_ranges))\n",
    "    \n",
    "    dist_from_zero = Int(\"dist\")\n",
    "    o.add(dist_from_zero == zabs(x) + zabs(y) + zabs(z))\n",
    "    \n",
    "    h1 = o.maximize(range_count)\n",
    "    h2 = o.minimize(dist_from_zero)\n",
    "\n",
    "    o.check()\n",
    "    return o.lower(h2)\n",
    "\n",
    "solve2()"
   ]
  },
  {
   "cell_type": "code",
   "execution_count": 5,
   "metadata": {},
   "outputs": [
    {
     "name": "stdout",
     "output_type": "stream",
     "text": [
      "1min 31s ± 15.4 s per loop (mean ± std. dev. of 7 runs, 1 loop each)\n"
     ]
    }
   ],
   "source": [
    "%timeit solve2()"
   ]
  }
 ],
 "metadata": {
  "kernelspec": {
   "display_name": "Python 3 (ipykernel)",
   "language": "python",
   "name": "python3"
  },
  "language_info": {
   "codemirror_mode": {
    "name": "ipython",
    "version": 3
   },
   "file_extension": ".py",
   "mimetype": "text/x-python",
   "name": "python",
   "nbconvert_exporter": "python",
   "pygments_lexer": "ipython3",
   "version": "3.9.6"
  }
 },
 "nbformat": 4,
 "nbformat_minor": 4
}

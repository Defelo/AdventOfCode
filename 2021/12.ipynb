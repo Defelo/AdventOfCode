{
 "cells": [
  {
   "cell_type": "code",
   "execution_count": 1,
   "metadata": {},
   "outputs": [
    {
     "data": {
      "text/plain": "<IPython.core.display.Markdown object>",
      "text/markdown": "# Day 12"
     },
     "metadata": {},
     "output_type": "display_data"
    }
   ],
   "source": [
    "import sys; sys.path.insert(0, \"..\")\n",
    "\n",
    "from utils import *\n",
    "import aoc\n",
    "\n",
    "year, day = 2021, 12\n",
    "\n",
    "puzzle = aoc.setup(year, day)\n",
    "plines = puzzle.splitlines()"
   ]
  },
  {
   "cell_type": "markdown",
   "metadata": {},
   "source": [
    "### Puzzle 1"
   ]
  },
  {
   "cell_type": "code",
   "execution_count": 2,
   "metadata": {},
   "outputs": [
    {
     "data": {
      "text/plain": "3679"
     },
     "execution_count": 2,
     "metadata": {},
     "output_type": "execute_result"
    }
   ],
   "source": [
    "def solve1():\n",
    "    edges = {}\n",
    "    for line in plines:\n",
    "        a, b = line.split(\"-\")\n",
    "        edges.setdefault(a, []).append(b)\n",
    "        edges.setdefault(b, []).append(a)\n",
    "\n",
    "    def search(node, visited):\n",
    "        if node == \"end\":\n",
    "            return 1\n",
    "        if node.islower() and node in visited:\n",
    "            return 0\n",
    "        visited.add(node)\n",
    "\n",
    "        out = sum(search(n, visited) for n in edges.get(node, []))\n",
    "\n",
    "        visited.discard(node)\n",
    "\n",
    "        return out\n",
    "\n",
    "    return search(\"start\", set())\n",
    "\n",
    "solve1()"
   ]
  },
  {
   "cell_type": "code",
   "execution_count": 3,
   "metadata": {},
   "outputs": [
    {
     "name": "stdout",
     "output_type": "stream",
     "text": [
      "15.8 ms ± 1.59 ms per loop (mean ± std. dev. of 7 runs, 100 loops each)\n"
     ]
    }
   ],
   "source": [
    "%timeit solve1()"
   ]
  },
  {
   "cell_type": "markdown",
   "metadata": {},
   "source": [
    "### Puzzle 2"
   ]
  },
  {
   "cell_type": "code",
   "execution_count": 4,
   "metadata": {},
   "outputs": [
    {
     "data": {
      "text/plain": "107395"
     },
     "execution_count": 4,
     "metadata": {},
     "output_type": "execute_result"
    }
   ],
   "source": [
    "def solve2():\n",
    "    edges = {}\n",
    "    for line in plines:\n",
    "        a, b = line.split(\"-\")\n",
    "        edges.setdefault(a, []).append(b)\n",
    "        edges.setdefault(b, []).append(a)\n",
    "\n",
    "    def search(node, visited, twice):\n",
    "        if node == \"end\":\n",
    "            return 1\n",
    "        tw = False\n",
    "        if node.islower() and node in visited:\n",
    "            if twice or node == \"start\":\n",
    "                return 0\n",
    "            tw = True\n",
    "        visited.add(node)\n",
    "\n",
    "        out = sum(search(n, visited, twice or tw) for n in edges.get(node, []))\n",
    "\n",
    "        if not tw:\n",
    "            visited.discard(node)\n",
    "\n",
    "        return out\n",
    "\n",
    "    return search(\"start\", set(), False)\n",
    "\n",
    "solve2()"
   ]
  },
  {
   "cell_type": "code",
   "execution_count": 5,
   "metadata": {},
   "outputs": [
    {
     "name": "stdout",
     "output_type": "stream",
     "text": [
      "529 ms ± 145 ms per loop (mean ± std. dev. of 7 runs, 1 loop each)\n"
     ]
    }
   ],
   "source": [
    "%timeit solve2()"
   ]
  }
 ],
 "metadata": {
  "kernelspec": {
   "display_name": "Python 3",
   "language": "python",
   "name": "python3"
  },
  "language_info": {
   "codemirror_mode": {
    "name": "ipython",
    "version": 3
   },
   "file_extension": ".py",
   "mimetype": "text/x-python",
   "name": "python",
   "nbconvert_exporter": "python",
   "pygments_lexer": "ipython3",
   "version": "3.8.6"
  }
 },
 "nbformat": 4,
 "nbformat_minor": 4
}
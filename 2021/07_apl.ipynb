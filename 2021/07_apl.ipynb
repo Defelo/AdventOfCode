{
 "cells": [
  {
   "cell_type": "code",
   "execution_count": 1,
   "id": "8fb56a69-e2e3-4a2e-9257-c78046f23f21",
   "metadata": {},
   "outputs": [],
   "source": [
    "data ← ⍎¨','(≠⊆⊢)⊃⊃⎕NGET '07.txt' 1"
   ]
  },
  {
   "cell_type": "markdown",
   "id": "2a377103-6ac1-4513-8e60-aabeac51e1eb",
   "metadata": {},
   "source": [
    "### Part 1"
   ]
  },
  {
   "cell_type": "code",
   "execution_count": 2,
   "id": "4dd03668-cffc-4d2a-8c5f-9af763d7a9ed",
   "metadata": {},
   "outputs": [
    {
     "data": {
      "text/html": [
       "<span style=\"white-space:pre; font-family: monospace\">340052\n",
       "</span>"
      ]
     },
     "execution_count": 2,
     "metadata": {},
     "output_type": "execute_result"
    }
   ],
   "source": [
    "⌊/{+/|¨⍵-data}¨⍳≢data"
   ]
  },
  {
   "cell_type": "markdown",
   "id": "ba873ee7-88c1-48cd-8563-dc48832ad154",
   "metadata": {},
   "source": [
    "### Part 2"
   ]
  },
  {
   "cell_type": "code",
   "execution_count": 3,
   "id": "39f4060b-fae9-4043-aaf3-fe9b9794716b",
   "metadata": {},
   "outputs": [
    {
     "data": {
      "text/html": [
       "<span style=\"white-space:pre; font-family: monospace\">92948968\n",
       "</span>"
      ]
     },
     "execution_count": 3,
     "metadata": {},
     "output_type": "execute_result"
    }
   ],
   "source": [
    "⌊/{+/(+/⍳)¨|¨⍵-data}¨⍳≢data"
   ]
  }
 ],
 "metadata": {
  "kernelspec": {
   "display_name": "Dyalog APL",
   "language": "apl",
   "name": "dyalog-kernel"
  },
  "language_info": {
   "file_extension": ".apl",
   "mimetype": "text/apl",
   "name": "APL"
  }
 },
 "nbformat": 4,
 "nbformat_minor": 5
}
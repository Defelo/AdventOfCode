{
 "cells": [
  {
   "cell_type": "code",
   "execution_count": 1,
   "metadata": {},
   "outputs": [
    {
     "data": {
      "text/markdown": [
       "# Day 20"
      ],
      "text/plain": [
       "<IPython.core.display.Markdown object>"
      ]
     },
     "metadata": {},
     "output_type": "display_data"
    }
   ],
   "source": [
    "import sys; sys.path.insert(0, \"..\")\n",
    "\n",
    "import aoc\n",
    "\n",
    "year, day = 2017, 20\n",
    "\n",
    "puzzle = aoc.setup(year, day)\n",
    "plines = puzzle.splitlines()"
   ]
  },
  {
   "cell_type": "markdown",
   "metadata": {},
   "source": [
    "### Puzzle 1"
   ]
  },
  {
   "cell_type": "code",
   "execution_count": 2,
   "metadata": {},
   "outputs": [
    {
     "data": {
      "text/plain": [
       "258"
      ]
     },
     "execution_count": 2,
     "metadata": {},
     "output_type": "execute_result"
    }
   ],
   "source": [
    "def solve1():\n",
    "    n = 0\n",
    "    p = []\n",
    "    v = []\n",
    "    a = []\n",
    "    for line in plines:\n",
    "        x, y, z = [tuple(map(int, k.split(\"<\")[1].strip(\">\").split(\",\"))) for k in line.split(\", \")]\n",
    "        p.append(x)\n",
    "        v.append(y)\n",
    "        a.append(z)\n",
    "        n += 1\n",
    "    \n",
    "    for _ in range(2000):\n",
    "        for i in range(n):\n",
    "            v[i] = v[i][0]+a[i][0], v[i][1]+a[i][1], v[i][2]+a[i][2]\n",
    "            p[i] = v[i][0]+p[i][0], v[i][1]+p[i][1], v[i][2]+p[i][2]\n",
    "    \n",
    "    return min(range(n), key=lambda i: sum(map(abs, p[i])))\n",
    "\n",
    "solve1()"
   ]
  },
  {
   "cell_type": "code",
   "execution_count": 3,
   "metadata": {},
   "outputs": [
    {
     "name": "stdout",
     "output_type": "stream",
     "text": [
      "2.57 s ± 151 ms per loop (mean ± std. dev. of 7 runs, 1 loop each)\n"
     ]
    }
   ],
   "source": [
    "%timeit solve1()"
   ]
  },
  {
   "cell_type": "markdown",
   "metadata": {},
   "source": [
    "### Puzzle 2"
   ]
  },
  {
   "cell_type": "code",
   "execution_count": 4,
   "metadata": {},
   "outputs": [
    {
     "data": {
      "text/plain": [
       "707"
      ]
     },
     "execution_count": 4,
     "metadata": {},
     "output_type": "execute_result"
    }
   ],
   "source": [
    "def solve2():\n",
    "    p = []\n",
    "    v = []\n",
    "    a = []\n",
    "    for line in plines:\n",
    "        x, y, z = [tuple(map(int, k.split(\"<\")[1].strip(\">\").split(\",\"))) for k in line.split(\", \")]\n",
    "        p.append(x)\n",
    "        v.append(y)\n",
    "        a.append(z)\n",
    "    \n",
    "    pos = lambda i, t: tuple(\n",
    "        p[i][k] + t*v[i][k] + t*(t+1)//2*a[i][k]\n",
    "        for k in range(3)\n",
    "    )\n",
    "    \n",
    "    alive = set(range(len(p)))\n",
    "    for t in range(1000):\n",
    "        s = {}\n",
    "        for i in alive:\n",
    "            s.setdefault(pos(i, t), []).append(i)\n",
    "        for y, x in s.items():\n",
    "            if len(x) > 1:\n",
    "                alive.difference_update(x)\n",
    "            \n",
    "    return len(alive)\n",
    "\n",
    "solve2()"
   ]
  },
  {
   "cell_type": "code",
   "execution_count": 5,
   "metadata": {},
   "outputs": [
    {
     "name": "stdout",
     "output_type": "stream",
     "text": [
      "2.27 s ± 219 ms per loop (mean ± std. dev. of 7 runs, 1 loop each)\n"
     ]
    }
   ],
   "source": [
    "%timeit solve2()"
   ]
  }
 ],
 "metadata": {
  "kernelspec": {
   "display_name": "Python 3 (ipykernel)",
   "language": "python",
   "name": "python3"
  },
  "language_info": {
   "codemirror_mode": {
    "name": "ipython",
    "version": 3
   },
   "file_extension": ".py",
   "mimetype": "text/x-python",
   "name": "python",
   "nbconvert_exporter": "python",
   "pygments_lexer": "ipython3",
   "version": "3.9.6"
  }
 },
 "nbformat": 4,
 "nbformat_minor": 4
}

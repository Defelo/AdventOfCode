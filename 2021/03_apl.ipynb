{
 "cells": [
  {
   "cell_type": "code",
   "execution_count": 1,
   "id": "99f6e7d7-c153-4f43-a953-e6f2e0a8fccd",
   "metadata": {},
   "outputs": [],
   "source": [
    "data ← ⊃⎕NGET '03.txt' 1"
   ]
  },
  {
   "cell_type": "markdown",
   "id": "f1a4ef9e-2a1a-429c-ba13-1f5041415d6d",
   "metadata": {},
   "source": [
    "### Part 1"
   ]
  },
  {
   "cell_type": "code",
   "execution_count": 2,
   "id": "d4e3e1a9-00a2-42ce-8335-c462aa69a3dd",
   "metadata": {},
   "outputs": [
    {
     "data": {
      "text/html": [
       "<span style=\"white-space:pre; font-family: monospace\">3895776\n",
       "</span>"
      ]
     },
     "execution_count": 2,
     "metadata": {},
     "output_type": "execute_result"
    }
   ],
   "source": [
    "×/⊃{⍺+2×⍵}/⌽(⊢,~)∘{(≢⍵)≤2×+/⍎¨⍵}¨↓⍉↑data"
   ]
  },
  {
   "cell_type": "markdown",
   "id": "2692e4a0-785e-4c39-b114-e8cf673daeab",
   "metadata": {},
   "source": [
    "### Part 2"
   ]
  },
  {
   "cell_type": "code",
   "execution_count": 3,
   "id": "06ccee11-257a-4e05-9313-a07e46b753cf",
   "metadata": {},
   "outputs": [
    {
     "data": {
      "text/html": [
       "<span style=\"white-space:pre; font-family: monospace\">7928162\n",
       "</span>"
      ]
     },
     "execution_count": 3,
     "metadata": {},
     "output_type": "execute_result"
    }
   ],
   "source": [
    "×/{2⊥⍎¨⍵}¨{x←⍵⋄⊃⊃{i←⍺⋄m←{(x+1)⊃⍵,~⍵}{(≢⍵)≤2×+/⍎¨⍵}i⊃↓⍉↑⍵⋄o←({m=⍎i⊃⍵}¨⍵)/⍵⋄(1+0=≢o)⊃o ⍵}/⌽(⊂data),⍳≢⊃data}¨0 1"
   ]
  }
 ],
 "metadata": {
  "kernelspec": {
   "display_name": "Dyalog APL",
   "language": "apl",
   "name": "dyalog-kernel"
  },
  "language_info": {
   "file_extension": ".apl",
   "mimetype": "text/apl",
   "name": "APL"
  }
 },
 "nbformat": 4,
 "nbformat_minor": 5
}

{
 "cells": [
  {
   "cell_type": "code",
   "execution_count": 1,
   "metadata": {},
   "outputs": [
    {
     "data": {
      "text/markdown": [
       "# Day 14"
      ],
      "text/plain": [
       "<IPython.core.display.Markdown object>"
      ]
     },
     "metadata": {},
     "output_type": "display_data"
    }
   ],
   "source": [
    "import sys; sys.path.insert(0, \"..\")\n",
    "\n",
    "import aoc\n",
    "\n",
    "year, day = 2015, 14\n",
    "\n",
    "puzzle = aoc.setup(year, day)"
   ]
  },
  {
   "cell_type": "markdown",
   "metadata": {},
   "source": [
    "### Puzzle 1"
   ]
  },
  {
   "cell_type": "code",
   "execution_count": 23,
   "metadata": {},
   "outputs": [
    {
     "data": {
      "text/plain": [
       "2640"
      ]
     },
     "execution_count": 23,
     "metadata": {},
     "output_type": "execute_result"
    }
   ],
   "source": [
    "T = 2503\n",
    "out = 0\n",
    "\n",
    "for line in map(str.split, puzzle.splitlines()):\n",
    "    v, t, r = map(int, [line[3], line[6], line[-2]])\n",
    "    x = T // (t + r) * t * v\n",
    "    x += min(t, T % (t + r)) * v\n",
    "    out = max(out, x)\n",
    "out"
   ]
  },
  {
   "cell_type": "markdown",
   "metadata": {},
   "source": [
    "### Puzzle 2"
   ]
  },
  {
   "cell_type": "code",
   "execution_count": 37,
   "metadata": {},
   "outputs": [
    {
     "data": {
      "text/plain": [
       "1102"
      ]
     },
     "execution_count": 37,
     "metadata": {},
     "output_type": "execute_result"
    }
   ],
   "source": [
    "T = 2503\n",
    "\n",
    "reindeers = [tuple(map(int, [line[3], line[6], line[-2]])) for line in map(str.split, puzzle.splitlines())]\n",
    "states = [0]*len(reindeers)\n",
    "meters = [0]*len(reindeers)\n",
    "bonus = [0]*len(reindeers)\n",
    "\n",
    "for _ in range(T):\n",
    "    for i, (v, t, r) in enumerate(reindeers):\n",
    "        if states[i] >= 0:\n",
    "            meters[i] += v\n",
    "        states[i] += 1\n",
    "        if states[i] >= t:\n",
    "            states[i] = -r\n",
    "    mx = max(meters)\n",
    "    for i, m in enumerate(meters):\n",
    "        if m == mx:\n",
    "            bonus[i] += 1\n",
    "\n",
    "max(bonus)"
   ]
  }
 ],
 "metadata": {
  "kernelspec": {
   "display_name": "Python 3",
   "language": "python",
   "name": "python3"
  },
  "language_info": {
   "codemirror_mode": {
    "name": "ipython",
    "version": 3
   },
   "file_extension": ".py",
   "mimetype": "text/x-python",
   "name": "python",
   "nbconvert_exporter": "python",
   "pygments_lexer": "ipython3",
   "version": "3.8.6"
  }
 },
 "nbformat": 4,
 "nbformat_minor": 4
}

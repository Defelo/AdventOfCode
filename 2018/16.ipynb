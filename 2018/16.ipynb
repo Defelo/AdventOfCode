{
 "cells": [
  {
   "cell_type": "code",
   "execution_count": 1,
   "metadata": {},
   "outputs": [
    {
     "data": {
      "text/markdown": [
       "# Day 16"
      ],
      "text/plain": [
       "<IPython.core.display.Markdown object>"
      ]
     },
     "metadata": {},
     "output_type": "display_data"
    }
   ],
   "source": [
    "import sys; sys.path.insert(0, \"..\")\n",
    "\n",
    "import aoc\n",
    "\n",
    "year, day = 2018, 16\n",
    "\n",
    "puzzle = aoc.setup(year, day)\n",
    "plines = puzzle.splitlines()"
   ]
  },
  {
   "cell_type": "markdown",
   "metadata": {},
   "source": [
    "### Puzzle 1"
   ]
  },
  {
   "cell_type": "code",
   "execution_count": 2,
   "metadata": {},
   "outputs": [
    {
     "data": {
      "text/plain": [
       "651"
      ]
     },
     "execution_count": 2,
     "metadata": {},
     "output_type": "execute_result"
    }
   ],
   "source": [
    "opcodes = [\n",
    "    lambda reg, a, b: reg[a] + reg[b],   # addr\n",
    "    lambda reg, a, b: reg[a] + b,        # addi\n",
    "    lambda reg, a, b: reg[a] * reg[b],   # mulr\n",
    "    lambda reg, a, b: reg[a] * b,        # muli\n",
    "    lambda reg, a, b: reg[a] & reg[b],   # banr\n",
    "    lambda reg, a, b: reg[a] & b,        # bani\n",
    "    lambda reg, a, b: reg[a] | reg[b],   # borr\n",
    "    lambda reg, a, b: reg[a] | b,        # bori\n",
    "    lambda reg, a, b: reg[a],            # setr\n",
    "    lambda reg, a, b: a,                 # seti\n",
    "    lambda reg, a, b: a > reg[b],        # gtir\n",
    "    lambda reg, a, b: reg[a] > b,        # gtri\n",
    "    lambda reg, a, b: reg[a] > reg[b],   # gtrr\n",
    "    lambda reg, a, b: a == reg[b],       # eqir\n",
    "    lambda reg, a, b: reg[a] == b,       # eqri\n",
    "    lambda reg, a, b: reg[a] == reg[b],  # eqrr\n",
    "]\n",
    "\n",
    "def exec_opcode(reg, op, a, b, c):\n",
    "    reg[c] = int(op(reg, a, b))\n",
    "    \n",
    "def test_opcode(before, after, op, a, b, c):\n",
    "    before = [*before]\n",
    "    exec_opcode(before, op, a, b, c)\n",
    "    return before == after\n",
    "\n",
    "def solve1():\n",
    "    out = 0\n",
    "    for before, instruction, after in map(str.splitlines, puzzle.split(\"\\n\\n\\n\")[0].split(\"\\n\\n\")):\n",
    "        before = eval(before.split(\": \")[1])\n",
    "        _, a, b, c = map(int, instruction.split())\n",
    "        after = eval(after.split(\": \")[1])\n",
    "        out += sum(test_opcode(before, after, op, a, b, c) for op in opcodes) >= 3\n",
    "    return out\n",
    "\n",
    "solve1()"
   ]
  },
  {
   "cell_type": "code",
   "execution_count": 3,
   "metadata": {},
   "outputs": [
    {
     "name": "stdout",
     "output_type": "stream",
     "text": [
      "33.4 ms ± 2.03 ms per loop (mean ± std. dev. of 7 runs, 10 loops each)\n"
     ]
    }
   ],
   "source": [
    "%timeit solve1()"
   ]
  },
  {
   "cell_type": "markdown",
   "metadata": {},
   "source": [
    "### Puzzle 2"
   ]
  },
  {
   "cell_type": "code",
   "execution_count": 4,
   "metadata": {},
   "outputs": [
    {
     "data": {
      "text/plain": [
       "706"
      ]
     },
     "execution_count": 4,
     "metadata": {},
     "output_type": "execute_result"
    }
   ],
   "source": [
    "def solve2():\n",
    "    codes = [opcodes.copy() for _ in range(16)]\n",
    "    m = [None] * 16\n",
    "    for before, instruction, after in map(str.splitlines, puzzle.split(\"\\n\\n\\n\")[0].split(\"\\n\\n\")):\n",
    "        before = eval(before.split(\": \")[1])\n",
    "        op, a, b, c = map(int, instruction.split())\n",
    "        after = eval(after.split(\": \")[1])\n",
    "        \n",
    "        for o in [*codes[op]]:\n",
    "            if not test_opcode(before, after, o, a, b, c):\n",
    "                codes[op].remove(o)\n",
    "                if len(codes[op]) == 1:\n",
    "                    m[op] = codes[op][0]\n",
    "    \n",
    "    q = [x for x in m if x]\n",
    "    while q:\n",
    "        x = q.pop()\n",
    "        for i, lst in enumerate(codes):\n",
    "            if x in lst:\n",
    "                lst.remove(x)\n",
    "                if len(lst) == 1:\n",
    "                    m[i] = lst[0]\n",
    "                    q.append(m[i])\n",
    "\n",
    "    reg = [0] * 4\n",
    "    for line in puzzle.split(\"\\n\\n\\n\\n\")[1].splitlines():\n",
    "        op, a, b, c = map(int, line.split())\n",
    "        exec_opcode(reg, m[op], a, b, c)\n",
    "    return reg[0]\n",
    "\n",
    "solve2()"
   ]
  },
  {
   "cell_type": "code",
   "execution_count": 5,
   "metadata": {},
   "outputs": [
    {
     "name": "stdout",
     "output_type": "stream",
     "text": [
      "31.7 ms ± 7.67 ms per loop (mean ± std. dev. of 7 runs, 10 loops each)\n"
     ]
    }
   ],
   "source": [
    "%timeit solve2()"
   ]
  }
 ],
 "metadata": {
  "kernelspec": {
   "display_name": "Python 3 (ipykernel)",
   "language": "python",
   "name": "python3"
  },
  "language_info": {
   "codemirror_mode": {
    "name": "ipython",
    "version": 3
   },
   "file_extension": ".py",
   "mimetype": "text/x-python",
   "name": "python",
   "nbconvert_exporter": "python",
   "pygments_lexer": "ipython3",
   "version": "3.9.6"
  }
 },
 "nbformat": 4,
 "nbformat_minor": 4
}

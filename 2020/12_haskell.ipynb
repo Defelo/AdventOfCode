{
 "cells": [
  {
   "cell_type": "code",
   "execution_count": 1,
   "metadata": {},
   "outputs": [],
   "source": [
    "puzzle <- readFile \"12.txt\"\n",
    "plines = lines puzzle"
   ]
  },
  {
   "cell_type": "markdown",
   "metadata": {},
   "source": [
    "# Day 12"
   ]
  },
  {
   "cell_type": "markdown",
   "metadata": {},
   "source": [
    "### Puzzle 1"
   ]
  },
  {
   "cell_type": "code",
   "execution_count": 2,
   "metadata": {},
   "outputs": [
    {
     "data": {
      "text/plain": [
       "590"
      ]
     },
     "metadata": {},
     "output_type": "display_data"
    }
   ],
   "source": [
    "rotate :: Int -> Int -> Int -> (Int, Int)\n",
    "rotate dx dy n\n",
    "    | n `mod` 4 == 0 = (dx, dy)\n",
    "    | otherwise = rotate dy (-dx) (n-1)\n",
    "\n",
    "solve :: Int -> Int -> Int -> Int -> Int -> Int\n",
    "solve x y dx dy i\n",
    "    | i >= length plines = sum $ map abs [x,y]\n",
    "    | cmd == 'N' = solve x (y-n) dx dy (i+1)\n",
    "    | cmd == 'E' = solve (x+n) y dx dy (i+1)\n",
    "    | cmd == 'S' = solve x (y+n) dx dy (i+1)\n",
    "    | cmd == 'W' = solve (x-n) y dx dy (i+1)\n",
    "    | cmd == 'F' = solve (x+dx*n) (y+dy*n) dx dy (i+1)\n",
    "    | cmd == 'L' = let (rx, ry) = rotate dx dy (n `div` 90) in solve x y rx ry (i+1)\n",
    "    | cmd == 'R' = let (rx, ry) = rotate dx dy (-n `div` 90) in solve x y rx ry (i+1)\n",
    "    where cmd = head (plines !! i)\n",
    "          n = read $ tail (plines !! i) :: Int\n",
    "\n",
    "solve 0 0 1 0 0"
   ]
  },
  {
   "cell_type": "markdown",
   "metadata": {},
   "source": [
    "### Puzzle 2"
   ]
  },
  {
   "cell_type": "code",
   "execution_count": 3,
   "metadata": {},
   "outputs": [
    {
     "data": {
      "text/plain": [
       "42013"
      ]
     },
     "metadata": {},
     "output_type": "display_data"
    }
   ],
   "source": [
    "solve :: Int -> Int -> Int -> Int -> Int -> Int\n",
    "solve x y wx wy i\n",
    "    | i >= length plines = sum $ map abs [x,y]\n",
    "    | cmd == 'N' = solve x y wx (wy-n) (i+1)\n",
    "    | cmd == 'E' = solve x y (wx+n) wy (i+1)\n",
    "    | cmd == 'S' = solve x y wx (wy+n) (i+1)\n",
    "    | cmd == 'W' = solve x y (wx-n) wy (i+1)\n",
    "    | cmd == 'F' = solve (x+wx*n) (y+wy*n) wx wy (i+1)\n",
    "    | cmd == 'L' = let (rx, ry) = rotate wx wy (n `div` 90) in solve x y rx ry (i+1)\n",
    "    | cmd == 'R' = let (rx, ry) = rotate wx wy (-n `div` 90) in solve x y rx ry (i+1)\n",
    "    where cmd = head (plines !! i)\n",
    "          n = read $ tail (plines !! i) :: Int\n",
    "\n",
    "solve 0 0 10 (-1) 0"
   ]
  }
 ],
 "metadata": {
  "kernelspec": {
   "display_name": "Haskell",
   "language": "haskell",
   "name": "haskell"
  },
  "language_info": {
   "codemirror_mode": "Haskell",
   "file_extension": ".hs",
   "mimetype": "text/x-haskell",
   "name": "haskell",
   "pygments_lexer": "Haskell",
   "version": "8.8.4"
  }
 },
 "nbformat": 4,
 "nbformat_minor": 4
}

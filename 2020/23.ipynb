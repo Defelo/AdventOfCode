{
 "cells": [
  {
   "cell_type": "code",
   "execution_count": 1,
   "metadata": {},
   "outputs": [
    {
     "data": {
      "text/markdown": [
       "# Day 23"
      ],
      "text/plain": [
       "<IPython.core.display.Markdown object>"
      ]
     },
     "metadata": {},
     "output_type": "display_data"
    }
   ],
   "source": [
    "import sys; sys.path.insert(0, \"..\")\n",
    "\n",
    "import aoc\n",
    "\n",
    "year, day = 2020, 23\n",
    "\n",
    "puzzle = aoc.setup(year, day)\n",
    "plines = puzzle.splitlines()"
   ]
  },
  {
   "cell_type": "markdown",
   "metadata": {},
   "source": [
    "### Puzzle 1"
   ]
  },
  {
   "cell_type": "code",
   "execution_count": 2,
   "metadata": {},
   "outputs": [
    {
     "data": {
      "text/plain": [
       "'98645732'"
      ]
     },
     "execution_count": 2,
     "metadata": {},
     "output_type": "execute_result"
    }
   ],
   "source": [
    "def move(state):\n",
    "    current, moving, suffix = state[0], state[1:4], state[4:]\n",
    "    dst = suffix.index(max([x for x in suffix if int(x) < int(current)], default=max(suffix)))\n",
    "    state = current + suffix[:dst+1] + moving + suffix[dst+1:]\n",
    "    return state[1:] + state[0]\n",
    "\n",
    "def solve1():\n",
    "    state = puzzle\n",
    "    for _ in range(100):\n",
    "        state = move(state)\n",
    "    one = state.index(\"1\")\n",
    "    return state[one+1:] + state[:one]\n",
    "\n",
    "solve1()"
   ]
  },
  {
   "cell_type": "code",
   "execution_count": 3,
   "metadata": {},
   "outputs": [
    {
     "name": "stdout",
     "output_type": "stream",
     "text": [
      "384 µs ± 11.6 µs per loop (mean ± std. dev. of 7 runs, 1000 loops each)\n"
     ]
    }
   ],
   "source": [
    "%timeit solve1()"
   ]
  },
  {
   "cell_type": "markdown",
   "metadata": {},
   "source": [
    "### Puzzle 2"
   ]
  },
  {
   "cell_type": "code",
   "execution_count": 4,
   "metadata": {},
   "outputs": [
    {
     "data": {
      "text/plain": [
       "689500518476"
      ]
     },
     "execution_count": 4,
     "metadata": {},
     "output_type": "execute_result"
    }
   ],
   "source": [
    "def move(state, current):\n",
    "    first = state[current]\n",
    "    second = state[first]\n",
    "    third = state[second]\n",
    "    suffix = state[third]\n",
    "    \n",
    "    dst = current\n",
    "    while dst in (current, first, second, third):\n",
    "        dst -= 1\n",
    "        if not dst:\n",
    "            dst = len(state) - 1\n",
    "\n",
    "    state[current] = suffix\n",
    "    state[third] = state[dst]\n",
    "    state[dst] = first\n",
    "            \n",
    "    return state[current]\n",
    "\n",
    "def solve2():\n",
    "    nums = list(map(int, puzzle))\n",
    "    \n",
    "    state = list(range(1, 1000002))\n",
    "    for a, b in zip([-1] + nums, nums + [len(nums) + 1]):\n",
    "        state[a] = b\n",
    "    \n",
    "    current = nums[0]\n",
    "    for _ in range(10000000):\n",
    "        current = move(state, current)\n",
    "    \n",
    "    first = state[1]\n",
    "    second = state[first]\n",
    "    return first * second\n",
    "\n",
    "solve2()"
   ]
  },
  {
   "cell_type": "code",
   "execution_count": 5,
   "metadata": {},
   "outputs": [
    {
     "name": "stdout",
     "output_type": "stream",
     "text": [
      "11.4 s ± 193 ms per loop (mean ± std. dev. of 7 runs, 1 loop each)\n"
     ]
    }
   ],
   "source": [
    "%timeit solve2()"
   ]
  }
 ],
 "metadata": {
  "kernelspec": {
   "display_name": "Python 3",
   "language": "python",
   "name": "python3"
  },
  "language_info": {
   "codemirror_mode": {
    "name": "ipython",
    "version": 3
   },
   "file_extension": ".py",
   "mimetype": "text/x-python",
   "name": "python",
   "nbconvert_exporter": "python",
   "pygments_lexer": "ipython3",
   "version": "3.8.6"
  }
 },
 "nbformat": 4,
 "nbformat_minor": 4
}

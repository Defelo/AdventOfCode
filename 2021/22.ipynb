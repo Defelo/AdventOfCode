{
 "cells": [
  {
   "cell_type": "code",
   "execution_count": 1,
   "metadata": {},
   "outputs": [
    {
     "data": {
      "text/plain": "<IPython.core.display.Markdown object>",
      "text/markdown": "# Day 22"
     },
     "metadata": {},
     "output_type": "display_data"
    }
   ],
   "source": [
    "import sys; sys.path.insert(0, \"..\")\n",
    "\n",
    "from utils import *\n",
    "from dataclasses import dataclass\n",
    "import aoc\n",
    "\n",
    "year, day = 2021, 22\n",
    "\n",
    "puzzle = aoc.setup(year, day)\n",
    "plines = puzzle.splitlines()"
   ]
  },
  {
   "cell_type": "code",
   "execution_count": 2,
   "outputs": [],
   "source": [
    "def line_intersection(a1, a2, b1, b2):\n",
    "    if a2 < b1 or b2 < a1:\n",
    "        return None\n",
    "    return max(a1, b1), min(a2, b2)\n",
    "\n",
    "@dataclass\n",
    "class Cuboid:\n",
    "    x1: int\n",
    "    x2: int\n",
    "    y1: int\n",
    "    y2: int\n",
    "    z1: int\n",
    "    z2: int\n",
    "    off = None\n",
    "\n",
    "    def get_intersection(self, other):\n",
    "        x = line_intersection(self.x1, self.x2, other.x1, other.x2)\n",
    "        y = line_intersection(self.y1, self.y2, other.y1, other.y2)\n",
    "        z = line_intersection(self.z1, self.z2, other.z1, other.z2)\n",
    "        if None in [x, y, z]:\n",
    "            return None\n",
    "        return Cuboid(*x, *y, *z)\n",
    "\n",
    "    def subtract(self, other):\n",
    "        if intersection := self.get_intersection(other):\n",
    "            if not self.off:\n",
    "                self.off = []\n",
    "            for o in self.off:\n",
    "                o.subtract(other)\n",
    "            self.off.append(intersection)\n",
    "\n",
    "    def volume(self):\n",
    "        return (self.x2 - self.x1 + 1) * (self.y2 - self.y1 + 1) * (self.z2 - self.z1 + 1) - sum(\n",
    "            o.volume()\n",
    "            for o in self.off or []\n",
    "        )"
   ],
   "metadata": {
    "collapsed": false,
    "pycharm": {
     "name": "#%%\n"
    }
   }
  },
  {
   "cell_type": "markdown",
   "metadata": {},
   "source": [
    "### Puzzle 1"
   ]
  },
  {
   "cell_type": "code",
   "execution_count": 3,
   "metadata": {},
   "outputs": [
    {
     "data": {
      "text/plain": "623748"
     },
     "execution_count": 3,
     "metadata": {},
     "output_type": "execute_result"
    }
   ],
   "source": [
    "def solve1():\n",
    "    cuboids = []\n",
    "    for line in plines:\n",
    "        match = re.match(r\"^(on|off) x=(-?\\d+)..(-?\\d+),y=(-?\\d+)..(-?\\d+),z=(-?\\d+)..(-?\\d+)$\", line)\n",
    "        if any(x not in range(-50, 51) for x in map(int, match.groups()[1:])):\n",
    "            continue\n",
    "        on = match.group(1) == \"on\"\n",
    "        cuboid = Cuboid(*map(int, match.groups()[1:]))\n",
    "        for c in cuboids:\n",
    "            c.subtract(cuboid)\n",
    "        if on:\n",
    "            cuboids.append(cuboid)\n",
    "    return sum(c.volume() for c in cuboids)\n",
    "\n",
    "solve1()"
   ]
  },
  {
   "cell_type": "code",
   "execution_count": 4,
   "metadata": {},
   "outputs": [
    {
     "name": "stdout",
     "output_type": "stream",
     "text": [
      "60.8 ms ± 9.02 ms per loop (mean ± std. dev. of 7 runs, 10 loops each)\n"
     ]
    }
   ],
   "source": [
    "%timeit solve1()"
   ]
  },
  {
   "cell_type": "markdown",
   "metadata": {},
   "source": [
    "### Puzzle 2"
   ]
  },
  {
   "cell_type": "code",
   "execution_count": 5,
   "metadata": {},
   "outputs": [
    {
     "data": {
      "text/plain": "1227345351869476"
     },
     "execution_count": 5,
     "metadata": {},
     "output_type": "execute_result"
    }
   ],
   "source": [
    "def solve2():\n",
    "    cuboids = []\n",
    "    for line in plines:\n",
    "        match = re.match(r\"^(on|off) x=(-?\\d+)..(-?\\d+),y=(-?\\d+)..(-?\\d+),z=(-?\\d+)..(-?\\d+)$\", line)\n",
    "        on = match.group(1) == \"on\"\n",
    "        cuboid = Cuboid(*map(int, match.groups()[1:]))\n",
    "        for c in cuboids:\n",
    "            c.subtract(cuboid)\n",
    "        if on:\n",
    "            cuboids.append(cuboid)\n",
    "    return sum(c.volume() for c in cuboids)\n",
    "\n",
    "solve2()"
   ]
  },
  {
   "cell_type": "code",
   "execution_count": 6,
   "metadata": {},
   "outputs": [
    {
     "name": "stdout",
     "output_type": "stream",
     "text": [
      "218 ms ± 34.5 ms per loop (mean ± std. dev. of 7 runs, 1 loop each)\n"
     ]
    }
   ],
   "source": [
    "%timeit solve2()"
   ]
  }
 ],
 "metadata": {
  "kernelspec": {
   "display_name": "Python 3",
   "language": "python",
   "name": "python3"
  },
  "language_info": {
   "codemirror_mode": {
    "name": "ipython",
    "version": 3
   },
   "file_extension": ".py",
   "mimetype": "text/x-python",
   "name": "python",
   "nbconvert_exporter": "python",
   "pygments_lexer": "ipython3",
   "version": "3.8.6"
  }
 },
 "nbformat": 4,
 "nbformat_minor": 4
}
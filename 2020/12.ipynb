{
 "cells": [
  {
   "cell_type": "code",
   "execution_count": 1,
   "metadata": {},
   "outputs": [
    {
     "data": {
      "text/markdown": [
       "# Day 12"
      ],
      "text/plain": [
       "<IPython.core.display.Markdown object>"
      ]
     },
     "metadata": {},
     "output_type": "display_data"
    }
   ],
   "source": [
    "import sys; sys.path.insert(0, \"..\")\n",
    "\n",
    "import aoc\n",
    "\n",
    "year, day = 2020, 12\n",
    "\n",
    "puzzle = aoc.setup(year, day)\n",
    "plines = puzzle.splitlines()"
   ]
  },
  {
   "cell_type": "markdown",
   "metadata": {},
   "source": [
    "### Puzzle 1"
   ]
  },
  {
   "cell_type": "code",
   "execution_count": 2,
   "metadata": {},
   "outputs": [
    {
     "data": {
      "text/plain": [
       "590"
      ]
     },
     "execution_count": 2,
     "metadata": {},
     "output_type": "execute_result"
    }
   ],
   "source": [
    "def solve1():\n",
    "    x = y = 0\n",
    "    dx, dy = 1, 0\n",
    "    for line in plines:\n",
    "        n = int(line[1:])\n",
    "        cmd = line[0]\n",
    "        if cmd == \"N\": y -= n\n",
    "        if cmd == \"E\": x += n\n",
    "        if cmd == \"S\": y += n\n",
    "        if cmd == \"W\": x -= n\n",
    "        if cmd == \"F\":\n",
    "            x += dx*n\n",
    "            y += dy*n\n",
    "        if cmd == \"L\":\n",
    "            for _ in range(n//90%4):\n",
    "                dx, dy = dy, -dx\n",
    "        if cmd == \"R\":\n",
    "            for _ in range(n//90%4):\n",
    "                dx, dy = -dy, dx\n",
    "    return abs(x) + abs(y)\n",
    "\n",
    "solve1()"
   ]
  },
  {
   "cell_type": "code",
   "execution_count": 3,
   "metadata": {},
   "outputs": [
    {
     "data": {
      "text/plain": [
       "590"
      ]
     },
     "execution_count": 3,
     "metadata": {},
     "output_type": "execute_result"
    }
   ],
   "source": [
    "solve1m=lambda x=0,y=0,p=1,q=0:[(c:=l[0],n:=int(l[1:]),y:=y+n*(c==\"S\")-n*(c==\"N\")+n*q*(c==\"F\"),x:=x+n*(c==\"E\")-n*(c==\"W\")+n*p*(c==\"F\"),[(k:=q,q:=p-p*2*(c==\"L\"),p:=k-k*2*(c==\"R\"))for()in(c in\"LR\")*n//90*[()]])for l in plines]and abs(x)+abs(y)\n",
    "\n",
    "solve1m()"
   ]
  },
  {
   "cell_type": "code",
   "execution_count": 4,
   "metadata": {},
   "outputs": [
    {
     "name": "stdout",
     "output_type": "stream",
     "text": [
      "564 µs ± 26.3 µs per loop (mean ± std. dev. of 7 runs, 1000 loops each)\n",
      "1.28 ms ± 106 µs per loop (mean ± std. dev. of 7 runs, 1000 loops each)\n"
     ]
    }
   ],
   "source": [
    "%timeit solve1()\n",
    "%timeit solve1m()"
   ]
  },
  {
   "cell_type": "markdown",
   "metadata": {},
   "source": [
    "### Puzzle 2"
   ]
  },
  {
   "cell_type": "code",
   "execution_count": 5,
   "metadata": {},
   "outputs": [
    {
     "data": {
      "text/plain": [
       "42013"
      ]
     },
     "execution_count": 5,
     "metadata": {},
     "output_type": "execute_result"
    }
   ],
   "source": [
    "def solve2():\n",
    "    wx, wy = 10, -1\n",
    "    sx = sy = 0\n",
    "    for line in plines:\n",
    "        n = int(line[1:])\n",
    "        cmd = line[0]\n",
    "        if cmd == \"N\": wy -= n\n",
    "        if cmd == \"E\": wx += n\n",
    "        if cmd == \"S\": wy += n\n",
    "        if cmd == \"W\": wx -= n\n",
    "        if cmd == \"F\":\n",
    "            sx += wx * n\n",
    "            sy += wy * n\n",
    "        if cmd == \"L\":\n",
    "            for _ in range(n//90%4):\n",
    "                wx, wy = wy, -wx\n",
    "        if cmd == \"R\":\n",
    "            for _ in range(n//90%4):\n",
    "                wx, wy = -wy, wx\n",
    "    return abs(sx) + abs(sy)\n",
    "\n",
    "solve2()"
   ]
  },
  {
   "cell_type": "code",
   "execution_count": 6,
   "metadata": {},
   "outputs": [
    {
     "data": {
      "text/plain": [
       "42013"
      ]
     },
     "execution_count": 6,
     "metadata": {},
     "output_type": "execute_result"
    }
   ],
   "source": [
    "solve2m=lambda x=0,y=0,p=10,q=-1:[(c:=l[0],n:=int(l[1:]),p:=p+n*(c==\"E\")-n*(c==\"W\"),q:=q+n*(c==\"S\")-n*(c==\"N\"),x:=x+n*p*(c==\"F\"),y:=y+n*q*(c==\"F\"),[(k:=q,q:=p-p*2*(c==\"L\"),p:=k-k*2*(c==\"R\"))for()in(c in\"LR\")*n//90*[()]])for l in plines]and abs(x)+abs(y)\n",
    "\n",
    "solve2m()"
   ]
  },
  {
   "cell_type": "code",
   "execution_count": 7,
   "metadata": {},
   "outputs": [
    {
     "name": "stdout",
     "output_type": "stream",
     "text": [
      "574 µs ± 5.26 µs per loop (mean ± std. dev. of 7 runs, 1000 loops each)\n",
      "1.32 ms ± 28.7 µs per loop (mean ± std. dev. of 7 runs, 1000 loops each)\n"
     ]
    }
   ],
   "source": [
    "%timeit solve2()\n",
    "%timeit solve2m()"
   ]
  }
 ],
 "metadata": {
  "kernelspec": {
   "display_name": "Python 3",
   "language": "python",
   "name": "python3"
  },
  "language_info": {
   "codemirror_mode": {
    "name": "ipython",
    "version": 3
   },
   "file_extension": ".py",
   "mimetype": "text/x-python",
   "name": "python",
   "nbconvert_exporter": "python",
   "pygments_lexer": "ipython3",
   "version": "3.8.6"
  }
 },
 "nbformat": 4,
 "nbformat_minor": 4
}

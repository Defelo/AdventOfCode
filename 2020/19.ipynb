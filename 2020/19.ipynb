{
 "cells": [
  {
   "cell_type": "code",
   "execution_count": 1,
   "metadata": {},
   "outputs": [
    {
     "data": {
      "text/markdown": [
       "# Day 19"
      ],
      "text/plain": [
       "<IPython.core.display.Markdown object>"
      ]
     },
     "metadata": {},
     "output_type": "display_data"
    }
   ],
   "source": [
    "import sys; sys.path.insert(0, \"..\")\n",
    "\n",
    "import aoc\n",
    "\n",
    "year, day = 2020, 19\n",
    "\n",
    "puzzle = aoc.setup(year, day)\n",
    "plines = puzzle.splitlines()"
   ]
  },
  {
   "cell_type": "markdown",
   "metadata": {},
   "source": [
    "### Puzzle 1"
   ]
  },
  {
   "cell_type": "code",
   "execution_count": 2,
   "metadata": {},
   "outputs": [
    {
     "data": {
      "text/plain": [
       "160"
      ]
     },
     "execution_count": 2,
     "metadata": {},
     "output_type": "execute_result"
    }
   ],
   "source": [
    "import re\n",
    "\n",
    "def solve1():\n",
    "    raw_rules, messages = map(str.splitlines, puzzle.split(\"\\n\\n\"))\n",
    "    raw_rules = dict(line.split(\": \") for line in raw_rules)\n",
    "    rules = {}\n",
    "    \n",
    "    def make_rule(idx):\n",
    "        if idx in rules:\n",
    "            return rules[idx]\n",
    "        \n",
    "        out = []\n",
    "        for sub_rules in raw_rules[idx].split(\" | \"):\n",
    "            o = \"\"\n",
    "            for sr in sub_rules.split():\n",
    "                if x := re.match(r'\"(.+)\"', sr):\n",
    "                    o += x[1]\n",
    "                else:\n",
    "                    o += make_rule(sr)\n",
    "            out.append(o)\n",
    "        rules[idx] = \"(\" + \"|\".join(out) + \")\"\n",
    "        return rules[idx]\n",
    "    \n",
    "    pattern = re.compile(f\"^{make_rule('0')}$\")\n",
    "    return sum(bool(pattern.match(msg)) for msg in messages)\n",
    "\n",
    "solve1()"
   ]
  },
  {
   "cell_type": "code",
   "execution_count": 3,
   "metadata": {},
   "outputs": [
    {
     "data": {
      "text/plain": [
       "160"
      ]
     },
     "execution_count": 3,
     "metadata": {},
     "output_type": "execute_result"
    }
   ],
   "source": [
    "def solve1x():\n",
    "    rules, messages = map(str.splitlines, puzzle.split(\"\\n\\n\"))\n",
    "    rules = dict(line.split(\": \") for line in rules)\n",
    "    \n",
    "    def match_pattern(pattern, string):\n",
    "        if not pattern:\n",
    "            yield 0\n",
    "            return\n",
    "        \n",
    "        p, *pattern = pattern\n",
    "        \n",
    "        for j in [len(p)-2] * (p[1:-1] == string[:len(p)-2]) if p[0] == '\"' else match(p, string):\n",
    "            for k in match_pattern(pattern, string[j:]):\n",
    "                yield j + k\n",
    "    \n",
    "    def match(idx, string):\n",
    "        if not string:\n",
    "            return []\n",
    "        out = set()\n",
    "        for rule in rules[idx].split(\" | \"):\n",
    "             out.update(match_pattern(rule.split(), string))\n",
    "        return out\n",
    "    \n",
    "    return sum(len(msg) in match(\"0\", msg) for msg in messages)\n",
    "\n",
    "\n",
    "solve1x()"
   ]
  },
  {
   "cell_type": "code",
   "execution_count": 4,
   "metadata": {},
   "outputs": [
    {
     "data": {
      "text/plain": [
       "160"
      ]
     },
     "execution_count": 4,
     "metadata": {},
     "output_type": "execute_result"
    }
   ],
   "source": [
    "solve1m=lambda:(X:=[*map(str.splitlines,puzzle.split(\"\\n\\n\"))],R:=dict(l.split(\": \")for l in X[0]),m:=lambda p,s:[j+k for j in([len(p[0])-2]*(p[0][1:-1]==s[:len(p[0])-2])if p[0][0]=='\"'else M(p[0],s))for k in m(p[1:],s[j:])]if p else[0],M:=lambda i,s:set().union(*(m(r.split(),s)for r in R[i].split(\" | \")))if s else[])and sum(len(m)in M(\"0\",m)for m in X[1])\n",
    "\n",
    "solve1m()"
   ]
  },
  {
   "cell_type": "code",
   "execution_count": 5,
   "metadata": {},
   "outputs": [
    {
     "name": "stdout",
     "output_type": "stream",
     "text": [
      "9.39 ms ± 915 µs per loop (mean ± std. dev. of 7 runs, 100 loops each)\n",
      "215 ms ± 19 ms per loop (mean ± std. dev. of 7 runs, 1 loop each)\n",
      "304 ms ± 14.6 ms per loop (mean ± std. dev. of 7 runs, 1 loop each)\n"
     ]
    }
   ],
   "source": [
    "%timeit solve1()\n",
    "%timeit solve1x()\n",
    "%timeit solve1m()"
   ]
  },
  {
   "cell_type": "markdown",
   "metadata": {},
   "source": [
    "### Puzzle 2"
   ]
  },
  {
   "cell_type": "code",
   "execution_count": 6,
   "metadata": {},
   "outputs": [
    {
     "data": {
      "text/plain": [
       "357"
      ]
     },
     "execution_count": 6,
     "metadata": {},
     "output_type": "execute_result"
    }
   ],
   "source": [
    "def solve2():\n",
    "    raw_rules, messages = map(str.splitlines, puzzle.split(\"\\n\\n\"))\n",
    "    raw_rules = dict(line.split(\": \") for line in raw_rules)\n",
    "    rules = {}\n",
    "    \n",
    "    def make_rule(idx):\n",
    "        if idx in rules:\n",
    "            return rules[idx]\n",
    "\n",
    "        out = []\n",
    "        if idx == \"8\":\n",
    "            out.append(make_rule(\"42\") + \"+\")\n",
    "        elif idx == \"11\":\n",
    "            for k in range(1, 10):\n",
    "                out.append(make_rule(\"42\") * k + make_rule(\"31\") * k)\n",
    "        else:\n",
    "            for sub_rules in raw_rules[idx].split(\" | \"):\n",
    "                o = \"\"\n",
    "                for sr in sub_rules.split():\n",
    "                    if x := re.match(r'\"(.+)\"', sr):\n",
    "                        o += x[1]\n",
    "                    else:\n",
    "                        o += make_rule(sr)\n",
    "                out.append(o)\n",
    "        rules[idx] = \"(\" + \"|\".join(out) + \")\"\n",
    "        return rules[idx]\n",
    "    \n",
    "    pattern = re.compile(f\"^{make_rule('0')}$\")\n",
    "    return sum(bool(pattern.match(msg)) for msg in messages)\n",
    "\n",
    "solve2()"
   ]
  },
  {
   "cell_type": "code",
   "execution_count": 7,
   "metadata": {},
   "outputs": [
    {
     "data": {
      "text/plain": [
       "357"
      ]
     },
     "execution_count": 7,
     "metadata": {},
     "output_type": "execute_result"
    }
   ],
   "source": [
    "def solve2x():\n",
    "    rules, messages = map(str.splitlines, puzzle.split(\"\\n\\n\"))\n",
    "    rules = dict(line.split(\": \") for line in rules)\n",
    "    \n",
    "    rules[\"8\"] = \"42 | 42 8\"\n",
    "    rules[\"11\"] = \"42 31 | 42 11 31\"\n",
    "    \n",
    "    def match_pattern(pattern, string):\n",
    "        if not pattern:\n",
    "            yield 0\n",
    "            return\n",
    "        \n",
    "        p, *pattern = pattern\n",
    "        \n",
    "        for j in [len(p)-2] * (p[1:-1] == string[:len(p)-2]) if p[0] == '\"' else match(p, string):\n",
    "            for k in match_pattern(pattern, string[j:]):\n",
    "                yield j + k\n",
    "    \n",
    "    def match(idx, string):\n",
    "        if not string:\n",
    "            return []\n",
    "        out = set()\n",
    "        for rule in rules[idx].split(\" | \"):\n",
    "             out.update(match_pattern(rule.split(), string))\n",
    "        return sorted(out)\n",
    "    \n",
    "    return sum(len(msg) in match(\"0\", msg) for msg in messages)\n",
    "\n",
    "\n",
    "solve2x()"
   ]
  },
  {
   "cell_type": "code",
   "execution_count": 8,
   "metadata": {},
   "outputs": [
    {
     "data": {
      "text/plain": [
       "357"
      ]
     },
     "execution_count": 8,
     "metadata": {},
     "output_type": "execute_result"
    }
   ],
   "source": [
    "solve2m=lambda:(X:=[*map(str.splitlines,puzzle.split(\"\\n\\n\"))],R:={**dict(l.split(\": \")for l in X[0]),\"8\":\"42 | 42 8\",\"11\":\"42 31 | 42 11 31\"},m:=lambda p,s:[j+k for j in([len(p[0])-2]*(p[0][1:-1]==s[:len(p[0])-2])if p[0][0]=='\"'else M(p[0],s))for k in m(p[1:],s[j:])]if p else[0],M:=lambda i,s:set().union(*(m(r.split(),s)for r in R[i].split(\" | \")))if s else[])and sum(len(m)in M(\"0\",m)for m in X[1])\n",
    "\n",
    "solve2m()"
   ]
  },
  {
   "cell_type": "code",
   "execution_count": 9,
   "metadata": {},
   "outputs": [
    {
     "name": "stdout",
     "output_type": "stream",
     "text": [
      "580 ms ± 14.5 ms per loop (mean ± std. dev. of 7 runs, 1 loop each)\n",
      "1.88 s ± 147 ms per loop (mean ± std. dev. of 7 runs, 1 loop each)\n",
      "2.44 s ± 104 ms per loop (mean ± std. dev. of 7 runs, 1 loop each)\n"
     ]
    }
   ],
   "source": [
    "%timeit solve2()\n",
    "%timeit solve2x()\n",
    "%timeit solve2m()"
   ]
  }
 ],
 "metadata": {
  "kernelspec": {
   "display_name": "Python 3",
   "language": "python",
   "name": "python3"
  },
  "language_info": {
   "codemirror_mode": {
    "name": "ipython",
    "version": 3
   },
   "file_extension": ".py",
   "mimetype": "text/x-python",
   "name": "python",
   "nbconvert_exporter": "python",
   "pygments_lexer": "ipython3",
   "version": "3.8.6"
  }
 },
 "nbformat": 4,
 "nbformat_minor": 4
}

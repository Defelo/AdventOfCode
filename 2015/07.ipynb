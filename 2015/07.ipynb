{
 "cells": [
  {
   "cell_type": "code",
   "execution_count": 1,
   "metadata": {},
   "outputs": [
    {
     "data": {
      "text/markdown": [
       "# Day 07"
      ],
      "text/plain": [
       "<IPython.core.display.Markdown object>"
      ]
     },
     "metadata": {},
     "output_type": "display_data"
    }
   ],
   "source": [
    "import sys; sys.path.insert(0, \"..\")\n",
    "\n",
    "import aoc\n",
    "\n",
    "year, day = 2015, 7\n",
    "\n",
    "puzzle = aoc.setup(year, day)"
   ]
  },
  {
   "cell_type": "markdown",
   "metadata": {},
   "source": [
    "### Puzzle 1"
   ]
  },
  {
   "cell_type": "code",
   "execution_count": 37,
   "metadata": {},
   "outputs": [
    {
     "data": {
      "text/plain": [
       "956"
      ]
     },
     "execution_count": 37,
     "metadata": {},
     "output_type": "execute_result"
    }
   ],
   "source": [
    "MOD = 1<<16\n",
    "\n",
    "funcs = {dest: args for *args, _, dest in map(str.split, puzzle.splitlines())}\n",
    "\n",
    "dp = {}\n",
    "\n",
    "def solve(key):\n",
    "    if key not in dp:\n",
    "        if key.isnumeric():\n",
    "            val = int(key)\n",
    "        else:\n",
    "            args = funcs[key]\n",
    "            if len(args) == 1:\n",
    "                val = solve(args[0])\n",
    "            elif len(args) == 2:\n",
    "                if args[0] == \"NOT\":\n",
    "                    val = ~solve(args[1]) % MOD\n",
    "            elif len(args) == 3:\n",
    "                if args[1] == \"OR\":\n",
    "                    val = solve(args[0]) | solve(args[2])\n",
    "                elif args[1] == \"AND\":\n",
    "                    val = solve(args[0]) & solve(args[2])\n",
    "                elif args[1] == \"LSHIFT\":\n",
    "                    val = solve(args[0]) << solve(args[2])\n",
    "                elif args[1] == \"RSHIFT\":\n",
    "                    val = solve(args[0]) >> solve(args[2])\n",
    "        dp[key] = val % MOD\n",
    "    \n",
    "    return dp[key]\n",
    "\n",
    "solve(\"a\")"
   ]
  },
  {
   "cell_type": "markdown",
   "metadata": {},
   "source": [
    "### Puzzle 2"
   ]
  },
  {
   "cell_type": "code",
   "execution_count": 38,
   "metadata": {},
   "outputs": [
    {
     "data": {
      "text/plain": [
       "40149"
      ]
     },
     "execution_count": 38,
     "metadata": {},
     "output_type": "execute_result"
    }
   ],
   "source": [
    "dp.clear()\n",
    "dp = {\"b\": solve(\"a\")}\n",
    "solve(\"a\")"
   ]
  }
 ],
 "metadata": {
  "kernelspec": {
   "display_name": "Python 3",
   "language": "python",
   "name": "python3"
  },
  "language_info": {
   "codemirror_mode": {
    "name": "ipython",
    "version": 3
   },
   "file_extension": ".py",
   "mimetype": "text/x-python",
   "name": "python",
   "nbconvert_exporter": "python",
   "pygments_lexer": "ipython3",
   "version": "3.8.6"
  }
 },
 "nbformat": 4,
 "nbformat_minor": 4
}

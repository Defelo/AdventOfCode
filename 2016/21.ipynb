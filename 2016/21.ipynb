{
 "cells": [
  {
   "cell_type": "code",
   "execution_count": 1,
   "metadata": {},
   "outputs": [
    {
     "data": {
      "text/markdown": [
       "# Day 21"
      ],
      "text/plain": [
       "<IPython.core.display.Markdown object>"
      ]
     },
     "metadata": {},
     "output_type": "display_data"
    }
   ],
   "source": [
    "import sys; sys.path.insert(0, \"..\")\n",
    "\n",
    "import aoc\n",
    "\n",
    "year, day = 2016, 21\n",
    "\n",
    "puzzle = aoc.setup(year, day)"
   ]
  },
  {
   "cell_type": "markdown",
   "metadata": {},
   "source": [
    "### Puzzle 1"
   ]
  },
  {
   "cell_type": "code",
   "execution_count": 2,
   "metadata": {},
   "outputs": [
    {
     "name": "stdout",
     "output_type": "stream",
     "text": [
      "bgfacdeh\n"
     ]
    }
   ],
   "source": [
    "import re\n",
    "\n",
    "def scramble(inp):\n",
    "    *out, = inp\n",
    "    for line in puzzle.splitlines():\n",
    "        if match := re.match(r\"^swap position (\\d+) with position (\\d+)$\", line):\n",
    "            x, y = map(int, match.groups())\n",
    "            out[x], out[y] = out[y], out[x]\n",
    "        if match := re.match(r\"^swap letter ([a-zA-Z\\d]+) with letter ([a-zA-Z\\d]+)$\", line):\n",
    "            x, y = match.groups()\n",
    "            out = [[[c, x][c==y], y][c==x] for c in out]\n",
    "        if match := re.match(r\"^rotate (left|right) (\\d+) steps?$\", line):\n",
    "            d, n = match.groups()\n",
    "            n = int(n)\n",
    "            if d == \"right\": n *= -1\n",
    "            n %= len(out)\n",
    "            out = out[n:] + out[:n]\n",
    "        if match := re.match(r\"^rotate based on position of letter ([a-zA-Z\\d]+)$\", line):\n",
    "            x, = match.groups()\n",
    "            idx = out.index(x)\n",
    "            n = -(1 + idx + (idx >= 4)) % len(out)\n",
    "            out = out[n:] + out[:n]\n",
    "        if match := re.match(r\"^reverse positions (\\d+) through (\\d+)$\", line):\n",
    "            x, y = sorted(map(int, match.groups()))\n",
    "            out = out[:x] + out[x:y+1][::-1] + out[y+1:]\n",
    "        if match := re.match(r\"^move position (\\d+) to position (\\d+)$\", line):\n",
    "            x, y = map(int, match.groups())\n",
    "            out.insert(y, out.pop(x))\n",
    "\n",
    "    return \"\".join(out)\n",
    "\n",
    "print(scramble(\"abcdefgh\"))"
   ]
  },
  {
   "cell_type": "markdown",
   "metadata": {},
   "source": [
    "### Puzzle 2"
   ]
  },
  {
   "cell_type": "code",
   "execution_count": 3,
   "metadata": {},
   "outputs": [
    {
     "name": "stdout",
     "output_type": "stream",
     "text": [
      "bdgheacf\n"
     ]
    }
   ],
   "source": [
    "import itertools\n",
    "\n",
    "for it in itertools.permutations(\"abcdefgh\"):\n",
    "    if scramble(inp := \"\".join(it)) == \"fbgdceah\":\n",
    "        print(inp)\n",
    "        break"
   ]
  }
 ],
 "metadata": {
  "kernelspec": {
   "display_name": "Python 3 (ipykernel)",
   "language": "python",
   "name": "python3"
  },
  "language_info": {
   "codemirror_mode": {
    "name": "ipython",
    "version": 3
   },
   "file_extension": ".py",
   "mimetype": "text/x-python",
   "name": "python",
   "nbconvert_exporter": "python",
   "pygments_lexer": "ipython3",
   "version": "3.9.6"
  }
 },
 "nbformat": 4,
 "nbformat_minor": 4
}

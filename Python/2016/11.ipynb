{
 "cells": [
  {
   "cell_type": "code",
   "execution_count": 1,
   "metadata": {},
   "outputs": [
    {
     "data": {
      "text/markdown": [
       "# Day 11"
      ],
      "text/plain": [
       "<IPython.core.display.Markdown object>"
      ]
     },
     "metadata": {},
     "output_type": "display_data"
    }
   ],
   "source": [
    "import sys; sys.path.insert(0, \"..\")\n",
    "\n",
    "import aoc\n",
    "\n",
    "year, day = 2016, 11\n",
    "\n",
    "puzzle = aoc.setup(year, day)"
   ]
  },
  {
   "cell_type": "markdown",
   "metadata": {},
   "source": [
    "### Puzzle 1"
   ]
  },
  {
   "cell_type": "code",
   "execution_count": 2,
   "metadata": {},
   "outputs": [
    {
     "data": {
      "text/plain": [
       "33"
      ]
     },
     "execution_count": 2,
     "metadata": {},
     "output_type": "execute_result"
    }
   ],
   "source": [
    "import re\n",
    "\n",
    "names = {}\n",
    "get_id = lambda name: names.setdefault(name, len(names))\n",
    "generators = {}\n",
    "microchips = {}\n",
    "for i, line in enumerate(puzzle.splitlines()):\n",
    "    for g in map(get_id, re.findall(r\"([a-z]+) generator\", line)):\n",
    "        generators[g] = i\n",
    "    for m in map(get_id, re.findall(r\"([a-z]+)-compatible microchip\", line)):\n",
    "        microchips[m] = i\n",
    "generators = tuple([generators[i] for i in range(len(generators))])\n",
    "microchips = tuple([microchips[i] for i in range(len(microchips))])\n",
    "\n",
    "sub = lambda lst, i, x: lst[:i] + (x,) + lst[i+1:]\n",
    "\n",
    "def is_valid(generators, microchips):\n",
    "    for i, e in enumerate(microchips):\n",
    "        if not 0 <= e < 4:\n",
    "            return False\n",
    "        if generators[i] == e:\n",
    "            continue\n",
    "        if e in generators:\n",
    "            return False\n",
    "    return True\n",
    "\n",
    "def solve():\n",
    "    def add_to_queue(d, e, g, m):\n",
    "        g, m = map(tuple, zip(*sorted(zip(g, m))))\n",
    "        if is_valid(g, m):\n",
    "            queue.append((d, e, g, m))\n",
    "\n",
    "    queue = [(0, 0, generators, microchips)]\n",
    "    visited = set()\n",
    "    while queue:\n",
    "        dist, el, ge, mi = queue.pop(0)\n",
    "\n",
    "        if (el, ge, mi) in visited:\n",
    "            continue\n",
    "        visited.add((el, ge, mi))\n",
    "\n",
    "        if ge == mi == (3,) * len(ge):\n",
    "            return dist\n",
    "\n",
    "        for d in [-1, 1]:\n",
    "            if not 0 <= (e := el + d) < 4:\n",
    "                continue\n",
    "            if d == -1 and all(x >= el for x in ge + mi):\n",
    "                continue\n",
    "\n",
    "            for i in range(len(ge)):\n",
    "                if ge[i] == el:\n",
    "                    add_to_queue(dist + 1, e, sub(ge, i, e), mi)\n",
    "                if mi[i] == el:\n",
    "                    add_to_queue(dist + 1, e, ge, sub(mi, i, e))\n",
    "                if ge[i] == mi[i] == el:\n",
    "                    add_to_queue(dist + 1, e, sub(ge, i, e), sub(mi, i, e))\n",
    "                for j in range(i + 1, len(ge)):\n",
    "                    if ge[i] == ge[j] == el:\n",
    "                        add_to_queue(dist + 1, e, sub(sub(ge, j, e), i, e), mi)\n",
    "                    if mi[i] == mi[j] == el:\n",
    "                        add_to_queue(dist + 1, e, ge, sub(sub(mi, j, e), i, e))\n",
    "\n",
    "solve()"
   ]
  },
  {
   "cell_type": "markdown",
   "metadata": {},
   "source": [
    "### Puzzle 2"
   ]
  },
  {
   "cell_type": "code",
   "execution_count": 3,
   "metadata": {},
   "outputs": [
    {
     "data": {
      "text/plain": [
       "57"
      ]
     },
     "execution_count": 3,
     "metadata": {},
     "output_type": "execute_result"
    }
   ],
   "source": [
    "names = {}\n",
    "generators = {}\n",
    "microchips = {}\n",
    "for i, line in enumerate(puzzle.splitlines()):\n",
    "    for g in map(get_id, re.findall(r\"([a-z]+) generator\", line)):\n",
    "        generators[g] = i\n",
    "    for m in map(get_id, re.findall(r\"([a-z]+)-compatible microchip\", line)):\n",
    "        microchips[m] = i\n",
    "for i in map(get_id, \"ab\"):\n",
    "    generators[i] = microchips[i] = 0\n",
    "generators = tuple([generators[i] for i in range(len(generators))])\n",
    "microchips = tuple([microchips[i] for i in range(len(microchips))])\n",
    "\n",
    "solve()"
   ]
  }
 ],
 "metadata": {
  "kernelspec": {
   "display_name": "Python 3",
   "language": "python",
   "name": "python3"
  },
  "language_info": {
   "codemirror_mode": {
    "name": "ipython",
    "version": 3
   },
   "file_extension": ".py",
   "mimetype": "text/x-python",
   "name": "python",
   "nbconvert_exporter": "python",
   "pygments_lexer": "ipython3",
   "version": "3.8.6"
  }
 },
 "nbformat": 4,
 "nbformat_minor": 4
}

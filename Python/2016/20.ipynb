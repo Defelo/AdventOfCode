{
 "cells": [
  {
   "cell_type": "code",
   "execution_count": 1,
   "metadata": {},
   "outputs": [
    {
     "data": {
      "text/markdown": [
       "# Day 20"
      ],
      "text/plain": [
       "<IPython.core.display.Markdown object>"
      ]
     },
     "metadata": {},
     "output_type": "display_data"
    }
   ],
   "source": [
    "import sys; sys.path.insert(0, \"..\")\n",
    "\n",
    "import aoc\n",
    "\n",
    "year, day = 2016, 20\n",
    "\n",
    "puzzle = aoc.setup(year, day)"
   ]
  },
  {
   "cell_type": "markdown",
   "metadata": {},
   "source": [
    "### Puzzle 1"
   ]
  },
  {
   "cell_type": "code",
   "execution_count": 2,
   "metadata": {},
   "outputs": [
    {
     "name": "stdout",
     "output_type": "stream",
     "text": [
      "4793564\n"
     ]
    }
   ],
   "source": [
    "blocked = []\n",
    "for line in puzzle.splitlines():\n",
    "    a, b = map(int, line.split(\"-\"))\n",
    "    blocked.append((a, b))\n",
    "\n",
    "is_blocked = lambda x: any(a<=x<=b for a, b in blocked)\n",
    "\n",
    "for b in sorted(b for _, b in blocked):\n",
    "    if not is_blocked(b+1):\n",
    "        print(b+1)\n",
    "        break"
   ]
  },
  {
   "cell_type": "markdown",
   "metadata": {},
   "source": [
    "### Puzzle 2"
   ]
  },
  {
   "cell_type": "code",
   "execution_count": 3,
   "metadata": {},
   "outputs": [
    {
     "data": {
      "text/plain": [
       "146"
      ]
     },
     "execution_count": 3,
     "metadata": {},
     "output_type": "execute_result"
    }
   ],
   "source": [
    "blocked = []\n",
    "for line in puzzle.splitlines():\n",
    "    a, b = map(int, line.split(\"-\"))\n",
    "\n",
    "    merged = []\n",
    "    for i, (x, y) in enumerate(blocked):\n",
    "        if x <= a <= b <= y: break\n",
    "        if y + 1 < a or b < x - 1: continue\n",
    "        a, b = min(a, x), max(b, y)\n",
    "        merged.append(i)\n",
    "    else:\n",
    "        blocked.append((a, b))\n",
    "        for i in reversed(merged):\n",
    "            blocked.pop(i)\n",
    "        \n",
    "(1<<32)-sum(b-a+1 for a, b in blocked)"
   ]
  }
 ],
 "metadata": {
  "kernelspec": {
   "display_name": "Python 3 (ipykernel)",
   "language": "python",
   "name": "python3"
  },
  "language_info": {
   "codemirror_mode": {
    "name": "ipython",
    "version": 3
   },
   "file_extension": ".py",
   "mimetype": "text/x-python",
   "name": "python",
   "nbconvert_exporter": "python",
   "pygments_lexer": "ipython3",
   "version": "3.9.6"
  }
 },
 "nbformat": 4,
 "nbformat_minor": 4
}

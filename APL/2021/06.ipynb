{
 "cells": [
  {
   "cell_type": "code",
   "execution_count": 1,
   "id": "3e1eb3d0-7a65-403c-8816-0b914a1f705b",
   "metadata": {},
   "outputs": [],
   "source": [
    "data ← ⍎¨','(≠⊆⊢)⊃⊃⎕NGET '06.txt' 1"
   ]
  },
  {
   "cell_type": "code",
   "execution_count": 2,
   "id": "bac640c9-2cb2-4861-9fb9-2aba12138d3f",
   "metadata": {},
   "outputs": [],
   "source": [
    "⎕PP←32\n",
    "solve ← {+/({((⊃⍵+⊢)@7)1⌽⍵}⍣⍵) ⊢⌿⍉{⍺,1-⍨≢⍵}⌸data,⍨1-⍨⍳9}"
   ]
  },
  {
   "cell_type": "markdown",
   "id": "8213c71c-7fbb-41ba-9f01-ab7cf8da9bf5",
   "metadata": {},
   "source": [
    "### Part 1"
   ]
  },
  {
   "cell_type": "code",
   "execution_count": 3,
   "id": "fdb19c65-0147-4656-b698-8322bc292cbd",
   "metadata": {},
   "outputs": [
    {
     "data": {
      "text/html": [
       "<span style=\"white-space:pre; font-family: monospace\">345793\n",
       "</span>"
      ]
     },
     "execution_count": 3,
     "metadata": {},
     "output_type": "execute_result"
    }
   ],
   "source": [
    "solve 80"
   ]
  },
  {
   "cell_type": "markdown",
   "id": "db5f241e-7218-4b8a-a881-cc265b619467",
   "metadata": {},
   "source": [
    "### Part 2"
   ]
  },
  {
   "cell_type": "code",
   "execution_count": 4,
   "id": "585dfd8f-1de6-4b6d-888c-579ea35ece24",
   "metadata": {},
   "outputs": [
    {
     "data": {
      "text/html": [
       "<span style=\"white-space:pre; font-family: monospace\">1572643095893\n",
       "</span>"
      ]
     },
     "execution_count": 4,
     "metadata": {},
     "output_type": "execute_result"
    }
   ],
   "source": [
    "solve 256"
   ]
  }
 ],
 "metadata": {
  "kernelspec": {
   "display_name": "Dyalog APL",
   "language": "apl",
   "name": "dyalog-kernel"
  },
  "language_info": {
   "file_extension": ".apl",
   "mimetype": "text/apl",
   "name": "APL"
  }
 },
 "nbformat": 4,
 "nbformat_minor": 5
}

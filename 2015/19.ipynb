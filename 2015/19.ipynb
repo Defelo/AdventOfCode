{
 "cells": [
  {
   "cell_type": "code",
   "execution_count": 18,
   "metadata": {},
   "outputs": [
    {
     "data": {
      "text/markdown": [
       "# Day 19"
      ],
      "text/plain": [
       "<IPython.core.display.Markdown object>"
      ]
     },
     "metadata": {},
     "output_type": "display_data"
    }
   ],
   "source": [
    "import sys; sys.path.insert(0, \"..\")\n",
    "\n",
    "import aoc\n",
    "\n",
    "year, day = 2015, 19\n",
    "\n",
    "puzzle = aoc.setup(year, day)"
   ]
  },
  {
   "cell_type": "markdown",
   "metadata": {},
   "source": [
    "### Puzzle 1"
   ]
  },
  {
   "cell_type": "code",
   "execution_count": 27,
   "metadata": {},
   "outputs": [
    {
     "data": {
      "text/plain": [
       "518"
      ]
     },
     "execution_count": 27,
     "metadata": {},
     "output_type": "execute_result"
    }
   ],
   "source": [
    "*replacements, _, mol = puzzle.splitlines()\n",
    "rep = {}\n",
    "for k, _, v in map(str.split, replacements):\n",
    "    rep.setdefault(k, []).append(v)\n",
    "\n",
    "out = set()\n",
    "for k, v in rep.items():\n",
    "    for i in range(len(mol)):\n",
    "        if k == mol[i:i+len(k)]:\n",
    "            for e in v:\n",
    "                out.add(mol[:i] + e + mol[i+len(k):])\n",
    "len(out)"
   ]
  },
  {
   "cell_type": "markdown",
   "metadata": {},
   "source": [
    "### Puzzle 2"
   ]
  },
  {
   "cell_type": "code",
   "execution_count": 78,
   "metadata": {},
   "outputs": [
    {
     "data": {
      "text/plain": [
       "200"
      ]
     },
     "execution_count": 78,
     "metadata": {},
     "output_type": "execute_result"
    }
   ],
   "source": [
    "*replacements, _, mol = puzzle.splitlines()\n",
    "rep = {}\n",
    "for v, _, k in map(str.split, replacements):\n",
    "    rep[k] = v\n",
    "\n",
    "def replace(inp):\n",
    "    out = set()\n",
    "    for k, v in rep.items():\n",
    "        for i in range(len(inp)):\n",
    "            if k == inp[i:i+len(k)]:\n",
    "                out.add(inp[:i] + v + inp[i+len(k):])\n",
    "    return out\n",
    "\n",
    "def solve(inp):\n",
    "    if inp == \"e\":\n",
    "        return 0\n",
    "    \n",
    "    for x in replace(inp):\n",
    "        if (y := solve(x)) is not None:\n",
    "            return y + 1\n",
    "\n",
    "solve(mol)"
   ]
  }
 ],
 "metadata": {
  "kernelspec": {
   "display_name": "Python 3",
   "language": "python",
   "name": "python3"
  },
  "language_info": {
   "codemirror_mode": {
    "name": "ipython",
    "version": 3
   },
   "file_extension": ".py",
   "mimetype": "text/x-python",
   "name": "python",
   "nbconvert_exporter": "python",
   "pygments_lexer": "ipython3",
   "version": "3.8.6"
  }
 },
 "nbformat": 4,
 "nbformat_minor": 4
}

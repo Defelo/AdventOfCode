{
 "cells": [
  {
   "cell_type": "code",
   "execution_count": 1,
   "metadata": {},
   "outputs": [
    {
     "data": {
      "text/markdown": [
       "# Day 24"
      ],
      "text/plain": [
       "<IPython.core.display.Markdown object>"
      ]
     },
     "metadata": {},
     "output_type": "display_data"
    }
   ],
   "source": [
    "import sys; sys.path.insert(0, \"..\")\n",
    "\n",
    "import aoc\n",
    "\n",
    "year, day = 2016, 24\n",
    "\n",
    "puzzle = aoc.setup(year, day)"
   ]
  },
  {
   "cell_type": "markdown",
   "metadata": {},
   "source": [
    "### Puzzle 1"
   ]
  },
  {
   "cell_type": "code",
   "execution_count": 2,
   "metadata": {},
   "outputs": [
    {
     "name": "stdout",
     "output_type": "stream",
     "text": [
      "{2: (165, 1), 1: (5, 3), 3: (177, 7), 0: (3, 17), 7: (173, 23), 6: (27, 31), 5: (167, 35), 4: (47, 37)}\n"
     ]
    },
    {
     "data": {
      "text/plain": [
       "498"
      ]
     },
     "execution_count": 2,
     "metadata": {},
     "output_type": "execute_result"
    }
   ],
   "source": [
    "import itertools\n",
    "\n",
    "grid = puzzle.splitlines()\n",
    "nodes = {}\n",
    "rnodes = {}\n",
    "for i, line in enumerate(grid):\n",
    "    for j, c in enumerate(line):\n",
    "        if c.isnumeric():\n",
    "            nodes[int(c)] = j, i\n",
    "            rnodes[(j, i)] = int(c)\n",
    "print(nodes)\n",
    "\n",
    "def asp(x, y):\n",
    "    queue = [(0, x, y)]\n",
    "    out = {}\n",
    "    visited = set()\n",
    "    while queue:        \n",
    "        d, x, y = queue.pop(0)\n",
    "        \n",
    "        if (x, y) in visited: continue\n",
    "        visited.add((x, y))\n",
    "        \n",
    "        if (x, y) in rnodes:\n",
    "            out[rnodes[(x,y)]] = d\n",
    "        \n",
    "        for p, q in [(x,y-1),(x,y+1),(x-1,y),(x+1,y)]:\n",
    "            if p not in range(len(grid[0])) or q not in range(len(grid)) or grid[q][p] == \"#\":\n",
    "                continue\n",
    "            queue.append((d + 1, p, q))\n",
    "    \n",
    "    return out\n",
    "\n",
    "sp = {k: asp(*v) for k, v in nodes.items()}\n",
    "best = 1e1337\n",
    "for order in itertools.permutations(set(sp) - {0}):\n",
    "    pos = 0\n",
    "    cost = 0\n",
    "    for x in order:\n",
    "        cost += sp[pos][x]\n",
    "        pos = x\n",
    "    best = min(best, cost)\n",
    "best"
   ]
  },
  {
   "cell_type": "markdown",
   "metadata": {},
   "source": [
    "### Puzzle 2"
   ]
  },
  {
   "cell_type": "code",
   "execution_count": 3,
   "metadata": {},
   "outputs": [
    {
     "data": {
      "text/plain": [
       "804"
      ]
     },
     "execution_count": 3,
     "metadata": {},
     "output_type": "execute_result"
    }
   ],
   "source": [
    "best = 1e1337\n",
    "for order in itertools.permutations(set(sp) - {0}):\n",
    "    pos = 0\n",
    "    cost = 0\n",
    "    for x in order:\n",
    "        cost += sp[pos][x]\n",
    "        pos = x\n",
    "    best = min(best, cost + sp[pos][0])\n",
    "best"
   ]
  }
 ],
 "metadata": {
  "kernelspec": {
   "display_name": "Python 3 (ipykernel)",
   "language": "python",
   "name": "python3"
  },
  "language_info": {
   "codemirror_mode": {
    "name": "ipython",
    "version": 3
   },
   "file_extension": ".py",
   "mimetype": "text/x-python",
   "name": "python",
   "nbconvert_exporter": "python",
   "pygments_lexer": "ipython3",
   "version": "3.9.6"
  }
 },
 "nbformat": 4,
 "nbformat_minor": 4
}

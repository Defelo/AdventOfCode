{
 "cells": [
  {
   "cell_type": "code",
   "execution_count": 1,
   "metadata": {},
   "outputs": [],
   "source": [
    "import System.IO\n",
    "\n",
    "handle <- openFile \"02.txt\" ReadMode  \n",
    "puzzle <- hGetContents handle  \n",
    "let plines = lines puzzle\n",
    "\n",
    "int x = read x :: Int"
   ]
  },
  {
   "cell_type": "markdown",
   "metadata": {},
   "source": [
    "# Day 02"
   ]
  },
  {
   "cell_type": "markdown",
   "metadata": {},
   "source": [
    "### Puzzle 1"
   ]
  },
  {
   "cell_type": "code",
   "execution_count": 2,
   "metadata": {},
   "outputs": [
    {
     "data": {
      "text/plain": [
       "424"
      ]
     },
     "metadata": {},
     "output_type": "display_data"
    }
   ],
   "source": [
    "import Data.List.Split\n",
    "\n",
    "count e = foldl (\\a x -> if x == e then a + 1 else a) 0\n",
    "\n",
    "valid x c [a, b] = a <= cnt && cnt <= b\n",
    "    where cnt = count c x\n",
    "test [a,b,c] = valid c (head b) $ map int $ splitOn \"-\" a\n",
    "\n",
    "count True $ map (test.words) plines"
   ]
  },
  {
   "cell_type": "markdown",
   "metadata": {},
   "source": [
    "### Puzzle 2"
   ]
  },
  {
   "cell_type": "code",
   "execution_count": 3,
   "metadata": {},
   "outputs": [
    {
     "data": {
      "text/plain": [
       "747"
      ]
     },
     "metadata": {},
     "output_type": "display_data"
    }
   ],
   "source": [
    "valid x c k = foldl (/=) False [x !! (e-1) == c | e <- k]\n",
    "test [a,b,c] = valid c (head b) $ map int $ splitOn \"-\" a\n",
    "\n",
    "count True $ map (test.words) plines"
   ]
  }
 ],
 "metadata": {
  "kernelspec": {
   "display_name": "Haskell",
   "language": "haskell",
   "name": "haskell"
  },
  "language_info": {
   "codemirror_mode": "Haskell",
   "file_extension": ".hs",
   "mimetype": "text/x-haskell",
   "name": "haskell",
   "pygments_lexer": "Haskell",
   "version": "8.8.4"
  }
 },
 "nbformat": 4,
 "nbformat_minor": 4
}

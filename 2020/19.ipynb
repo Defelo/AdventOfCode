{
 "cells": [
  {
   "cell_type": "code",
   "execution_count": 1,
   "metadata": {},
   "outputs": [
    {
     "data": {
      "text/markdown": [
       "# Day 19"
      ],
      "text/plain": [
       "<IPython.core.display.Markdown object>"
      ]
     },
     "metadata": {},
     "output_type": "display_data"
    }
   ],
   "source": [
    "import sys; sys.path.insert(0, \"..\")\n",
    "\n",
    "import aoc\n",
    "\n",
    "year, day = 2020, 19\n",
    "\n",
    "puzzle = aoc.setup(year, day)\n",
    "plines = puzzle.splitlines()"
   ]
  },
  {
   "cell_type": "markdown",
   "metadata": {},
   "source": [
    "### Puzzle 1"
   ]
  },
  {
   "cell_type": "code",
   "execution_count": 2,
   "metadata": {},
   "outputs": [
    {
     "data": {
      "text/plain": [
       "160"
      ]
     },
     "execution_count": 2,
     "metadata": {},
     "output_type": "execute_result"
    }
   ],
   "source": [
    "import re\n",
    "\n",
    "def solve1():\n",
    "    raw_rules, messages = map(str.splitlines, puzzle.split(\"\\n\\n\"))\n",
    "    raw_rules = dict(line.split(\": \") for line in raw_rules)\n",
    "    rules = {}\n",
    "    \n",
    "    def make_rule(idx):\n",
    "        if idx in rules:\n",
    "            return rules[idx]\n",
    "        \n",
    "        out = []\n",
    "        for sub_rules in raw_rules[idx].split(\" | \"):\n",
    "            o = \"\"\n",
    "            for sr in sub_rules.split():\n",
    "                if x := re.match(r'\"(.+)\"', sr):\n",
    "                    o += x[1]\n",
    "                else:\n",
    "                    o += make_rule(sr)\n",
    "            out.append(o)\n",
    "        rules[idx] = \"(\" + \"|\".join(out) + \")\"\n",
    "        return rules[idx]\n",
    "    \n",
    "    pattern = re.compile(f\"^{make_rule('0')}$\")\n",
    "    return sum(bool(pattern.match(msg)) for msg in messages)\n",
    "\n",
    "solve1()"
   ]
  },
  {
   "cell_type": "code",
   "execution_count": 3,
   "metadata": {},
   "outputs": [
    {
     "name": "stdout",
     "output_type": "stream",
     "text": [
      "8.3 ms ± 214 µs per loop (mean ± std. dev. of 7 runs, 100 loops each)\n"
     ]
    }
   ],
   "source": [
    "%timeit solve1()"
   ]
  },
  {
   "cell_type": "markdown",
   "metadata": {},
   "source": [
    "### Puzzle 2"
   ]
  },
  {
   "cell_type": "code",
   "execution_count": 4,
   "metadata": {},
   "outputs": [
    {
     "data": {
      "text/plain": [
       "357"
      ]
     },
     "execution_count": 4,
     "metadata": {},
     "output_type": "execute_result"
    }
   ],
   "source": [
    "def solve2():\n",
    "    raw_rules, messages = map(str.splitlines, puzzle.split(\"\\n\\n\"))\n",
    "    raw_rules = dict(line.split(\": \") for line in raw_rules)\n",
    "    rules = {}\n",
    "    \n",
    "    def make_rule(idx):\n",
    "        if idx in rules:\n",
    "            return rules[idx]\n",
    "\n",
    "        out = []\n",
    "        if idx == \"8\":\n",
    "            out.append(make_rule(\"42\") + \"+\")\n",
    "        elif idx == \"11\":\n",
    "            for k in range(1, 10):\n",
    "                out.append(make_rule(\"42\") * k + make_rule(\"31\") * k)\n",
    "        else:\n",
    "            for sub_rules in raw_rules[idx].split(\" | \"):\n",
    "                o = \"\"\n",
    "                for sr in sub_rules.split():\n",
    "                    if x := re.match(r'\"(.+)\"', sr):\n",
    "                        o += x[1]\n",
    "                    else:\n",
    "                        o += make_rule(sr)\n",
    "                out.append(o)\n",
    "        rules[idx] = \"(\" + \"|\".join(out) + \")\"\n",
    "        return rules[idx]\n",
    "    \n",
    "    pattern = re.compile(f\"^{make_rule('0')}$\")\n",
    "    return sum(bool(pattern.match(msg)) for msg in messages)\n",
    "\n",
    "solve2()"
   ]
  },
  {
   "cell_type": "code",
   "execution_count": 5,
   "metadata": {},
   "outputs": [
    {
     "name": "stdout",
     "output_type": "stream",
     "text": [
      "519 ms ± 14.1 ms per loop (mean ± std. dev. of 7 runs, 1 loop each)\n"
     ]
    }
   ],
   "source": [
    "%timeit solve2()"
   ]
  }
 ],
 "metadata": {
  "kernelspec": {
   "display_name": "Python 3",
   "language": "python",
   "name": "python3"
  },
  "language_info": {
   "codemirror_mode": {
    "name": "ipython",
    "version": 3
   },
   "file_extension": ".py",
   "mimetype": "text/x-python",
   "name": "python",
   "nbconvert_exporter": "python",
   "pygments_lexer": "ipython3",
   "version": "3.8.6"
  }
 },
 "nbformat": 4,
 "nbformat_minor": 4
}

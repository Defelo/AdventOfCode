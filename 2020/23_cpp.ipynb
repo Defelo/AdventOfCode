{
 "cells": [
  {
   "cell_type": "code",
   "execution_count": 1,
   "metadata": {},
   "outputs": [
    {
     "name": "stdout",
     "output_type": "stream",
     "text": [
      "23.cpp: In function ‘ll solve1(vl)’:\n",
      "23.cpp:43:22: warning: comparison of integer expressions of different signedness: ‘ll’ {aka ‘long long int’} and ‘std::vector<long long int>::size_type’ {aka ‘long unsigned int’} [-Wsign-compare]\n",
      "   43 |     for (ll i = 0; i < nums.size(); i++) {\n",
      "      |                    ~~^~~~~~~~~~~~~\n",
      "23.cpp: In function ‘ll solve2(vl)’:\n",
      "23.cpp:66:22: warning: comparison of integer expressions of different signedness: ‘ll’ {aka ‘long long int’} and ‘std::vector<long long int>::size_type’ {aka ‘long unsigned int’} [-Wsign-compare]\n",
      "   66 |     for (ll i = 1; i < nums.size(); i++) {\n",
      "      |                    ~~^~~~~~~~~~~~~\n",
      "\n",
      "real\t0m1.910s\n",
      "user\t0m1.462s\n",
      "sys\t0m0.355s\n"
     ]
    }
   ],
   "source": [
    "time g++ -O3 -Wall -Wextra 23.cpp -o 23.out"
   ]
  },
  {
   "cell_type": "code",
   "execution_count": 2,
   "metadata": {},
   "outputs": [
    {
     "name": "stdout",
     "output_type": "stream",
     "text": [
      "Part 1: 98645732\n",
      "Part 2: 689500518476\n",
      "\n",
      "real\t0m1.077s\n",
      "user\t0m1.004s\n",
      "sys\t0m0.020s\n"
     ]
    }
   ],
   "source": [
    "time ./23.out"
   ]
  }
 ],
 "metadata": {
  "kernelspec": {
   "display_name": "Bash",
   "language": "bash",
   "name": "bash"
  },
  "language_info": {
   "codemirror_mode": "shell",
   "file_extension": ".sh",
   "mimetype": "text/x-sh",
   "name": "bash"
  }
 },
 "nbformat": 4,
 "nbformat_minor": 4
}

{
 "cells": [
  {
   "cell_type": "code",
   "execution_count": 1,
   "metadata": {},
   "outputs": [
    {
     "data": {
      "text/markdown": [
       "# Day 15"
      ],
      "text/plain": [
       "<IPython.core.display.Markdown object>"
      ]
     },
     "metadata": {},
     "output_type": "display_data"
    }
   ],
   "source": [
    "import sys; sys.path.insert(0, \"..\")\n",
    "\n",
    "import aoc\n",
    "\n",
    "year, day = 2020, 15\n",
    "\n",
    "puzzle = aoc.setup(year, day)\n",
    "plines = puzzle.splitlines()"
   ]
  },
  {
   "cell_type": "markdown",
   "metadata": {},
   "source": [
    "### Puzzle 1"
   ]
  },
  {
   "cell_type": "code",
   "execution_count": 2,
   "metadata": {},
   "outputs": [
    {
     "data": {
      "text/plain": [
       "1618"
      ]
     },
     "execution_count": 2,
     "metadata": {},
     "output_type": "execute_result"
    }
   ],
   "source": [
    "def solve1():\n",
    "    nums = list(map(int, puzzle.split(\",\")))\n",
    "    hist = {n: i for i, n in enumerate(nums[:-1])}\n",
    "        \n",
    "    n = nums[-1]\n",
    "    for turn in range(len(nums), 2020):\n",
    "        o = turn - 1 - hist[n] if n in hist else 0\n",
    "        hist[n] = turn - 1\n",
    "        n = o\n",
    "    return n\n",
    "\n",
    "solve1()"
   ]
  },
  {
   "cell_type": "code",
   "execution_count": 3,
   "metadata": {},
   "outputs": [
    {
     "data": {
      "text/plain": [
       "1618"
      ]
     },
     "execution_count": 3,
     "metadata": {},
     "output_type": "execute_result"
    }
   ],
   "source": [
    "solve1m=lambda N=[*map(int,puzzle.split(\",\"))]:(H:=dict(zip(N,range(len(N)-1))))and(n:=N[-1],)and[0 for t in range(len(N),2020)if(o:=t-1-H.get(n,t-1),H.update({n:t-1}),n:=o)*0]or n\n",
    "\n",
    "solve1m()"
   ]
  },
  {
   "cell_type": "code",
   "execution_count": 4,
   "metadata": {},
   "outputs": [
    {
     "name": "stdout",
     "output_type": "stream",
     "text": [
      "498 µs ± 19.5 µs per loop (mean ± std. dev. of 7 runs, 1000 loops each)\n",
      "1.17 ms ± 24.1 µs per loop (mean ± std. dev. of 7 runs, 1000 loops each)\n"
     ]
    }
   ],
   "source": [
    "%timeit solve1()\n",
    "%timeit solve1m()"
   ]
  },
  {
   "cell_type": "markdown",
   "metadata": {},
   "source": [
    "### Puzzle 2"
   ]
  },
  {
   "cell_type": "code",
   "execution_count": 5,
   "metadata": {},
   "outputs": [
    {
     "name": "stdout",
     "output_type": "stream",
     "text": [
      "CPU times: user 18.3 s, sys: 1.02 s, total: 19.4 s\n",
      "Wall time: 20.2 s\n"
     ]
    },
    {
     "data": {
      "text/plain": [
       "548531"
      ]
     },
     "execution_count": 5,
     "metadata": {},
     "output_type": "execute_result"
    }
   ],
   "source": [
    "%%time\n",
    "\n",
    "def solve2():\n",
    "    nums = list(map(int, puzzle.split(\",\")))\n",
    "    hist = {n: i for i, n in enumerate(nums[:-1])}\n",
    "        \n",
    "    n = nums[-1]\n",
    "    for turn in range(len(nums), 30000000):\n",
    "        o = turn - 1 - hist[n] if n in hist else 0\n",
    "        hist[n] = turn - 1\n",
    "        n = o\n",
    "    return n\n",
    "\n",
    "solve2()"
   ]
  },
  {
   "cell_type": "code",
   "execution_count": 6,
   "metadata": {},
   "outputs": [
    {
     "name": "stdout",
     "output_type": "stream",
     "text": [
      "CPU times: user 27.1 s, sys: 687 ms, total: 27.7 s\n",
      "Wall time: 28.3 s\n"
     ]
    },
    {
     "data": {
      "text/plain": [
       "548531"
      ]
     },
     "execution_count": 6,
     "metadata": {},
     "output_type": "execute_result"
    }
   ],
   "source": [
    "%%time\n",
    "\n",
    "solve2m=lambda N=[*map(int,puzzle.split(\",\"))]:(H:=dict(zip(N,range(len(N)-1))))and(n:=N[-1],)and[0 for t in range(len(N),30000000)if(o:=t-1-H.get(n,t-1),H.update({n:t-1}),n:=o)*0]or n\n",
    "\n",
    "solve2m()"
   ]
  }
 ],
 "metadata": {
  "kernelspec": {
   "display_name": "Python 3",
   "language": "python",
   "name": "python3"
  },
  "language_info": {
   "codemirror_mode": {
    "name": "ipython",
    "version": 3
   },
   "file_extension": ".py",
   "mimetype": "text/x-python",
   "name": "python",
   "nbconvert_exporter": "python",
   "pygments_lexer": "ipython3",
   "version": "3.8.6"
  }
 },
 "nbformat": 4,
 "nbformat_minor": 4
}

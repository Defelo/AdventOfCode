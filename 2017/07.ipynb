{
 "cells": [
  {
   "cell_type": "code",
   "execution_count": 1,
   "metadata": {},
   "outputs": [
    {
     "data": {
      "text/markdown": [
       "# Day 07"
      ],
      "text/plain": [
       "<IPython.core.display.Markdown object>"
      ]
     },
     "metadata": {},
     "output_type": "display_data"
    }
   ],
   "source": [
    "import sys; sys.path.insert(0, \"..\")\n",
    "\n",
    "import aoc\n",
    "\n",
    "year, day = 2017, 7\n",
    "\n",
    "puzzle = aoc.setup(year, day)\n",
    "plines = puzzle.splitlines()"
   ]
  },
  {
   "cell_type": "markdown",
   "metadata": {},
   "source": [
    "### Puzzle 1"
   ]
  },
  {
   "cell_type": "code",
   "execution_count": 2,
   "metadata": {},
   "outputs": [
    {
     "data": {
      "text/plain": [
       "'uownj'"
      ]
     },
     "execution_count": 2,
     "metadata": {},
     "output_type": "execute_result"
    }
   ],
   "source": [
    "def solve1():\n",
    "    names = set()\n",
    "    subs = set()\n",
    "    for line in plines:\n",
    "        name = line.split()[0]\n",
    "        sub = [] if \"->\" not in line else line.split(\"-> \")[1].split(\", \")\n",
    "        names.add(name)\n",
    "        subs.update(sub)\n",
    "    return next(iter(names - subs))\n",
    "\n",
    "solve1()"
   ]
  },
  {
   "cell_type": "code",
   "execution_count": 3,
   "metadata": {},
   "outputs": [
    {
     "name": "stdout",
     "output_type": "stream",
     "text": [
      "1.21 ms ± 168 µs per loop (mean ± std. dev. of 7 runs, 100 loops each)\n"
     ]
    }
   ],
   "source": [
    "%timeit solve1()"
   ]
  },
  {
   "cell_type": "markdown",
   "metadata": {},
   "source": [
    "### Puzzle 2"
   ]
  },
  {
   "cell_type": "code",
   "execution_count": 4,
   "metadata": {},
   "outputs": [
    {
     "data": {
      "text/plain": [
       "(596, None)"
      ]
     },
     "execution_count": 4,
     "metadata": {},
     "output_type": "execute_result"
    }
   ],
   "source": [
    "def solve2():\n",
    "    progs = {}\n",
    "    names = set()\n",
    "    subs = set()\n",
    "    for line in plines:\n",
    "        name = line.split()[0]\n",
    "        weight = int(line.split(\"(\")[1].split(\")\")[0])\n",
    "        sub = [] if \"->\" not in line else line.split(\"-> \")[1].split(\", \")\n",
    "        progs[name] = weight, sub\n",
    "        names.add(name)\n",
    "        subs.update(sub)\n",
    "    root = next(iter(names - subs))\n",
    "    \n",
    "    def check_sum(p):\n",
    "        s = progs[p][0]\n",
    "        w = {}\n",
    "        for q in progs[p][1]:\n",
    "            a, b = check_sum(q)\n",
    "            if a is not None: return a, None\n",
    "            s += b\n",
    "            w[q] = b\n",
    "        \n",
    "        x = max(w.values(), key=list(w.values()).count, default=None)\n",
    "        for k, v in w.items():\n",
    "            if v != x:\n",
    "                return x - (v - progs[k][0]), None\n",
    "        return None, s\n",
    "    \n",
    "    return check_sum(root)\n",
    "\n",
    "solve2()"
   ]
  },
  {
   "cell_type": "code",
   "execution_count": 5,
   "metadata": {},
   "outputs": [
    {
     "name": "stdout",
     "output_type": "stream",
     "text": [
      "5.44 ms ± 1.85 ms per loop (mean ± std. dev. of 7 runs, 100 loops each)\n"
     ]
    }
   ],
   "source": [
    "%timeit solve2()"
   ]
  }
 ],
 "metadata": {
  "kernelspec": {
   "display_name": "Python 3 (ipykernel)",
   "language": "python",
   "name": "python3"
  },
  "language_info": {
   "codemirror_mode": {
    "name": "ipython",
    "version": 3
   },
   "file_extension": ".py",
   "mimetype": "text/x-python",
   "name": "python",
   "nbconvert_exporter": "python",
   "pygments_lexer": "ipython3",
   "version": "3.9.6"
  }
 },
 "nbformat": 4,
 "nbformat_minor": 4
}

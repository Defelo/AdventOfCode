{
 "cells": [
  {
   "cell_type": "code",
   "execution_count": 1,
   "metadata": {},
   "outputs": [
    {
     "data": {
      "text/markdown": [
       "# Day 18"
      ],
      "text/plain": [
       "<IPython.core.display.Markdown object>"
      ]
     },
     "metadata": {},
     "output_type": "display_data"
    }
   ],
   "source": [
    "import sys; sys.path.insert(0, \"..\")\n",
    "\n",
    "import aoc\n",
    "\n",
    "year, day = 2020, 18\n",
    "\n",
    "puzzle = aoc.setup(year, day)\n",
    "plines = puzzle.splitlines()"
   ]
  },
  {
   "cell_type": "markdown",
   "metadata": {},
   "source": [
    "### Puzzle 1"
   ]
  },
  {
   "cell_type": "code",
   "execution_count": 2,
   "metadata": {},
   "outputs": [
    {
     "data": {
      "text/plain": [
       "1408133923393"
      ]
     },
     "execution_count": 2,
     "metadata": {},
     "output_type": "execute_result"
    }
   ],
   "source": [
    "def evaluate(expr):\n",
    "    new_expr = \"\"\n",
    "    cnt = 0\n",
    "    buffer = \"\"\n",
    "    for c in expr.replace(\" \", \"\"):\n",
    "        if c == \"(\":\n",
    "            if cnt:\n",
    "                buffer += c\n",
    "            cnt += 1\n",
    "        elif c == \")\":\n",
    "            cnt -= 1\n",
    "            if cnt:\n",
    "                buffer += c\n",
    "            else:\n",
    "                new_expr += str(evaluate(buffer))\n",
    "                buffer = \"\"\n",
    "        elif cnt:\n",
    "            buffer += c\n",
    "        else:\n",
    "            new_expr += c\n",
    "    \n",
    "    out = 0\n",
    "    buffer = 0\n",
    "    op = False\n",
    "    for c in new_expr + \" \":\n",
    "        if c.isnumeric():\n",
    "            buffer = buffer * 10 + int(c)\n",
    "            continue\n",
    "        \n",
    "        if op: out *= buffer\n",
    "        else: out += buffer\n",
    "        buffer = 0\n",
    "        op = c == \"*\"\n",
    "    \n",
    "    return out\n",
    "    \n",
    "\n",
    "def solve1():\n",
    "    return sum(map(evaluate, plines))\n",
    "\n",
    "solve1()"
   ]
  },
  {
   "cell_type": "code",
   "execution_count": 3,
   "metadata": {},
   "outputs": [
    {
     "data": {
      "text/plain": [
       "1408133923393"
      ]
     },
     "execution_count": 3,
     "metadata": {},
     "output_type": "execute_result"
    }
   ],
   "source": [
    "solve1m=lambda:sum(map((E:=(lambda e:(n:=\"\",x:=0,b:=\"\",[(k:=1,c==\"(\"and(x and(b:=b+c),x:=x+1,k:=0),c==\")\"and(x:=x-1,(b:=b+c)if x else (n:=n+str(E(b)),b:=\"\"),k:=0),k*x and(b:=b+c,k:=0),k and(n:=n+c))for c in e.replace(\" \",\"\")],o:=0,b:=0,x:=False,[(o:=[o+b,o*b][x],b:=0,x:=c==\"*\")for c in n+\" \"if not(c.isnumeric()and(b:=b*10+int(c),))],o)[-1])),plines))\n",
    "\n",
    "solve1m()"
   ]
  },
  {
   "cell_type": "code",
   "execution_count": 4,
   "metadata": {},
   "outputs": [
    {
     "name": "stdout",
     "output_type": "stream",
     "text": [
      "7.74 ms ± 443 µs per loop (mean ± std. dev. of 7 runs, 100 loops each)\n",
      "14.3 ms ± 1.04 ms per loop (mean ± std. dev. of 7 runs, 100 loops each)\n"
     ]
    }
   ],
   "source": [
    "%timeit solve1()\n",
    "%timeit solve1m()"
   ]
  },
  {
   "cell_type": "markdown",
   "metadata": {},
   "source": [
    "### Puzzle 2"
   ]
  },
  {
   "cell_type": "code",
   "execution_count": 5,
   "metadata": {},
   "outputs": [
    {
     "data": {
      "text/plain": [
       "314455761823725"
      ]
     },
     "execution_count": 5,
     "metadata": {},
     "output_type": "execute_result"
    }
   ],
   "source": [
    "import math\n",
    "\n",
    "def evaluate(expr):\n",
    "    new_expr = \"\"\n",
    "    cnt = 0\n",
    "    buffer = \"\"\n",
    "    for c in expr.replace(\" \", \"\"):\n",
    "        if c == \"(\":\n",
    "            if cnt:\n",
    "                buffer += c\n",
    "            cnt += 1\n",
    "        elif c == \")\":\n",
    "            cnt -= 1\n",
    "            if cnt:\n",
    "                buffer += c\n",
    "            else:\n",
    "                new_expr += str(evaluate(buffer))\n",
    "                buffer = \"\"\n",
    "        elif cnt:\n",
    "            buffer += c\n",
    "        else:\n",
    "            new_expr += c\n",
    "    \n",
    "    return math.prod(sum(map(int, x.split(\"+\"))) for x in new_expr.split(\"*\"))\n",
    "    \n",
    "\n",
    "def solve2():\n",
    "    return sum(map(evaluate, plines))\n",
    "\n",
    "solve2()"
   ]
  },
  {
   "cell_type": "code",
   "execution_count": 6,
   "metadata": {},
   "outputs": [
    {
     "data": {
      "text/plain": [
       "314455761823725"
      ]
     },
     "execution_count": 6,
     "metadata": {},
     "output_type": "execute_result"
    }
   ],
   "source": [
    "solve2m=lambda p=__import__(\"math\").prod:sum(map((E:=(lambda e:(n:=\"\",x:=0,b:=\"\",[(k:=1,c==\"(\"and(x and(b:=b+c),x:=x+1,k:=0),c==\")\"and(x:=x-1,(b:=b+c)if x else(n:=n+str(E(b)),b:=\"\"),k:=0),k*x and(b:=b+c,k:=0),k and(n:=n+c))for c in e.replace(\" \",\"\")],p(sum(map(int,x.split(\"+\")))for x in n.split(\"*\")))[-1])),plines))\n",
    "\n",
    "solve2m()"
   ]
  },
  {
   "cell_type": "code",
   "execution_count": 7,
   "metadata": {},
   "outputs": [
    {
     "name": "stdout",
     "output_type": "stream",
     "text": [
      "7.48 ms ± 226 µs per loop (mean ± std. dev. of 7 runs, 100 loops each)\n",
      "12.4 ms ± 366 µs per loop (mean ± std. dev. of 7 runs, 100 loops each)\n"
     ]
    }
   ],
   "source": [
    "%timeit solve2()\n",
    "%timeit solve2m()"
   ]
  }
 ],
 "metadata": {
  "kernelspec": {
   "display_name": "Python 3",
   "language": "python",
   "name": "python3"
  },
  "language_info": {
   "codemirror_mode": {
    "name": "ipython",
    "version": 3
   },
   "file_extension": ".py",
   "mimetype": "text/x-python",
   "name": "python",
   "nbconvert_exporter": "python",
   "pygments_lexer": "ipython3",
   "version": "3.8.6"
  }
 },
 "nbformat": 4,
 "nbformat_minor": 4
}

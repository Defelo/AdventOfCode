{
 "cells": [
  {
   "cell_type": "code",
   "execution_count": 1,
   "metadata": {},
   "outputs": [
    {
     "data": {
      "text/plain": "<IPython.core.display.Markdown object>",
      "text/markdown": "# Day 13"
     },
     "metadata": {},
     "output_type": "display_data"
    }
   ],
   "source": [
    "import sys; sys.path.insert(0, \"..\")\n",
    "\n",
    "from utils import *\n",
    "import aoc\n",
    "\n",
    "year, day = 2021, 13\n",
    "\n",
    "puzzle = aoc.setup(year, day)\n",
    "plines = puzzle.splitlines()"
   ]
  },
  {
   "cell_type": "markdown",
   "metadata": {},
   "source": [
    "### Puzzle 1"
   ]
  },
  {
   "cell_type": "code",
   "execution_count": 2,
   "metadata": {},
   "outputs": [
    {
     "data": {
      "text/plain": "747"
     },
     "execution_count": 2,
     "metadata": {},
     "output_type": "execute_result"
    }
   ],
   "source": [
    "def solve1():\n",
    "    dots = {\n",
    "        tuple(map(int, line.split(\",\")))\n",
    "        for line in puzzle.split(\"\\n\\n\")[0].splitlines()\n",
    "    }\n",
    "\n",
    "    line = puzzle.split(\"\\n\\n\")[1].splitlines()[0]\n",
    "    c, n = re.match(r\"^fold along (.)=(\\d+)$\", line).groups()\n",
    "    n = int(n)\n",
    "    dots = {\n",
    "        (\n",
    "            min(x, 2 * n - x) if c == \"x\" else x,\n",
    "            min(y, 2 * n - y) if c == \"y\" else y,\n",
    "        )\n",
    "        for x, y in dots\n",
    "    }\n",
    "\n",
    "    return len(dots)\n",
    "\n",
    "solve1()"
   ]
  },
  {
   "cell_type": "code",
   "execution_count": 3,
   "metadata": {},
   "outputs": [
    {
     "name": "stdout",
     "output_type": "stream",
     "text": [
      "1.19 ms ± 119 µs per loop (mean ± std. dev. of 7 runs, 1000 loops each)\n"
     ]
    }
   ],
   "source": [
    "%timeit solve1()"
   ]
  },
  {
   "cell_type": "markdown",
   "metadata": {},
   "source": [
    "### Puzzle 2"
   ]
  },
  {
   "cell_type": "code",
   "execution_count": 4,
   "metadata": {},
   "outputs": [
    {
     "data": {
      "text/plain": "['  ####    ######    ##    ##  ########  ######      ####    ##    ##  ##    ##',\n '##    ##  ##    ##  ##    ##        ##  ##    ##  ##    ##  ##    ##  ##    ##',\n '##    ##  ##    ##  ########      ##    ##    ##  ##        ##    ##  ########',\n '########  ######    ##    ##    ##      ######    ##        ##    ##  ##    ##',\n '##    ##  ##  ##    ##    ##  ##        ##        ##    ##  ##    ##  ##    ##',\n '##    ##  ##    ##  ##    ##  ########  ##          ####      ####    ##    ##']"
     },
     "execution_count": 4,
     "metadata": {},
     "output_type": "execute_result"
    }
   ],
   "source": [
    "def solve2():\n",
    "    dots = {\n",
    "        tuple(map(int, line.split(\",\")))\n",
    "        for line in puzzle.split(\"\\n\\n\")[0].splitlines()\n",
    "    }\n",
    "\n",
    "    for line in puzzle.split(\"\\n\\n\")[1].splitlines():\n",
    "        c, n = re.match(r\"^fold along (.)=(\\d+)$\", line).groups()\n",
    "        n = int(n)\n",
    "        dots = {\n",
    "            (\n",
    "                min(x, 2 * n - x) if c == \"x\" else x,\n",
    "                min(y, 2 * n - y) if c == \"y\" else y,\n",
    "            )\n",
    "            for x, y in dots\n",
    "        }\n",
    "\n",
    "    (minx, maxx), (miny, maxy) = map(minmax, zip(*dots))\n",
    "    return [\n",
    "        \"\".join(\n",
    "            2*\" #\"[(x, y) in dots]\n",
    "            for x in range(minx, maxx+1)\n",
    "        )\n",
    "        for y in range(miny, maxy+1)\n",
    "    ]\n",
    "\n",
    "solve2()"
   ]
  },
  {
   "cell_type": "code",
   "execution_count": 5,
   "metadata": {},
   "outputs": [
    {
     "name": "stdout",
     "output_type": "stream",
     "text": [
      "3.29 ms ± 591 µs per loop (mean ± std. dev. of 7 runs, 100 loops each)\n"
     ]
    }
   ],
   "source": [
    "%timeit solve2()"
   ]
  }
 ],
 "metadata": {
  "kernelspec": {
   "display_name": "Python 3",
   "language": "python",
   "name": "python3"
  },
  "language_info": {
   "codemirror_mode": {
    "name": "ipython",
    "version": 3
   },
   "file_extension": ".py",
   "mimetype": "text/x-python",
   "name": "python",
   "nbconvert_exporter": "python",
   "pygments_lexer": "ipython3",
   "version": "3.8.6"
  }
 },
 "nbformat": 4,
 "nbformat_minor": 4
}
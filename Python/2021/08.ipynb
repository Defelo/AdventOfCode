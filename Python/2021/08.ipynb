{
 "cells": [
  {
   "cell_type": "code",
   "execution_count": 1,
   "metadata": {},
   "outputs": [
    {
     "data": {
      "text/plain": "<IPython.core.display.Markdown object>",
      "text/markdown": "# Day 08"
     },
     "metadata": {},
     "output_type": "display_data"
    }
   ],
   "source": [
    "import sys; sys.path.insert(0, \"..\")\n",
    "\n",
    "from utils import *\n",
    "import aoc\n",
    "\n",
    "year, day = 2021, 8\n",
    "\n",
    "puzzle = aoc.setup(year, day)\n",
    "plines = puzzle.splitlines()"
   ]
  },
  {
   "cell_type": "markdown",
   "metadata": {},
   "source": [
    "### Puzzle 1"
   ]
  },
  {
   "cell_type": "code",
   "execution_count": 2,
   "metadata": {},
   "outputs": [
    {
     "data": {
      "text/plain": "392"
     },
     "execution_count": 2,
     "metadata": {},
     "output_type": "execute_result"
    }
   ],
   "source": [
    "def solve1():\n",
    "    out = 0\n",
    "    for line in plines:\n",
    "        _, b = map(str.split, line.split(\" | \"))\n",
    "        out += sum(len(x) in [2, 4, 3, 7] for x in b)\n",
    "\n",
    "    return out\n",
    "\n",
    "solve1()"
   ]
  },
  {
   "cell_type": "code",
   "execution_count": 3,
   "metadata": {},
   "outputs": [
    {
     "name": "stdout",
     "output_type": "stream",
     "text": [
      "803 µs ± 151 µs per loop (mean ± std. dev. of 7 runs, 1000 loops each)\n"
     ]
    }
   ],
   "source": [
    "%timeit solve1()"
   ]
  },
  {
   "cell_type": "markdown",
   "metadata": {},
   "source": [
    "### Puzzle 2"
   ]
  },
  {
   "cell_type": "code",
   "execution_count": 4,
   "metadata": {},
   "outputs": [
    {
     "data": {
      "text/plain": "1004688"
     },
     "execution_count": 4,
     "metadata": {},
     "output_type": "execute_result"
    }
   ],
   "source": [
    "SEGMENTS = {k: v for v, k in enumerate([119, 18, 93, 91, 58, 107, 111, 82, 127, 123])}\n",
    "\n",
    "def get(p, num):\n",
    "    return SEGMENTS.get(sum((\"abcdefg\"[p[i]] in num)<<i for i in range(7)))\n",
    "\n",
    "def solve2():\n",
    "    out = 0\n",
    "    for line in plines:\n",
    "        a, b = map(str.split, line.split(\" | \"))\n",
    "        for perm in itertools.permutations(range(7)):\n",
    "            if all(get(perm, x) is not None for x in a):\n",
    "                out += int(\"\".join(str(get(perm, x)) for x in b))\n",
    "                break\n",
    "\n",
    "    return out\n",
    "\n",
    "solve2()"
   ]
  },
  {
   "cell_type": "code",
   "execution_count": 5,
   "outputs": [
    {
     "data": {
      "text/plain": "1004688"
     },
     "execution_count": 5,
     "metadata": {},
     "output_type": "execute_result"
    }
   ],
   "source": [
    "def solve2b():\n",
    "    out = 0\n",
    "    for line in plines:\n",
    "        a, b = [[set(map(\"abcdefg\".index, y)) for y in x.split()] for x in line.split(\" | \")]\n",
    "        mp = {}\n",
    "        rp = {}\n",
    "        u = {*map(tuple, a)}\n",
    "        for x in a:\n",
    "            if k := {(7, 2): 1, (2, 5): 2, (3, 5): 3, (3, 4): 4, (4, 5): 5, (5, 3): 7, (1, 7): 8}.get((sum(x.issubset(y) for y in a), len(x))):\n",
    "                mp[tuple(x)] = k\n",
    "                rp[k] = x\n",
    "                u.remove(tuple(x))\n",
    "\n",
    "        x = next(x for x in u if not rp[5].issubset(set(x)))\n",
    "        mp[x] = 0\n",
    "        u.remove(x)\n",
    "\n",
    "        x = next(x for x in u if rp[4].issubset(set(x)))\n",
    "        mp[x] = 9\n",
    "        u.remove(x)\n",
    "\n",
    "        mp[next(iter(u))] = 6\n",
    "\n",
    "        out += int(\"\".join(str(mp[tuple(x)]) for x in b))\n",
    "\n",
    "    return out\n",
    "\n",
    "solve2b()"
   ],
   "metadata": {
    "collapsed": false,
    "pycharm": {
     "name": "#%%\n"
    }
   }
  },
  {
   "cell_type": "code",
   "execution_count": 6,
   "metadata": {},
   "outputs": [
    {
     "name": "stdout",
     "output_type": "stream",
     "text": [
      "2.73 s ± 960 ms per loop (mean ± std. dev. of 7 runs, 1 loop each)\n",
      "15.9 ms ± 1.19 ms per loop (mean ± std. dev. of 7 runs, 100 loops each)\n"
     ]
    }
   ],
   "source": [
    "%timeit solve2()\n",
    "%timeit solve2b()"
   ]
  }
 ],
 "metadata": {
  "kernelspec": {
   "display_name": "Python 3",
   "language": "python",
   "name": "python3"
  },
  "language_info": {
   "codemirror_mode": {
    "name": "ipython",
    "version": 3
   },
   "file_extension": ".py",
   "mimetype": "text/x-python",
   "name": "python",
   "nbconvert_exporter": "python",
   "pygments_lexer": "ipython3",
   "version": "3.8.6"
  }
 },
 "nbformat": 4,
 "nbformat_minor": 4
}
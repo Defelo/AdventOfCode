{
 "cells": [
  {
   "cell_type": "code",
   "execution_count": 1,
   "metadata": {},
   "outputs": [
    {
     "data": {
      "text/markdown": [
       "# Day 15"
      ],
      "text/plain": [
       "<IPython.core.display.Markdown object>"
      ]
     },
     "metadata": {},
     "output_type": "display_data"
    }
   ],
   "source": [
    "import sys; sys.path.insert(0, \"..\")\n",
    "\n",
    "import aoc\n",
    "\n",
    "year, day = 2018, 15\n",
    "\n",
    "puzzle = aoc.setup(year, day)\n",
    "plines = puzzle.splitlines()"
   ]
  },
  {
   "cell_type": "markdown",
   "metadata": {},
   "source": [
    "### Puzzle 1"
   ]
  },
  {
   "cell_type": "code",
   "execution_count": 2,
   "metadata": {},
   "outputs": [
    {
     "data": {
      "text/plain": [
       "237490"
      ]
     },
     "execution_count": 2,
     "metadata": {},
     "output_type": "execute_result"
    }
   ],
   "source": [
    "def adj(x, y): return [(x,y-1),(x-1,y),(x+1,y),(x,y+1)]\n",
    "\n",
    "def solve1():\n",
    "    entities = {}\n",
    "    walls = set()\n",
    "    idx = 0\n",
    "    for i, line in enumerate(plines):\n",
    "        for j, c in enumerate(line):\n",
    "            if c == \"#\": walls.add((j, i))\n",
    "            elif c != \".\":\n",
    "                entities[(j, i)] = ((idx, c == \"E\", 200))\n",
    "                idx += 1\n",
    "    \n",
    "    rnd = 0\n",
    "    while True:\n",
    "        done = False\n",
    "        orig = entities.copy()\n",
    "        for x, y in sorted(entities, key=lambda a: a[::-1]):\n",
    "            if (x, y) not in entities: continue\n",
    "            idx, elf, hp = entities[(x, y)]\n",
    "            if idx != orig[(x, y)][0]: continue\n",
    "            \n",
    "            if not any(q[1] != elf for q in entities.values()):\n",
    "                done = True\n",
    "                break\n",
    "\n",
    "            in_range = [(p, q) for p in adj(x, y) if (q := entities.get(p)) and q[1] != elf]\n",
    "            if not in_range:\n",
    "                queue = [(0, x, y)]\n",
    "                visited = set()\n",
    "                dist = None\n",
    "                nearest = []\n",
    "                while queue:\n",
    "                    d, p, q = queue.pop(0)\n",
    "                    \n",
    "                    if (p, q) in visited: continue\n",
    "                    visited.add((p, q))\n",
    "                    \n",
    "                    if any(e[1] != elf for r in adj(p, q) if (e := entities.get(r))):\n",
    "                        if dist is None:\n",
    "                            dist = d\n",
    "                        elif d > dist: break\n",
    "                        nearest.append((p, q))\n",
    "                    \n",
    "                    for r in adj(p, q):\n",
    "                        if r in walls: continue\n",
    "                        if (e := entities.get(r)) and e[1] == elf: continue\n",
    "                        queue.append((d + 1, *r))\n",
    "                \n",
    "                if not nearest: continue\n",
    "                \n",
    "                target = min(nearest, key=lambda a: a[::-1])                \n",
    "                \n",
    "                queue = [(0, *target)]\n",
    "                visited = set()\n",
    "                dist = None\n",
    "                nearest = []\n",
    "                while queue:\n",
    "                    d, p, q = queue.pop(0)\n",
    "                    \n",
    "                    if (p, q) in visited: continue\n",
    "                    visited.add((p, q))\n",
    "                    \n",
    "                    if (x, y) in adj(p, q):\n",
    "                        if dist is None:\n",
    "                            dist = d\n",
    "                        elif d > dist: break\n",
    "                        nearest.append((p, q))\n",
    "                    \n",
    "                    for r in adj(p, q):\n",
    "                        if r in walls: continue\n",
    "                        if (e := entities.get(r)) and e[1] == elf: continue\n",
    "                        queue.append((d + 1, *r))\n",
    "\n",
    "                if not nearest: continue\n",
    "                \n",
    "                g = min(nearest, key=lambda a: a[::-1])                \n",
    "                \n",
    "                entities[g] = entities.pop((x, y))\n",
    "                x, y = g\n",
    "            \n",
    "            in_range = [(p, q) for p in adj(x, y) if (q := entities.get(p)) and q[1] != elf]\n",
    "            if in_range:\n",
    "                in_range.sort(key=lambda a: (a[1][2], a[0][::-1]))\n",
    "                p, (idx2, elf2, hp2) = in_range[0]\n",
    "                hp2 -= 3\n",
    "                if hp2 <= 0:\n",
    "                    entities.pop(p)\n",
    "                else:\n",
    "                    entities[p] = idx2, elf2, hp2\n",
    "        \n",
    "        if done: break\n",
    "        \n",
    "        rnd += 1\n",
    "\n",
    "    return rnd * sum(e[2] for e in entities.values())\n",
    "\n",
    "solve1()"
   ]
  },
  {
   "cell_type": "code",
   "execution_count": 3,
   "metadata": {},
   "outputs": [
    {
     "name": "stdout",
     "output_type": "stream",
     "text": [
      "1.33 s ± 164 ms per loop (mean ± std. dev. of 7 runs, 1 loop each)\n"
     ]
    }
   ],
   "source": [
    "%timeit solve1()"
   ]
  },
  {
   "cell_type": "markdown",
   "metadata": {},
   "source": [
    "### Puzzle 2"
   ]
  },
  {
   "cell_type": "code",
   "execution_count": 4,
   "metadata": {},
   "outputs": [
    {
     "data": {
      "text/plain": [
       "38424"
      ]
     },
     "execution_count": 4,
     "metadata": {},
     "output_type": "execute_result"
    }
   ],
   "source": [
    "def simulate(ap):\n",
    "    entities = {}\n",
    "    walls = set()\n",
    "    idx = 0\n",
    "    for i, line in enumerate(plines):\n",
    "        for j, c in enumerate(line):\n",
    "            if c == \"#\": walls.add((j, i))\n",
    "            elif c != \".\":\n",
    "                entities[(j, i)] = ((idx, c == \"E\", 200))\n",
    "                idx += 1\n",
    "    \n",
    "    rnd = 0\n",
    "    while True:\n",
    "        done = False\n",
    "        orig = entities.copy()\n",
    "        for x, y in sorted(entities, key=lambda a: a[::-1]):\n",
    "            if (x, y) not in entities: continue\n",
    "            idx, elf, hp = entities[(x, y)]\n",
    "            if idx != orig[(x, y)][0]: continue\n",
    "            \n",
    "            if not any(q[1] != elf for q in entities.values()):\n",
    "                done = True\n",
    "                break\n",
    "\n",
    "            in_range = [(p, q) for p in adj(x, y) if (q := entities.get(p)) and q[1] != elf]\n",
    "            if not in_range:\n",
    "                queue = [(0, x, y)]\n",
    "                visited = set()\n",
    "                dist = None\n",
    "                nearest = []\n",
    "                while queue:\n",
    "                    d, p, q = queue.pop(0)\n",
    "                    \n",
    "                    if (p, q) in visited: continue\n",
    "                    visited.add((p, q))\n",
    "                    \n",
    "                    if any(e[1] != elf for r in adj(p, q) if (e := entities.get(r))):\n",
    "                        if dist is None:\n",
    "                            dist = d\n",
    "                        elif d > dist: break\n",
    "                        nearest.append((p, q))\n",
    "                    \n",
    "                    for r in adj(p, q):\n",
    "                        if r in walls: continue\n",
    "                        if (e := entities.get(r)) and e[1] == elf: continue\n",
    "                        queue.append((d + 1, *r))\n",
    "                \n",
    "                if not nearest: continue\n",
    "                \n",
    "                target = min(nearest, key=lambda a: a[::-1])                \n",
    "                \n",
    "                queue = [(0, *target)]\n",
    "                visited = set()\n",
    "                dist = None\n",
    "                nearest = []\n",
    "                while queue:\n",
    "                    d, p, q = queue.pop(0)\n",
    "                    \n",
    "                    if (p, q) in visited: continue\n",
    "                    visited.add((p, q))\n",
    "                    \n",
    "                    if (x, y) in adj(p, q):\n",
    "                        if dist is None:\n",
    "                            dist = d\n",
    "                        elif d > dist: break\n",
    "                        nearest.append((p, q))\n",
    "                    \n",
    "                    for r in adj(p, q):\n",
    "                        if r in walls: continue\n",
    "                        if (e := entities.get(r)) and e[1] == elf: continue\n",
    "                        queue.append((d + 1, *r))\n",
    "\n",
    "                if not nearest: continue\n",
    "                \n",
    "                g = min(nearest, key=lambda a: a[::-1])                \n",
    "                \n",
    "                entities[g] = entities.pop((x, y))\n",
    "                x, y = g\n",
    "            \n",
    "            in_range = [(p, q) for p in adj(x, y) if (q := entities.get(p)) and q[1] != elf]\n",
    "            if in_range:\n",
    "                in_range.sort(key=lambda a: (a[1][2], a[0][::-1]))\n",
    "                p, (idx2, elf2, hp2) = in_range[0]\n",
    "                hp2 -= ap if elf else 3\n",
    "                if hp2 <= 0:\n",
    "                    if elf2: return -1\n",
    "                    entities.pop(p)\n",
    "                else:\n",
    "                    entities[p] = idx2, elf2, hp2\n",
    "        \n",
    "        if done: break\n",
    "        \n",
    "        rnd += 1\n",
    "\n",
    "    return rnd * sum(e[2] for e in entities.values())\n",
    "\n",
    "def solve2():\n",
    "    ap = 4\n",
    "    while (res := simulate(ap)) < 0: ap += 1\n",
    "    return res\n",
    "\n",
    "solve2()"
   ]
  },
  {
   "cell_type": "code",
   "execution_count": 5,
   "metadata": {},
   "outputs": [
    {
     "name": "stdout",
     "output_type": "stream",
     "text": [
      "6.33 s ± 358 ms per loop (mean ± std. dev. of 7 runs, 1 loop each)\n"
     ]
    }
   ],
   "source": [
    "%timeit solve2()"
   ]
  }
 ],
 "metadata": {
  "kernelspec": {
   "display_name": "Python 3 (ipykernel)",
   "language": "python",
   "name": "python3"
  },
  "language_info": {
   "codemirror_mode": {
    "name": "ipython",
    "version": 3
   },
   "file_extension": ".py",
   "mimetype": "text/x-python",
   "name": "python",
   "nbconvert_exporter": "python",
   "pygments_lexer": "ipython3",
   "version": "3.9.6"
  }
 },
 "nbformat": 4,
 "nbformat_minor": 4
}

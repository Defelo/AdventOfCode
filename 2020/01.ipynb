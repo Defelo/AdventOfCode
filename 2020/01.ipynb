{
 "cells": [
  {
   "cell_type": "code",
   "execution_count": 1,
   "metadata": {},
   "outputs": [
    {
     "data": {
      "text/markdown": [
       "# Day 01"
      ],
      "text/plain": [
       "<IPython.core.display.Markdown object>"
      ]
     },
     "metadata": {},
     "output_type": "display_data"
    }
   ],
   "source": [
    "import sys; sys.path.insert(0, \"..\")\n",
    "\n",
    "import aoc\n",
    "\n",
    "year, day = 2020, 1\n",
    "\n",
    "puzzle = aoc.setup(year, day)"
   ]
  },
  {
   "cell_type": "markdown",
   "metadata": {},
   "source": [
    "### Puzzle 1"
   ]
  },
  {
   "cell_type": "code",
   "execution_count": 2,
   "metadata": {},
   "outputs": [
    {
     "name": "stdout",
     "output_type": "stream",
     "text": [
      "259716\n"
     ]
    }
   ],
   "source": [
    "nums = list(map(int, puzzle.splitlines()))\n",
    "\n",
    "seen = set()\n",
    "for a in nums:\n",
    "    b = 2020 - a\n",
    "    if b in seen:\n",
    "        print(a * b)\n",
    "        break\n",
    "    seen.add(a)"
   ]
  },
  {
   "cell_type": "markdown",
   "metadata": {},
   "source": [
    "### Puzzle 2"
   ]
  },
  {
   "cell_type": "code",
   "execution_count": 3,
   "metadata": {},
   "outputs": [
    {
     "name": "stdout",
     "output_type": "stream",
     "text": [
      "120637440\n"
     ]
    }
   ],
   "source": [
    "nums = list(map(int, puzzle.splitlines()))\n",
    "\n",
    "for i, a in enumerate(nums):\n",
    "    seen = set()\n",
    "    for j in range(i + 1, len(nums)):\n",
    "        b = nums[j]\n",
    "        c = 2020 - a - b\n",
    "        if c in seen:\n",
    "            print(a * b * c)\n",
    "            break\n",
    "        seen.add(b)\n",
    "    else:\n",
    "        continue\n",
    "    break"
   ]
  }
 ],
 "metadata": {
  "kernelspec": {
   "display_name": "Python 3",
   "language": "python",
   "name": "python3"
  },
  "language_info": {
   "codemirror_mode": {
    "name": "ipython",
    "version": 3
   },
   "file_extension": ".py",
   "mimetype": "text/x-python",
   "name": "python",
   "nbconvert_exporter": "python",
   "pygments_lexer": "ipython3",
   "version": "3.8.6"
  }
 },
 "nbformat": 4,
 "nbformat_minor": 4
}

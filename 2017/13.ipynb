{
 "cells": [
  {
   "cell_type": "code",
   "execution_count": 1,
   "metadata": {},
   "outputs": [
    {
     "data": {
      "text/markdown": [
       "# Day 13"
      ],
      "text/plain": [
       "<IPython.core.display.Markdown object>"
      ]
     },
     "metadata": {},
     "output_type": "display_data"
    }
   ],
   "source": [
    "import sys; sys.path.insert(0, \"..\")\n",
    "\n",
    "import aoc\n",
    "\n",
    "year, day = 2017, 13\n",
    "\n",
    "puzzle = aoc.setup(year, day)\n",
    "plines = puzzle.splitlines()"
   ]
  },
  {
   "cell_type": "markdown",
   "metadata": {},
   "source": [
    "### Puzzle 1"
   ]
  },
  {
   "cell_type": "code",
   "execution_count": 2,
   "metadata": {},
   "outputs": [
    {
     "data": {
      "text/plain": [
       "1928"
      ]
     },
     "execution_count": 2,
     "metadata": {},
     "output_type": "execute_result"
    }
   ],
   "source": [
    "def solve1():\n",
    "    R = {}\n",
    "    S = {}\n",
    "    for line in plines:\n",
    "        a, b = map(int, line.split(\": \"))\n",
    "        R[a] = b\n",
    "        S[a] = 0\n",
    "    \n",
    "    n = max(S)\n",
    "    out = 0\n",
    "    for i in range(n):\n",
    "        if i in S and S[i] == 0:\n",
    "            out += i * R[i]\n",
    "        for k, v in S.items():\n",
    "            S[k] = (v + 1) % (R[k] * 2 - 2)\n",
    "    return out\n",
    "\n",
    "solve1()"
   ]
  },
  {
   "cell_type": "code",
   "execution_count": 3,
   "metadata": {},
   "outputs": [
    {
     "name": "stdout",
     "output_type": "stream",
     "text": [
      "1.15 ms ± 145 µs per loop (mean ± std. dev. of 7 runs, 1000 loops each)\n"
     ]
    }
   ],
   "source": [
    "%timeit solve1()"
   ]
  },
  {
   "cell_type": "markdown",
   "metadata": {},
   "source": [
    "### Puzzle 2"
   ]
  },
  {
   "cell_type": "code",
   "execution_count": 4,
   "metadata": {},
   "outputs": [
    {
     "data": {
      "text/plain": [
       "3830344"
      ]
     },
     "execution_count": 4,
     "metadata": {},
     "output_type": "execute_result"
    }
   ],
   "source": [
    "def step(R, S):\n",
    "    for k, v in S.items():\n",
    "        S[k] = (v + 1) % (R[k] * 2 - 2)\n",
    "\n",
    "def solve2():\n",
    "    R = {}\n",
    "    SC = {}\n",
    "    for line in plines:\n",
    "        a, b = map(int, line.split(\": \"))\n",
    "        R[a] = b\n",
    "        SC[a] = 0\n",
    "    n = max(SC)\n",
    "        \n",
    "    def test():\n",
    "        S = SC.copy()\n",
    "        for i in range(n+1):\n",
    "            if i in S and S[i] == 0:\n",
    "                return False\n",
    "            step(R, S)\n",
    "        return True\n",
    "    \n",
    "    k = 0\n",
    "    while not test():\n",
    "        k += 1\n",
    "        step(R, SC)\n",
    "    return k\n",
    "\n",
    "solve2()"
   ]
  },
  {
   "cell_type": "code",
   "execution_count": null,
   "metadata": {},
   "outputs": [],
   "source": [
    "%timeit solve2()"
   ]
  }
 ],
 "metadata": {
  "kernelspec": {
   "display_name": "Python 3 (ipykernel)",
   "language": "python",
   "name": "python3"
  },
  "language_info": {
   "codemirror_mode": {
    "name": "ipython",
    "version": 3
   },
   "file_extension": ".py",
   "mimetype": "text/x-python",
   "name": "python",
   "nbconvert_exporter": "python",
   "pygments_lexer": "ipython3",
   "version": "3.9.6"
  }
 },
 "nbformat": 4,
 "nbformat_minor": 4
}

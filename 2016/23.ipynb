{
 "cells": [
  {
   "cell_type": "code",
   "execution_count": 1,
   "metadata": {},
   "outputs": [
    {
     "data": {
      "text/markdown": [
       "# Day 23"
      ],
      "text/plain": [
       "<IPython.core.display.Markdown object>"
      ]
     },
     "metadata": {},
     "output_type": "display_data"
    }
   ],
   "source": [
    "import sys; sys.path.insert(0, \"..\")\n",
    "\n",
    "import aoc\n",
    "\n",
    "year, day = 2016, 23\n",
    "\n",
    "puzzle = aoc.setup(year, day)"
   ]
  },
  {
   "cell_type": "markdown",
   "metadata": {},
   "source": [
    "### Puzzle 1"
   ]
  },
  {
   "cell_type": "code",
   "execution_count": 2,
   "metadata": {},
   "outputs": [
    {
     "data": {
      "text/plain": [
       "11004"
      ]
     },
     "execution_count": 2,
     "metadata": {},
     "output_type": "execute_result"
    }
   ],
   "source": [
    "program = puzzle.splitlines()\n",
    "registers = {k: 0 for k in \"abcd\"}\n",
    "\n",
    "def simulate():\n",
    "    pc = 0\n",
    "    while pc < len(program):\n",
    "        cmd, x, y, *_ = program[pc].split() + [None]\n",
    "        read = lambda a: registers[a] if a in registers else int(a)\n",
    "        if cmd == \"cpy\":\n",
    "            if y in registers:\n",
    "                registers[y] = read(x)\n",
    "            pc += 1\n",
    "        elif cmd == \"inc\":\n",
    "            if x in registers:\n",
    "                registers[x] += 1\n",
    "            pc += 1\n",
    "        elif cmd == \"dec\":\n",
    "            if x in registers:\n",
    "                registers[x] -= 1\n",
    "            pc += 1\n",
    "        elif cmd == \"jnz\":\n",
    "            if read(x) and y is not None:\n",
    "                pc += read(y) or 1\n",
    "            else:\n",
    "                pc += 1\n",
    "        elif cmd == \"tgl\":\n",
    "            if pc + (x := read(x)) in range(len(program)):\n",
    "                cmd, args = program[pc + x].split(maxsplit=1)\n",
    "                if cmd == \"inc\": cmd = \"dec\"\n",
    "                elif cmd in [\"dec\", \"tgl\"]: cmd = \"inc\"\n",
    "                elif cmd == \"jnz\": cmd = \"cpy\"\n",
    "                elif cmd in [\"cpy\"]: cmd = \"jnz\"\n",
    "                program[pc + x] = f\"{cmd} {args}\"\n",
    "            pc += 1\n",
    "    return registers[\"a\"]\n",
    "\n",
    "registers[\"a\"] = 7\n",
    "simulate()"
   ]
  },
  {
   "cell_type": "markdown",
   "metadata": {},
   "source": [
    "### Puzzle 2"
   ]
  },
  {
   "cell_type": "code",
   "execution_count": 3,
   "metadata": {},
   "outputs": [
    {
     "data": {
      "text/plain": [
       "479007564"
      ]
     },
     "execution_count": 3,
     "metadata": {},
     "output_type": "execute_result"
    }
   ],
   "source": [
    "import math\n",
    "\n",
    "program = puzzle.splitlines()\n",
    "registers = {k: 0 for k in \"abcd\"}\n",
    "registers[\"a\"] = 7\n",
    "math.factorial(12) + simulate() - math.factorial(7)"
   ]
  }
 ],
 "metadata": {
  "kernelspec": {
   "display_name": "Python 3 (ipykernel)",
   "language": "python",
   "name": "python3"
  },
  "language_info": {
   "codemirror_mode": {
    "name": "ipython",
    "version": 3
   },
   "file_extension": ".py",
   "mimetype": "text/x-python",
   "name": "python",
   "nbconvert_exporter": "python",
   "pygments_lexer": "ipython3",
   "version": "3.9.6"
  }
 },
 "nbformat": 4,
 "nbformat_minor": 4
}

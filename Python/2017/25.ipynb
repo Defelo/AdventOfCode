{
 "cells": [
  {
   "cell_type": "code",
   "execution_count": 1,
   "metadata": {},
   "outputs": [
    {
     "data": {
      "text/markdown": [
       "# Day 25"
      ],
      "text/plain": [
       "<IPython.core.display.Markdown object>"
      ]
     },
     "metadata": {},
     "output_type": "display_data"
    }
   ],
   "source": [
    "import sys; sys.path.insert(0, \"..\")\n",
    "\n",
    "import aoc\n",
    "\n",
    "year, day = 2017, 25\n",
    "\n",
    "puzzle = aoc.setup(year, day)\n",
    "plines = puzzle.splitlines()"
   ]
  },
  {
   "cell_type": "markdown",
   "metadata": {},
   "source": [
    "### Puzzle 1"
   ]
  },
  {
   "cell_type": "code",
   "execution_count": 2,
   "metadata": {},
   "outputs": [
    {
     "data": {
      "text/plain": [
       "5593"
      ]
     },
     "execution_count": 2,
     "metadata": {},
     "output_type": "execute_result"
    }
   ],
   "source": [
    "def solve1():\n",
    "    state = plines[0].split()[-1].strip(\".\")\n",
    "    n = int(plines[1].split()[-2])\n",
    "    tm = {}\n",
    "    on = set()\n",
    "    p = 0\n",
    "\n",
    "    for s in map(str.splitlines, puzzle.split(\"\\n\\n\")[1:]):\n",
    "        tm[s[0].split()[-1].strip(\":\")] = [\n",
    "            (\n",
    "                int(s[i*4+2].split()[-1].strip(\".\")),\n",
    "                -1 if s[i*4+3].split()[-1] == \"left.\" else 1,\n",
    "                s[i*4+4].split()[-1].strip(\".\")\n",
    "            )\n",
    "            for i in range(2)\n",
    "        ]\n",
    "    \n",
    "    for _ in range(n):\n",
    "        s = tm[state][p in on]\n",
    "        if s[0]: on.add(p)\n",
    "        else: on.discard(p)\n",
    "        p += s[1]\n",
    "        state = s[2]\n",
    "        \n",
    "    return len(on)\n",
    "\n",
    "solve1()"
   ]
  },
  {
   "cell_type": "code",
   "execution_count": 3,
   "metadata": {},
   "outputs": [
    {
     "name": "stdout",
     "output_type": "stream",
     "text": [
      "5.49 s ± 546 ms per loop (mean ± std. dev. of 7 runs, 1 loop each)\n"
     ]
    }
   ],
   "source": [
    "%timeit solve1()"
   ]
  }
 ],
 "metadata": {
  "kernelspec": {
   "display_name": "Python 3 (ipykernel)",
   "language": "python",
   "name": "python3"
  },
  "language_info": {
   "codemirror_mode": {
    "name": "ipython",
    "version": 3
   },
   "file_extension": ".py",
   "mimetype": "text/x-python",
   "name": "python",
   "nbconvert_exporter": "python",
   "pygments_lexer": "ipython3",
   "version": "3.9.6"
  }
 },
 "nbformat": 4,
 "nbformat_minor": 4
}

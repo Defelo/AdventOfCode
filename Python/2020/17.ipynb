{
 "cells": [
  {
   "cell_type": "code",
   "execution_count": 1,
   "metadata": {},
   "outputs": [
    {
     "data": {
      "text/markdown": [
       "# Day 17"
      ],
      "text/plain": [
       "<IPython.core.display.Markdown object>"
      ]
     },
     "metadata": {},
     "output_type": "display_data"
    }
   ],
   "source": [
    "import sys; sys.path.insert(0, \"..\")\n",
    "\n",
    "import aoc\n",
    "\n",
    "year, day = 2020, 17\n",
    "\n",
    "puzzle = aoc.setup(year, day)\n",
    "plines = puzzle.splitlines()"
   ]
  },
  {
   "cell_type": "markdown",
   "metadata": {},
   "source": [
    "### Puzzle 1"
   ]
  },
  {
   "cell_type": "code",
   "execution_count": 2,
   "metadata": {},
   "outputs": [
    {
     "data": {
      "text/plain": [
       "289"
      ]
     },
     "execution_count": 2,
     "metadata": {},
     "output_type": "execute_result"
    }
   ],
   "source": [
    "neigh = [(i, j, k) for i in [-1,0,1] for j in [-1,0,1] for k in [-1,0,1]]\n",
    "\n",
    "def solve1():\n",
    "    state = {(0, i, j) for i, line in enumerate(plines) for j, c in enumerate(line) if c == \"#\"}\n",
    "    for _ in range(6):\n",
    "        to_update = {(x+i, y+j, z+k) for (x, y, z) in state for (i,j,k) in neigh}\n",
    "        new_state = set()\n",
    "        for (x, y, z) in to_update:\n",
    "            active = (x, y, z) in state\n",
    "            cnt = sum((x+i, y+j, z+k) in state for (i, j, k) in neigh if i or j or k)\n",
    "            if active and cnt not in (2, 3):\n",
    "                active = False\n",
    "            elif not active and cnt == 3:\n",
    "                active = True\n",
    "            if active:\n",
    "                new_state.add((x, y, z))\n",
    "        state = new_state\n",
    "    return len(state)\n",
    "\n",
    "solve1()"
   ]
  },
  {
   "cell_type": "code",
   "execution_count": 3,
   "metadata": {},
   "outputs": [
    {
     "data": {
      "text/plain": [
       "289"
      ]
     },
     "execution_count": 3,
     "metadata": {},
     "output_type": "execute_result"
    }
   ],
   "source": [
    "solve1m=lambda N=[(i,j,k)for i in[-1,0,1]for j in [-1,0,1]for k in[-1,0,1]]:(S:={(0,i,j)for i,l in enumerate(plines)for j,c in enumerate(l)if\"#\"==c},[(S:={(x,y,z)for(x,y,z)in{(x+i,y+j,z+k)for(x,y,z)in S for(i,j,k)in N}if(c:=sum((x+i,y+j,z+k)in S for(i,j,k)in N if i or j or k))in(2,3)*(a:=(x,y,z)in S)or(1-a,c)==(1,3)})for _ in\".\"*6])and len(S)\n",
    "\n",
    "solve1m()"
   ]
  },
  {
   "cell_type": "code",
   "execution_count": 4,
   "metadata": {},
   "outputs": [
    {
     "name": "stdout",
     "output_type": "stream",
     "text": [
      "68.6 ms ± 10.8 ms per loop (mean ± std. dev. of 7 runs, 10 loops each)\n",
      "63.5 ms ± 1.82 ms per loop (mean ± std. dev. of 7 runs, 10 loops each)\n"
     ]
    }
   ],
   "source": [
    "%timeit solve1()\n",
    "%timeit solve1m()"
   ]
  },
  {
   "cell_type": "markdown",
   "metadata": {},
   "source": [
    "### Puzzle 2"
   ]
  },
  {
   "cell_type": "code",
   "execution_count": 5,
   "metadata": {},
   "outputs": [
    {
     "data": {
      "text/plain": [
       "2084"
      ]
     },
     "execution_count": 5,
     "metadata": {},
     "output_type": "execute_result"
    }
   ],
   "source": [
    "neigh = [(i, j, k, l) for i in [-1,0,1] for j in [-1,0,1] for k in [-1,0,1] for l in [-1,0,1]]\n",
    "\n",
    "def solve2():\n",
    "    state = {(0, 0, i, j) for i, line in enumerate(plines) for j, c in enumerate(line) if c == \"#\"}\n",
    "    for _ in range(6):\n",
    "        to_update = {(w+h, x+i, y+j, z+k) for (w, x, y, z) in state for (h,i,j,k) in neigh}\n",
    "        new_state = set()\n",
    "        for (w, x, y, z) in to_update:\n",
    "            active = (w, x, y, z) in state\n",
    "            cnt = sum((w+h, x+i, y+j, z+k) in state for (h, i, j, k) in neigh if h or i or j or k)\n",
    "            if active and cnt not in (2, 3):\n",
    "                active = False\n",
    "            elif not active and cnt == 3:\n",
    "                active = True\n",
    "            if active:\n",
    "                new_state.add((w, x, y, z))\n",
    "        state = new_state\n",
    "    return len(state)\n",
    "\n",
    "solve2()"
   ]
  },
  {
   "cell_type": "code",
   "execution_count": 6,
   "metadata": {},
   "outputs": [
    {
     "data": {
      "text/plain": [
       "2084"
      ]
     },
     "execution_count": 6,
     "metadata": {},
     "output_type": "execute_result"
    }
   ],
   "source": [
    "solve2m=lambda N=[(i,j,k,l)for i in[-1,0,1]for j in [-1,0,1]for k in[-1,0,1]for l in[-1,0,1]]:(S:={(0,0,i,j)for i,l in enumerate(plines)for j,c in enumerate(l)if\"#\"==c},[(S:={(w,x,y,z)for(w,x,y,z)in{(w+h,x+i,y+j,z+k)for(w,x,y,z)in S for(h,i,j,k)in N}if(c:=sum((w+h,x+i,y+j,z+k)in S for(h,i,j,k)in N if any([h,i,j,k])))in(2,3)*(a:=(w,x,y,z)in S)or(1-a,c)==(1,3)})for _ in\".\"*6])and len(S)\n",
    "\n",
    "solve2m()"
   ]
  },
  {
   "cell_type": "code",
   "execution_count": 7,
   "metadata": {},
   "outputs": [
    {
     "name": "stdout",
     "output_type": "stream",
     "text": [
      "2.06 s ± 61.2 ms per loop (mean ± std. dev. of 7 runs, 1 loop each)\n",
      "2.65 s ± 19.3 ms per loop (mean ± std. dev. of 7 runs, 1 loop each)\n"
     ]
    }
   ],
   "source": [
    "%timeit solve2()\n",
    "%timeit solve2m()"
   ]
  }
 ],
 "metadata": {
  "kernelspec": {
   "display_name": "Python 3",
   "language": "python",
   "name": "python3"
  },
  "language_info": {
   "codemirror_mode": {
    "name": "ipython",
    "version": 3
   },
   "file_extension": ".py",
   "mimetype": "text/x-python",
   "name": "python",
   "nbconvert_exporter": "python",
   "pygments_lexer": "ipython3",
   "version": "3.8.6"
  }
 },
 "nbformat": 4,
 "nbformat_minor": 4
}

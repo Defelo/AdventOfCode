{
 "cells": [
  {
   "cell_type": "code",
   "execution_count": 1,
   "metadata": {},
   "outputs": [
    {
     "data": {
      "text/markdown": [
       "# Day 23"
      ],
      "text/plain": [
       "<IPython.core.display.Markdown object>"
      ]
     },
     "metadata": {},
     "output_type": "display_data"
    }
   ],
   "source": [
    "import sys; sys.path.insert(0, \"..\")\n",
    "\n",
    "import aoc\n",
    "\n",
    "year, day = 2017, 23\n",
    "\n",
    "puzzle = aoc.setup(year, day)\n",
    "plines = puzzle.splitlines()"
   ]
  },
  {
   "cell_type": "markdown",
   "metadata": {},
   "source": [
    "### Puzzle 1"
   ]
  },
  {
   "cell_type": "code",
   "execution_count": 2,
   "metadata": {},
   "outputs": [
    {
     "data": {
      "text/plain": [
       "9409"
      ]
     },
     "execution_count": 2,
     "metadata": {},
     "output_type": "execute_result"
    }
   ],
   "source": [
    "def solve1():\n",
    "    registers = {chr(i): 0 for i in range(97, 105)}\n",
    "    pc = 0\n",
    "    out = 0\n",
    "    while pc in range(len(plines)):\n",
    "        cmd, *args = plines[pc].split()\n",
    "        get = lambda a: registers[a] if a in registers else int(a)\n",
    "        if cmd == \"set\":\n",
    "            registers[args[0]] = get(args[1])\n",
    "        elif cmd == \"sub\":\n",
    "            registers[args[0]] -= get(args[1])\n",
    "        elif cmd == \"mul\":\n",
    "            registers[args[0]] *= get(args[1])\n",
    "            out += 1\n",
    "        elif cmd == \"jnz\":\n",
    "            if get(args[0]):\n",
    "                pc += get(args[1])\n",
    "                continue\n",
    "        pc += 1\n",
    "            \n",
    "    return out\n",
    "\n",
    "solve1()"
   ]
  },
  {
   "cell_type": "code",
   "execution_count": 3,
   "metadata": {},
   "outputs": [
    {
     "name": "stdout",
     "output_type": "stream",
     "text": [
      "134 ms ± 19 ms per loop (mean ± std. dev. of 7 runs, 10 loops each)\n"
     ]
    }
   ],
   "source": [
    "%timeit solve1()"
   ]
  },
  {
   "cell_type": "markdown",
   "metadata": {},
   "source": [
    "### Puzzle 2"
   ]
  },
  {
   "cell_type": "code",
   "execution_count": 4,
   "metadata": {},
   "outputs": [
    {
     "name": "stdout",
     "output_type": "stream",
     "text": [
      "001| b = 99\n",
      "002| c = b\n",
      "003| if a: goto 005\n",
      "004| goto 009\n",
      "\n",
      "# jumps: 003\n",
      "005| b *= 100\n",
      "006| b += 100000\n",
      "007| c = b\n",
      "008| c += 17000\n",
      "\n",
      "# jumps: 004, 032\n",
      "009| f = 1\n",
      "010| d = 2\n",
      "\n",
      "# jumps: 024\n",
      "011| e = 2\n",
      "\n",
      "# jumps: 020\n",
      "012| g = d\n",
      "013| g *= e\n",
      "014| g -= b\n",
      "015| if g: goto 017\n",
      "016| f = 0\n",
      "\n",
      "# jumps: 015\n",
      "017| e += 1\n",
      "018| g = e\n",
      "019| g -= b\n",
      "020| if g: goto 012\n",
      "021| d += 1\n",
      "022| g = d\n",
      "023| g -= b\n",
      "024| if g: goto 011\n",
      "025| if f: goto 027\n",
      "026| h += 1\n",
      "\n",
      "# jumps: 025\n",
      "027| g = b\n",
      "028| g -= c\n",
      "029| if g: goto 031\n",
      "030| goto 033\n",
      "\n",
      "# jumps: 029\n",
      "031| b += 17\n",
      "032| goto 009\n"
     ]
    }
   ],
   "source": [
    "jumps = {}\n",
    "out = []\n",
    "for i, line in enumerate(plines):\n",
    "    cmd, *args = line.split()\n",
    "    if cmd == \"set\":\n",
    "        out.append(f\"{args[0]} = {args[1]}\")\n",
    "    elif cmd == \"sub\":\n",
    "        if args[1].strip(\"-\").isnumeric() and int(args[1]) < 0:\n",
    "            out.append(f\"{args[0]} += {-int(args[1])}\")\n",
    "        else:\n",
    "            out.append(f\"{args[0]} -= {args[1]}\")\n",
    "    elif cmd == \"mul\":\n",
    "        out.append(f\"{args[0]} *= {args[1]}\")\n",
    "    elif cmd == \"jnz\":\n",
    "        x, y = args\n",
    "        y = i + int(y)\n",
    "        if x == \"0\":\n",
    "            out.append(\"noop\")\n",
    "            continue\n",
    "        elif x.strip(\"-\").isnumeric():\n",
    "            out.append(f\"goto {y+1:03}\")\n",
    "        else:\n",
    "            out.append(f\"if {x}: goto {y+1:03}\")\n",
    "        jumps.setdefault(y, []).append(f\"{i+1:03}\")\n",
    "    else:\n",
    "        out.append(\"noop\")\n",
    "            \n",
    "\n",
    "for i, line in enumerate(out):\n",
    "    if i in jumps: print(f\"\\n# jumps: {', '.join(jumps[i])}\")\n",
    "    print(f\"{i+1:03}| {line}\")"
   ]
  },
  {
   "cell_type": "raw",
   "metadata": {},
   "source": [
    "b = 109900 - 17\n",
    "\n",
    "while b != 126900 {\n",
    "    b += 17\n",
    "    \n",
    "    f = 1\n",
    "    for d in range(2, b):\n",
    "        if b % d == 0:\n",
    "            f = 0\n",
    "    \n",
    "    if f == 0: h += 1\n",
    "}"
   ]
  },
  {
   "cell_type": "code",
   "execution_count": 5,
   "metadata": {},
   "outputs": [
    {
     "data": {
      "text/plain": [
       "913"
      ]
     },
     "execution_count": 5,
     "metadata": {},
     "output_type": "execute_result"
    }
   ],
   "source": [
    "def solve2():\n",
    "    b = 109900 - 17\n",
    "    h = 0\n",
    "    while b != 126900:\n",
    "        b += 17\n",
    "\n",
    "        f = 1\n",
    "        for d in range(2, b):\n",
    "            if b % d == 0:\n",
    "                f = 0\n",
    "                break\n",
    "\n",
    "        if f == 0: h += 1\n",
    "    return h\n",
    "\n",
    "solve2()"
   ]
  },
  {
   "cell_type": "code",
   "execution_count": 6,
   "metadata": {},
   "outputs": [
    {
     "name": "stdout",
     "output_type": "stream",
     "text": [
      "1.15 s ± 297 ms per loop (mean ± std. dev. of 7 runs, 1 loop each)\n"
     ]
    }
   ],
   "source": [
    "%timeit solve2()"
   ]
  }
 ],
 "metadata": {
  "kernelspec": {
   "display_name": "Python 3 (ipykernel)",
   "language": "python",
   "name": "python3"
  },
  "language_info": {
   "codemirror_mode": {
    "name": "ipython",
    "version": 3
   },
   "file_extension": ".py",
   "mimetype": "text/x-python",
   "name": "python",
   "nbconvert_exporter": "python",
   "pygments_lexer": "ipython3",
   "version": "3.9.6"
  }
 },
 "nbformat": 4,
 "nbformat_minor": 4
}

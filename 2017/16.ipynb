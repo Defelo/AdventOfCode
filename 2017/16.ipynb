{
 "cells": [
  {
   "cell_type": "code",
   "execution_count": 1,
   "metadata": {},
   "outputs": [
    {
     "data": {
      "text/markdown": [
       "# Day 16"
      ],
      "text/plain": [
       "<IPython.core.display.Markdown object>"
      ]
     },
     "metadata": {},
     "output_type": "display_data"
    }
   ],
   "source": [
    "import sys; sys.path.insert(0, \"..\")\n",
    "\n",
    "import aoc\n",
    "\n",
    "year, day = 2017, 16\n",
    "\n",
    "puzzle = aoc.setup(year, day)\n",
    "plines = puzzle.splitlines()"
   ]
  },
  {
   "cell_type": "markdown",
   "metadata": {},
   "source": [
    "### Puzzle 1"
   ]
  },
  {
   "cell_type": "code",
   "execution_count": 2,
   "metadata": {},
   "outputs": [
    {
     "data": {
      "text/plain": [
       "'kbednhopmfcjilag'"
      ]
     },
     "execution_count": 2,
     "metadata": {},
     "output_type": "execute_result"
    }
   ],
   "source": [
    "def solve1():\n",
    "    p = [chr(97 + i) for i in range(16)]\n",
    "    for cmd in puzzle.split(\",\"):\n",
    "        if cmd[0] == \"s\":\n",
    "            n = int(cmd[1:])\n",
    "            p = p[-n:] + p[:-n]\n",
    "        elif cmd[0] == \"x\":\n",
    "            a, b = map(int, cmd[1:].split(\"/\"))\n",
    "            p[a], p[b] = p[b], p[a]\n",
    "        elif cmd[0] == \"p\":\n",
    "            a, b = map(p.index, cmd[1:].split(\"/\"))\n",
    "            p[a], p[b] = p[b], p[a]\n",
    "            \n",
    "    return \"\".join(p)\n",
    "\n",
    "solve1()"
   ]
  },
  {
   "cell_type": "code",
   "execution_count": 3,
   "metadata": {},
   "outputs": [
    {
     "name": "stdout",
     "output_type": "stream",
     "text": [
      "11.7 ms ± 959 µs per loop (mean ± std. dev. of 7 runs, 100 loops each)\n"
     ]
    }
   ],
   "source": [
    "%timeit solve1()"
   ]
  },
  {
   "cell_type": "markdown",
   "metadata": {},
   "source": [
    "### Puzzle 2"
   ]
  },
  {
   "cell_type": "code",
   "execution_count": 4,
   "metadata": {},
   "outputs": [
    {
     "data": {
      "text/plain": [
       "'fbmcgdnjakpioelh'"
      ]
     },
     "execution_count": 4,
     "metadata": {},
     "output_type": "execute_result"
    }
   ],
   "source": [
    "def solve2():\n",
    "    p = [chr(97 + i) for i in range(16)]\n",
    "    q = p[:]\n",
    "    mem = []\n",
    "    while True:\n",
    "        mem.append(p[:])\n",
    "        for cmd in puzzle.split(\",\"):\n",
    "            if cmd[0] == \"s\":\n",
    "                n = int(cmd[1:])\n",
    "                p = p[-n:] + p[:-n]\n",
    "            elif cmd[0] == \"x\":\n",
    "                a, b = map(int, cmd[1:].split(\"/\"))\n",
    "                p[a], p[b] = p[b], p[a]\n",
    "            elif cmd[0] == \"p\":\n",
    "                a, b = map(p.index, cmd[1:].split(\"/\"))\n",
    "                p[a], p[b] = p[b], p[a]\n",
    "        if p == q: break\n",
    "            \n",
    "    return \"\".join(mem[1000000000 % len(mem)])\n",
    "\n",
    "solve2()"
   ]
  },
  {
   "cell_type": "code",
   "execution_count": 5,
   "metadata": {},
   "outputs": [
    {
     "name": "stdout",
     "output_type": "stream",
     "text": [
      "687 ms ± 72.5 ms per loop (mean ± std. dev. of 7 runs, 1 loop each)\n"
     ]
    }
   ],
   "source": [
    "%timeit solve2()"
   ]
  }
 ],
 "metadata": {
  "kernelspec": {
   "display_name": "Python 3 (ipykernel)",
   "language": "python",
   "name": "python3"
  },
  "language_info": {
   "codemirror_mode": {
    "name": "ipython",
    "version": 3
   },
   "file_extension": ".py",
   "mimetype": "text/x-python",
   "name": "python",
   "nbconvert_exporter": "python",
   "pygments_lexer": "ipython3",
   "version": "3.9.6"
  }
 },
 "nbformat": 4,
 "nbformat_minor": 4
}

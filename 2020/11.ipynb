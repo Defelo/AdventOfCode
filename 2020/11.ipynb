{
 "cells": [
  {
   "cell_type": "code",
   "execution_count": 1,
   "metadata": {},
   "outputs": [
    {
     "data": {
      "text/markdown": [
       "# Day 11"
      ],
      "text/plain": [
       "<IPython.core.display.Markdown object>"
      ]
     },
     "metadata": {},
     "output_type": "display_data"
    }
   ],
   "source": [
    "import sys; sys.path.insert(0, \"..\")\n",
    "\n",
    "import aoc\n",
    "\n",
    "year, day = 2020, 11\n",
    "\n",
    "puzzle = aoc.setup(year, day)\n",
    "plines = puzzle.splitlines()"
   ]
  },
  {
   "cell_type": "markdown",
   "metadata": {},
   "source": [
    "### Puzzle 1"
   ]
  },
  {
   "cell_type": "code",
   "execution_count": 2,
   "metadata": {},
   "outputs": [
    {
     "data": {
      "text/plain": [
       "2113"
      ]
     },
     "execution_count": 2,
     "metadata": {},
     "output_type": "execute_result"
    }
   ],
   "source": [
    "def solve1():\n",
    "    graph = {}\n",
    "    active = set()\n",
    "    for y, line in enumerate(plines):\n",
    "        for x, c in enumerate(line):\n",
    "            if c == \".\":\n",
    "                continue\n",
    "            \n",
    "            graph[(x, y)] = []\n",
    "            for dy in range(-1, 2):\n",
    "                for dx in range(-1, 2):\n",
    "                    if dx == 0 == dy:\n",
    "                        continue\n",
    "                    if 0 <= (i := y+dy) < len(plines) and 0 <= (j := x+dx) < len(line) and plines[i][j] != \".\":\n",
    "                        graph[(x, y)].append((j, i))\n",
    "\n",
    "    while True:\n",
    "        new_active = set()\n",
    "        \n",
    "        for p, qs in graph.items():\n",
    "            cnt = sum(q in active for q in qs)\n",
    "            if p not in active and not cnt or p in active and cnt < 4:\n",
    "                new_active.add(p)\n",
    "        \n",
    "        if active == new_active:\n",
    "            break\n",
    "        active = new_active\n",
    "\n",
    "    return len(active)\n",
    "\n",
    "solve1()"
   ]
  },
  {
   "cell_type": "code",
   "execution_count": 3,
   "metadata": {},
   "outputs": [
    {
     "data": {
      "text/plain": [
       "2113"
      ]
     },
     "execution_count": 3,
     "metadata": {},
     "output_type": "execute_result"
    }
   ],
   "source": [
    "solve1m=lambda a=set(),g={(x,y):[(x+q,y+p)for p in[-1,0,1]for q in[-1,0,1]if(p or q)*(0<=y+p<len(plines))*(0<=x+q<len(l))and plines[y+p][x+q]!=\".\"]for y,l in enumerate(plines)for x,c in enumerate(l)if\".\"!=c}:next(len(a)for()in iter(tuple,1)if a==(a:={p for p,q in g.items()if not(c:=len(a&{*q}))and{p}-a or a&{p}and c<4}))\n",
    "\n",
    "solve1m()"
   ]
  },
  {
   "cell_type": "code",
   "execution_count": 4,
   "metadata": {},
   "outputs": [
    {
     "name": "stdout",
     "output_type": "stream",
     "text": [
      "1.25 s ± 131 ms per loop (mean ± std. dev. of 7 runs, 1 loop each)\n",
      "1 s ± 36.8 ms per loop (mean ± std. dev. of 7 runs, 1 loop each)\n"
     ]
    }
   ],
   "source": [
    "%timeit solve1()\n",
    "%timeit solve1m()"
   ]
  },
  {
   "cell_type": "markdown",
   "metadata": {},
   "source": [
    "### Puzzle 2"
   ]
  },
  {
   "cell_type": "code",
   "execution_count": 5,
   "metadata": {},
   "outputs": [
    {
     "data": {
      "text/plain": [
       "1865"
      ]
     },
     "execution_count": 5,
     "metadata": {},
     "output_type": "execute_result"
    }
   ],
   "source": [
    "def solve2():\n",
    "    graph = {}\n",
    "    active = set()\n",
    "    for y, line in enumerate(plines):\n",
    "        for x, c in enumerate(line):\n",
    "            if c == \".\":\n",
    "                continue\n",
    "            \n",
    "            graph[(x, y)] = []\n",
    "            for dy in range(-1, 2):\n",
    "                for dx in range(-1, 2):\n",
    "                    if dx == 0 == dy:\n",
    "                        continue\n",
    "                    k = 1\n",
    "                    while 0 <= (i := y+k*dy) < len(plines) and 0 <= (j := x+k*dx) < len(line):\n",
    "                        if plines[i][j] != \".\":\n",
    "                            graph[(x, y)].append((j, i))\n",
    "                            break\n",
    "                        k += 1\n",
    "\n",
    "    while True:\n",
    "        new_active = set()\n",
    "        \n",
    "        for p, qs in graph.items():\n",
    "            cnt = sum(q in active for q in qs)\n",
    "            if p not in active and not cnt or p in active and cnt < 5:\n",
    "                new_active.add(p)\n",
    "        \n",
    "        if active == new_active:\n",
    "            break\n",
    "        active = new_active\n",
    "\n",
    "    return len(active)\n",
    "\n",
    "solve2()"
   ]
  },
  {
   "cell_type": "code",
   "execution_count": 6,
   "metadata": {},
   "outputs": [
    {
     "data": {
      "text/plain": [
       "1865"
      ]
     },
     "execution_count": 6,
     "metadata": {},
     "output_type": "execute_result"
    }
   ],
   "source": [
    "solve2m=lambda a=set(),g={(x,y):[f for p in[-1,0,1]for q in[-1,0,1]if(p or q)*(k:=1)and(f:=next((r*(x+k*q,y+k*p)for()in iter(tuple,0)if not(r:=(0<=y+k*p<len(plines))*(0<=x+k*q<len(l)))or plines[y+k*p][x+k*q]!=\".\"or(k:=k+1)*0),0))]for y,l in enumerate(plines)for x,c in enumerate(l)if\".\"!=c}:next(len(a)for()in iter(tuple,1)if a==(a:={p for p,q in g.items()if not(c:=len(a&{*q}))and{p}-a or a&{p}and c<5}))\n",
    "\n",
    "solve2m()"
   ]
  },
  {
   "cell_type": "code",
   "execution_count": 7,
   "metadata": {},
   "outputs": [
    {
     "name": "stdout",
     "output_type": "stream",
     "text": [
      "1.07 s ± 40.3 ms per loop (mean ± std. dev. of 7 runs, 1 loop each)\n",
      "914 ms ± 68.4 ms per loop (mean ± std. dev. of 7 runs, 1 loop each)\n"
     ]
    }
   ],
   "source": [
    "%timeit solve2()\n",
    "%timeit solve2m()"
   ]
  }
 ],
 "metadata": {
  "kernelspec": {
   "display_name": "Python 3",
   "language": "python",
   "name": "python3"
  },
  "language_info": {
   "codemirror_mode": {
    "name": "ipython",
    "version": 3
   },
   "file_extension": ".py",
   "mimetype": "text/x-python",
   "name": "python",
   "nbconvert_exporter": "python",
   "pygments_lexer": "ipython3",
   "version": "3.8.6"
  }
 },
 "nbformat": 4,
 "nbformat_minor": 4
}

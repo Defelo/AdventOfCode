{
 "cells": [
  {
   "cell_type": "code",
   "execution_count": 1,
   "metadata": {},
   "outputs": [
    {
     "data": {
      "text/markdown": [
       "# Day 11"
      ],
      "text/plain": [
       "<IPython.core.display.Markdown object>"
      ]
     },
     "metadata": {},
     "output_type": "display_data"
    }
   ],
   "source": [
    "import sys; sys.path.insert(0, \"..\")\n",
    "\n",
    "import aoc\n",
    "\n",
    "year, day = 2017, 11\n",
    "\n",
    "puzzle = aoc.setup(year, day)\n",
    "plines = puzzle.splitlines()"
   ]
  },
  {
   "cell_type": "markdown",
   "metadata": {},
   "source": [
    "### Puzzle 1"
   ]
  },
  {
   "cell_type": "code",
   "execution_count": 2,
   "metadata": {},
   "outputs": [
    {
     "data": {
      "text/plain": [
       "796"
      ]
     },
     "execution_count": 2,
     "metadata": {},
     "output_type": "execute_result"
    }
   ],
   "source": [
    "def step(x, y, d):\n",
    "    if d == \"n\":\n",
    "        return x, y-1  # (0, -1)\n",
    "    if d == \"ne\":\n",
    "        return x+1, y  # (1, 0)\n",
    "    if d == \"se\":\n",
    "        return x+1, y+1  # (1, 1)\n",
    "    if d == \"s\":\n",
    "        return x, y+1  # (0, 1)\n",
    "    if d == \"sw\":\n",
    "        return x-1, y  # (-1, 0)\n",
    "    if d == \"nw\":\n",
    "        return x-1, y-1  # (-1, -1)\n",
    "\n",
    "def solve1():\n",
    "    x, y = 0, 0\n",
    "    for d in puzzle.split(\",\"):\n",
    "        x, y = step(x, y, d)\n",
    "    k = 0\n",
    "    if x * y > 0:\n",
    "        k = min(x, y, key=abs)\n",
    "        x -= k\n",
    "        y -= k\n",
    "    return abs(x) + abs(y) + k\n",
    "\n",
    "solve1()"
   ]
  },
  {
   "cell_type": "code",
   "execution_count": 3,
   "metadata": {},
   "outputs": [
    {
     "name": "stdout",
     "output_type": "stream",
     "text": [
      "4.47 ms ± 1.33 ms per loop (mean ± std. dev. of 7 runs, 100 loops each)\n"
     ]
    }
   ],
   "source": [
    "%timeit solve1()"
   ]
  },
  {
   "cell_type": "markdown",
   "metadata": {},
   "source": [
    "### Puzzle 2"
   ]
  },
  {
   "cell_type": "code",
   "execution_count": 4,
   "metadata": {},
   "outputs": [
    {
     "data": {
      "text/plain": [
       "1585"
      ]
     },
     "execution_count": 4,
     "metadata": {},
     "output_type": "execute_result"
    }
   ],
   "source": [
    "def solve2():\n",
    "    x, y = 0, 0\n",
    "    out = 0\n",
    "    for d in puzzle.split(\",\"):\n",
    "        x, y = step(x, y, d)\n",
    "        k = 0\n",
    "        if x * y > 0:\n",
    "            k = min(x, y, key=abs)\n",
    "            x -= k\n",
    "            y -= k\n",
    "        out = max(out, abs(x) + abs(y) + k)\n",
    "    return out\n",
    "\n",
    "solve2()"
   ]
  },
  {
   "cell_type": "code",
   "execution_count": 5,
   "metadata": {},
   "outputs": [
    {
     "name": "stdout",
     "output_type": "stream",
     "text": [
      "9.17 ms ± 1.72 ms per loop (mean ± std. dev. of 7 runs, 100 loops each)\n"
     ]
    }
   ],
   "source": [
    "%timeit solve2()"
   ]
  }
 ],
 "metadata": {
  "kernelspec": {
   "display_name": "Python 3 (ipykernel)",
   "language": "python",
   "name": "python3"
  },
  "language_info": {
   "codemirror_mode": {
    "name": "ipython",
    "version": 3
   },
   "file_extension": ".py",
   "mimetype": "text/x-python",
   "name": "python",
   "nbconvert_exporter": "python",
   "pygments_lexer": "ipython3",
   "version": "3.9.6"
  }
 },
 "nbformat": 4,
 "nbformat_minor": 4
}

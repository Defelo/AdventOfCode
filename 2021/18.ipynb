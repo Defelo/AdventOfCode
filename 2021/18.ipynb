{
 "cells": [
  {
   "cell_type": "code",
   "execution_count": 1,
   "metadata": {},
   "outputs": [
    {
     "data": {
      "text/plain": "<IPython.core.display.Markdown object>",
      "text/markdown": "# Day 18"
     },
     "metadata": {},
     "output_type": "display_data"
    }
   ],
   "source": [
    "import sys; sys.path.insert(0, \"..\")\n",
    "\n",
    "from utils import *\n",
    "import aoc\n",
    "\n",
    "year, day = 2021, 18\n",
    "\n",
    "puzzle = aoc.setup(year, day)\n",
    "plines = puzzle.splitlines()"
   ]
  },
  {
   "cell_type": "markdown",
   "metadata": {},
   "source": [
    "### Puzzle 1"
   ]
  },
  {
   "cell_type": "code",
   "execution_count": 2,
   "outputs": [
    {
     "data": {
      "text/plain": "4469"
     },
     "execution_count": 2,
     "metadata": {},
     "output_type": "execute_result"
    }
   ],
   "source": [
    "parent = lambda n: n >> 1\n",
    "left = lambda n: n << 1\n",
    "right = lambda n: n << 1 | 1\n",
    "\n",
    "\n",
    "def parse(lst):\n",
    "    out = [None] * 64\n",
    "\n",
    "    def fill(l, n):\n",
    "        if not isinstance(l, list):\n",
    "            out[n] = l\n",
    "        else:\n",
    "            fill(l[0], left(n))\n",
    "            fill(l[1], right(n))\n",
    "\n",
    "    fill(lst, 1)\n",
    "    return out\n",
    "\n",
    "\n",
    "def explode(lst):\n",
    "    def move_up(i, x):\n",
    "        while lst[i] is None:\n",
    "            i = parent(i)\n",
    "        lst[i] += x\n",
    "\n",
    "    for n in range(1<<4, 1<<5):\n",
    "        if lst[n] is not None:\n",
    "            continue\n",
    "\n",
    "        l = lst[a := left(n)]\n",
    "        r = lst[b := right(n)]\n",
    "        if l is None and r is None:\n",
    "            continue\n",
    "\n",
    "        lst[a] = None\n",
    "        lst[b] = None\n",
    "        lst[n] = 0\n",
    "        if a - 1 >= 1 << 5:\n",
    "            move_up(a - 1, l)\n",
    "        if b + 1 < 1 << 6:\n",
    "            move_up(b + 1, r)\n",
    "\n",
    "        return True\n",
    "\n",
    "    return False\n",
    "\n",
    "\n",
    "def split(lst, n=1):\n",
    "    if (x := lst[n]) is None:\n",
    "        return split(lst, left(n)) or split(lst, right(n))\n",
    "    if x < 10:\n",
    "        return False\n",
    "\n",
    "    k = x >> 1\n",
    "    lst[n] = None\n",
    "    lst[left(n)] = k\n",
    "    lst[right(n)] = x - k\n",
    "    return True\n",
    "\n",
    "\n",
    "def add(a, b):\n",
    "    out = [None, None]\n",
    "    for i in range(6):\n",
    "        out += a[1<<i : 1<<i+1]\n",
    "        out += b[1<<i : 1<<i+1]\n",
    "\n",
    "    while explode(out) or split(out):\n",
    "        pass\n",
    "\n",
    "    return out\n",
    "\n",
    "\n",
    "def magnitude(lst, n=1):\n",
    "    if lst[n] is not None:\n",
    "        return lst[n]\n",
    "\n",
    "    return 3 * magnitude(lst, left(n)) + 2 * magnitude(lst, right(n))\n",
    "\n",
    "\n",
    "def mk_list(lst, n=1):\n",
    "    if lst[n] is not None:\n",
    "        return lst[n]\n",
    "\n",
    "    return [mk_list(lst, left(n)), mk_list(lst, right(n))]\n",
    "\n",
    "\n",
    "def solve1():\n",
    "    return magnitude(reduce(add, (parse(ast.literal_eval(line)) for line in plines)))\n",
    "\n",
    "\n",
    "solve1()"
   ],
   "metadata": {
    "collapsed": false,
    "pycharm": {
     "name": "#%%\n"
    }
   }
  },
  {
   "cell_type": "code",
   "execution_count": 3,
   "metadata": {},
   "outputs": [
    {
     "name": "stdout",
     "output_type": "stream",
     "text": [
      "118 ms ± 18 ms per loop (mean ± std. dev. of 7 runs, 10 loops each)\n"
     ]
    }
   ],
   "source": [
    "%timeit solve1()"
   ]
  },
  {
   "cell_type": "markdown",
   "metadata": {},
   "source": [
    "### Puzzle 2"
   ]
  },
  {
   "cell_type": "code",
   "execution_count": 4,
   "metadata": {},
   "outputs": [
    {
     "data": {
      "text/plain": "4770"
     },
     "execution_count": 4,
     "metadata": {},
     "output_type": "execute_result"
    }
   ],
   "source": [
    "def solve2():\n",
    "    out = 0\n",
    "    for a in plines:\n",
    "        for b in plines:\n",
    "            if a == b:\n",
    "                continue\n",
    "            out = max(out, magnitude(add(\n",
    "                parse(ast.literal_eval(a)),\n",
    "                parse(ast.literal_eval(b)),\n",
    "            )))\n",
    "    return out\n",
    "\n",
    "solve2()"
   ]
  },
  {
   "cell_type": "code",
   "execution_count": 5,
   "metadata": {},
   "outputs": [
    {
     "name": "stdout",
     "output_type": "stream",
     "text": [
      "3.24 s ± 59.6 ms per loop (mean ± std. dev. of 7 runs, 1 loop each)\n"
     ]
    }
   ],
   "source": [
    "%timeit solve2()"
   ]
  }
 ],
 "metadata": {
  "kernelspec": {
   "display_name": "Python 3",
   "language": "python",
   "name": "python3"
  },
  "language_info": {
   "codemirror_mode": {
    "name": "ipython",
    "version": 3
   },
   "file_extension": ".py",
   "mimetype": "text/x-python",
   "name": "python",
   "nbconvert_exporter": "python",
   "pygments_lexer": "ipython3",
   "version": "3.8.6"
  }
 },
 "nbformat": 4,
 "nbformat_minor": 4
}
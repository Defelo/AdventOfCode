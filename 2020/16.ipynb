{
 "cells": [
  {
   "cell_type": "code",
   "execution_count": 1,
   "metadata": {},
   "outputs": [
    {
     "data": {
      "text/markdown": [
       "# Day 16"
      ],
      "text/plain": [
       "<IPython.core.display.Markdown object>"
      ]
     },
     "metadata": {},
     "output_type": "display_data"
    }
   ],
   "source": [
    "import sys; sys.path.insert(0, \"..\")\n",
    "\n",
    "import aoc\n",
    "\n",
    "year, day = 2020, 16\n",
    "\n",
    "puzzle = aoc.setup(year, day)\n",
    "plines = puzzle.splitlines()"
   ]
  },
  {
   "cell_type": "markdown",
   "metadata": {},
   "source": [
    "### Puzzle 1"
   ]
  },
  {
   "cell_type": "code",
   "execution_count": 2,
   "metadata": {},
   "outputs": [
    {
     "data": {
      "text/plain": [
       "25788"
      ]
     },
     "execution_count": 2,
     "metadata": {},
     "output_type": "execute_result"
    }
   ],
   "source": [
    "def valid(rule, num):\n",
    "    ranges = rule.split(\": \")[1].split(\" or \")\n",
    "    for r in ranges:\n",
    "        x, y = map(int, r.split(\"-\"))\n",
    "        if x <= num <= y:\n",
    "            return True\n",
    "    return False\n",
    "\n",
    "def solve1():\n",
    "    rules, mt, nt = map(str.splitlines,puzzle.split(\"\\n\\n\"))\n",
    "    out = 0\n",
    "    nt.pop(0)\n",
    "    for ticket in nt:\n",
    "        for f in map(int, ticket.split(\",\")):\n",
    "            for r in rules:\n",
    "                if valid(r, f):\n",
    "                    break\n",
    "            else:\n",
    "                out += f\n",
    "    return out\n",
    "\n",
    "solve1()"
   ]
  },
  {
   "cell_type": "code",
   "execution_count": 3,
   "metadata": {},
   "outputs": [
    {
     "data": {
      "text/plain": [
       "25788"
      ]
     },
     "execution_count": 3,
     "metadata": {},
     "output_type": "execute_result"
    }
   ],
   "source": [
    "solve1m=lambda I=[*map(str.splitlines,puzzle.split(\"\\n\\n\"))]:sum(f*(1-any(x[0]<=f<=x[1]for r in I[0]for s in r.split(\": \")[1].split(\"or\")if(x:=[*map(int,s.split(\"-\"))])))for t in I[2][1:]for f in map(int,t.split(\",\")))\n",
    "\n",
    "solve1m()"
   ]
  },
  {
   "cell_type": "code",
   "execution_count": 4,
   "metadata": {},
   "outputs": [
    {
     "name": "stdout",
     "output_type": "stream",
     "text": [
      "9.3 ms ± 324 µs per loop (mean ± std. dev. of 7 runs, 100 loops each)\n",
      "12.6 ms ± 561 µs per loop (mean ± std. dev. of 7 runs, 100 loops each)\n"
     ]
    }
   ],
   "source": [
    "%timeit solve1()\n",
    "%timeit solve1m()"
   ]
  },
  {
   "cell_type": "markdown",
   "metadata": {},
   "source": [
    "### Puzzle 2"
   ]
  },
  {
   "cell_type": "code",
   "execution_count": 5,
   "metadata": {},
   "outputs": [
    {
     "data": {
      "text/plain": [
       "3902565915559"
      ]
     },
     "execution_count": 5,
     "metadata": {},
     "output_type": "execute_result"
    }
   ],
   "source": [
    "def solve2():\n",
    "    rules, mt, nt = map(str.splitlines, puzzle.split(\"\\n\\n\"))\n",
    "    mt = list(map(int, mt[1].split(\",\")))\n",
    "    nt = [list(map(int, ticket.split(\",\"))) for ticket in nt[1:]]\n",
    "    \n",
    "    nt = [ticket for ticket in nt if all(any(valid(r, f) for r in rules) for f in ticket)]\n",
    "            \n",
    "    possible_allocations = [set(range(len(rules))) for i in range(len(rules))]\n",
    "    for ticket in nt:\n",
    "        for field in range(len(rules)):\n",
    "            for rule in range(len(rules)):\n",
    "                if not valid(rules[rule], ticket[field]):\n",
    "                    possible_allocations[rule].remove(field)\n",
    "\n",
    "    allocations = [None] * len(rules)\n",
    "    while any(x is None for x in allocations):\n",
    "        for i in range(len(rules)):\n",
    "            if len(possible_allocations[i]) == 1:\n",
    "                j = possible_allocations[i].pop()\n",
    "                allocations[i] = j\n",
    "                for k in range(len(rules)):\n",
    "                    if j in possible_allocations[k]:\n",
    "                        possible_allocations[k].remove(j)\n",
    "\n",
    "    out = 1\n",
    "    for i, rule in enumerate(rules):\n",
    "        if not rule.startswith(\"departure\"):\n",
    "            continue\n",
    "        j = allocations[i]\n",
    "        out *= mt[j]\n",
    "    return out\n",
    "\n",
    "solve2()"
   ]
  },
  {
   "cell_type": "code",
   "execution_count": 6,
   "metadata": {},
   "outputs": [
    {
     "data": {
      "text/plain": [
       "3902565915559"
      ]
     },
     "execution_count": 6,
     "metadata": {},
     "output_type": "execute_result"
    }
   ],
   "source": [
    "solve2m=lambda I=[*map(str.splitlines,puzzle.split(\"\\n\\n\"))]:(n:=len(I[0]),Z:=set(range(n)),V:=lambda R,n:any(k[0]<=n<=k[1]for r in R.split(\":\")[1].split(\"or\")if(k:=[*map(int,r.split(\"-\"))])),X:=lambda x:[*map(int,x.split(\",\"))],M:=X(I[1][1]),w:=[{*Z}for _ in I[0]],W:=[None]*n,[w[r].remove(f)for t in map(X,I[2][1:])if all(any(V(r,f)for r in I[0])for f in t)for f in Z for r in Z if not V(I[0][r],t[f])],[(W.__setitem__(i,j:=w[i].pop()),[w[k].remove(j)for k in Z if j in w[k]])for _ in I[0]for i in Z if len(w[i])==1],__import__(\"math\").prod(M[W[i]]for i,R in enumerate(I[0])if\"departure\"==R[:9]))[9]\n",
    "\n",
    "solve2m()"
   ]
  },
  {
   "cell_type": "code",
   "execution_count": 7,
   "metadata": {},
   "outputs": [
    {
     "name": "stdout",
     "output_type": "stream",
     "text": [
      "142 ms ± 10.6 ms per loop (mean ± std. dev. of 7 runs, 10 loops each)\n",
      "217 ms ± 15.3 ms per loop (mean ± std. dev. of 7 runs, 1 loop each)\n"
     ]
    }
   ],
   "source": [
    "%timeit solve2()\n",
    "%timeit solve2m()"
   ]
  }
 ],
 "metadata": {
  "kernelspec": {
   "display_name": "Python 3",
   "language": "python",
   "name": "python3"
  },
  "language_info": {
   "codemirror_mode": {
    "name": "ipython",
    "version": 3
   },
   "file_extension": ".py",
   "mimetype": "text/x-python",
   "name": "python",
   "nbconvert_exporter": "python",
   "pygments_lexer": "ipython3",
   "version": "3.8.6"
  }
 },
 "nbformat": 4,
 "nbformat_minor": 4
}

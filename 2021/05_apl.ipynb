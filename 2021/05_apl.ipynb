{
 "cells": [
  {
   "cell_type": "code",
   "execution_count": 1,
   "id": "a7062017-1cc1-4888-822f-236fc2cb4780",
   "metadata": {},
   "outputs": [],
   "source": [
    "data ← ((⍎¨','(≠⊆⊢)⊢)¨(⊂'->')~⍨' '(≠⊆⊢)⊢)¨⊃⎕NGET '05.txt' 1"
   ]
  },
  {
   "cell_type": "code",
   "execution_count": 2,
   "id": "b23a78e7-12ef-4f68-b44e-666926097f07",
   "metadata": {},
   "outputs": [],
   "source": [
    "iter ← {a b←⍵⋄a≡b:⊂b⋄(⊂a),∇(a+×b-a) b}"
   ]
  },
  {
   "cell_type": "markdown",
   "id": "bee465ae-0500-4fcd-8104-ed654a39f8f6",
   "metadata": {},
   "source": [
    "### Part 1"
   ]
  },
  {
   "cell_type": "code",
   "execution_count": 3,
   "id": "dd1b3c61-9480-4e03-b5a5-e116f50a7b6d",
   "metadata": {},
   "outputs": [
    {
     "data": {
      "text/html": [
       "<span style=\"white-space:pre; font-family: monospace\">5698\n",
       "</span>"
      ]
     },
     "execution_count": 3,
     "metadata": {},
     "output_type": "execute_result"
    }
   ],
   "source": [
    "+/2≤≢¨⊢/{⍺ ⍵}⌸⊃,/iter¨{(∨⌿⍉↑=⌿⍉↑⍵)/⍵}data"
   ]
  },
  {
   "cell_type": "markdown",
   "id": "a973e8ae-9fdb-4e38-b6f7-cb7d78a62c48",
   "metadata": {},
   "source": [
    "### Part 2"
   ]
  },
  {
   "cell_type": "code",
   "execution_count": 4,
   "id": "7691c6f8-f313-470d-971b-3a506053e6df",
   "metadata": {},
   "outputs": [
    {
     "data": {
      "text/html": [
       "<span style=\"white-space:pre; font-family: monospace\">15463\n",
       "</span>"
      ]
     },
     "execution_count": 4,
     "metadata": {},
     "output_type": "execute_result"
    }
   ],
   "source": [
    "+/2≤≢¨⊢/{⍺ ⍵}⌸⊃,/iter¨data"
   ]
  }
 ],
 "metadata": {
  "kernelspec": {
   "display_name": "Dyalog APL",
   "language": "apl",
   "name": "dyalog-kernel"
  },
  "language_info": {
   "file_extension": ".apl",
   "mimetype": "text/apl",
   "name": "APL"
  }
 },
 "nbformat": 4,
 "nbformat_minor": 5
}

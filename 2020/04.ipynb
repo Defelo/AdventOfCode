{
 "cells": [
  {
   "cell_type": "code",
   "execution_count": 1,
   "metadata": {},
   "outputs": [
    {
     "data": {
      "text/markdown": [
       "# Day 04"
      ],
      "text/plain": [
       "<IPython.core.display.Markdown object>"
      ]
     },
     "metadata": {},
     "output_type": "display_data"
    }
   ],
   "source": [
    "import sys; sys.path.insert(0, \"..\")\n",
    "\n",
    "import aoc\n",
    "\n",
    "year, day = 2020, 4\n",
    "\n",
    "puzzle = aoc.setup(year, day)\n",
    "plines = puzzle.splitlines()"
   ]
  },
  {
   "cell_type": "markdown",
   "metadata": {},
   "source": [
    "### Puzzle 1"
   ]
  },
  {
   "cell_type": "code",
   "execution_count": 2,
   "metadata": {},
   "outputs": [
    {
     "data": {
      "text/plain": [
       "200"
      ]
     },
     "execution_count": 2,
     "metadata": {},
     "output_type": "execute_result"
    }
   ],
   "source": [
    "def solve1():\n",
    "    out = 0\n",
    "    for kv in map(str.split, puzzle.split(\"\\n\\n\")):\n",
    "        x = {x.split(\":\")[0] for x in kv}\n",
    "        out += all(e in x for e in [\"byr\",\"iyr\",\"eyr\",\"hgt\",\"hcl\",\"ecl\",\"pid\"])\n",
    "    return out\n",
    "\n",
    "solve1()"
   ]
  },
  {
   "cell_type": "code",
   "execution_count": 3,
   "metadata": {},
   "outputs": [
    {
     "data": {
      "text/plain": [
       "200"
      ]
     },
     "execution_count": 3,
     "metadata": {},
     "output_type": "execute_result"
    }
   ],
   "source": [
    "solve1m=lambda:sum(all(e in k for e in\"byr iyr eyr hgt hcl ecl pid\".split())for k in puzzle.split(\"\\n\\n\"))\n",
    "\n",
    "solve1m()"
   ]
  },
  {
   "cell_type": "code",
   "execution_count": 4,
   "metadata": {},
   "outputs": [
    {
     "name": "stdout",
     "output_type": "stream",
     "text": [
      "1.07 ms ± 31.1 µs per loop (mean ± std. dev. of 7 runs, 1000 loops each)\n",
      "525 µs ± 34 µs per loop (mean ± std. dev. of 7 runs, 1000 loops each)\n"
     ]
    }
   ],
   "source": [
    "%timeit solve1()\n",
    "%timeit solve1m()"
   ]
  },
  {
   "cell_type": "markdown",
   "metadata": {},
   "source": [
    "### Puzzle 2"
   ]
  },
  {
   "cell_type": "code",
   "execution_count": 5,
   "metadata": {},
   "outputs": [
    {
     "data": {
      "text/plain": [
       "116"
      ]
     },
     "execution_count": 5,
     "metadata": {},
     "output_type": "execute_result"
    }
   ],
   "source": [
    "import re\n",
    "\n",
    "def valid(x):\n",
    "    if not re.match(r\"^\\d{4}$\", x.get(\"byr\", \"\")) or not 1920 <= int(x[\"byr\"]) <= 2002:\n",
    "        return False\n",
    "    if not re.match(r\"^\\d{4}$\", x.get(\"iyr\", \"\")) or not 2010 <= int(x[\"iyr\"]) <= 2020:\n",
    "        return False\n",
    "    if not re.match(r\"^\\d{4}$\", x.get(\"eyr\", \"\")) or not 2020 <= int(x[\"eyr\"]) <= 2030:\n",
    "        return False\n",
    "    if m := re.match(r\"^(\\d+)(in|cm)$\", x.get(\"hgt\", \"\")):\n",
    "        a, b = m.groups()\n",
    "        if b == \"cm\" and not 150 <= int(a) <= 193:\n",
    "            return False\n",
    "        elif b == \"in\" and not 59 <= int(a) <= 76:\n",
    "            return False\n",
    "    else:\n",
    "        return False\n",
    "    if not re.match(r\"^#[\\da-f]{6}$\", x.get(\"hcl\", \"\")):\n",
    "        return False\n",
    "    if x.get(\"ecl\", \"\") not in \"amb blu brn gry grn hzl oth\".split():\n",
    "        return False\n",
    "    return bool(re.match(r\"^\\d{9}$\", x.get(\"pid\", \"\")))\n",
    "\n",
    "def solve2():\n",
    "    out = 0\n",
    "    for kv in map(str.split, puzzle.split(\"\\n\\n\")):\n",
    "        out += valid(dict(x.split(\":\") for x in kv))\n",
    "    return out\n",
    "\n",
    "solve2()"
   ]
  },
  {
   "cell_type": "code",
   "execution_count": 6,
   "metadata": {},
   "outputs": [
    {
     "data": {
      "text/plain": [
       "116"
      ]
     },
     "execution_count": 6,
     "metadata": {},
     "output_type": "execute_result"
    }
   ],
   "source": [
    "solve2m=lambda f=__import__(\"re\").fullmatch:sum(all([d:=dict(x.split(\":\")for x in kv)]+[f(p,d.get(k,\"\"))for p,k in[(r\"19[2-9]\\d|200[012]\",\"byr\"),(r\"20(1\\d|20)\",\"iyr\"),(r\"20(2\\d|30)\",\"eyr\"),(r\"1([5-8]\\d|9[0-3])cm|(59|6\\d|7[0-6])+in\",\"hgt\"),(r\"#[\\da-f]{6}\",\"hcl\"),(\"amb|blu|brn|gry|grn|hzl|oth\",\"ecl\"),(r\"\\d{9}\",\"pid\")]])for kv in map(str.split,puzzle.split(\"\\n\\n\")))\n",
    "\n",
    "solve2m()"
   ]
  },
  {
   "cell_type": "code",
   "execution_count": 7,
   "metadata": {},
   "outputs": [
    {
     "name": "stdout",
     "output_type": "stream",
     "text": [
      "2.72 ms ± 155 µs per loop (mean ± std. dev. of 7 runs, 100 loops each)\n",
      "3.53 ms ± 167 µs per loop (mean ± std. dev. of 7 runs, 100 loops each)\n"
     ]
    }
   ],
   "source": [
    "%timeit solve2()\n",
    "%timeit solve2m()"
   ]
  }
 ],
 "metadata": {
  "kernelspec": {
   "display_name": "Python 3",
   "language": "python",
   "name": "python3"
  },
  "language_info": {
   "codemirror_mode": {
    "name": "ipython",
    "version": 3
   },
   "file_extension": ".py",
   "mimetype": "text/x-python",
   "name": "python",
   "nbconvert_exporter": "python",
   "pygments_lexer": "ipython3",
   "version": "3.8.6"
  }
 },
 "nbformat": 4,
 "nbformat_minor": 4
}

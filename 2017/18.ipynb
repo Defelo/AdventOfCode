{
 "cells": [
  {
   "cell_type": "code",
   "execution_count": 1,
   "metadata": {},
   "outputs": [
    {
     "data": {
      "text/markdown": [
       "# Day 18"
      ],
      "text/plain": [
       "<IPython.core.display.Markdown object>"
      ]
     },
     "metadata": {},
     "output_type": "display_data"
    }
   ],
   "source": [
    "import sys; sys.path.insert(0, \"..\")\n",
    "\n",
    "import aoc\n",
    "\n",
    "year, day = 2017, 18\n",
    "\n",
    "puzzle = aoc.setup(year, day)\n",
    "plines = puzzle.splitlines()"
   ]
  },
  {
   "cell_type": "markdown",
   "metadata": {},
   "source": [
    "### Puzzle 1"
   ]
  },
  {
   "cell_type": "code",
   "execution_count": 2,
   "metadata": {},
   "outputs": [
    {
     "data": {
      "text/plain": [
       "4601"
      ]
     },
     "execution_count": 2,
     "metadata": {},
     "output_type": "execute_result"
    }
   ],
   "source": [
    "def solve1():\n",
    "    registers = {}\n",
    "    lp = None\n",
    "    pc = 0\n",
    "    while pc in range(len(plines)):\n",
    "        cmd, *args = plines[pc].split()\n",
    "        get = lambda a: int(a) if a.removeprefix(\"-\").isnumeric() else registers.setdefault(a, 0)\n",
    "        if cmd == \"snd\":\n",
    "            lp = get(args[0])\n",
    "        elif cmd == \"set\":\n",
    "            registers[args[0]] = get(args[1])\n",
    "        elif cmd == \"add\":\n",
    "            registers[args[0]] = get(args[0]) + get(args[1])\n",
    "        elif cmd == \"mul\":\n",
    "            registers[args[0]] = get(args[0]) * get(args[1])\n",
    "        elif cmd == \"mod\":\n",
    "            registers[args[0]] = get(args[0]) % get(args[1])\n",
    "        elif cmd == \"rcv\":\n",
    "            if get(args[0]):\n",
    "                return lp\n",
    "        elif cmd == \"jgz\":\n",
    "            if get(args[0]) > 0:\n",
    "                pc += get(args[1])\n",
    "                continue\n",
    "        \n",
    "        pc += 1\n",
    "\n",
    "solve1()"
   ]
  },
  {
   "cell_type": "code",
   "execution_count": 3,
   "metadata": {},
   "outputs": [
    {
     "name": "stdout",
     "output_type": "stream",
     "text": [
      "2.76 ms ± 304 µs per loop (mean ± std. dev. of 7 runs, 100 loops each)\n"
     ]
    }
   ],
   "source": [
    "%timeit solve1()"
   ]
  },
  {
   "cell_type": "markdown",
   "metadata": {},
   "source": [
    "### Puzzle 2"
   ]
  },
  {
   "cell_type": "code",
   "execution_count": 4,
   "metadata": {},
   "outputs": [
    {
     "data": {
      "text/plain": [
       "6858"
      ]
     },
     "execution_count": 4,
     "metadata": {},
     "output_type": "execute_result"
    }
   ],
   "source": [
    "class VM:\n",
    "    def __init__(self, p):\n",
    "        self.registers = {\"p\": p}\n",
    "        self.pc = 0\n",
    "        self.inp = []\n",
    "        self.msg = None\n",
    "        self.cnt = 0\n",
    "    \n",
    "    def step(self):\n",
    "        if self.pc not in range(len(plines)): return False\n",
    "        cmd, *args = plines[self.pc].split()\n",
    "        get = lambda a: int(a) if a.removeprefix(\"-\").isnumeric() else self.registers.setdefault(a, 0)\n",
    "        if cmd == \"snd\":\n",
    "            self.cnt += 1\n",
    "            self.msg(get(args[0]))\n",
    "        elif cmd == \"set\":\n",
    "            self.registers[args[0]] = get(args[1])\n",
    "        elif cmd == \"add\":\n",
    "            self.registers[args[0]] = get(args[0]) + get(args[1])\n",
    "        elif cmd == \"mul\":\n",
    "            self.registers[args[0]] = get(args[0]) * get(args[1])\n",
    "        elif cmd == \"mod\":\n",
    "            self.registers[args[0]] = get(args[0]) % get(args[1])\n",
    "        elif cmd == \"rcv\":\n",
    "            if not self.inp: return False\n",
    "            self.registers[args[0]] = self.inp.pop(0)\n",
    "        elif cmd == \"jgz\":\n",
    "            if get(args[0]) > 0:\n",
    "                self.pc += get(args[1])\n",
    "                return True\n",
    "        self.pc += 1\n",
    "        return True\n",
    "\n",
    "def solve2():\n",
    "    p0 = VM(0)\n",
    "    p1 = VM(1)\n",
    "    p0.msg = p1.inp.append\n",
    "    p1.msg = p0.inp.append\n",
    "    while p0.step() + p1.step(): pass\n",
    "    return p1.cnt\n",
    "\n",
    "solve2()"
   ]
  },
  {
   "cell_type": "code",
   "execution_count": 5,
   "metadata": {},
   "outputs": [
    {
     "name": "stdout",
     "output_type": "stream",
     "text": [
      "373 ms ± 180 ms per loop (mean ± std. dev. of 7 runs, 1 loop each)\n"
     ]
    }
   ],
   "source": [
    "%timeit solve2()"
   ]
  }
 ],
 "metadata": {
  "kernelspec": {
   "display_name": "Python 3 (ipykernel)",
   "language": "python",
   "name": "python3"
  },
  "language_info": {
   "codemirror_mode": {
    "name": "ipython",
    "version": 3
   },
   "file_extension": ".py",
   "mimetype": "text/x-python",
   "name": "python",
   "nbconvert_exporter": "python",
   "pygments_lexer": "ipython3",
   "version": "3.9.6"
  }
 },
 "nbformat": 4,
 "nbformat_minor": 4
}

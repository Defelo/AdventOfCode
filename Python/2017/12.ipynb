{
 "cells": [
  {
   "cell_type": "code",
   "execution_count": 1,
   "metadata": {},
   "outputs": [
    {
     "data": {
      "text/markdown": [
       "# Day 12"
      ],
      "text/plain": [
       "<IPython.core.display.Markdown object>"
      ]
     },
     "metadata": {},
     "output_type": "display_data"
    }
   ],
   "source": [
    "import sys; sys.path.insert(0, \"..\")\n",
    "\n",
    "import aoc\n",
    "\n",
    "year, day = 2017, 12\n",
    "\n",
    "puzzle = aoc.setup(year, day)\n",
    "plines = puzzle.splitlines()"
   ]
  },
  {
   "cell_type": "markdown",
   "metadata": {},
   "source": [
    "### Puzzle 1"
   ]
  },
  {
   "cell_type": "code",
   "execution_count": 2,
   "metadata": {},
   "outputs": [
    {
     "data": {
      "text/plain": [
       "283"
      ]
     },
     "execution_count": 2,
     "metadata": {},
     "output_type": "execute_result"
    }
   ],
   "source": [
    "def solve1():\n",
    "    edges = {}\n",
    "    for line in plines:\n",
    "        p, Q = line.split(\" <-> \")\n",
    "        p = int(p)\n",
    "        for q in map(int, Q.split(\", \")):\n",
    "            edges.setdefault(p, []).append(q)\n",
    "\n",
    "    queue = [0]\n",
    "    visited = set()\n",
    "    while queue:\n",
    "        p = queue.pop(0)\n",
    "        \n",
    "        if p in visited: continue\n",
    "        visited.add(p)\n",
    "        \n",
    "        for q in edges.get(p, []):\n",
    "            queue.append(q)\n",
    "    \n",
    "    return len(visited)\n",
    "\n",
    "solve1()"
   ]
  },
  {
   "cell_type": "code",
   "execution_count": 3,
   "metadata": {},
   "outputs": [
    {
     "name": "stdout",
     "output_type": "stream",
     "text": [
      "3.37 ms ± 189 µs per loop (mean ± std. dev. of 7 runs, 100 loops each)\n"
     ]
    }
   ],
   "source": [
    "%timeit solve1()"
   ]
  },
  {
   "cell_type": "markdown",
   "metadata": {},
   "source": [
    "### Puzzle 2"
   ]
  },
  {
   "cell_type": "code",
   "execution_count": 4,
   "metadata": {},
   "outputs": [
    {
     "data": {
      "text/plain": [
       "195"
      ]
     },
     "execution_count": 4,
     "metadata": {},
     "output_type": "execute_result"
    }
   ],
   "source": [
    "class UnionFind:\n",
    "    def __init__(self, n):\n",
    "        self.parents = list(range(n))\n",
    "    \n",
    "    def find(self, x):\n",
    "        if self.parents[x] == x: return x\n",
    "        out = self.find(self.parents[x])\n",
    "        self.parents[x] = out\n",
    "        return out\n",
    "        \n",
    "    def merge(self, a, b):\n",
    "        a = self.find(a)\n",
    "        b = self.find(b)\n",
    "        self.parents[a] = b\n",
    "\n",
    "def solve2():\n",
    "    uf = UnionFind(len(plines))\n",
    "    for line in plines:\n",
    "        p, Q = line.split(\" <-> \")\n",
    "        p = int(p)\n",
    "        for q in map(int, Q.split(\", \")):\n",
    "            uf.merge(p, q)\n",
    "\n",
    "    groups = set()\n",
    "    for i in range(len(plines)): groups.add(uf.find(i))\n",
    "    return len(groups)\n",
    "\n",
    "solve2()"
   ]
  },
  {
   "cell_type": "code",
   "execution_count": 5,
   "metadata": {},
   "outputs": [
    {
     "name": "stdout",
     "output_type": "stream",
     "text": [
      "9.59 ms ± 787 µs per loop (mean ± std. dev. of 7 runs, 100 loops each)\n"
     ]
    }
   ],
   "source": [
    "%timeit solve2()"
   ]
  }
 ],
 "metadata": {
  "kernelspec": {
   "display_name": "Python 3 (ipykernel)",
   "language": "python",
   "name": "python3"
  },
  "language_info": {
   "codemirror_mode": {
    "name": "ipython",
    "version": 3
   },
   "file_extension": ".py",
   "mimetype": "text/x-python",
   "name": "python",
   "nbconvert_exporter": "python",
   "pygments_lexer": "ipython3",
   "version": "3.9.6"
  }
 },
 "nbformat": 4,
 "nbformat_minor": 4
}

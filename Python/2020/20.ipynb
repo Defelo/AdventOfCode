{
 "cells": [
  {
   "cell_type": "code",
   "execution_count": 1,
   "metadata": {},
   "outputs": [
    {
     "data": {
      "text/markdown": [
       "# Day 20"
      ],
      "text/plain": [
       "<IPython.core.display.Markdown object>"
      ]
     },
     "metadata": {},
     "output_type": "display_data"
    }
   ],
   "source": [
    "import sys; sys.path.insert(0, \"..\")\n",
    "\n",
    "import aoc\n",
    "\n",
    "year, day = 2020, 20\n",
    "\n",
    "puzzle = aoc.setup(year, day)\n",
    "plines = puzzle.splitlines()"
   ]
  },
  {
   "cell_type": "markdown",
   "metadata": {},
   "source": [
    "### Puzzle 1"
   ]
  },
  {
   "cell_type": "code",
   "execution_count": 2,
   "metadata": {},
   "outputs": [
    {
     "data": {
      "text/plain": [
       "15670959891893"
      ]
     },
     "execution_count": 2,
     "metadata": {},
     "output_type": "execute_result"
    }
   ],
   "source": [
    "import math\n",
    "\n",
    "\n",
    "def edge_to_int(edge):\n",
    "    x1 = int(\"\".join(edge).replace(\".\", \"0\").replace(\"#\", \"1\"), 2)\n",
    "    x2 = int(\"\".join(reversed(edge)).replace(\".\", \"0\").replace(\"#\", \"1\"), 2)\n",
    "    return min(x1, x2)\n",
    "    \n",
    "def solve1():\n",
    "    m = {}\n",
    "    for num, *lines in map(str.splitlines, puzzle.split(\"\\n\\n\")):\n",
    "        t = list(zip(*lines))\n",
    "        num = int(num.split()[1][:-1])\n",
    "        for e in map(edge_to_int, [lines[0], lines[-1], t[0], t[-1]]):\n",
    "            m.setdefault(e, []).append(num)\n",
    "    border = [v[0] for k, v in m.items() if len(v) == 1]\n",
    "    return math.prod(set([x for x in border if border.count(x) == 2]))\n",
    "\n",
    "solve1()"
   ]
  },
  {
   "cell_type": "code",
   "execution_count": 3,
   "metadata": {},
   "outputs": [
    {
     "data": {
      "text/plain": [
       "15670959891893"
      ]
     },
     "execution_count": 3,
     "metadata": {},
     "output_type": "execute_result"
    }
   ],
   "source": [
    "solve1m=lambda E=lambda e:min(int(x:=\"\".join(e).translate({46:48,35:49}),2),int(x[::-1],2)):(m:={})or[m.setdefault(e,[]).append(int(n.split()[1][:-1]))for n,*L in map(str.splitlines,puzzle.split(\"\\n\\n\"))if(t:=list(zip(*L)))for e in map(E,[L[0],L[-1],t[0],t[-1]])]and(b:=[v for v,*x in m.values()if not x])and __import__(\"math\").prod({x for x in b if b.count(x)==2})\n",
    "\n",
    "solve1m()"
   ]
  },
  {
   "cell_type": "code",
   "execution_count": 4,
   "metadata": {},
   "outputs": [
    {
     "name": "stdout",
     "output_type": "stream",
     "text": [
      "2.47 ms ± 171 µs per loop (mean ± std. dev. of 7 runs, 100 loops each)\n",
      "2.1 ms ± 112 µs per loop (mean ± std. dev. of 7 runs, 100 loops each)\n"
     ]
    }
   ],
   "source": [
    "%timeit solve1()\n",
    "%timeit solve1m()"
   ]
  },
  {
   "cell_type": "markdown",
   "metadata": {},
   "source": [
    "### Puzzle 2"
   ]
  },
  {
   "cell_type": "code",
   "execution_count": 5,
   "metadata": {},
   "outputs": [
    {
     "data": {
      "text/plain": [
       "1964"
      ]
     },
     "execution_count": 5,
     "metadata": {},
     "output_type": "execute_result"
    }
   ],
   "source": [
    "op = [1, 0, 3, 2]\n",
    "monster = \"\"\"                  # \n",
    "#    ##    ##    ###\n",
    " #  #  #  #  #  #   \"\"\".splitlines()\n",
    "\n",
    "def rotflip(tile, o):\n",
    "    c = (3, 1)\n",
    "    k = True\n",
    "    while c != o:\n",
    "        if k:\n",
    "            tile = list(zip(*tile))\n",
    "            c = c[::-1]\n",
    "        else:\n",
    "            tile = [line[::-1] for line in tile]\n",
    "            c = (op[c[0]], c[1])\n",
    "        k = not k\n",
    "    return list(map(\"\".join, tile))\n",
    "\n",
    "\n",
    "def solve2():\n",
    "    m = {}\n",
    "    tiles = {}\n",
    "    for num, *lines in map(str.splitlines, puzzle.split(\"\\n\\n\")):\n",
    "        t = list(zip(*lines))\n",
    "        num = int(num.split()[1][:-1])\n",
    "        tiles[num] = [line[1:-1] for line in lines[1:-1]]\n",
    "        for i, e in enumerate(map(edge_to_int, [lines[0], lines[-1], t[0], t[-1]])):\n",
    "            m.setdefault(e, []).append((i, num))\n",
    "    \n",
    "    G = {}\n",
    "    for (o1, t1), (o2, t2) in [v for k, v in m.items() if len(v) == 2]:\n",
    "        G.setdefault(t1, {})[o1] = (o2, t2)\n",
    "        G.setdefault(t2, {})[o2] = (o1, t1)\n",
    "    \n",
    "    corner = next(k for k, v in G.items() if len(v) == 2)\n",
    "\n",
    "    border = {corner}\n",
    "    dim = []\n",
    "    for k in G[corner]:\n",
    "        c = corner\n",
    "        x = 1\n",
    "        while k in G[c]:\n",
    "            k, c = G[c][k]\n",
    "            k = op[k]\n",
    "            border.add(c)\n",
    "            x += 1\n",
    "        dim.append(x)\n",
    "    width, height = dim\n",
    "    \n",
    "    for k, v in G.items():\n",
    "        if k in border:\n",
    "            continue\n",
    "        for i in range(4):\n",
    "            v.setdefault(i, None)\n",
    "    \n",
    "    tiled_image = [[None] * width for _ in range(height)]\n",
    "    \n",
    "    queue = [(corner, 0, 0, *G[corner])]\n",
    "    visited = set()\n",
    "    while queue:\n",
    "        p, i, j, a, b = queue.pop(0)\n",
    "        \n",
    "        if p in visited: continue\n",
    "        visited.add(p)\n",
    "        \n",
    "        tiled_image[i][j] = rotflip(tiles[p], (a, b))\n",
    "        \n",
    "        for o1, u, v in [(a, i, j+1), (b, i+1, j)]:\n",
    "            if G[p].get(o1) is None:\n",
    "                continue\n",
    "            o2, q = G[p][o1]\n",
    "            if len(G[q]) >= 3:\n",
    "                G[q].pop(o2)\n",
    "\n",
    "            if len(G[q]) <= 2:\n",
    "                if o1 == a:\n",
    "                    x = op[o2]\n",
    "                    y, = set(G[q]) - {x, o2}\n",
    "                else:\n",
    "                    y = op[o2]\n",
    "                    x, = set(G[q]) - {y, o2}\n",
    "                queue.append((q, u, v, x, y))\n",
    "\n",
    "    image = []\n",
    "    for tile_line in tiled_image:\n",
    "        image += [\"\".join(line) for line in zip(*tile_line)]\n",
    "    \n",
    "    monster_parts = set()\n",
    "    for i in range(4):\n",
    "        for j in range(4):\n",
    "            if i in (j, op[j]):\n",
    "                continue\n",
    "            m = rotflip(monster, (i, j))\n",
    "            for y in range(len(image) - len(m) + 1):\n",
    "                for x in range(len(image[0]) - len(m[0]) + 1):\n",
    "                    p = [(y+i, x+j) for i, line in enumerate(m) for j, c in enumerate(line) if c == \"#\"]\n",
    "                    if all(image[i][j] == \"#\" for i, j in p):\n",
    "                        monster_parts.update(p)\n",
    "    return sum(line.count(\"#\") for line in image) - len(monster_parts)\n",
    "\n",
    "\n",
    "solve2()"
   ]
  },
  {
   "cell_type": "code",
   "execution_count": 6,
   "metadata": {},
   "outputs": [
    {
     "data": {
      "text/plain": [
       "1964"
      ]
     },
     "execution_count": 6,
     "metadata": {},
     "output_type": "execute_result"
    }
   ],
   "source": [
    "solve2m=lambda z=enumerate,Y=range,O=[1,0,3,2],E=lambda e:min(int(x:=\"\".join(e).translate({46:48,35:49}),2),int(x[::-1],2)):(R:=lambda t,o,c=(3,1):c==o and[*map(\"\".join,t)]or[3,2,0,1][c[0]]==c[1]and R([*zip(*t)],o,c[::-1])or R([l[::-1]for l in t],o,(O[c[0]],c[1])),m:={},P:={},[m.setdefault(e,[]).append((i,n))for N,*l in map(str.splitlines,puzzle.split(\"\\n\\n\"))if(t:=list(zip(*l)),n:=int(N.split()[1][:-1]),P.update({n:[L[1:-1]for L in l[1:-1]]}))for i,e in z(map(E,[l[0],l[-1],t[0],t[-1]]))],G:={},[(G.setdefault(t1,{}).update({o1:(o2,t2)}),G.setdefault(t2,{}).update({o2:(o1,t1)}))for(o1,t1),(o2,t2)in[v for k,v in m.items()if len(v)==2]],B:={(C:=next(k for k,v in G.items()if len(v)==2))},D:=[(U:=(lambda k,c:B.add(c)or(1+U(O[G[c][k][0]],G[c][k][1])if k in G[c]else 1)))(k,C)for k in G[C]],[v.setdefault(i,None)for k, v in G.items()if k not in B for i in Y(4)],T:=[[None]*D[0]for _ in Y(D[1])],Q:=[(C,0,0,*G[C])],V:=set(),next(0 for()in iter(tuple,0)if not Q or(p:=Q.pop(0),p[0]not in V and(V.add(p[0]),T[p[1]].__setitem__(p[2],R(P[p[0]],p[3:5])),[(3<=len(G[f[1]])and G[f[1]].pop(f[0]),2>=len(G[f[1]])and(A==p[3]and(x:=O[f[0]],y:=[*(set(G[f[1]])-{x,f[0]})][0])or(y:=O[f[0]],x:=[*(set(G[f[1]])-{y,f[0]})][0]),Q.append((f[1],u,v,x,y))))for A,u,v in[(p[3],p[1],p[2]+1),(p[4],p[1]+1,p[2])]if(f:=G[p[0]].get(A))]))*0),I:=[\"\".join(l)for t in T for l in zip(*t)])and sum(l.count(\"#\")for l in I)-len({s for i in Y(4)for j in Y(4)if i not in(j,O[j])and(m:=R([18*\" \"+\"# \",3*\"#    #\"+\"##\",6*\" # \"+\"  \"],(i,j)))for y in Y(len(I)-len(m)+1)for x in Y(len(I[0])-len(m[0])+1)if(p:=[(y+i,x+j)for i,l in z(m)for j,c in z(l)if\"#\"==c])if all(I[i][j]==\"#\"for i,j in p)for s in p})\n",
    "\n",
    "solve2m()"
   ]
  },
  {
   "cell_type": "code",
   "execution_count": 7,
   "metadata": {},
   "outputs": [
    {
     "name": "stdout",
     "output_type": "stream",
     "text": [
      "643 ms ± 23.4 ms per loop (mean ± std. dev. of 7 runs, 1 loop each)\n",
      "613 ms ± 12 ms per loop (mean ± std. dev. of 7 runs, 1 loop each)\n"
     ]
    }
   ],
   "source": [
    "%timeit solve2()\n",
    "%timeit solve2m()"
   ]
  }
 ],
 "metadata": {
  "kernelspec": {
   "display_name": "Python 3",
   "language": "python",
   "name": "python3"
  },
  "language_info": {
   "codemirror_mode": {
    "name": "ipython",
    "version": 3
   },
   "file_extension": ".py",
   "mimetype": "text/x-python",
   "name": "python",
   "nbconvert_exporter": "python",
   "pygments_lexer": "ipython3",
   "version": "3.8.6"
  }
 },
 "nbformat": 4,
 "nbformat_minor": 4
}

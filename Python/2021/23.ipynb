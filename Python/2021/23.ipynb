{
 "cells": [
  {
   "cell_type": "code",
   "execution_count": 1,
   "metadata": {},
   "outputs": [
    {
     "data": {
      "text/plain": "<IPython.core.display.Markdown object>",
      "text/markdown": "# Day 23"
     },
     "metadata": {},
     "output_type": "display_data"
    }
   ],
   "source": [
    "import sys; sys.path.insert(0, \"..\")\n",
    "\n",
    "from utils import *\n",
    "import aoc\n",
    "\n",
    "year, day = 2021, 23\n",
    "\n",
    "puzzle = aoc.setup(year, day)\n",
    "plines = puzzle.splitlines()"
   ]
  },
  {
   "cell_type": "code",
   "execution_count": 2,
   "outputs": [],
   "source": [
    "def generate_moves(rooms, hallway, n):\n",
    "    def check_hallway(start, end):\n",
    "        return all(hallway[i] is None or i == start for i in range(min(start, end), max(start, end) + 1))\n",
    "\n",
    "    def push_room(idx, elem):\n",
    "        return rooms[:idx] + (rooms[idx] + (elem,),) + rooms[idx + 1:]\n",
    "\n",
    "    def pop_room(idx):\n",
    "        return rooms[:idx] + (rooms[idx][:-1],) + rooms[idx + 1:]\n",
    "\n",
    "    def set_hallway(idx, elem):\n",
    "        return hallway[:idx] + (elem,) + hallway[idx+1:]\n",
    "\n",
    "    for i, c in enumerate(hallway):\n",
    "        if c is None:\n",
    "            continue\n",
    "\n",
    "        dst = \"ABCD\".index(c)\n",
    "        if any(x != c for x in rooms[dst]):\n",
    "            continue\n",
    "\n",
    "        if not check_hallway(i, 2 + 2 * dst):\n",
    "            continue\n",
    "\n",
    "        dist = abs(2 + 2 * dst - i) + (n - len(rooms[dst]))\n",
    "        yield dist * 10 ** dst, push_room(dst, c), set_hallway(i, None)\n",
    "        return\n",
    "\n",
    "    for i in range(4):\n",
    "        if all(x == \"ABCD\"[i] for x in rooms[i]):\n",
    "            continue\n",
    "\n",
    "        c = rooms[i][-1]\n",
    "        src = 2 + 2 * i\n",
    "        dst = \"ABCD\".index(c)\n",
    "        for j in [0, 1, 3, 5, 7, 9, 10]:\n",
    "            if not check_hallway(src, j):\n",
    "                continue\n",
    "\n",
    "            dist = (1 + n - len(rooms[i])) + abs(src - j)\n",
    "            yield dist * 10 ** dst, pop_room(i), set_hallway(j, c)\n",
    "\n",
    "\n",
    "def solve(part2):\n",
    "    lines = plines[3:1:-1]\n",
    "    if part2:\n",
    "        lines.insert(1, \"  #D#B#A#C#\")\n",
    "        lines.insert(2, \"  #D#C#B#A#\")\n",
    "    n = len(lines)\n",
    "    queue = [(0, cnt := 0, tuple([*zip(*lines)][3:-1:2]), (None,) * 11)]\n",
    "    visited = set()\n",
    "    while queue:\n",
    "        energy, _, rooms, hallway = heappop(queue)\n",
    "\n",
    "        if (rooms, hallway) in visited:\n",
    "            continue\n",
    "        visited.add((rooms, hallway))\n",
    "\n",
    "        if rooms == tuple((c,) * n for c in \"ABCD\"):\n",
    "            return energy\n",
    "\n",
    "        for c, r, h in generate_moves(rooms, hallway, n):\n",
    "            cnt += 1\n",
    "            heappush(queue, (energy + c, cnt, r, h))"
   ],
   "metadata": {
    "collapsed": false,
    "pycharm": {
     "name": "#%%\n"
    }
   }
  },
  {
   "cell_type": "markdown",
   "metadata": {},
   "source": [
    "### Puzzle 1"
   ]
  },
  {
   "cell_type": "code",
   "execution_count": 3,
   "metadata": {},
   "outputs": [
    {
     "data": {
      "text/plain": "13520"
     },
     "execution_count": 3,
     "metadata": {},
     "output_type": "execute_result"
    }
   ],
   "source": [
    "def solve1():\n",
    "    return solve(False)\n",
    "\n",
    "solve1()"
   ]
  },
  {
   "cell_type": "code",
   "execution_count": 4,
   "metadata": {},
   "outputs": [
    {
     "name": "stdout",
     "output_type": "stream",
     "text": [
      "1.97 s ± 80.4 ms per loop (mean ± std. dev. of 7 runs, 1 loop each)\n"
     ]
    }
   ],
   "source": [
    "%timeit solve1()"
   ]
  },
  {
   "cell_type": "markdown",
   "metadata": {},
   "source": [
    "### Puzzle 2"
   ]
  },
  {
   "cell_type": "code",
   "execution_count": 5,
   "metadata": {},
   "outputs": [
    {
     "data": {
      "text/plain": "48708"
     },
     "execution_count": 5,
     "metadata": {},
     "output_type": "execute_result"
    }
   ],
   "source": [
    "def solve2():\n",
    "    return solve(True)\n",
    "\n",
    "solve2()"
   ]
  },
  {
   "cell_type": "code",
   "execution_count": 6,
   "metadata": {},
   "outputs": [
    {
     "name": "stdout",
     "output_type": "stream",
     "text": [
      "5.65 s ± 446 ms per loop (mean ± std. dev. of 7 runs, 1 loop each)\n"
     ]
    }
   ],
   "source": [
    "%timeit solve2()"
   ]
  }
 ],
 "metadata": {
  "kernelspec": {
   "display_name": "Python 3",
   "language": "python",
   "name": "python3"
  },
  "language_info": {
   "codemirror_mode": {
    "name": "ipython",
    "version": 3
   },
   "file_extension": ".py",
   "mimetype": "text/x-python",
   "name": "python",
   "nbconvert_exporter": "python",
   "pygments_lexer": "ipython3",
   "version": "3.8.6"
  }
 },
 "nbformat": 4,
 "nbformat_minor": 4
}
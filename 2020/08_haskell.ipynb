{
 "cells": [
  {
   "cell_type": "code",
   "execution_count": 1,
   "metadata": {},
   "outputs": [],
   "source": [
    "puzzle <- readFile \"08.txt\"\n",
    "plines = lines puzzle"
   ]
  },
  {
   "cell_type": "markdown",
   "metadata": {},
   "source": [
    "# Day 08"
   ]
  },
  {
   "cell_type": "markdown",
   "metadata": {},
   "source": [
    "### Puzzle 1"
   ]
  },
  {
   "cell_type": "code",
   "execution_count": 2,
   "metadata": {},
   "outputs": [
    {
     "data": {
      "text/plain": [
       "1654"
      ]
     },
     "metadata": {},
     "output_type": "display_data"
    }
   ],
   "source": [
    "import qualified Data.Set as Set\n",
    "\n",
    "cmd :: Int -> String\n",
    "cmd pc = head $ words $ plines !! pc\n",
    "\n",
    "arg :: Int -> Int\n",
    "arg pc = read (if head x == '+' then tail x else x) \n",
    "    where x = last $ words $ plines !! pc\n",
    "\n",
    "add :: Int -> Set.Set Int -> Set.Set Int\n",
    "add a s = Set.union s $ Set.singleton a\n",
    "\n",
    "simulate :: Int -> Int -> Set.Set Int -> Int\n",
    "simulate pc a seen\n",
    "    | Set.member pc seen = a\n",
    "    | pc >= length plines = a\n",
    "    | cmd pc == \"acc\" = simulate (pc + 1) (a + arg pc) $ add pc seen\n",
    "    | cmd pc == \"jmp\" = simulate (pc + arg pc) a $ add pc seen\n",
    "    | cmd pc == \"nop\" = simulate (pc + 1) a $ add pc seen\n",
    "    \n",
    "simulate 0 0 Set.empty"
   ]
  },
  {
   "cell_type": "markdown",
   "metadata": {},
   "source": [
    "### Puzzle 2"
   ]
  },
  {
   "cell_type": "code",
   "execution_count": 3,
   "metadata": {},
   "outputs": [
    {
     "data": {
      "text/plain": [
       "833"
      ]
     },
     "metadata": {},
     "output_type": "display_data"
    }
   ],
   "source": [
    "import Data.Maybe\n",
    "\n",
    "simulate :: Int -> Int -> Set.Set Int -> Int -> Maybe Int\n",
    "simulate pc a seen f\n",
    "    | Set.member pc seen = Nothing\n",
    "    | pc >= length plines = Just a\n",
    "    | cmd pc == \"acc\" = simulate (pc + 1) (a + arg pc) (add pc seen) f\n",
    "    | cmd pc==\"jmp\" && f/=pc || cmd pc==\"nop\" && f==pc = simulate (pc + arg pc) a (add pc seen) f\n",
    "    | otherwise = simulate (pc + 1) a (add pc seen) f\n",
    "    \n",
    "head $ mapMaybe (simulate 0 0 Set.empty) [1..]"
   ]
  }
 ],
 "metadata": {
  "kernelspec": {
   "display_name": "Haskell",
   "language": "haskell",
   "name": "haskell"
  },
  "language_info": {
   "codemirror_mode": "Haskell",
   "file_extension": ".hs",
   "mimetype": "text/x-haskell",
   "name": "haskell",
   "pygments_lexer": "Haskell",
   "version": "8.8.4"
  }
 },
 "nbformat": 4,
 "nbformat_minor": 4
}

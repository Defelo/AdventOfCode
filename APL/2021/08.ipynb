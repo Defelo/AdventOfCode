{
 "cells": [
  {
   "cell_type": "code",
   "execution_count": 1,
   "id": "8fb56a69-e2e3-4a2e-9257-c78046f23f21",
   "metadata": {
    "pycharm": {
     "name": "#%%\n"
    }
   },
   "outputs": [],
   "source": [
    "data ← (((10⍴1),0,(4⍴1))⊆⊢)¨' '(≠⊆⊢)¨⊃⎕NGET '08.txt' 1"
   ]
  },
  {
   "cell_type": "markdown",
   "source": [
    "### Part 1"
   ],
   "metadata": {
    "collapsed": false,
    "pycharm": {
     "name": "#%% md\n"
    }
   }
  },
  {
   "cell_type": "code",
   "execution_count": 2,
   "outputs": [
    {
     "data": {
      "text/html": "<span style=\"white-space:pre; font-family: monospace\">392\n</span>"
     },
     "execution_count": 2,
     "metadata": {},
     "output_type": "execute_result"
    }
   ],
   "source": [
    "+/((2 3 4 7)∊⍨⊢)¨∊≢¨¨⊃↓⍉⌽↑data"
   ],
   "metadata": {
    "collapsed": false,
    "pycharm": {
     "name": "#%%\n"
    }
   }
  },
  {
   "cell_type": "markdown",
   "source": [
    "### Part 2"
   ],
   "metadata": {
    "collapsed": false,
    "pycharm": {
     "name": "#%% md\n"
    }
   }
  },
  {
   "cell_type": "code",
   "execution_count": 3,
   "outputs": [
    {
     "data": {
      "text/html": "<span style=\"white-space:pre; font-family: monospace\">1004688\n</span>"
     },
     "execution_count": 3,
     "metadata": {},
     "output_type": "execute_result"
    }
   ],
   "source": [
    "mat←⍎¨10 3⍴'632222521532442531631322742642'\n",
    "+/{a b←⍵⋄l←{⊃(⍵=≢¨a)/a}¨4 2⋄10⊥{1-⍨mat⍳(≢⍵)(≢⍵∩⊃l)(≢⍵∩2⊃l)}¨b}¨data"
   ],
   "metadata": {
    "collapsed": false,
    "pycharm": {
     "name": "#%%\n"
    }
   }
  }
 ],
 "metadata": {
  "kernelspec": {
   "display_name": "Dyalog APL",
   "language": "apl",
   "name": "dyalog-kernel"
  },
  "language_info": {
   "file_extension": ".apl",
   "mimetype": "text/apl",
   "name": "APL"
  }
 },
 "nbformat": 4,
 "nbformat_minor": 5
}